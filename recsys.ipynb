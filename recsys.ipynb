{
  "nbformat": 4,
  "nbformat_minor": 0,
  "metadata": {
    "anaconda-cloud": {},
    "colab": {
      "name": "recsys_0525.ipynb",
      "provenance": [],
      "collapsed_sections": [],
      "toc_visible": true
    },
    "kernelspec": {
      "display_name": "Python 3",
      "language": "python",
      "name": "python3"
    },
    "language_info": {
      "codemirror_mode": {
        "name": "ipython",
        "version": 3
      },
      "file_extension": ".py",
      "mimetype": "text/x-python",
      "name": "python",
      "nbconvert_exporter": "python",
      "pygments_lexer": "ipython3",
      "version": "3.5.5"
    }
  },
  "cells": [
    {
      "cell_type": "markdown",
      "metadata": {
        "id": "S8ABanJKEgmZ"
      },
      "source": [
        "# 추천 시스템 (Recommender System)   \n",
        "\n",
        "* 콘텐츠 기반 (Content-based) 추천\n",
        "    * 제품의 내용을 분석해서 추천, 특히 소비자가 소비하는 제품 중 정보가 많은 제품 (예. 뉴스, 책 등)을 분석시 많이 이용되는 기술  \n",
        "      * 예. User1이 관심을 가지고 있는 뉴스의 키워드를 찾아내고 비슷한 키워드를 가진 다른 뉴스를 추천 \n",
        "      * 예. User1은 과거 코미디 영화를 좋아하였기 때문에 코미디 영화 추천\n",
        "     \n",
        "* 협업 필터링 (Collaborative Filteirng) 추천\n",
        "    * 구매, 소비한 제품에 대한 각 소비자의 평가를 받아서 평가 패턴이 비슷한 소비자를 한 집단으로 보고 그 집단에 속한 소비자들의 취향을 활용하는 기술\n",
        "    * 사람들의 취향이 뚜렷이 구분되는 제품 (예. 영화, 음악, 패션 등)을 추천할 때 더욱 정확함 \n",
        "      * 예. User1과 제품 평가 패턴이 비슷한 User2, User3이 공통적으로 좋아하는 제품 중에서 User1이 아직 접하지 않은 제품을 추천 \n",
        "\n",
        "\n",
        "*본 실습은 파이썬 머신러닝 완벽 가이드(권철민, 위키북스, 2020), 이것이 데이터 분석이다 (윤기태, 2020), Python을 이용한 개인화 추천시스템 (임일, 2020) 교재 참고\n"
      ]
    },
    {
      "cell_type": "markdown",
      "metadata": {
        "id": "D4lh7RD4AEh8"
      },
      "source": [
        "### 콘텐츠 기반 (Content-based)\n",
        "\n",
        "* 영화의 장르 정보를 이용하여 유사한 장르의 영화 추천 \n",
        "   * 영화 장르의 유사도 계산: [cosine similarity ](https://en.wikipedia.org/wiki/Cosine_similarity)\n",
        "   * MovieLens 1M Dataset 사용\n",
        "      * https://grouplens.org/datasets/movielens/1m/ 에서 ml-1m.zip 을 다운로드 받아 BigMining/ml-1m 폴더에 올리기 \n",
        "      * users.dat: 사용자 정보 (user_id, gender, age, occupation, zip-code) \n",
        "      * movies.dat: 영화 정보 (movie_id, title, genre)  \n",
        "      * ratings.dat: 영화 평점 (user_id, movie_id, rating, timestamp)\n"
      ]
    },
    {
      "cell_type": "code",
      "metadata": {
        "id": "F-2qWWONC8KG"
      },
      "source": [
        "import time\n",
        "\n",
        "%matplotlib inline\n",
        "import pandas as pd\n",
        "import numpy as np\n",
        "import matplotlib.pyplot as plt # Matplotlib의 pyplot 로딩하기\n",
        "import seaborn as sns\n",
        "\n",
        "import warnings\n",
        "warnings.filterwarnings(\"ignore\")"
      ],
      "execution_count": 9,
      "outputs": []
    },
    {
      "cell_type": "code",
      "metadata": {
        "colab": {
          "base_uri": "https://localhost:8080/"
        },
        "id": "bSvJNJGGlnpq",
        "outputId": "7bb97127-ac69-477d-8a40-3de023278534"
      },
      "source": [
        "from google.colab import drive\n",
        "drive.mount('/content/drive')"
      ],
      "execution_count": 8,
      "outputs": [
        {
          "output_type": "stream",
          "name": "stdout",
          "text": [
            "Mounted at /content/drive\n"
          ]
        }
      ]
    },
    {
      "cell_type": "code",
      "metadata": {
        "id": "WXvNkXDunv1S"
      },
      "source": [
        "user_data =pd.read_csv(\"/content/drive/My Drive/Colab Notebooks/BigMining/ml-1m/users.dat\", names=['user_id', 'gender', 'age', 'occupation', 'zipcode'], sep='::', engine='python')\n",
        "movie_data =pd.read_csv(\"/content/drive/My Drive/Colab Notebooks/BigMining/ml-1m/movies.dat\", names=['movie_id', 'title', 'genre'], sep='::', engine='python', encoding=\"ISO-8859-1\")\n",
        "rating_data =pd.read_csv(\"/content/drive/My Drive/Colab Notebooks/BigMining/ml-1m/ratings.dat\", names=['user_id', 'movie_id', 'rating', 'time'], sep='::', engine='python')"
      ],
      "execution_count": 10,
      "outputs": []
    },
    {
      "cell_type": "code",
      "metadata": {
        "id": "QRLvsBtrLWa9",
        "colab": {
          "base_uri": "https://localhost:8080/",
          "height": 640
        },
        "outputId": "76b4f832-6f8f-4976-f36f-af62a1f86ab0"
      },
      "source": [
        "print(user_data.shape)\n",
        "display(user_data.head())\n",
        "\n",
        "print(movie_data.shape)\n",
        "display(movie_data.head())\n",
        "\n",
        "print(rating_data.shape)\n",
        "display(rating_data.head())"
      ],
      "execution_count": 10,
      "outputs": [
        {
          "output_type": "stream",
          "name": "stdout",
          "text": [
            "(6040, 5)\n"
          ]
        },
        {
          "output_type": "display_data",
          "data": {
            "text/plain": [
              "   user_id gender  age  occupation zipcode\n",
              "0        1      F    1          10   48067\n",
              "1        2      M   56          16   70072\n",
              "2        3      M   25          15   55117\n",
              "3        4      M   45           7   02460\n",
              "4        5      M   25          20   55455"
            ],
            "text/html": [
              "\n",
              "  <div id=\"df-4aa1e53b-1fae-4034-b3f2-abe1a96de764\">\n",
              "    <div class=\"colab-df-container\">\n",
              "      <div>\n",
              "<style scoped>\n",
              "    .dataframe tbody tr th:only-of-type {\n",
              "        vertical-align: middle;\n",
              "    }\n",
              "\n",
              "    .dataframe tbody tr th {\n",
              "        vertical-align: top;\n",
              "    }\n",
              "\n",
              "    .dataframe thead th {\n",
              "        text-align: right;\n",
              "    }\n",
              "</style>\n",
              "<table border=\"1\" class=\"dataframe\">\n",
              "  <thead>\n",
              "    <tr style=\"text-align: right;\">\n",
              "      <th></th>\n",
              "      <th>user_id</th>\n",
              "      <th>gender</th>\n",
              "      <th>age</th>\n",
              "      <th>occupation</th>\n",
              "      <th>zipcode</th>\n",
              "    </tr>\n",
              "  </thead>\n",
              "  <tbody>\n",
              "    <tr>\n",
              "      <th>0</th>\n",
              "      <td>1</td>\n",
              "      <td>F</td>\n",
              "      <td>1</td>\n",
              "      <td>10</td>\n",
              "      <td>48067</td>\n",
              "    </tr>\n",
              "    <tr>\n",
              "      <th>1</th>\n",
              "      <td>2</td>\n",
              "      <td>M</td>\n",
              "      <td>56</td>\n",
              "      <td>16</td>\n",
              "      <td>70072</td>\n",
              "    </tr>\n",
              "    <tr>\n",
              "      <th>2</th>\n",
              "      <td>3</td>\n",
              "      <td>M</td>\n",
              "      <td>25</td>\n",
              "      <td>15</td>\n",
              "      <td>55117</td>\n",
              "    </tr>\n",
              "    <tr>\n",
              "      <th>3</th>\n",
              "      <td>4</td>\n",
              "      <td>M</td>\n",
              "      <td>45</td>\n",
              "      <td>7</td>\n",
              "      <td>02460</td>\n",
              "    </tr>\n",
              "    <tr>\n",
              "      <th>4</th>\n",
              "      <td>5</td>\n",
              "      <td>M</td>\n",
              "      <td>25</td>\n",
              "      <td>20</td>\n",
              "      <td>55455</td>\n",
              "    </tr>\n",
              "  </tbody>\n",
              "</table>\n",
              "</div>\n",
              "      <button class=\"colab-df-convert\" onclick=\"convertToInteractive('df-4aa1e53b-1fae-4034-b3f2-abe1a96de764')\"\n",
              "              title=\"Convert this dataframe to an interactive table.\"\n",
              "              style=\"display:none;\">\n",
              "        \n",
              "  <svg xmlns=\"http://www.w3.org/2000/svg\" height=\"24px\"viewBox=\"0 0 24 24\"\n",
              "       width=\"24px\">\n",
              "    <path d=\"M0 0h24v24H0V0z\" fill=\"none\"/>\n",
              "    <path d=\"M18.56 5.44l.94 2.06.94-2.06 2.06-.94-2.06-.94-.94-2.06-.94 2.06-2.06.94zm-11 1L8.5 8.5l.94-2.06 2.06-.94-2.06-.94L8.5 2.5l-.94 2.06-2.06.94zm10 10l.94 2.06.94-2.06 2.06-.94-2.06-.94-.94-2.06-.94 2.06-2.06.94z\"/><path d=\"M17.41 7.96l-1.37-1.37c-.4-.4-.92-.59-1.43-.59-.52 0-1.04.2-1.43.59L10.3 9.45l-7.72 7.72c-.78.78-.78 2.05 0 2.83L4 21.41c.39.39.9.59 1.41.59.51 0 1.02-.2 1.41-.59l7.78-7.78 2.81-2.81c.8-.78.8-2.07 0-2.86zM5.41 20L4 18.59l7.72-7.72 1.47 1.35L5.41 20z\"/>\n",
              "  </svg>\n",
              "      </button>\n",
              "      \n",
              "  <style>\n",
              "    .colab-df-container {\n",
              "      display:flex;\n",
              "      flex-wrap:wrap;\n",
              "      gap: 12px;\n",
              "    }\n",
              "\n",
              "    .colab-df-convert {\n",
              "      background-color: #E8F0FE;\n",
              "      border: none;\n",
              "      border-radius: 50%;\n",
              "      cursor: pointer;\n",
              "      display: none;\n",
              "      fill: #1967D2;\n",
              "      height: 32px;\n",
              "      padding: 0 0 0 0;\n",
              "      width: 32px;\n",
              "    }\n",
              "\n",
              "    .colab-df-convert:hover {\n",
              "      background-color: #E2EBFA;\n",
              "      box-shadow: 0px 1px 2px rgba(60, 64, 67, 0.3), 0px 1px 3px 1px rgba(60, 64, 67, 0.15);\n",
              "      fill: #174EA6;\n",
              "    }\n",
              "\n",
              "    [theme=dark] .colab-df-convert {\n",
              "      background-color: #3B4455;\n",
              "      fill: #D2E3FC;\n",
              "    }\n",
              "\n",
              "    [theme=dark] .colab-df-convert:hover {\n",
              "      background-color: #434B5C;\n",
              "      box-shadow: 0px 1px 3px 1px rgba(0, 0, 0, 0.15);\n",
              "      filter: drop-shadow(0px 1px 2px rgba(0, 0, 0, 0.3));\n",
              "      fill: #FFFFFF;\n",
              "    }\n",
              "  </style>\n",
              "\n",
              "      <script>\n",
              "        const buttonEl =\n",
              "          document.querySelector('#df-4aa1e53b-1fae-4034-b3f2-abe1a96de764 button.colab-df-convert');\n",
              "        buttonEl.style.display =\n",
              "          google.colab.kernel.accessAllowed ? 'block' : 'none';\n",
              "\n",
              "        async function convertToInteractive(key) {\n",
              "          const element = document.querySelector('#df-4aa1e53b-1fae-4034-b3f2-abe1a96de764');\n",
              "          const dataTable =\n",
              "            await google.colab.kernel.invokeFunction('convertToInteractive',\n",
              "                                                     [key], {});\n",
              "          if (!dataTable) return;\n",
              "\n",
              "          const docLinkHtml = 'Like what you see? Visit the ' +\n",
              "            '<a target=\"_blank\" href=https://colab.research.google.com/notebooks/data_table.ipynb>data table notebook</a>'\n",
              "            + ' to learn more about interactive tables.';\n",
              "          element.innerHTML = '';\n",
              "          dataTable['output_type'] = 'display_data';\n",
              "          await google.colab.output.renderOutput(dataTable, element);\n",
              "          const docLink = document.createElement('div');\n",
              "          docLink.innerHTML = docLinkHtml;\n",
              "          element.appendChild(docLink);\n",
              "        }\n",
              "      </script>\n",
              "    </div>\n",
              "  </div>\n",
              "  "
            ]
          },
          "metadata": {}
        },
        {
          "output_type": "stream",
          "name": "stdout",
          "text": [
            "(3883, 3)\n"
          ]
        },
        {
          "output_type": "display_data",
          "data": {
            "text/plain": [
              "   movie_id                               title                         genre\n",
              "0         1                    Toy Story (1995)   Animation|Children's|Comedy\n",
              "1         2                      Jumanji (1995)  Adventure|Children's|Fantasy\n",
              "2         3             Grumpier Old Men (1995)                Comedy|Romance\n",
              "3         4            Waiting to Exhale (1995)                  Comedy|Drama\n",
              "4         5  Father of the Bride Part II (1995)                        Comedy"
            ],
            "text/html": [
              "\n",
              "  <div id=\"df-f246415a-d863-49e6-836c-908c6afb3683\">\n",
              "    <div class=\"colab-df-container\">\n",
              "      <div>\n",
              "<style scoped>\n",
              "    .dataframe tbody tr th:only-of-type {\n",
              "        vertical-align: middle;\n",
              "    }\n",
              "\n",
              "    .dataframe tbody tr th {\n",
              "        vertical-align: top;\n",
              "    }\n",
              "\n",
              "    .dataframe thead th {\n",
              "        text-align: right;\n",
              "    }\n",
              "</style>\n",
              "<table border=\"1\" class=\"dataframe\">\n",
              "  <thead>\n",
              "    <tr style=\"text-align: right;\">\n",
              "      <th></th>\n",
              "      <th>movie_id</th>\n",
              "      <th>title</th>\n",
              "      <th>genre</th>\n",
              "    </tr>\n",
              "  </thead>\n",
              "  <tbody>\n",
              "    <tr>\n",
              "      <th>0</th>\n",
              "      <td>1</td>\n",
              "      <td>Toy Story (1995)</td>\n",
              "      <td>Animation|Children's|Comedy</td>\n",
              "    </tr>\n",
              "    <tr>\n",
              "      <th>1</th>\n",
              "      <td>2</td>\n",
              "      <td>Jumanji (1995)</td>\n",
              "      <td>Adventure|Children's|Fantasy</td>\n",
              "    </tr>\n",
              "    <tr>\n",
              "      <th>2</th>\n",
              "      <td>3</td>\n",
              "      <td>Grumpier Old Men (1995)</td>\n",
              "      <td>Comedy|Romance</td>\n",
              "    </tr>\n",
              "    <tr>\n",
              "      <th>3</th>\n",
              "      <td>4</td>\n",
              "      <td>Waiting to Exhale (1995)</td>\n",
              "      <td>Comedy|Drama</td>\n",
              "    </tr>\n",
              "    <tr>\n",
              "      <th>4</th>\n",
              "      <td>5</td>\n",
              "      <td>Father of the Bride Part II (1995)</td>\n",
              "      <td>Comedy</td>\n",
              "    </tr>\n",
              "  </tbody>\n",
              "</table>\n",
              "</div>\n",
              "      <button class=\"colab-df-convert\" onclick=\"convertToInteractive('df-f246415a-d863-49e6-836c-908c6afb3683')\"\n",
              "              title=\"Convert this dataframe to an interactive table.\"\n",
              "              style=\"display:none;\">\n",
              "        \n",
              "  <svg xmlns=\"http://www.w3.org/2000/svg\" height=\"24px\"viewBox=\"0 0 24 24\"\n",
              "       width=\"24px\">\n",
              "    <path d=\"M0 0h24v24H0V0z\" fill=\"none\"/>\n",
              "    <path d=\"M18.56 5.44l.94 2.06.94-2.06 2.06-.94-2.06-.94-.94-2.06-.94 2.06-2.06.94zm-11 1L8.5 8.5l.94-2.06 2.06-.94-2.06-.94L8.5 2.5l-.94 2.06-2.06.94zm10 10l.94 2.06.94-2.06 2.06-.94-2.06-.94-.94-2.06-.94 2.06-2.06.94z\"/><path d=\"M17.41 7.96l-1.37-1.37c-.4-.4-.92-.59-1.43-.59-.52 0-1.04.2-1.43.59L10.3 9.45l-7.72 7.72c-.78.78-.78 2.05 0 2.83L4 21.41c.39.39.9.59 1.41.59.51 0 1.02-.2 1.41-.59l7.78-7.78 2.81-2.81c.8-.78.8-2.07 0-2.86zM5.41 20L4 18.59l7.72-7.72 1.47 1.35L5.41 20z\"/>\n",
              "  </svg>\n",
              "      </button>\n",
              "      \n",
              "  <style>\n",
              "    .colab-df-container {\n",
              "      display:flex;\n",
              "      flex-wrap:wrap;\n",
              "      gap: 12px;\n",
              "    }\n",
              "\n",
              "    .colab-df-convert {\n",
              "      background-color: #E8F0FE;\n",
              "      border: none;\n",
              "      border-radius: 50%;\n",
              "      cursor: pointer;\n",
              "      display: none;\n",
              "      fill: #1967D2;\n",
              "      height: 32px;\n",
              "      padding: 0 0 0 0;\n",
              "      width: 32px;\n",
              "    }\n",
              "\n",
              "    .colab-df-convert:hover {\n",
              "      background-color: #E2EBFA;\n",
              "      box-shadow: 0px 1px 2px rgba(60, 64, 67, 0.3), 0px 1px 3px 1px rgba(60, 64, 67, 0.15);\n",
              "      fill: #174EA6;\n",
              "    }\n",
              "\n",
              "    [theme=dark] .colab-df-convert {\n",
              "      background-color: #3B4455;\n",
              "      fill: #D2E3FC;\n",
              "    }\n",
              "\n",
              "    [theme=dark] .colab-df-convert:hover {\n",
              "      background-color: #434B5C;\n",
              "      box-shadow: 0px 1px 3px 1px rgba(0, 0, 0, 0.15);\n",
              "      filter: drop-shadow(0px 1px 2px rgba(0, 0, 0, 0.3));\n",
              "      fill: #FFFFFF;\n",
              "    }\n",
              "  </style>\n",
              "\n",
              "      <script>\n",
              "        const buttonEl =\n",
              "          document.querySelector('#df-f246415a-d863-49e6-836c-908c6afb3683 button.colab-df-convert');\n",
              "        buttonEl.style.display =\n",
              "          google.colab.kernel.accessAllowed ? 'block' : 'none';\n",
              "\n",
              "        async function convertToInteractive(key) {\n",
              "          const element = document.querySelector('#df-f246415a-d863-49e6-836c-908c6afb3683');\n",
              "          const dataTable =\n",
              "            await google.colab.kernel.invokeFunction('convertToInteractive',\n",
              "                                                     [key], {});\n",
              "          if (!dataTable) return;\n",
              "\n",
              "          const docLinkHtml = 'Like what you see? Visit the ' +\n",
              "            '<a target=\"_blank\" href=https://colab.research.google.com/notebooks/data_table.ipynb>data table notebook</a>'\n",
              "            + ' to learn more about interactive tables.';\n",
              "          element.innerHTML = '';\n",
              "          dataTable['output_type'] = 'display_data';\n",
              "          await google.colab.output.renderOutput(dataTable, element);\n",
              "          const docLink = document.createElement('div');\n",
              "          docLink.innerHTML = docLinkHtml;\n",
              "          element.appendChild(docLink);\n",
              "        }\n",
              "      </script>\n",
              "    </div>\n",
              "  </div>\n",
              "  "
            ]
          },
          "metadata": {}
        },
        {
          "output_type": "stream",
          "name": "stdout",
          "text": [
            "(1000209, 4)\n"
          ]
        },
        {
          "output_type": "display_data",
          "data": {
            "text/plain": [
              "   user_id  movie_id  rating       time\n",
              "0        1      1193       5  978300760\n",
              "1        1       661       3  978302109\n",
              "2        1       914       3  978301968\n",
              "3        1      3408       4  978300275\n",
              "4        1      2355       5  978824291"
            ],
            "text/html": [
              "\n",
              "  <div id=\"df-9c29d8d2-39fa-4e2b-ada2-d1622e711810\">\n",
              "    <div class=\"colab-df-container\">\n",
              "      <div>\n",
              "<style scoped>\n",
              "    .dataframe tbody tr th:only-of-type {\n",
              "        vertical-align: middle;\n",
              "    }\n",
              "\n",
              "    .dataframe tbody tr th {\n",
              "        vertical-align: top;\n",
              "    }\n",
              "\n",
              "    .dataframe thead th {\n",
              "        text-align: right;\n",
              "    }\n",
              "</style>\n",
              "<table border=\"1\" class=\"dataframe\">\n",
              "  <thead>\n",
              "    <tr style=\"text-align: right;\">\n",
              "      <th></th>\n",
              "      <th>user_id</th>\n",
              "      <th>movie_id</th>\n",
              "      <th>rating</th>\n",
              "      <th>time</th>\n",
              "    </tr>\n",
              "  </thead>\n",
              "  <tbody>\n",
              "    <tr>\n",
              "      <th>0</th>\n",
              "      <td>1</td>\n",
              "      <td>1193</td>\n",
              "      <td>5</td>\n",
              "      <td>978300760</td>\n",
              "    </tr>\n",
              "    <tr>\n",
              "      <th>1</th>\n",
              "      <td>1</td>\n",
              "      <td>661</td>\n",
              "      <td>3</td>\n",
              "      <td>978302109</td>\n",
              "    </tr>\n",
              "    <tr>\n",
              "      <th>2</th>\n",
              "      <td>1</td>\n",
              "      <td>914</td>\n",
              "      <td>3</td>\n",
              "      <td>978301968</td>\n",
              "    </tr>\n",
              "    <tr>\n",
              "      <th>3</th>\n",
              "      <td>1</td>\n",
              "      <td>3408</td>\n",
              "      <td>4</td>\n",
              "      <td>978300275</td>\n",
              "    </tr>\n",
              "    <tr>\n",
              "      <th>4</th>\n",
              "      <td>1</td>\n",
              "      <td>2355</td>\n",
              "      <td>5</td>\n",
              "      <td>978824291</td>\n",
              "    </tr>\n",
              "  </tbody>\n",
              "</table>\n",
              "</div>\n",
              "      <button class=\"colab-df-convert\" onclick=\"convertToInteractive('df-9c29d8d2-39fa-4e2b-ada2-d1622e711810')\"\n",
              "              title=\"Convert this dataframe to an interactive table.\"\n",
              "              style=\"display:none;\">\n",
              "        \n",
              "  <svg xmlns=\"http://www.w3.org/2000/svg\" height=\"24px\"viewBox=\"0 0 24 24\"\n",
              "       width=\"24px\">\n",
              "    <path d=\"M0 0h24v24H0V0z\" fill=\"none\"/>\n",
              "    <path d=\"M18.56 5.44l.94 2.06.94-2.06 2.06-.94-2.06-.94-.94-2.06-.94 2.06-2.06.94zm-11 1L8.5 8.5l.94-2.06 2.06-.94-2.06-.94L8.5 2.5l-.94 2.06-2.06.94zm10 10l.94 2.06.94-2.06 2.06-.94-2.06-.94-.94-2.06-.94 2.06-2.06.94z\"/><path d=\"M17.41 7.96l-1.37-1.37c-.4-.4-.92-.59-1.43-.59-.52 0-1.04.2-1.43.59L10.3 9.45l-7.72 7.72c-.78.78-.78 2.05 0 2.83L4 21.41c.39.39.9.59 1.41.59.51 0 1.02-.2 1.41-.59l7.78-7.78 2.81-2.81c.8-.78.8-2.07 0-2.86zM5.41 20L4 18.59l7.72-7.72 1.47 1.35L5.41 20z\"/>\n",
              "  </svg>\n",
              "      </button>\n",
              "      \n",
              "  <style>\n",
              "    .colab-df-container {\n",
              "      display:flex;\n",
              "      flex-wrap:wrap;\n",
              "      gap: 12px;\n",
              "    }\n",
              "\n",
              "    .colab-df-convert {\n",
              "      background-color: #E8F0FE;\n",
              "      border: none;\n",
              "      border-radius: 50%;\n",
              "      cursor: pointer;\n",
              "      display: none;\n",
              "      fill: #1967D2;\n",
              "      height: 32px;\n",
              "      padding: 0 0 0 0;\n",
              "      width: 32px;\n",
              "    }\n",
              "\n",
              "    .colab-df-convert:hover {\n",
              "      background-color: #E2EBFA;\n",
              "      box-shadow: 0px 1px 2px rgba(60, 64, 67, 0.3), 0px 1px 3px 1px rgba(60, 64, 67, 0.15);\n",
              "      fill: #174EA6;\n",
              "    }\n",
              "\n",
              "    [theme=dark] .colab-df-convert {\n",
              "      background-color: #3B4455;\n",
              "      fill: #D2E3FC;\n",
              "    }\n",
              "\n",
              "    [theme=dark] .colab-df-convert:hover {\n",
              "      background-color: #434B5C;\n",
              "      box-shadow: 0px 1px 3px 1px rgba(0, 0, 0, 0.15);\n",
              "      filter: drop-shadow(0px 1px 2px rgba(0, 0, 0, 0.3));\n",
              "      fill: #FFFFFF;\n",
              "    }\n",
              "  </style>\n",
              "\n",
              "      <script>\n",
              "        const buttonEl =\n",
              "          document.querySelector('#df-9c29d8d2-39fa-4e2b-ada2-d1622e711810 button.colab-df-convert');\n",
              "        buttonEl.style.display =\n",
              "          google.colab.kernel.accessAllowed ? 'block' : 'none';\n",
              "\n",
              "        async function convertToInteractive(key) {\n",
              "          const element = document.querySelector('#df-9c29d8d2-39fa-4e2b-ada2-d1622e711810');\n",
              "          const dataTable =\n",
              "            await google.colab.kernel.invokeFunction('convertToInteractive',\n",
              "                                                     [key], {});\n",
              "          if (!dataTable) return;\n",
              "\n",
              "          const docLinkHtml = 'Like what you see? Visit the ' +\n",
              "            '<a target=\"_blank\" href=https://colab.research.google.com/notebooks/data_table.ipynb>data table notebook</a>'\n",
              "            + ' to learn more about interactive tables.';\n",
              "          element.innerHTML = '';\n",
              "          dataTable['output_type'] = 'display_data';\n",
              "          await google.colab.output.renderOutput(dataTable, element);\n",
              "          const docLink = document.createElement('div');\n",
              "          docLink.innerHTML = docLinkHtml;\n",
              "          element.appendChild(docLink);\n",
              "        }\n",
              "      </script>\n",
              "    </div>\n",
              "  </div>\n",
              "  "
            ]
          },
          "metadata": {}
        }
      ]
    },
    {
      "cell_type": "markdown",
      "metadata": {
        "id": "EYrM1h46oP_9"
      },
      "source": [
        "#### 영화 정보 탐색\n",
        "* 영화 개수, 장르 분표 \n"
      ]
    },
    {
      "cell_type": "code",
      "metadata": {
        "colab": {
          "base_uri": "https://localhost:8080/"
        },
        "id": "TshPiEh9S0kR",
        "outputId": "4e012d1e-7892-43fd-bd61-e17fe84121a5"
      },
      "source": [
        "# 총 영화의 개수\n",
        "print(\"total number of movie in data :\", len(movie_data['movie_id'].unique()))\n",
        "\n",
        "# 연도별 영화 개수가 많은 Top 10 년도 출력\n",
        "movie_data['year'] = movie_data['title'].apply(lambda x: x[-5:-1])  # 예. Toy Story (1995)  -> 1995만 추출\n",
        "movie_data['year'].value_counts().head(10)  # 기본적으로 내림차순으로 정렬"
      ],
      "execution_count": 11,
      "outputs": [
        {
          "output_type": "stream",
          "name": "stdout",
          "text": [
            "total number of movie in data : 3883\n"
          ]
        },
        {
          "output_type": "execute_result",
          "data": {
            "text/plain": [
              "1996    345\n",
              "1995    342\n",
              "1998    337\n",
              "1997    315\n",
              "1999    283\n",
              "1994    257\n",
              "1993    165\n",
              "2000    156\n",
              "1986    104\n",
              "1992    102\n",
              "Name: year, dtype: int64"
            ]
          },
          "metadata": {},
          "execution_count": 11
        }
      ]
    },
    {
      "cell_type": "code",
      "metadata": {
        "colab": {
          "base_uri": "https://localhost:8080/",
          "height": 353
        },
        "id": "N67gg0EyU8GO",
        "outputId": "280c7101-2763-435b-d2e0-329300db22ac"
      },
      "source": [
        "# 연대별 영화의 개수 출력\n",
        "movie_data['year_term'] = movie_data['title'].apply(lambda x: x[-5:-2]+\"0\")\n",
        "movie_year_term = movie_data['year_term'].value_counts().sort_index()\n",
        "\n",
        "plt.rcParams['figure.figsize'] = [8, 5]\n",
        "sns.barplot(movie_year_term.index, movie_year_term.values, alpha=0.8)\n",
        "plt.title('Movie data by years generation')\n",
        "plt.ylabel('Number of Movies', fontsize=12)\n",
        "plt.xlabel('Years', fontsize=12)\n",
        "plt.show()"
      ],
      "execution_count": 12,
      "outputs": [
        {
          "output_type": "display_data",
          "data": {
            "text/plain": [
              "<Figure size 576x360 with 1 Axes>"
            ],
            "image/png": "[encoded data removed]"
          },
          "metadata": {
            "needs_background": "light"
          }
        }
      ]
    },
    {
      "cell_type": "code",
      "metadata": {
        "colab": {
          "base_uri": "https://localhost:8080/"
        },
        "id": "vdso7LM9XAlE",
        "outputId": "5abb2359-13e6-43ba-91c3-9bcc6cd747f8"
      },
      "source": [
        "# 가장 많이 사용된 장르의 조합 출력 (Top 10)\n",
        "movie_data['genre'].value_counts()[:10]"
      ],
      "execution_count": 13,
      "outputs": [
        {
          "output_type": "execute_result",
          "data": {
            "text/plain": [
              "Drama             843\n",
              "Comedy            521\n",
              "Horror            178\n",
              "Comedy|Drama      162\n",
              "Comedy|Romance    142\n",
              "Drama|Romance     134\n",
              "Documentary       116\n",
              "Thriller          101\n",
              "Action             65\n",
              "Drama|Thriller     63\n",
              "Name: genre, dtype: int64"
            ]
          },
          "metadata": {},
          "execution_count": 13
        }
      ]
    },
    {
      "cell_type": "code",
      "metadata": {
        "colab": {
          "base_uri": "https://localhost:8080/"
        },
        "id": "5FFG2tFyXdUL",
        "outputId": "995a33fe-8c74-44a5-b0b4-c9181fad5896"
      },
      "source": [
        "# 가장 많이 등장한 장르 추출 (예. Comedy|Romance -> Comedy와 Drama 추출)\n",
        "unique_genre_dict = {}\n",
        "for index, row in movie_data.iterrows():\n",
        "    \n",
        "    genre_combination = row['genre']\n",
        "    parsed_genre = genre_combination.split(\"|\")  # '|’ 구분자로 분리\n",
        "    \n",
        "    # 구분자로 분리한 장르의 속성을 unique_genre_dict에 각각 계산하여 저장\n",
        "    for genre in parsed_genre:\n",
        "        if genre in unique_genre_dict:\n",
        "            unique_genre_dict[genre] += 1\n",
        "        else:\n",
        "            unique_genre_dict[genre] = 1\n",
        "                \n",
        "print(unique_genre_dict)"
      ],
      "execution_count": 14,
      "outputs": [
        {
          "output_type": "stream",
          "name": "stdout",
          "text": [
            "{'Animation': 105, \"Children's\": 251, 'Comedy': 1200, 'Adventure': 283, 'Fantasy': 68, 'Romance': 471, 'Drama': 1603, 'Action': 503, 'Crime': 211, 'Thriller': 492, 'Horror': 343, 'Sci-Fi': 276, 'Documentary': 127, 'War': 143, 'Musical': 114, 'Mystery': 106, 'Film-Noir': 44, 'Western': 68}\n"
          ]
        }
      ]
    },
    {
      "cell_type": "code",
      "metadata": {
        "colab": {
          "base_uri": "https://localhost:8080/",
          "height": 298
        },
        "id": "s8Y3Y5GoX-Ly",
        "outputId": "9e173a3a-b152-45fb-e8cc-6a80499d15e1"
      },
      "source": [
        "# unique_genre_dict를 이용하여 장르의 속성 그래프 출력\n",
        "plt.rcParams['figure.figsize'] = [15, 5]\n",
        "sns.barplot(list(unique_genre_dict.keys()), list(unique_genre_dict.values()), alpha=0.8)\n",
        "plt.title('Popular genre in movies')\n",
        "plt.ylabel('Count of Genre', fontsize=12)\n",
        "plt.xlabel('Genre', fontsize=12)\n",
        "plt.show()"
      ],
      "execution_count": 15,
      "outputs": [
        {
          "output_type": "display_data",
          "data": {
            "text/plain": [
              "<Figure size 1080x360 with 1 Axes>"
            ],
            "image/png": "[encoded data removed]"
          },
          "metadata": {
            "needs_background": "light"
          }
        }
      ]
    },
    {
      "cell_type": "markdown",
      "metadata": {
        "id": "IG_0E28abZb8"
      },
      "source": [
        "#### 사용자 정보 탐색\n",
        "* 사용자 수, 성별, 연령대 "
      ]
    },
    {
      "cell_type": "code",
      "metadata": {
        "colab": {
          "base_uri": "https://localhost:8080/"
        },
        "id": "OgBZTLJnYlcF",
        "outputId": "1b900359-23c9-438d-aceb-2ee6ba0bcd7f"
      },
      "source": [
        "# 사용자의 수 탐색\n",
        "print(\"total number of user in data :\", len(user_data['user_id'].unique()))"
      ],
      "execution_count": 16,
      "outputs": [
        {
          "output_type": "stream",
          "name": "stdout",
          "text": [
            "total number of user in data : 6040\n"
          ]
        }
      ]
    },
    {
      "cell_type": "code",
      "metadata": {
        "colab": {
          "base_uri": "https://localhost:8080/",
          "height": 298
        },
        "id": "pO2jmsaBZqic",
        "outputId": "062c85b4-118e-4208-c814-817081e0cc86"
      },
      "source": [
        "# 사용자 성별 분포\n",
        "plt.rcParams['figure.figsize'] = [4, 4]\n",
        "user_gender = user_data['gender'].value_counts()\n",
        "sns.barplot(user_gender.index, user_gender.values, alpha=0.8)\n",
        "plt.title('Gender ratio of user')\n",
        "plt.ylabel('Count', fontsize=12)\n",
        "plt.xlabel('Gender', fontsize=12)\n",
        "plt.show()"
      ],
      "execution_count": 17,
      "outputs": [
        {
          "output_type": "display_data",
          "data": {
            "text/plain": [
              "<Figure size 288x288 with 1 Axes>"
            ],
            "image/png": "[encoded data removed]"
          },
          "metadata": {
            "needs_background": "light"
          }
        }
      ]
    },
    {
      "cell_type": "code",
      "metadata": {
        "colab": {
          "base_uri": "https://localhost:8080/"
        },
        "id": "Ubh0WmQyZyE4",
        "outputId": "229a54d9-9b2f-46cc-d1b1-1770b7ebab26"
      },
      "source": [
        "# 사용자 연령대 탐색\n",
        "user_data['age'].value_counts()"
      ],
      "execution_count": 18,
      "outputs": [
        {
          "output_type": "execute_result",
          "data": {
            "text/plain": [
              "25    2096\n",
              "35    1193\n",
              "18    1103\n",
              "45     550\n",
              "50     496\n",
              "56     380\n",
              "1      222\n",
              "Name: age, dtype: int64"
            ]
          },
          "metadata": {},
          "execution_count": 18
        }
      ]
    },
    {
      "cell_type": "code",
      "metadata": {
        "id": "KfgWb2dBZ57B"
      },
      "source": [
        "def age_classification(age):\n",
        "    if age == 1:         # 나이가 1인 값을 outlier로 표기 \n",
        "        return 'outlier'\n",
        "    else:\n",
        "        return str(age)[0] + \"0\"\n",
        "\n",
        "user_data['ages'] = user_data['age'].apply(lambda x: age_classification(x))\n",
        "user_ages = user_data['ages'].value_counts().sort_index()"
      ],
      "execution_count": 19,
      "outputs": []
    },
    {
      "cell_type": "code",
      "metadata": {
        "colab": {
          "base_uri": "https://localhost:8080/",
          "height": 298
        },
        "id": "X5zAPD-4afBH",
        "outputId": "399b48bd-fdd7-4a96-8153-a40ef8090f88"
      },
      "source": [
        "sns.barplot(user_ages.index, user_ages.values, alpha=0.8)\n",
        "plt.title('User ages')\n",
        "plt.ylabel('Count', fontsize=12)\n",
        "plt.xlabel('Ages', fontsize=12)\n",
        "plt.show()"
      ],
      "execution_count": 20,
      "outputs": [
        {
          "output_type": "display_data",
          "data": {
            "text/plain": [
              "<Figure size 288x288 with 1 Axes>"
            ],
            "image/png": "[encoded data removed]"
          },
          "metadata": {
            "needs_background": "light"
          }
        }
      ]
    },
    {
      "cell_type": "markdown",
      "metadata": {
        "id": "o1Ch8YgsbhMw"
      },
      "source": [
        "#### 평점 정보 탐색\n",
        "* 평가 횟수, 평균 평점, 평점 상위 영화 \n"
      ]
    },
    {
      "cell_type": "code",
      "metadata": {
        "colab": {
          "base_uri": "https://localhost:8080/",
          "height": 500
        },
        "id": "e-7CK27ObMuV",
        "outputId": "235919f5-9b52-4595-8d76-c37c73c63760"
      },
      "source": [
        "# 각 영화들이 평가받은 횟수 탐색\n",
        "movie_rate_count = rating_data.groupby('movie_id')['rating'].count().values\n",
        "plt.rcParams['figure.figsize'] = [8, 8]\n",
        "fig = plt.hist(movie_rate_count, bins=200)\n",
        "plt.ylabel('Count', fontsize=12)\n",
        "plt.xlabel(\"Movie's rated count\", fontsize=12)\n",
        "plt.show()"
      ],
      "execution_count": 21,
      "outputs": [
        {
          "output_type": "display_data",
          "data": {
            "text/plain": [
              "<Figure size 576x576 with 1 Axes>"
            ],
            "image/png": "[encoded data removed]"
          },
          "metadata": {
            "needs_background": "light"
          }
        }
      ]
    },
    {
      "cell_type": "code",
      "metadata": {
        "colab": {
          "base_uri": "https://localhost:8080/"
        },
        "id": "7R-hvHJwbwPl",
        "outputId": "1923d6a4-e061-437d-b45d-f5970a897e66"
      },
      "source": [
        "print(\"total number of movie in data :\", len(movie_data['movie_id'].unique()))\n",
        "print(\"total number of movie rated below 100 :\", len(movie_rate_count[movie_rate_count < 100]))"
      ],
      "execution_count": 22,
      "outputs": [
        {
          "output_type": "stream",
          "name": "stdout",
          "text": [
            "total number of movie in data : 3883\n",
            "total number of movie rated below 100 : 1687\n"
          ]
        }
      ]
    },
    {
      "cell_type": "code",
      "metadata": {
        "colab": {
          "base_uri": "https://localhost:8080/",
          "height": 238
        },
        "id": "AYs_BJylb5JA",
        "outputId": "8688125a-2ae2-43c5-e62b-d54d9bbb9641"
      },
      "source": [
        "# 영화별 평균 평점 탐색\n",
        "movie_grouped_rating_info = rating_data.groupby(\"movie_id\")['rating'].agg(['count','mean'])\n",
        "movie_grouped_rating_info.columns = ['rated_count', 'rating_mean']\n",
        "movie_grouped_rating_info.head(5)"
      ],
      "execution_count": 23,
      "outputs": [
        {
          "output_type": "execute_result",
          "data": {
            "text/plain": [
              "          rated_count  rating_mean\n",
              "movie_id                          \n",
              "1                2077     4.146846\n",
              "2                 701     3.201141\n",
              "3                 478     3.016736\n",
              "4                 170     2.729412\n",
              "5                 296     3.006757"
            ],
            "text/html": [
              "\n",
              "  <div id=\"df-08dceac6-6b6e-48a0-b252-6ff1cc136e3e\">\n",
              "    <div class=\"colab-df-container\">\n",
              "      <div>\n",
              "<style scoped>\n",
              "    .dataframe tbody tr th:only-of-type {\n",
              "        vertical-align: middle;\n",
              "    }\n",
              "\n",
              "    .dataframe tbody tr th {\n",
              "        vertical-align: top;\n",
              "    }\n",
              "\n",
              "    .dataframe thead th {\n",
              "        text-align: right;\n",
              "    }\n",
              "</style>\n",
              "<table border=\"1\" class=\"dataframe\">\n",
              "  <thead>\n",
              "    <tr style=\"text-align: right;\">\n",
              "      <th></th>\n",
              "      <th>rated_count</th>\n",
              "      <th>rating_mean</th>\n",
              "    </tr>\n",
              "    <tr>\n",
              "      <th>movie_id</th>\n",
              "      <th></th>\n",
              "      <th></th>\n",
              "    </tr>\n",
              "  </thead>\n",
              "  <tbody>\n",
              "    <tr>\n",
              "      <th>1</th>\n",
              "      <td>2077</td>\n",
              "      <td>4.146846</td>\n",
              "    </tr>\n",
              "    <tr>\n",
              "      <th>2</th>\n",
              "      <td>701</td>\n",
              "      <td>3.201141</td>\n",
              "    </tr>\n",
              "    <tr>\n",
              "      <th>3</th>\n",
              "      <td>478</td>\n",
              "      <td>3.016736</td>\n",
              "    </tr>\n",
              "    <tr>\n",
              "      <th>4</th>\n",
              "      <td>170</td>\n",
              "      <td>2.729412</td>\n",
              "    </tr>\n",
              "    <tr>\n",
              "      <th>5</th>\n",
              "      <td>296</td>\n",
              "      <td>3.006757</td>\n",
              "    </tr>\n",
              "  </tbody>\n",
              "</table>\n",
              "</div>\n",
              "      <button class=\"colab-df-convert\" onclick=\"convertToInteractive('df-08dceac6-6b6e-48a0-b252-6ff1cc136e3e')\"\n",
              "              title=\"Convert this dataframe to an interactive table.\"\n",
              "              style=\"display:none;\">\n",
              "        \n",
              "  <svg xmlns=\"http://www.w3.org/2000/svg\" height=\"24px\"viewBox=\"0 0 24 24\"\n",
              "       width=\"24px\">\n",
              "    <path d=\"M0 0h24v24H0V0z\" fill=\"none\"/>\n",
              "    <path d=\"M18.56 5.44l.94 2.06.94-2.06 2.06-.94-2.06-.94-.94-2.06-.94 2.06-2.06.94zm-11 1L8.5 8.5l.94-2.06 2.06-.94-2.06-.94L8.5 2.5l-.94 2.06-2.06.94zm10 10l.94 2.06.94-2.06 2.06-.94-2.06-.94-.94-2.06-.94 2.06-2.06.94z\"/><path d=\"M17.41 7.96l-1.37-1.37c-.4-.4-.92-.59-1.43-.59-.52 0-1.04.2-1.43.59L10.3 9.45l-7.72 7.72c-.78.78-.78 2.05 0 2.83L4 21.41c.39.39.9.59 1.41.59.51 0 1.02-.2 1.41-.59l7.78-7.78 2.81-2.81c.8-.78.8-2.07 0-2.86zM5.41 20L4 18.59l7.72-7.72 1.47 1.35L5.41 20z\"/>\n",
              "  </svg>\n",
              "      </button>\n",
              "      \n",
              "  <style>\n",
              "    .colab-df-container {\n",
              "      display:flex;\n",
              "      flex-wrap:wrap;\n",
              "      gap: 12px;\n",
              "    }\n",
              "\n",
              "    .colab-df-convert {\n",
              "      background-color: #E8F0FE;\n",
              "      border: none;\n",
              "      border-radius: 50%;\n",
              "      cursor: pointer;\n",
              "      display: none;\n",
              "      fill: #1967D2;\n",
              "      height: 32px;\n",
              "      padding: 0 0 0 0;\n",
              "      width: 32px;\n",
              "    }\n",
              "\n",
              "    .colab-df-convert:hover {\n",
              "      background-color: #E2EBFA;\n",
              "      box-shadow: 0px 1px 2px rgba(60, 64, 67, 0.3), 0px 1px 3px 1px rgba(60, 64, 67, 0.15);\n",
              "      fill: #174EA6;\n",
              "    }\n",
              "\n",
              "    [theme=dark] .colab-df-convert {\n",
              "      background-color: #3B4455;\n",
              "      fill: #D2E3FC;\n",
              "    }\n",
              "\n",
              "    [theme=dark] .colab-df-convert:hover {\n",
              "      background-color: #434B5C;\n",
              "      box-shadow: 0px 1px 3px 1px rgba(0, 0, 0, 0.15);\n",
              "      filter: drop-shadow(0px 1px 2px rgba(0, 0, 0, 0.3));\n",
              "      fill: #FFFFFF;\n",
              "    }\n",
              "  </style>\n",
              "\n",
              "      <script>\n",
              "        const buttonEl =\n",
              "          document.querySelector('#df-08dceac6-6b6e-48a0-b252-6ff1cc136e3e button.colab-df-convert');\n",
              "        buttonEl.style.display =\n",
              "          google.colab.kernel.accessAllowed ? 'block' : 'none';\n",
              "\n",
              "        async function convertToInteractive(key) {\n",
              "          const element = document.querySelector('#df-08dceac6-6b6e-48a0-b252-6ff1cc136e3e');\n",
              "          const dataTable =\n",
              "            await google.colab.kernel.invokeFunction('convertToInteractive',\n",
              "                                                     [key], {});\n",
              "          if (!dataTable) return;\n",
              "\n",
              "          const docLinkHtml = 'Like what you see? Visit the ' +\n",
              "            '<a target=\"_blank\" href=https://colab.research.google.com/notebooks/data_table.ipynb>data table notebook</a>'\n",
              "            + ' to learn more about interactive tables.';\n",
              "          element.innerHTML = '';\n",
              "          dataTable['output_type'] = 'display_data';\n",
              "          await google.colab.output.renderOutput(dataTable, element);\n",
              "          const docLink = document.createElement('div');\n",
              "          docLink.innerHTML = docLinkHtml;\n",
              "          element.appendChild(docLink);\n",
              "        }\n",
              "      </script>\n",
              "    </div>\n",
              "  </div>\n",
              "  "
            ]
          },
          "metadata": {},
          "execution_count": 23
        }
      ]
    },
    {
      "cell_type": "code",
      "metadata": {
        "colab": {
          "base_uri": "https://localhost:8080/",
          "height": 501
        },
        "id": "BDxkL78VcEpk",
        "outputId": "8a988ed1-4232-43ff-9a8d-d64bdf937e99"
      },
      "source": [
        "# 영화별 평균 평점 분포\n",
        "movie_grouped_rating_info['rating_mean'].hist(bins=150, grid=False)"
      ],
      "execution_count": 24,
      "outputs": [
        {
          "output_type": "execute_result",
          "data": {
            "text/plain": [
              "<matplotlib.axes._subplots.AxesSubplot at 0x7fb12d612190>"
            ]
          },
          "metadata": {},
          "execution_count": 24
        },
        {
          "output_type": "display_data",
          "data": {
            "text/plain": [
              "<Figure size 576x576 with 1 Axes>"
            ],
            "image/png": "[encoded data removed]"
          },
          "metadata": {
            "needs_background": "light"
          }
        }
      ]
    },
    {
      "cell_type": "code",
      "metadata": {
        "colab": {
          "base_uri": "https://localhost:8080/",
          "height": 363
        },
        "id": "rskY2A3EcYPA",
        "outputId": "881e0f5f-4ba4-44c9-a7ea-c5d78b8d9b0b"
      },
      "source": [
        "# 100번 넘게 평가 받은 영화 중, 평점이 높은 10개의 영화 출력\n",
        "merged_data = movie_grouped_rating_info.merge(movie_data, on=['movie_id'], how='left')\n",
        "merged_data[merged_data['rated_count'] > 100][['rating_mean', 'title']].nlargest(10, 'rating_mean')"
      ],
      "execution_count": 25,
      "outputs": [
        {
          "output_type": "execute_result",
          "data": {
            "text/plain": [
              "      rating_mean                                              title\n",
              "1839     4.560510  Seven Samurai (The Magnificent Seven) (Shichin...\n",
              "309      4.554558                   Shawshank Redemption, The (1994)\n",
              "802      4.524966                              Godfather, The (1972)\n",
              "708      4.520548                              Close Shave, A (1995)\n",
              "49       4.517106                         Usual Suspects, The (1995)\n",
              "513      4.510417                            Schindler's List (1993)\n",
              "1066     4.507937                         Wrong Trousers, The (1993)\n",
              "861      4.491489      Sunset Blvd. (a.k.a. Sunset Boulevard) (1950)\n",
              "1108     4.477725                     Raiders of the Lost Ark (1981)\n",
              "843      4.476190                                 Rear Window (1954)"
            ],
            "text/html": [
              "\n",
              "  <div id=\"df-83f1d8ca-4044-4a68-9bfc-57ded5501457\">\n",
              "    <div class=\"colab-df-container\">\n",
              "      <div>\n",
              "<style scoped>\n",
              "    .dataframe tbody tr th:only-of-type {\n",
              "        vertical-align: middle;\n",
              "    }\n",
              "\n",
              "    .dataframe tbody tr th {\n",
              "        vertical-align: top;\n",
              "    }\n",
              "\n",
              "    .dataframe thead th {\n",
              "        text-align: right;\n",
              "    }\n",
              "</style>\n",
              "<table border=\"1\" class=\"dataframe\">\n",
              "  <thead>\n",
              "    <tr style=\"text-align: right;\">\n",
              "      <th></th>\n",
              "      <th>rating_mean</th>\n",
              "      <th>title</th>\n",
              "    </tr>\n",
              "  </thead>\n",
              "  <tbody>\n",
              "    <tr>\n",
              "      <th>1839</th>\n",
              "      <td>4.560510</td>\n",
              "      <td>Seven Samurai (The Magnificent Seven) (Shichin...</td>\n",
              "    </tr>\n",
              "    <tr>\n",
              "      <th>309</th>\n",
              "      <td>4.554558</td>\n",
              "      <td>Shawshank Redemption, The (1994)</td>\n",
              "    </tr>\n",
              "    <tr>\n",
              "      <th>802</th>\n",
              "      <td>4.524966</td>\n",
              "      <td>Godfather, The (1972)</td>\n",
              "    </tr>\n",
              "    <tr>\n",
              "      <th>708</th>\n",
              "      <td>4.520548</td>\n",
              "      <td>Close Shave, A (1995)</td>\n",
              "    </tr>\n",
              "    <tr>\n",
              "      <th>49</th>\n",
              "      <td>4.517106</td>\n",
              "      <td>Usual Suspects, The (1995)</td>\n",
              "    </tr>\n",
              "    <tr>\n",
              "      <th>513</th>\n",
              "      <td>4.510417</td>\n",
              "      <td>Schindler's List (1993)</td>\n",
              "    </tr>\n",
              "    <tr>\n",
              "      <th>1066</th>\n",
              "      <td>4.507937</td>\n",
              "      <td>Wrong Trousers, The (1993)</td>\n",
              "    </tr>\n",
              "    <tr>\n",
              "      <th>861</th>\n",
              "      <td>4.491489</td>\n",
              "      <td>Sunset Blvd. (a.k.a. Sunset Boulevard) (1950)</td>\n",
              "    </tr>\n",
              "    <tr>\n",
              "      <th>1108</th>\n",
              "      <td>4.477725</td>\n",
              "      <td>Raiders of the Lost Ark (1981)</td>\n",
              "    </tr>\n",
              "    <tr>\n",
              "      <th>843</th>\n",
              "      <td>4.476190</td>\n",
              "      <td>Rear Window (1954)</td>\n",
              "    </tr>\n",
              "  </tbody>\n",
              "</table>\n",
              "</div>\n",
              "      <button class=\"colab-df-convert\" onclick=\"convertToInteractive('df-83f1d8ca-4044-4a68-9bfc-57ded5501457')\"\n",
              "              title=\"Convert this dataframe to an interactive table.\"\n",
              "              style=\"display:none;\">\n",
              "        \n",
              "  <svg xmlns=\"http://www.w3.org/2000/svg\" height=\"24px\"viewBox=\"0 0 24 24\"\n",
              "       width=\"24px\">\n",
              "    <path d=\"M0 0h24v24H0V0z\" fill=\"none\"/>\n",
              "    <path d=\"M18.56 5.44l.94 2.06.94-2.06 2.06-.94-2.06-.94-.94-2.06-.94 2.06-2.06.94zm-11 1L8.5 8.5l.94-2.06 2.06-.94-2.06-.94L8.5 2.5l-.94 2.06-2.06.94zm10 10l.94 2.06.94-2.06 2.06-.94-2.06-.94-.94-2.06-.94 2.06-2.06.94z\"/><path d=\"M17.41 7.96l-1.37-1.37c-.4-.4-.92-.59-1.43-.59-.52 0-1.04.2-1.43.59L10.3 9.45l-7.72 7.72c-.78.78-.78 2.05 0 2.83L4 21.41c.39.39.9.59 1.41.59.51 0 1.02-.2 1.41-.59l7.78-7.78 2.81-2.81c.8-.78.8-2.07 0-2.86zM5.41 20L4 18.59l7.72-7.72 1.47 1.35L5.41 20z\"/>\n",
              "  </svg>\n",
              "      </button>\n",
              "      \n",
              "  <style>\n",
              "    .colab-df-container {\n",
              "      display:flex;\n",
              "      flex-wrap:wrap;\n",
              "      gap: 12px;\n",
              "    }\n",
              "\n",
              "    .colab-df-convert {\n",
              "      background-color: #E8F0FE;\n",
              "      border: none;\n",
              "      border-radius: 50%;\n",
              "      cursor: pointer;\n",
              "      display: none;\n",
              "      fill: #1967D2;\n",
              "      height: 32px;\n",
              "      padding: 0 0 0 0;\n",
              "      width: 32px;\n",
              "    }\n",
              "\n",
              "    .colab-df-convert:hover {\n",
              "      background-color: #E2EBFA;\n",
              "      box-shadow: 0px 1px 2px rgba(60, 64, 67, 0.3), 0px 1px 3px 1px rgba(60, 64, 67, 0.15);\n",
              "      fill: #174EA6;\n",
              "    }\n",
              "\n",
              "    [theme=dark] .colab-df-convert {\n",
              "      background-color: #3B4455;\n",
              "      fill: #D2E3FC;\n",
              "    }\n",
              "\n",
              "    [theme=dark] .colab-df-convert:hover {\n",
              "      background-color: #434B5C;\n",
              "      box-shadow: 0px 1px 3px 1px rgba(0, 0, 0, 0.15);\n",
              "      filter: drop-shadow(0px 1px 2px rgba(0, 0, 0, 0.3));\n",
              "      fill: #FFFFFF;\n",
              "    }\n",
              "  </style>\n",
              "\n",
              "      <script>\n",
              "        const buttonEl =\n",
              "          document.querySelector('#df-83f1d8ca-4044-4a68-9bfc-57ded5501457 button.colab-df-convert');\n",
              "        buttonEl.style.display =\n",
              "          google.colab.kernel.accessAllowed ? 'block' : 'none';\n",
              "\n",
              "        async function convertToInteractive(key) {\n",
              "          const element = document.querySelector('#df-83f1d8ca-4044-4a68-9bfc-57ded5501457');\n",
              "          const dataTable =\n",
              "            await google.colab.kernel.invokeFunction('convertToInteractive',\n",
              "                                                     [key], {});\n",
              "          if (!dataTable) return;\n",
              "\n",
              "          const docLinkHtml = 'Like what you see? Visit the ' +\n",
              "            '<a target=\"_blank\" href=https://colab.research.google.com/notebooks/data_table.ipynb>data table notebook</a>'\n",
              "            + ' to learn more about interactive tables.';\n",
              "          element.innerHTML = '';\n",
              "          dataTable['output_type'] = 'display_data';\n",
              "          await google.colab.output.renderOutput(dataTable, element);\n",
              "          const docLink = document.createElement('div');\n",
              "          docLink.innerHTML = docLinkHtml;\n",
              "          element.appendChild(docLink);\n",
              "        }\n",
              "      </script>\n",
              "    </div>\n",
              "  </div>\n",
              "  "
            ]
          },
          "metadata": {},
          "execution_count": 25
        }
      ]
    },
    {
      "cell_type": "markdown",
      "metadata": {
        "id": "GGjVf5FLfZWY"
      },
      "source": [
        "#### 장르의 유사도 (cosine_similarlity) 계산"
      ]
    },
    {
      "cell_type": "code",
      "metadata": {
        "id": "TyXTYyW2MkUc",
        "colab": {
          "base_uri": "https://localhost:8080/"
        },
        "outputId": "27caa32f-4680-486a-9271-510c971c571a"
      },
      "source": [
        "from sklearn.feature_extraction.text import CountVectorizer\n",
        "\n",
        "# CountVectorizer를 적용하기 위해  '|’ 구분자를 공백으로 변경\n",
        "# Film-Noir Sci-Fi, Childern's를 한 단어로 만들기 \n",
        "movie_data['genre_token'] = movie_data['genre'].str.replace('|',' ').str.replace('-','').str.replace('\\'','')\n",
        "\n",
        "count_vect = CountVectorizer(min_df=0, ngram_range=(1,2))  # 1개 또는 2개 장르 조합\n",
        "genre_mat = count_vect.fit_transform(movie_data['genre_token'])\n",
        "print(genre_mat.shape)\n",
        "print(\"장르 사전의 크기:\", len(count_vect.vocabulary_))\n",
        "print(\"장르 사전의 내용:\", count_vect.vocabulary_)  "
      ],
      "execution_count": 26,
      "outputs": [
        {
          "output_type": "stream",
          "name": "stdout",
          "text": [
            "(3883, 123)\n",
            "장르 사전의 크기: 123\n",
            "장르 사전의 내용: {'animation': 29, 'childrens': 37, 'comedy': 45, 'animation childrens': 30, 'childrens comedy': 38, 'adventure': 14, 'fantasy': 83, 'adventure childrens': 16, 'childrens fantasy': 40, 'romance': 108, 'comedy romance': 54, 'drama': 72, 'comedy drama': 48, 'action': 0, 'crime': 59, 'thriller': 117, 'action crime': 5, 'crime thriller': 67, 'action adventure': 1, 'adventure thriller': 26, 'drama romance': 78, 'horror': 94, 'comedy horror': 51, 'adventure romance': 24, 'drama thriller': 80, 'action comedy': 4, 'crime drama': 60, 'scifi': 113, 'drama scifi': 79, 'adventure scifi': 25, 'documentary': 68, 'war': 120, 'drama war': 81, 'musical': 100, 'childrens musical': 42, 'musical romance': 101, 'action drama': 6, 'mystery': 104, 'drama mystery': 77, 'scifi thriller': 114, 'comedy crime': 46, 'crime horror': 63, 'horror thriller': 99, 'drama musical': 76, 'adventure drama': 19, 'action thriller': 11, 'comedy musical': 52, 'adventure crime': 18, 'mystery romance': 105, 'romance war': 111, 'adventure comedy': 17, 'comedy war': 57, 'adventure mystery': 23, 'mystery scifi': 106, 'thriller war': 118, 'action romance': 9, 'romance thriller': 110, 'filmnoir': 88, 'crime filmnoir': 62, 'filmnoir mystery': 90, 'mystery thriller': 107, 'childrens drama': 39, 'action scifi': 10, 'action childrens': 3, 'horror scifi': 98, 'crime scifi': 66, 'western': 122, 'drama fantasy': 73, 'fantasy romance': 85, 'drama horror': 75, 'comedy scifi': 55, 'comedy fantasy': 49, 'adventure fantasy': 20, 'fantasy scifi': 86, 'war western': 121, 'adventure western': 28, 'filmnoir thriller': 93, 'musical scifi': 102, 'childrens romance': 43, 'crime fantasy': 61, 'comedy western': 58, 'comedy thriller': 56, 'drama western': 82, 'comedy mystery': 53, 'filmnoir scifi': 92, 'childrens scifi': 44, 'crime romance': 65, 'adventure animation': 15, 'animation horror': 33, 'action horror': 7, 'documentary drama': 69, 'animation scifi': 36, 'animation comedy': 31, 'scifi war': 115, 'romance scifi': 109, 'action mystery': 8, 'adventure war': 27, 'filmnoir romance': 91, 'drama filmnoir': 74, 'action western': 13, 'action animation': 2, 'documentary war': 71, 'musical war': 103, 'horror romance': 97, 'crime mystery': 64, 'horror mystery': 96, 'comedy documentary': 47, 'documentary musical': 70, 'fantasy war': 87, 'scifi western': 116, 'fantasy musical': 84, 'childrens horror': 41, 'adventure musical': 22, 'adventure horror': 21, 'animation musical': 34, 'action war': 12, 'thriller western': 119, 'comedy filmnoir': 50, 'horror musical': 95, 'animation mystery': 35, 'animation filmnoir': 32, 'romance western': 112, 'filmnoir horror': 89}\n"
          ]
        }
      ]
    },
    {
      "cell_type": "code",
      "metadata": {
        "id": "BCGYrAnbMgyi",
        "colab": {
          "base_uri": "https://localhost:8080/"
        },
        "outputId": "bf182d6d-0986-4e4b-e841-454a0dd32aff"
      },
      "source": [
        "# 장르간 Cosine 유사도 계산 \n",
        "from sklearn.metrics.pairwise import cosine_similarity\n",
        "\n",
        "genre_sim = cosine_similarity(genre_mat, genre_mat)\n",
        "print(genre_sim.shape)\n",
        "print(genre_sim)"
      ],
      "execution_count": 27,
      "outputs": [
        {
          "output_type": "stream",
          "name": "stdout",
          "text": [
            "(3883, 3883)\n",
            "[[1.         0.2        0.25819889 ... 0.         0.         0.        ]\n",
            " [0.2        1.         0.         ... 0.         0.         0.        ]\n",
            " [0.25819889 0.         1.         ... 0.         0.         0.        ]\n",
            " ...\n",
            " [0.         0.         0.         ... 1.         1.         0.57735027]\n",
            " [0.         0.         0.         ... 1.         1.         0.57735027]\n",
            " [0.         0.         0.         ... 0.57735027 0.57735027 1.        ]]\n"
          ]
        }
      ]
    },
    {
      "cell_type": "code",
      "metadata": {
        "id": "sDJ4-35lMoNh",
        "colab": {
          "base_uri": "https://localhost:8080/"
        },
        "outputId": "e76f88a4-57ed-4622-fb5a-3e243ea5bde6"
      },
      "source": [
        "genre_sim_sorted_ind = genre_sim.argsort()[:, ::-1]\n",
        "print(genre_sim_sorted_ind)"
      ],
      "execution_count": 28,
      "outputs": [
        {
          "output_type": "stream",
          "name": "stdout",
          "text": [
            "[[   0 3682 2285 ... 2342 2341 1941]\n",
            " [1898 1974    1 ... 2544 2543 1941]\n",
            " [ 233 2327  904 ... 2304 2301 1941]\n",
            " ...\n",
            " [ 720  942  941 ... 2280 2278    0]\n",
            " [ 720  942  941 ... 2280 2278    0]\n",
            " [3882 2619  277 ... 2191 2190    0]]\n"
          ]
        }
      ]
    },
    {
      "cell_type": "code",
      "metadata": {
        "id": "8x8CLpDmMtu1"
      },
      "source": [
        "def find_sim_movie(df, sorted_ind, title_name, top_n):\n",
        "    \n",
        "    # 인자로 입력된 movie_data DataFrame에서 'title' 컬럼이 입력된 title_name 값인 DataFrame추출\n",
        "    title_movie = df[df['title'] == title_name]\n",
        "    \n",
        "    # title_named을 가진 DataFrame의 index 객체를 ndarray로 반환하고 \n",
        "    # sorted_ind 인자로 입력된 genre_sim_sorted_ind 객체에서 유사도 순으로 top_n 개의 index 추출\n",
        "    title_index = title_movie.index.values\n",
        " \n",
        "    # 기준 영화 index를 제외\n",
        "    # similar_indexes = similar_indexes[similar_indexes != title_index]\n",
        "\n",
        "    similar_indexes = sorted_ind[title_index, :(top_n)]\n",
        "    \n",
        "    # 추출된 top_n index들 출력. top_n index는 2차원 데이터임 \n",
        "    # dataframe에서 index로 사용하기 위해서 1차원 array로 변경\n",
        "    print(similar_indexes)\n",
        "\n",
        "    similar_indexes = similar_indexes.reshape(-1)\n",
        "    \n",
        "    return df.iloc[similar_indexes]"
      ],
      "execution_count": 29,
      "outputs": []
    },
    {
      "cell_type": "code",
      "metadata": {
        "id": "Rxy5oKN9MwIy",
        "colab": {
          "base_uri": "https://localhost:8080/",
          "height": 381
        },
        "outputId": "00f324b1-6edd-4200-d8b7-8dee67ef7824"
      },
      "source": [
        "similar_movies = find_sim_movie(movie_data, genre_sim_sorted_ind, 'Godfather, The (1972)',10)\n",
        "similar_movies[['title', 'genre_token']]"
      ],
      "execution_count": 30,
      "outputs": [
        {
          "output_type": "stream",
          "name": "stdout",
          "text": [
            "[[ 847 1954   41 1203 2843 2125  489 1884 2471 3821]]\n"
          ]
        },
        {
          "output_type": "execute_result",
          "data": {
            "text/plain": [
              "                                title                  genre_token\n",
              "847             Godfather, The (1972)           Action Crime Drama\n",
              "1954  Godfather: Part III, The (1990)           Action Crime Drama\n",
              "41             Dead Presidents (1995)           Action Crime Drama\n",
              "1203   Godfather: Part II, The (1974)           Action Crime Drama\n",
              "2843                Limey, The (1999)           Action Crime Drama\n",
              "2125         Untouchables, The (1987)           Action Crime Drama\n",
              "489          Menace II Society (1993)           Action Crime Drama\n",
              "1884    French Connection, The (1971)  Action Crime Drama Thriller\n",
              "2471            Corruptor, The (1999)  Action Crime Drama Thriller\n",
              "3821                Turn It Up (2000)                  Crime Drama"
            ],
            "text/html": [
              "\n",
              "  <div id=\"df-37ddd79d-cbe0-4a5e-94f4-c2388445939c\">\n",
              "    <div class=\"colab-df-container\">\n",
              "      <div>\n",
              "<style scoped>\n",
              "    .dataframe tbody tr th:only-of-type {\n",
              "        vertical-align: middle;\n",
              "    }\n",
              "\n",
              "    .dataframe tbody tr th {\n",
              "        vertical-align: top;\n",
              "    }\n",
              "\n",
              "    .dataframe thead th {\n",
              "        text-align: right;\n",
              "    }\n",
              "</style>\n",
              "<table border=\"1\" class=\"dataframe\">\n",
              "  <thead>\n",
              "    <tr style=\"text-align: right;\">\n",
              "      <th></th>\n",
              "      <th>title</th>\n",
              "      <th>genre_token</th>\n",
              "    </tr>\n",
              "  </thead>\n",
              "  <tbody>\n",
              "    <tr>\n",
              "      <th>847</th>\n",
              "      <td>Godfather, The (1972)</td>\n",
              "      <td>Action Crime Drama</td>\n",
              "    </tr>\n",
              "    <tr>\n",
              "      <th>1954</th>\n",
              "      <td>Godfather: Part III, The (1990)</td>\n",
              "      <td>Action Crime Drama</td>\n",
              "    </tr>\n",
              "    <tr>\n",
              "      <th>41</th>\n",
              "      <td>Dead Presidents (1995)</td>\n",
              "      <td>Action Crime Drama</td>\n",
              "    </tr>\n",
              "    <tr>\n",
              "      <th>1203</th>\n",
              "      <td>Godfather: Part II, The (1974)</td>\n",
              "      <td>Action Crime Drama</td>\n",
              "    </tr>\n",
              "    <tr>\n",
              "      <th>2843</th>\n",
              "      <td>Limey, The (1999)</td>\n",
              "      <td>Action Crime Drama</td>\n",
              "    </tr>\n",
              "    <tr>\n",
              "      <th>2125</th>\n",
              "      <td>Untouchables, The (1987)</td>\n",
              "      <td>Action Crime Drama</td>\n",
              "    </tr>\n",
              "    <tr>\n",
              "      <th>489</th>\n",
              "      <td>Menace II Society (1993)</td>\n",
              "      <td>Action Crime Drama</td>\n",
              "    </tr>\n",
              "    <tr>\n",
              "      <th>1884</th>\n",
              "      <td>French Connection, The (1971)</td>\n",
              "      <td>Action Crime Drama Thriller</td>\n",
              "    </tr>\n",
              "    <tr>\n",
              "      <th>2471</th>\n",
              "      <td>Corruptor, The (1999)</td>\n",
              "      <td>Action Crime Drama Thriller</td>\n",
              "    </tr>\n",
              "    <tr>\n",
              "      <th>3821</th>\n",
              "      <td>Turn It Up (2000)</td>\n",
              "      <td>Crime Drama</td>\n",
              "    </tr>\n",
              "  </tbody>\n",
              "</table>\n",
              "</div>\n",
              "      <button class=\"colab-df-convert\" onclick=\"convertToInteractive('df-37ddd79d-cbe0-4a5e-94f4-c2388445939c')\"\n",
              "              title=\"Convert this dataframe to an interactive table.\"\n",
              "              style=\"display:none;\">\n",
              "        \n",
              "  <svg xmlns=\"http://www.w3.org/2000/svg\" height=\"24px\"viewBox=\"0 0 24 24\"\n",
              "       width=\"24px\">\n",
              "    <path d=\"M0 0h24v24H0V0z\" fill=\"none\"/>\n",
              "    <path d=\"M18.56 5.44l.94 2.06.94-2.06 2.06-.94-2.06-.94-.94-2.06-.94 2.06-2.06.94zm-11 1L8.5 8.5l.94-2.06 2.06-.94-2.06-.94L8.5 2.5l-.94 2.06-2.06.94zm10 10l.94 2.06.94-2.06 2.06-.94-2.06-.94-.94-2.06-.94 2.06-2.06.94z\"/><path d=\"M17.41 7.96l-1.37-1.37c-.4-.4-.92-.59-1.43-.59-.52 0-1.04.2-1.43.59L10.3 9.45l-7.72 7.72c-.78.78-.78 2.05 0 2.83L4 21.41c.39.39.9.59 1.41.59.51 0 1.02-.2 1.41-.59l7.78-7.78 2.81-2.81c.8-.78.8-2.07 0-2.86zM5.41 20L4 18.59l7.72-7.72 1.47 1.35L5.41 20z\"/>\n",
              "  </svg>\n",
              "      </button>\n",
              "      \n",
              "  <style>\n",
              "    .colab-df-container {\n",
              "      display:flex;\n",
              "      flex-wrap:wrap;\n",
              "      gap: 12px;\n",
              "    }\n",
              "\n",
              "    .colab-df-convert {\n",
              "      background-color: #E8F0FE;\n",
              "      border: none;\n",
              "      border-radius: 50%;\n",
              "      cursor: pointer;\n",
              "      display: none;\n",
              "      fill: #1967D2;\n",
              "      height: 32px;\n",
              "      padding: 0 0 0 0;\n",
              "      width: 32px;\n",
              "    }\n",
              "\n",
              "    .colab-df-convert:hover {\n",
              "      background-color: #E2EBFA;\n",
              "      box-shadow: 0px 1px 2px rgba(60, 64, 67, 0.3), 0px 1px 3px 1px rgba(60, 64, 67, 0.15);\n",
              "      fill: #174EA6;\n",
              "    }\n",
              "\n",
              "    [theme=dark] .colab-df-convert {\n",
              "      background-color: #3B4455;\n",
              "      fill: #D2E3FC;\n",
              "    }\n",
              "\n",
              "    [theme=dark] .colab-df-convert:hover {\n",
              "      background-color: #434B5C;\n",
              "      box-shadow: 0px 1px 3px 1px rgba(0, 0, 0, 0.15);\n",
              "      filter: drop-shadow(0px 1px 2px rgba(0, 0, 0, 0.3));\n",
              "      fill: #FFFFFF;\n",
              "    }\n",
              "  </style>\n",
              "\n",
              "      <script>\n",
              "        const buttonEl =\n",
              "          document.querySelector('#df-37ddd79d-cbe0-4a5e-94f4-c2388445939c button.colab-df-convert');\n",
              "        buttonEl.style.display =\n",
              "          google.colab.kernel.accessAllowed ? 'block' : 'none';\n",
              "\n",
              "        async function convertToInteractive(key) {\n",
              "          const element = document.querySelector('#df-37ddd79d-cbe0-4a5e-94f4-c2388445939c');\n",
              "          const dataTable =\n",
              "            await google.colab.kernel.invokeFunction('convertToInteractive',\n",
              "                                                     [key], {});\n",
              "          if (!dataTable) return;\n",
              "\n",
              "          const docLinkHtml = 'Like what you see? Visit the ' +\n",
              "            '<a target=\"_blank\" href=https://colab.research.google.com/notebooks/data_table.ipynb>data table notebook</a>'\n",
              "            + ' to learn more about interactive tables.';\n",
              "          element.innerHTML = '';\n",
              "          dataTable['output_type'] = 'display_data';\n",
              "          await google.colab.output.renderOutput(dataTable, element);\n",
              "          const docLink = document.createElement('div');\n",
              "          docLink.innerHTML = docLinkHtml;\n",
              "          element.appendChild(docLink);\n",
              "        }\n",
              "      </script>\n",
              "    </div>\n",
              "  </div>\n",
              "  "
            ]
          },
          "metadata": {},
          "execution_count": 30
        }
      ]
    },
    {
      "cell_type": "markdown",
      "metadata": {
        "id": "sVBj0rkQ_uMg"
      },
      "source": [
        "### 협업 필터링 (Collaborative Filteirng)\n",
        "* Surprise 패키지 이용 (http://surpriselib.com/) \n",
        "    * scikit 패키지의 일부로 파이썬 기반의 추천 시스템 구축을 위한 전용 패키지\n",
        "    * 윈도우에 설치시 MS Visual Studio Build Tools 2015 이상의 버전 필요 \n",
        "    * 주요 장점\n",
        "       * 다양한 추천 알고리즘 (User/Item-based kNN, SVD, SVD++, NMF 등)을 쉽게 적용하여 추천 시스템 구축 가능 \n",
        "       * scikit-learn과 유사한 API를 사용하여 모델 학습, 평가, 하이퍼파라미터 튜닝 등의 기능 제공 (예. fit, predict, train_test_split, cross_validate, GridSearchCV 등)"
      ]
    },
    {
      "cell_type": "markdown",
      "metadata": {
        "id": "UsBTN2-OkALh"
      },
      "source": [
        "* 가장 많이 사용되는 두 가지 유형의 협업 필터링 알고리즘\n",
        "    * Neighborhood-Based Approach \n",
        "        * k-최근접 이웃 알고리즘(kNN): 성향이 비슷한 k 명의 이웃들이 좋아한 제품 추천\n",
        "        * KNNBasic, KNNWithMeans, KNNWithZscore       \n",
        "    * Matrix Factorization Approach \n",
        "        * 사용자와 제품에 대한 k개의 잠재 요인 값을 계산하여 추천 (사용자와 제품의 잠재 요인값을 이용하여 특정 사용자의 특정 제품에 대한 예상 평점 계산)\n",
        "        * SVD(singular value decomposition), SVD++, NMF(non-negative matrix factorization)\n",
        "  \n",
        "* 영화의 평점 정보(rating_data)를 이용하여 Top-10 영화 추천 \n",
        "    * Suprise 패키지의 KNNWithmeans, SVD 알고리즘 사용, 추천 결과 비교 "
      ]
    },
    {
      "cell_type": "code",
      "metadata": {
        "colab": {
          "base_uri": "https://localhost:8080/"
        },
        "id": "TokfZHsJNyXA",
        "outputId": "73d2000d-f088-438b-f36d-63e87e58e8a2"
      },
      "source": [
        "!pip install scikit-surprise"
      ],
      "execution_count": 3,
      "outputs": [
        {
          "output_type": "stream",
          "name": "stdout",
          "text": [
            "Looking in indexes: https://pypi.org/simple, https://us-python.pkg.dev/colab-wheels/public/simple/\n",
            "Collecting scikit-surprise\n",
            "  Downloading scikit-surprise-1.1.1.tar.gz (11.8 MB)\n",
            "\u001b[K     |████████████████████████████████| 11.8 MB 6.5 MB/s \n",
            "\u001b[?25hRequirement already satisfied: joblib>=0.11 in /usr/local/lib/python3.7/dist-packages (from scikit-surprise) (1.1.0)\n",
            "Requirement already satisfied: numpy>=1.11.2 in /usr/local/lib/python3.7/dist-packages (from scikit-surprise) (1.21.6)\n",
            "Requirement already satisfied: scipy>=1.0.0 in /usr/local/lib/python3.7/dist-packages (from scikit-surprise) (1.4.1)\n",
            "Requirement already satisfied: six>=1.10.0 in /usr/local/lib/python3.7/dist-packages (from scikit-surprise) (1.15.0)\n",
            "Building wheels for collected packages: scikit-surprise\n",
            "  Building wheel for scikit-surprise (setup.py) ... \u001b[?25l\u001b[?25hdone\n",
            "  Created wheel for scikit-surprise: filename=scikit_surprise-1.1.1-cp37-cp37m-linux_x86_64.whl size=1633722 sha256=231e379209ef993851ca43c8d2e7d925be67f15db739cc33577f6c6fb398300b\n",
            "  Stored in directory: /root/.cache/pip/wheels/76/44/74/b498c42be47b2406bd27994e16c5188e337c657025ab400c1c\n",
            "Successfully built scikit-surprise\n",
            "Installing collected packages: scikit-surprise\n",
            "Successfully installed scikit-surprise-1.1.1\n"
          ]
        }
      ]
    },
    {
      "cell_type": "code",
      "metadata": {
        "id": "XB6U6frSKyb1"
      },
      "source": [
        "from surprise import KNNWithMeans, SVD\n",
        "from surprise import Reader, Dataset \n",
        "from surprise import accuracy \n",
        "from surprise.model_selection import train_test_split, cross_validate, GridSearchCV\n",
        "import pandas as pd"
      ],
      "execution_count": 4,
      "outputs": []
    },
    {
      "cell_type": "code",
      "metadata": {
        "colab": {
          "base_uri": "https://localhost:8080/",
          "height": 206
        },
        "id": "V6KAGC6ddhoJ",
        "outputId": "c71f2b31-cc77-4542-c3f7-4f24811ff258"
      },
      "source": [
        "rating_data.head()"
      ],
      "execution_count": 11,
      "outputs": [
        {
          "output_type": "execute_result",
          "data": {
            "text/plain": [
              "   user_id  movie_id  rating       time\n",
              "0        1      1193       5  978300760\n",
              "1        1       661       3  978302109\n",
              "2        1       914       3  978301968\n",
              "3        1      3408       4  978300275\n",
              "4        1      2355       5  978824291"
            ],
            "text/html": [
              "\n",
              "  <div id=\"df-ffbed9d0-72c0-48b8-b0a0-260148409f0a\">\n",
              "    <div class=\"colab-df-container\">\n",
              "      <div>\n",
              "<style scoped>\n",
              "    .dataframe tbody tr th:only-of-type {\n",
              "        vertical-align: middle;\n",
              "    }\n",
              "\n",
              "    .dataframe tbody tr th {\n",
              "        vertical-align: top;\n",
              "    }\n",
              "\n",
              "    .dataframe thead th {\n",
              "        text-align: right;\n",
              "    }\n",
              "</style>\n",
              "<table border=\"1\" class=\"dataframe\">\n",
              "  <thead>\n",
              "    <tr style=\"text-align: right;\">\n",
              "      <th></th>\n",
              "      <th>user_id</th>\n",
              "      <th>movie_id</th>\n",
              "      <th>rating</th>\n",
              "      <th>time</th>\n",
              "    </tr>\n",
              "  </thead>\n",
              "  <tbody>\n",
              "    <tr>\n",
              "      <th>0</th>\n",
              "      <td>1</td>\n",
              "      <td>1193</td>\n",
              "      <td>5</td>\n",
              "      <td>978300760</td>\n",
              "    </tr>\n",
              "    <tr>\n",
              "      <th>1</th>\n",
              "      <td>1</td>\n",
              "      <td>661</td>\n",
              "      <td>3</td>\n",
              "      <td>978302109</td>\n",
              "    </tr>\n",
              "    <tr>\n",
              "      <th>2</th>\n",
              "      <td>1</td>\n",
              "      <td>914</td>\n",
              "      <td>3</td>\n",
              "      <td>978301968</td>\n",
              "    </tr>\n",
              "    <tr>\n",
              "      <th>3</th>\n",
              "      <td>1</td>\n",
              "      <td>3408</td>\n",
              "      <td>4</td>\n",
              "      <td>978300275</td>\n",
              "    </tr>\n",
              "    <tr>\n",
              "      <th>4</th>\n",
              "      <td>1</td>\n",
              "      <td>2355</td>\n",
              "      <td>5</td>\n",
              "      <td>978824291</td>\n",
              "    </tr>\n",
              "  </tbody>\n",
              "</table>\n",
              "</div>\n",
              "      <button class=\"colab-df-convert\" onclick=\"convertToInteractive('df-ffbed9d0-72c0-48b8-b0a0-260148409f0a')\"\n",
              "              title=\"Convert this dataframe to an interactive table.\"\n",
              "              style=\"display:none;\">\n",
              "        \n",
              "  <svg xmlns=\"http://www.w3.org/2000/svg\" height=\"24px\"viewBox=\"0 0 24 24\"\n",
              "       width=\"24px\">\n",
              "    <path d=\"M0 0h24v24H0V0z\" fill=\"none\"/>\n",
              "    <path d=\"M18.56 5.44l.94 2.06.94-2.06 2.06-.94-2.06-.94-.94-2.06-.94 2.06-2.06.94zm-11 1L8.5 8.5l.94-2.06 2.06-.94-2.06-.94L8.5 2.5l-.94 2.06-2.06.94zm10 10l.94 2.06.94-2.06 2.06-.94-2.06-.94-.94-2.06-.94 2.06-2.06.94z\"/><path d=\"M17.41 7.96l-1.37-1.37c-.4-.4-.92-.59-1.43-.59-.52 0-1.04.2-1.43.59L10.3 9.45l-7.72 7.72c-.78.78-.78 2.05 0 2.83L4 21.41c.39.39.9.59 1.41.59.51 0 1.02-.2 1.41-.59l7.78-7.78 2.81-2.81c.8-.78.8-2.07 0-2.86zM5.41 20L4 18.59l7.72-7.72 1.47 1.35L5.41 20z\"/>\n",
              "  </svg>\n",
              "      </button>\n",
              "      \n",
              "  <style>\n",
              "    .colab-df-container {\n",
              "      display:flex;\n",
              "      flex-wrap:wrap;\n",
              "      gap: 12px;\n",
              "    }\n",
              "\n",
              "    .colab-df-convert {\n",
              "      background-color: #E8F0FE;\n",
              "      border: none;\n",
              "      border-radius: 50%;\n",
              "      cursor: pointer;\n",
              "      display: none;\n",
              "      fill: #1967D2;\n",
              "      height: 32px;\n",
              "      padding: 0 0 0 0;\n",
              "      width: 32px;\n",
              "    }\n",
              "\n",
              "    .colab-df-convert:hover {\n",
              "      background-color: #E2EBFA;\n",
              "      box-shadow: 0px 1px 2px rgba(60, 64, 67, 0.3), 0px 1px 3px 1px rgba(60, 64, 67, 0.15);\n",
              "      fill: #174EA6;\n",
              "    }\n",
              "\n",
              "    [theme=dark] .colab-df-convert {\n",
              "      background-color: #3B4455;\n",
              "      fill: #D2E3FC;\n",
              "    }\n",
              "\n",
              "    [theme=dark] .colab-df-convert:hover {\n",
              "      background-color: #434B5C;\n",
              "      box-shadow: 0px 1px 3px 1px rgba(0, 0, 0, 0.15);\n",
              "      filter: drop-shadow(0px 1px 2px rgba(0, 0, 0, 0.3));\n",
              "      fill: #FFFFFF;\n",
              "    }\n",
              "  </style>\n",
              "\n",
              "      <script>\n",
              "        const buttonEl =\n",
              "          document.querySelector('#df-ffbed9d0-72c0-48b8-b0a0-260148409f0a button.colab-df-convert');\n",
              "        buttonEl.style.display =\n",
              "          google.colab.kernel.accessAllowed ? 'block' : 'none';\n",
              "\n",
              "        async function convertToInteractive(key) {\n",
              "          const element = document.querySelector('#df-ffbed9d0-72c0-48b8-b0a0-260148409f0a');\n",
              "          const dataTable =\n",
              "            await google.colab.kernel.invokeFunction('convertToInteractive',\n",
              "                                                     [key], {});\n",
              "          if (!dataTable) return;\n",
              "\n",
              "          const docLinkHtml = 'Like what you see? Visit the ' +\n",
              "            '<a target=\"_blank\" href=https://colab.research.google.com/notebooks/data_table.ipynb>data table notebook</a>'\n",
              "            + ' to learn more about interactive tables.';\n",
              "          element.innerHTML = '';\n",
              "          dataTable['output_type'] = 'display_data';\n",
              "          await google.colab.output.renderOutput(dataTable, element);\n",
              "          const docLink = document.createElement('div');\n",
              "          docLink.innerHTML = docLinkHtml;\n",
              "          element.appendChild(docLink);\n",
              "        }\n",
              "      </script>\n",
              "    </div>\n",
              "  </div>\n",
              "  "
            ]
          },
          "metadata": {},
          "execution_count": 11
        }
      ]
    },
    {
      "cell_type": "code",
      "metadata": {
        "id": "qRxqKL71NuIf"
      },
      "source": [
        "# Surprise 패키지를 사용하기 위한 사전 작업\n",
        "# Reader 클래스에 평가 척도 지정후 Surprise의 데이터 셋 클래스로 읽어옴\n",
        "reader = Reader(rating_scale = (1,5))\n",
        "data = Dataset.load_from_df(rating_data[['user_id', 'movie_id', 'rating']], reader)\n",
        "\n",
        "# 80%를 학습데이터, 20%를 시험용 데이터로 나눔\n",
        "trainset, testset = train_test_split(data, test_size = 0.20)"
      ],
      "execution_count": 12,
      "outputs": []
    },
    {
      "cell_type": "markdown",
      "metadata": {
        "id": "0631lBlwlPMv"
      },
      "source": [
        "#### Neighborhood-Based Approach"
      ]
    },
    {
      "cell_type": "markdown",
      "metadata": {
        "id": "pz5kaQwcTOQz"
      },
      "source": [
        "##### 모델 학습"
      ]
    },
    {
      "cell_type": "code",
      "metadata": {
        "colab": {
          "base_uri": "https://localhost:8080/"
        },
        "id": "mcO-n0YKMN3j",
        "outputId": "d0405817-38de-4077-cc3a-9405724dcd50"
      },
      "source": [
        "# KNNWith Means 파라미터 정보\n",
        "# https://surprise.readthedocs.io/en/latest/knn_inspired.html\n",
        "\n",
        "my_sim_option = {'name':'pearson', 'user_based':True }\n",
        "#  유사도: 기본 msd (means square difference), cosine, pearson_baseline, pearson\n",
        "#  user_based: 기본 True, user 기반 또는  item 기반의 유사도 계산을 결정\n",
        "\n",
        "algo = KNNWithMeans(\n",
        "    k = 15, min_k = 5,   #  고려할 최대, 최소 이웃의 수 \n",
        "    sim_options = my_sim_option\n",
        "    )\n",
        "\n",
        "# KNNwithMeans 모델 학습 \n",
        "train_start = time.time()\n",
        "algo.fit(trainset) #약 1분 40초 소요\n",
        "train_end = time.time()\n",
        "print(\"training time of model: %.2f seconds\" % (train_end - train_start))"
      ],
      "execution_count": 35,
      "outputs": [
        {
          "output_type": "stream",
          "name": "stdout",
          "text": [
            "Computing the pearson similarity matrix...\n",
            "Done computing similarity matrix.\n",
            "training time of model: 115.84 seconds\n"
          ]
        }
      ]
    },
    {
      "cell_type": "markdown",
      "metadata": {
        "id": "RqfsvF8JjO3l"
      },
      "source": [
        "##### 평점 예측\n",
        "* 시험용 데이터의 평점 예측 후 실제 평점과 비교하여 오차 측정 \n",
        "\n"
      ]
    },
    {
      "cell_type": "code",
      "metadata": {
        "colab": {
          "base_uri": "https://localhost:8080/"
        },
        "id": "4eY7aQ_5RKjm",
        "outputId": "cb4bf429-fc69-4e0e-8599-75287cc2b344"
      },
      "source": [
        "train_start = time.time()\n",
        "predictions = algo.test(testset) # 약 2분 30초 소요 \n",
        "train_end = time.time()\n",
        "print(\"test time of model: %.2f seconds\" % (train_end - train_start))"
      ],
      "execution_count": 36,
      "outputs": [
        {
          "output_type": "stream",
          "name": "stdout",
          "text": [
            "test time of model: 162.93 seconds\n"
          ]
        }
      ]
    },
    {
      "cell_type": "code",
      "metadata": {
        "colab": {
          "base_uri": "https://localhost:8080/"
        },
        "id": "muyJ6lpGc5P6",
        "outputId": "060e6a8d-2eba-4e49-a7ba-b5e2e101f73c"
      },
      "source": [
        "# 시험용 데이터의 예측 오차가 작을 수록 정확도가 높음\n",
        "# RMSE(Root Mean Squared Error, 평균 제곱근 오차) \n",
        "# MAE(Mean Absolute Error, 평균 절대 오차) \n",
        "\n",
        "print(\"RMSE, MAE of test dataset in KNNWithMeans model:\")\n",
        "accuracy.rmse(predictions)\n",
        "accuracy.mae(predictions)"
      ],
      "execution_count": 37,
      "outputs": [
        {
          "output_type": "stream",
          "name": "stdout",
          "text": [
            "RMSE, MAE of test dataset in KNNWithMeans model:\n",
            "RMSE: 0.9428\n",
            "MAE:  0.7428\n"
          ]
        },
        {
          "output_type": "execute_result",
          "data": {
            "text/plain": [
              "0.7427960524204901"
            ]
          },
          "metadata": {},
          "execution_count": 37
        }
      ]
    },
    {
      "cell_type": "code",
      "metadata": {
        "colab": {
          "base_uri": "https://localhost:8080/"
        },
        "id": "Dkpbp70aW0mF",
        "outputId": "8ac393ce-71fd-4ae0-ac31-6532b290c0fb"
      },
      "source": [
        "print('prediction type :',type(predictions), ' size:',len(predictions))\n",
        "print('prediction 결과의 최초 5개 추출')\n",
        "[ (pred.uid, pred.iid, pred.est) for pred in predictions[:5] ]"
      ],
      "execution_count": 38,
      "outputs": [
        {
          "output_type": "stream",
          "name": "stdout",
          "text": [
            "prediction type : <class 'list'>  size: 200042\n",
            "prediction 결과의 최초 5개 추출\n"
          ]
        },
        {
          "output_type": "execute_result",
          "data": {
            "text/plain": [
              "[(4645, 1265, 4.3556198871255845),\n",
              " (3195, 3809, 3.6352160973578482),\n",
              " (3793, 1923, 2.7271712681404683),\n",
              " (368, 3753, 4.211150051474106),\n",
              " (1923, 1969, 1.9686404058832319)]"
            ]
          },
          "metadata": {},
          "execution_count": 38
        }
      ]
    },
    {
      "cell_type": "markdown",
      "metadata": {
        "id": "x48XzxbHjYXk"
      },
      "source": [
        "##### Top-10 Item 추천\n",
        "* 특정 User (user_id = 24)를 위한 Top-10 영화 추천 \n",
        "    * 시험용 데이터셋 중에서 해당 User의 예측 평점이 높은 영화 10개 추천  "
      ]
    },
    {
      "cell_type": "code",
      "metadata": {
        "colab": {
          "base_uri": "https://localhost:8080/"
        },
        "id": "I5vrbTqpUzDK",
        "outputId": "150ee484-a956-46d2-8cf5-ec626b82491d"
      },
      "source": [
        "# user_id가 24인 사용자의 예측 평점, 실제 평점 데이터 추출 \n",
        "target_user_id = 24\n",
        "\n",
        "target_predict_dict = {}\n",
        "for uid, mid, rating, predicted_rating, _ in predictions:\n",
        "    if uid == target_user_id:\n",
        "        target_predict_dict[mid] = predicted_rating, rating\n",
        "\n",
        "target_predict_dict"
      ],
      "execution_count": 39,
      "outputs": [
        {
          "output_type": "execute_result",
          "data": {
            "text/plain": [
              "{110: (4.122597301000611, 4.0),\n",
              " 153: (3.400368948403528, 4.0),\n",
              " 296: (4.894674950119528, 5.0),\n",
              " 329: (3.458047188609964, 3.0),\n",
              " 380: (3.819145948237175, 3.0),\n",
              " 527: (4.247769888810203, 5.0),\n",
              " 648: (3.4293496523943516, 3.0),\n",
              " 912: (4.3508436195416, 5.0),\n",
              " 1027: (3.1082166747353246, 3.0),\n",
              " 1230: (4.566683293925046, 5.0),\n",
              " 1265: (4.002026037080014, 4.0),\n",
              " 1296: (4.343465683840155, 5.0),\n",
              " 1358: (4.267238906344103, 5.0),\n",
              " 1377: (3.7297563791777546, 4.0),\n",
              " 1569: (3.7924340124792555, 4.0),\n",
              " 2100: (3.706765937055251, 4.0),\n",
              " 2144: (4.295429791597334, 4.0),\n",
              " 2243: (3.9853280381447207, 4.0),\n",
              " 2352: (4.082504247287952, 4.0),\n",
              " 2396: (4.5909677555661155, 4.0),\n",
              " 2406: (4.068241469744193, 4.0),\n",
              " 2407: (4.01569588294425, 4.0),\n",
              " 2640: (3.8824770267246564, 4.0),\n",
              " 2795: (4.446988316288167, 4.0),\n",
              " 2987: (4.012293395653623, 4.0),\n",
              " 3526: (4.065459967234075, 4.0),\n",
              " 3608: (3.851050564986826, 3.0)}"
            ]
          },
          "metadata": {},
          "execution_count": 39
        }
      ]
    },
    {
      "cell_type": "code",
      "metadata": {
        "colab": {
          "base_uri": "https://localhost:8080/"
        },
        "id": "rOTbRrtyhPyz",
        "outputId": "8992b9eb-40d2-4198-8ed9-a86462dc4c5a"
      },
      "source": [
        "import operator\n",
        "\n",
        "# target_user_movie_predict_dict에서 예측된 점수 중, 타겟 유저의 Top 10 영화 선정\n",
        "target_top10_predicted = sorted(target_predict_dict.items(), \n",
        "                                key=operator.itemgetter(1), reverse=True)[:10]\n",
        "\n",
        "# 예측 평점이 높은 Top 10 영화 추천\n",
        "target_top10_predicted"
      ],
      "execution_count": 41,
      "outputs": [
        {
          "output_type": "execute_result",
          "data": {
            "text/plain": [
              "[(296, (4.894674950119528, 5.0)),\n",
              " (2396, (4.5909677555661155, 4.0)),\n",
              " (1230, (4.566683293925046, 5.0)),\n",
              " (2795, (4.446988316288167, 4.0)),\n",
              " (912, (4.3508436195416, 5.0)),\n",
              " (1296, (4.343465683840155, 5.0)),\n",
              " (2144, (4.295429791597334, 4.0)),\n",
              " (1358, (4.267238906344103, 5.0)),\n",
              " (527, (4.247769888810203, 5.0)),\n",
              " (110, (4.122597301000611, 4.0))]"
            ]
          },
          "metadata": {},
          "execution_count": 41
        }
      ]
    },
    {
      "cell_type": "code",
      "metadata": {
        "id": "z6ln5F8GhTzq"
      },
      "source": [
        "# 타이틀 정보로 출력하기 위해 movie_id마다 movie_title을 딕셔너리 형태로 저장\n",
        "movie_dict = {}\n",
        "for index, row in movie_data.iterrows():\n",
        "    movie_id = row['movie_id']\n",
        "    movie_title = row['title']\n",
        "    movie_dict[movie_id] = movie_title"
      ],
      "execution_count": 42,
      "outputs": []
    },
    {
      "cell_type": "code",
      "metadata": {
        "colab": {
          "base_uri": "https://localhost:8080/"
        },
        "id": "kqHC5XdCh4U6",
        "outputId": "626e4f1e-d3a8-4b13-ed68-fd5e2b6aa6b7"
      },
      "source": [
        "# 앞서 계산한 Top 10 영화에 movie_title을 매핑하여 출력\n",
        "for predicted in target_top10_predicted:\n",
        "    movie_id = predicted[0]\n",
        "    predicted_rating = predicted[1]\n",
        "    print(movie_dict[movie_id], \":\", predicted_rating)"
      ],
      "execution_count": 43,
      "outputs": [
        {
          "output_type": "stream",
          "name": "stdout",
          "text": [
            "Pulp Fiction (1994) : (4.894674950119528, 5.0)\n",
            "Shakespeare in Love (1998) : (4.5909677555661155, 4.0)\n",
            "Annie Hall (1977) : (4.566683293925046, 5.0)\n",
            "Vacation (1983) : (4.446988316288167, 4.0)\n",
            "Casablanca (1942) : (4.3508436195416, 5.0)\n",
            "Room with a View, A (1986) : (4.343465683840155, 5.0)\n",
            "Sixteen Candles (1984) : (4.295429791597334, 4.0)\n",
            "Sling Blade (1996) : (4.267238906344103, 5.0)\n",
            "Schindler's List (1993) : (4.247769888810203, 5.0)\n",
            "Braveheart (1995) : (4.122597301000611, 4.0)\n"
          ]
        }
      ]
    },
    {
      "cell_type": "markdown",
      "metadata": {
        "id": "hAiwV8HLt0Rr"
      },
      "source": [
        "#### Matrix Factorization Approach\n"
      ]
    },
    {
      "cell_type": "markdown",
      "metadata": {
        "id": "zO9U0V-apwIg"
      },
      "source": [
        "##### 모델 학습"
      ]
    },
    {
      "cell_type": "code",
      "metadata": {
        "colab": {
          "base_uri": "https://localhost:8080/"
        },
        "id": "WWiZzFLicymC",
        "outputId": "2402cae0-a597-493d-8a3e-f7635db35d2a"
      },
      "source": [
        "# SVD 파라미터 정보\n",
        "# https://surprise.readthedocs.io/en/stable/matrix_factorization.html\n",
        "\n",
        "# n_factors (잠재 요인 개수, 기본 100), n_epochs (최적화 반복 횟수, 기본 20)\n",
        "# lr_all (학습률, 기본 0.005) 등의 파라미터 지정 \n",
        "\n",
        "algo_svd = SVD(n_factors=50, random_state=0)\n",
        "\n",
        "# SVD 모델 학습 (약 35초 소요)\n",
        "train_start = time.time()\n",
        "algo_svd.fit(trainset) \n",
        "train_end = time.time()\n",
        "print(\"training time of model: %.2f seconds\" % (train_end - train_start))"
      ],
      "execution_count": 44,
      "outputs": [
        {
          "output_type": "stream",
          "name": "stdout",
          "text": [
            "training time of model: 35.24 seconds\n"
          ]
        }
      ]
    },
    {
      "cell_type": "markdown",
      "metadata": {
        "id": "WPsd7iKUp6JO"
      },
      "source": [
        "##### 평점 예측\n",
        "* 시험용 데이터의 평점 예측 후 실제 평점과 비교하여 오차 측정 "
      ]
    },
    {
      "cell_type": "code",
      "metadata": {
        "colab": {
          "base_uri": "https://localhost:8080/"
        },
        "id": "X83PBxA0VEFE",
        "outputId": "0a96eb94-5620-443b-c7ca-c5114d113cec"
      },
      "source": [
        "train_start = time.time()\n",
        "predictions_svd = algo_svd.test(testset)\n",
        "train_end = time.time()\n",
        "print(\"test time of model: %.2f seconds\" % (train_end - train_start))\n",
        "\n",
        "print('prediction type :',type(predictions_svd), ' size:',len(predictions_svd))\n",
        "print('prediction 결과의 최초 5개 추출')\n",
        "predictions_svd[:5]"
      ],
      "execution_count": 45,
      "outputs": [
        {
          "output_type": "stream",
          "name": "stdout",
          "text": [
            "test time of model: 3.45 seconds\n",
            "prediction type : <class 'list'>  size: 200042\n",
            "prediction 결과의 최초 5개 추출\n"
          ]
        },
        {
          "output_type": "execute_result",
          "data": {
            "text/plain": [
              "[Prediction(uid=4645, iid=1265, r_ui=3.0, est=3.9192271301832884, details={'was_impossible': False}),\n",
              " Prediction(uid=3195, iid=3809, r_ui=4.0, est=3.6604773355722084, details={'was_impossible': False}),\n",
              " Prediction(uid=3793, iid=1923, r_ui=5.0, est=3.9607918197675027, details={'was_impossible': False}),\n",
              " Prediction(uid=368, iid=3753, r_ui=4.0, est=3.901562184542944, details={'was_impossible': False}),\n",
              " Prediction(uid=1923, iid=1969, r_ui=4.0, est=2.7564595607776985, details={'was_impossible': False})]"
            ]
          },
          "metadata": {},
          "execution_count": 45
        }
      ]
    },
    {
      "cell_type": "code",
      "metadata": {
        "colab": {
          "base_uri": "https://localhost:8080/"
        },
        "id": "yLbb7u3keIgW",
        "outputId": "69dd16cf-f509-450a-a50b-a121912ab3d0"
      },
      "source": [
        "# 시험용 데이터의 예측 오차가 작을 수록 정확도가 높음\n",
        "# RMSE(Root Mean Squared Error, 평균 제곱근 오차) \n",
        "# MAE(Mean Absolute Error, 평균 절대 오차) \n",
        "\n",
        "print(\"RMSE, MAE of test dataset in SVD model:\")\n",
        "accuracy.rmse(predictions_svd)\n",
        "accuracy.mae(predictions_svd)\n",
        "\n",
        "# KNNWithMeans 결과와 비교 (RMSE: 0.9428, MAE:  0.7428)"
      ],
      "execution_count": 47,
      "outputs": [
        {
          "output_type": "stream",
          "name": "stdout",
          "text": [
            "RMSE, MAE of test dataset in SVD model:\n",
            "RMSE: 0.8731\n",
            "MAE:  0.6851\n"
          ]
        },
        {
          "output_type": "execute_result",
          "data": {
            "text/plain": [
              "0.6850795048992901"
            ]
          },
          "metadata": {},
          "execution_count": 47
        }
      ]
    },
    {
      "cell_type": "code",
      "metadata": {
        "colab": {
          "base_uri": "https://localhost:8080/"
        },
        "id": "6UFCnC6EnC5a",
        "outputId": "17eb3b5c-2892-46bb-ff9a-d57881443608"
      },
      "source": [
        "# user_id가 24인 사용자의 예측 평점, 실제 평점 데이터 추출 \n",
        "target_user_id = 24\n",
        "\n",
        "target_predict_dict_svd = {}\n",
        "for uid, mid, rating, predicted_rating, _ in predictions_svd:\n",
        "    if uid == target_user_id:\n",
        "        target_predict_dict_svd[mid] = predicted_rating, rating\n",
        "\n",
        "# target_user_movie_predict_dict에서 예측된 점수 중, 타겟 유저의 Top 10 영화 선정\n",
        "target_top10_predicted_svd = sorted(target_predict_dict_svd.items(), \n",
        "                                key=operator.itemgetter(1), reverse=True)[:10]\n",
        "\n",
        "# 앞서 계산한 Top 10 영화에 movie_title을 매핑하여 출력\n",
        "for predicted_svd in target_top10_predicted_svd:\n",
        "    movie_id = predicted_svd[0]\n",
        "    predicted_rating = predicted_svd[1]\n",
        "    print(movie_dict[movie_id], \":\", predicted_rating)"
      ],
      "execution_count": 48,
      "outputs": [
        {
          "output_type": "stream",
          "name": "stdout",
          "text": [
            "Casablanca (1942) : (4.886413525583133, 5.0)\n",
            "Schindler's List (1993) : (4.634818194022103, 5.0)\n",
            "Pulp Fiction (1994) : (4.506561051478865, 5.0)\n",
            "Room with a View, A (1986) : (4.484678701165461, 5.0)\n",
            "Shakespeare in Love (1998) : (4.461267719732288, 4.0)\n",
            "Annie Hall (1977) : (4.419053523378047, 5.0)\n",
            "Sling Blade (1996) : (4.246420549237171, 5.0)\n",
            "Braveheart (1995) : (4.137571510228271, 4.0)\n",
            "Groundhog Day (1993) : (4.115049231160869, 4.0)\n",
            "Broadcast News (1987) : (4.054094922321423, 4.0)\n"
          ]
        }
      ]
    },
    {
      "cell_type": "markdown",
      "metadata": {
        "id": "031uZE2Tnprn"
      },
      "source": [
        "* KNNWithMeans 를 이용한 추천 결과와 비교   \n",
        "  Schindler's List (1993) : (4.750003648254367, 5.0)  \n",
        "  Princess Mononoke, The (Mononoke Hime) (1997) : (4.603944624611554, 4.0)  \n",
        "  Princess Bride, The (1987) : (4.578923513422561, 4.0)  \n",
        "  Usual Suspects, The (1995) : (4.55891253147763, 5.0)  \n",
        "  Lion King, The (1994) : (4.4965824309647, 4.0)  \n",
        "  Fish Called Wanda, A (1988) : (4.4403849577923, 4.0)  \n",
        "  Repo Man (1984) : (4.332358277650167, 3.0)  \n",
        "  Say Anything... (1989) : (4.287354522850405, 4.0)  \n",
        "  Graduate, The (1967) : (4.247456481530718, 4.0)  \n",
        "  Contact (1997) : (4.247035560471142, 2.0)  "
      ]
    },
    {
      "cell_type": "markdown",
      "metadata": {
        "id": "HI30qygfg4ct"
      },
      "source": [
        "##### 교차 검증과 하이퍼파라미터 튜닝"
      ]
    },
    {
      "cell_type": "code",
      "metadata": {
        "colab": {
          "base_uri": "https://localhost:8080/"
        },
        "id": "zQ5W2m-qho1i",
        "outputId": "b5f7e27a-b700-4c81-e1d6-0f443c6f23bd"
      },
      "source": [
        "# 전체 데이터를 5개의 학습/검증 데이터로 나누고 교차 검증 수행\n",
        "# 약 5분 소요 \n",
        "\n",
        "algo = SVD(random_state=0)\n",
        "cross_validate(algo, data, measures=['RMSE', 'MAE'], cv=5)"
      ],
      "execution_count": 49,
      "outputs": [
        {
          "output_type": "execute_result",
          "data": {
            "text/plain": [
              "{'fit_time': (53.7728955745697,\n",
              "  66.66644763946533,\n",
              "  53.85462665557861,\n",
              "  56.02917695045471,\n",
              "  55.00553250312805),\n",
              " 'test_mae': array([0.68504515, 0.6854066 , 0.68661003, 0.68547873, 0.68589704]),\n",
              " 'test_rmse': array([0.87264331, 0.87413561, 0.87476631, 0.87272759, 0.87440121]),\n",
              " 'test_time': (3.2613258361816406,\n",
              "  2.5640294551849365,\n",
              "  2.8484232425689697,\n",
              "  2.6729369163513184,\n",
              "  2.5937187671661377)}"
            ]
          },
          "metadata": {},
          "execution_count": 49
        }
      ]
    },
    {
      "cell_type": "code",
      "metadata": {
        "colab": {
          "base_uri": "https://localhost:8080/"
        },
        "id": "6V0eC2rrgIj-",
        "outputId": "521ae5f7-9efe-4e42-81b5-d9f4f5d311cd"
      },
      "source": [
        "# Surprise의 GridSearchCV 이용\n",
        "# 약 15분 소요 \n",
        "\n",
        "# 최적화할 파라미터들을 딕셔너리 형태로 지정 \n",
        "param_grid = {'n_epochs': [20, 40, 60], 'n_factors': [50, 100, 200] }\n",
        "\n",
        "# CV를 3개 폴드 세트로 지정, 성능 평가는 rmse, mse 로 수행 하도록 GridSearchCV 구성\n",
        "gs = GridSearchCV(SVD, param_grid, measures=['rmse', 'mae'], cv=3)\n",
        "gs.fit(data)\n",
        "\n",
        "# 최고 RMSE Evaluation 점수와 파라미터 값들 출력\n",
        "print(gs.best_score['rmse'])\n",
        "print(gs.best_params['rmse'])\n",
        "\n",
        "# 이전 모델 (80% Trainset을 사용하여 학습)의 정확도 결과와 비교 \n",
        "# KNNWithMeans - RMSE: 0.9428, MAE:  0.7428\n",
        "# SVD (n_factors = 50, n_epochs = 20, random_state=0) - RMSE: 0.8731, MAE:  0.6851\n"
      ],
      "execution_count": 14,
      "outputs": [
        {
          "output_type": "stream",
          "name": "stdout",
          "text": [
            "0.8820818214067495\n",
            "{'n_epochs': 20, 'n_factors': 50}\n"
          ]
        }
      ]
    }
  ]
}