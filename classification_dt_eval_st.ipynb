{
  "nbformat": 4,
  "nbformat_minor": 0,
  "metadata": {
    "anaconda-cloud": {},
    "kernelspec": {
      "display_name": "Python 3",
      "language": "python",
      "name": "python3"
    },
    "language_info": {
      "codemirror_mode": {
        "name": "ipython",
        "version": 3
      },
      "file_extension": ".py",
      "mimetype": "text/x-python",
      "name": "python",
      "nbconvert_exporter": "python",
      "pygments_lexer": "ipython3",
      "version": "3.5.5"
    },
    "colab": {
      "provenance": [],
      "toc_visible": true,
      "include_colab_link": true
    }
  },
  "cells": [
    {
      "cell_type": "markdown",
      "metadata": {
        "id": "view-in-github",
        "colab_type": "text"
      },
      "source": [
        "<a href=\"https://colab.research.google.com/github/ykjoy/mining/blob/main/classification_dt_eval_st.ipynb\" target=\"_parent\"><img src=\"https://colab.research.google.com/assets/colab-badge.svg\" alt=\"Open In Colab\"/></a>"
      ]
    },
    {
      "cell_type": "code",
      "source": [
        "!sudo apt-get install -y fonts-nanum\n",
        "!sudo fc-cache -fv\n",
        "!rm ~/.cache/matplotlib -rf"
      ],
      "metadata": {
        "colab": {
          "base_uri": "https://localhost:8080/"
        },
        "id": "cuvanPZuHAGj",
        "outputId": "30a631c0-f0cb-41c9-db34-fa40b6043f46"
      },
      "execution_count": 78,
      "outputs": [
        {
          "output_type": "stream",
          "name": "stdout",
          "text": [
            "Reading package lists... Done\n",
            "Building dependency tree       \n",
            "Reading state information... Done\n",
            "fonts-nanum is already the newest version (20170925-1).\n",
            "The following package was automatically installed and is no longer required:\n",
            "  libnvidia-common-460\n",
            "Use 'sudo apt autoremove' to remove it.\n",
            "0 upgraded, 0 newly installed, 0 to remove and 5 not upgraded.\n",
            "/usr/share/fonts: caching, new cache contents: 0 fonts, 1 dirs\n",
            "/usr/share/fonts/truetype: caching, new cache contents: 0 fonts, 3 dirs\n",
            "/usr/share/fonts/truetype/humor-sans: caching, new cache contents: 1 fonts, 0 dirs\n",
            "/usr/share/fonts/truetype/liberation: caching, new cache contents: 16 fonts, 0 dirs\n",
            "/usr/share/fonts/truetype/nanum: caching, new cache contents: 10 fonts, 0 dirs\n",
            "/usr/local/share/fonts: caching, new cache contents: 0 fonts, 0 dirs\n",
            "/root/.local/share/fonts: skipping, no such directory\n",
            "/root/.fonts: skipping, no such directory\n",
            "/var/cache/fontconfig: cleaning cache directory\n",
            "/root/.cache/fontconfig: not cleaning non-existent cache directory\n",
            "/root/.fontconfig: not cleaning non-existent cache directory\n",
            "fc-cache: succeeded\n"
          ]
        }
      ]
    },
    {
      "cell_type": "code",
      "metadata": {
        "id": "wc1rXnM8d5u2"
      },
      "source": [
        "%matplotlib inline\n",
        "import pandas as pd\n",
        "import seaborn as sns           # Seaborn 로딩하기\n",
        "import matplotlib.pyplot as plt # Matplotlib의 pyplot 로딩하기\n",
        "\n",
        "plt.rc('font', family='NanumBarunGothic')"
      ],
      "execution_count": 1,
      "outputs": []
    },
    {
      "cell_type": "code",
      "metadata": {
        "colab": {
          "base_uri": "https://localhost:8080/"
        },
        "id": "xY6JRGQJNZct",
        "outputId": "12b8a0da-9a81-4b94-fecf-aa7cde061332"
      },
      "source": [
        "from google.colab import drive\n",
        "drive.mount('/content/drive')"
      ],
      "execution_count": 2,
      "outputs": [
        {
          "output_type": "stream",
          "name": "stdout",
          "text": [
            "Drive already mounted at /content/drive; to attempt to forcibly remount, call drive.mount(\"/content/drive\", force_remount=True).\n"
          ]
        }
      ]
    },
    {
      "cell_type": "code",
      "metadata": {
        "colab": {
          "base_uri": "https://localhost:8080/",
          "height": 1000
        },
        "id": "tGp25NiFl-M0",
        "outputId": "7f11e3d7-e3d2-4ba8-b2c6-4608d72246bd"
      },
      "source": [
        "health = pd.read_csv(\"/content/drive/My Drive/Colab Notebooks/ITB/health_data.csv\")\n",
        "\n",
        "print(health.columns)\n",
        "display(health.info())        \n",
        "display(health.head())     "
      ],
      "execution_count": 3,
      "outputs": [
        {
          "output_type": "stream",
          "name": "stdout",
          "text": [
            "Index(['기준년도', '가입자일련번호', '시도코드', '성별코드', '연령대코드(5세단위)', '신장(5Cm단위)',\n",
            "       '체중(5Kg 단위)', '허리둘레', '시력(좌)', '시력(우)', '청력(좌)', '청력(우)', '수축기혈압',\n",
            "       '이완기혈압', '식전혈당(공복혈당)', '총콜레스테롤', '트리글리세라이드', 'HDL콜레스테롤', 'LDL콜레스테롤',\n",
            "       '혈색소', '요단백', '혈청크레아티닌', '(혈청지오티)AST', '(혈청지오티)ALT', '감마지티피', '흡연상태',\n",
            "       '음주여부', '구강검진수검여부', '치아우식증유무', '치석', '데이터공개일자'],\n",
            "      dtype='object')\n",
            "<class 'pandas.core.frame.DataFrame'>\n",
            "RangeIndex: 10000 entries, 0 to 9999\n",
            "Data columns (total 31 columns):\n",
            " #   Column       Non-Null Count  Dtype  \n",
            "---  ------       --------------  -----  \n",
            " 0   기준년도         10000 non-null  int64  \n",
            " 1   가입자일련번호      10000 non-null  int64  \n",
            " 2   시도코드         10000 non-null  int64  \n",
            " 3   성별코드         10000 non-null  object \n",
            " 4   연령대코드(5세단위)  10000 non-null  int64  \n",
            " 5   신장(5Cm단위)    10000 non-null  int64  \n",
            " 6   체중(5Kg 단위)   10000 non-null  int64  \n",
            " 7   허리둘레         10000 non-null  float64\n",
            " 8   시력(좌)        10000 non-null  float64\n",
            " 9   시력(우)        10000 non-null  float64\n",
            " 10  청력(좌)        10000 non-null  int64  \n",
            " 11  청력(우)        10000 non-null  int64  \n",
            " 12  수축기혈압        9912 non-null   float64\n",
            " 13  이완기혈압        9912 non-null   float64\n",
            " 14  식전혈당(공복혈당)   9912 non-null   float64\n",
            " 15  총콜레스테롤       4044 non-null   float64\n",
            " 16  트리글리세라이드     4044 non-null   float64\n",
            " 17  HDL콜레스테롤     4044 non-null   float64\n",
            " 18  LDL콜레스테롤     3977 non-null   float64\n",
            " 19  혈색소          9912 non-null   float64\n",
            " 20  요단백          9861 non-null   float64\n",
            " 21  혈청크레아티닌      9912 non-null   float64\n",
            " 22  (혈청지오티)AST   9912 non-null   float64\n",
            " 23  (혈청지오티)ALT   9912 non-null   float64\n",
            " 24  감마지티피        9912 non-null   float64\n",
            " 25  흡연상태         9998 non-null   object \n",
            " 26  음주여부         9999 non-null   object \n",
            " 27  구강검진수검여부     10000 non-null  int64  \n",
            " 28  치아우식증유무      3251 non-null   float64\n",
            " 29  치석           3251 non-null   float64\n",
            " 30  데이터공개일자      10000 non-null  object \n",
            "dtypes: float64(18), int64(9), object(4)\n",
            "memory usage: 2.4+ MB\n"
          ]
        },
        {
          "output_type": "display_data",
          "data": {
            "text/plain": [
              "None"
            ]
          },
          "metadata": {}
        },
        {
          "output_type": "display_data",
          "data": {
            "text/plain": [
              "   기준년도  가입자일련번호  시도코드 성별코드  연령대코드(5세단위)  신장(5Cm단위)  체중(5Kg 단위)  허리둘레  시력(좌)  \\\n",
              "0  2020        1    36    M            9        165          60  72.1    1.2   \n",
              "1  2020        2    27    F           13        150          65  81.0    0.8   \n",
              "2  2020        3    11    F           12        155          55  70.0    0.6   \n",
              "3  2020        4    31    M           13        160          70  90.8    1.0   \n",
              "4  2020        5    41    F           12        155          50  75.2    1.5   \n",
              "\n",
              "   시력(우)  ...  혈청크레아티닌  (혈청지오티)AST  (혈청지오티)ALT  감마지티피  흡연상태  음주여부  구강검진수검여부  \\\n",
              "0    1.5  ...      1.1        21.0        27.0   21.0    No    No         0   \n",
              "1    0.8  ...      0.5        18.0        15.0   15.0    No    No         0   \n",
              "2    0.7  ...      0.7        27.0        25.0    7.0    No    No         0   \n",
              "3    1.0  ...      1.2        65.0        97.0   72.0    No    No         1   \n",
              "4    1.2  ...      0.7        18.0        17.0   14.0    No    No         0   \n",
              "\n",
              "   치아우식증유무   치석     데이터공개일자  \n",
              "0      NaN  NaN  12/29/2021  \n",
              "1      NaN  NaN  12/29/2021  \n",
              "2      NaN  NaN  12/29/2021  \n",
              "3      0.0  0.0  12/29/2021  \n",
              "4      NaN  NaN  12/29/2021  \n",
              "\n",
              "[5 rows x 31 columns]"
            ],
            "text/html": [
              "\n",
              "  <div id=\"df-e355e1a4-de40-4bcd-8a4d-b133852f8b6e\">\n",
              "    <div class=\"colab-df-container\">\n",
              "      <div>\n",
              "<style scoped>\n",
              "    .dataframe tbody tr th:only-of-type {\n",
              "        vertical-align: middle;\n",
              "    }\n",
              "\n",
              "    .dataframe tbody tr th {\n",
              "        vertical-align: top;\n",
              "    }\n",
              "\n",
              "    .dataframe thead th {\n",
              "        text-align: right;\n",
              "    }\n",
              "</style>\n",
              "<table border=\"1\" class=\"dataframe\">\n",
              "  <thead>\n",
              "    <tr style=\"text-align: right;\">\n",
              "      <th></th>\n",
              "      <th>기준년도</th>\n",
              "      <th>가입자일련번호</th>\n",
              "      <th>시도코드</th>\n",
              "      <th>성별코드</th>\n",
              "      <th>연령대코드(5세단위)</th>\n",
              "      <th>신장(5Cm단위)</th>\n",
              "      <th>체중(5Kg 단위)</th>\n",
              "      <th>허리둘레</th>\n",
              "      <th>시력(좌)</th>\n",
              "      <th>시력(우)</th>\n",
              "      <th>...</th>\n",
              "      <th>혈청크레아티닌</th>\n",
              "      <th>(혈청지오티)AST</th>\n",
              "      <th>(혈청지오티)ALT</th>\n",
              "      <th>감마지티피</th>\n",
              "      <th>흡연상태</th>\n",
              "      <th>음주여부</th>\n",
              "      <th>구강검진수검여부</th>\n",
              "      <th>치아우식증유무</th>\n",
              "      <th>치석</th>\n",
              "      <th>데이터공개일자</th>\n",
              "    </tr>\n",
              "  </thead>\n",
              "  <tbody>\n",
              "    <tr>\n",
              "      <th>0</th>\n",
              "      <td>2020</td>\n",
              "      <td>1</td>\n",
              "      <td>36</td>\n",
              "      <td>M</td>\n",
              "      <td>9</td>\n",
              "      <td>165</td>\n",
              "      <td>60</td>\n",
              "      <td>72.1</td>\n",
              "      <td>1.2</td>\n",
              "      <td>1.5</td>\n",
              "      <td>...</td>\n",
              "      <td>1.1</td>\n",
              "      <td>21.0</td>\n",
              "      <td>27.0</td>\n",
              "      <td>21.0</td>\n",
              "      <td>No</td>\n",
              "      <td>No</td>\n",
              "      <td>0</td>\n",
              "      <td>NaN</td>\n",
              "      <td>NaN</td>\n",
              "      <td>12/29/2021</td>\n",
              "    </tr>\n",
              "    <tr>\n",
              "      <th>1</th>\n",
              "      <td>2020</td>\n",
              "      <td>2</td>\n",
              "      <td>27</td>\n",
              "      <td>F</td>\n",
              "      <td>13</td>\n",
              "      <td>150</td>\n",
              "      <td>65</td>\n",
              "      <td>81.0</td>\n",
              "      <td>0.8</td>\n",
              "      <td>0.8</td>\n",
              "      <td>...</td>\n",
              "      <td>0.5</td>\n",
              "      <td>18.0</td>\n",
              "      <td>15.0</td>\n",
              "      <td>15.0</td>\n",
              "      <td>No</td>\n",
              "      <td>No</td>\n",
              "      <td>0</td>\n",
              "      <td>NaN</td>\n",
              "      <td>NaN</td>\n",
              "      <td>12/29/2021</td>\n",
              "    </tr>\n",
              "    <tr>\n",
              "      <th>2</th>\n",
              "      <td>2020</td>\n",
              "      <td>3</td>\n",
              "      <td>11</td>\n",
              "      <td>F</td>\n",
              "      <td>12</td>\n",
              "      <td>155</td>\n",
              "      <td>55</td>\n",
              "      <td>70.0</td>\n",
              "      <td>0.6</td>\n",
              "      <td>0.7</td>\n",
              "      <td>...</td>\n",
              "      <td>0.7</td>\n",
              "      <td>27.0</td>\n",
              "      <td>25.0</td>\n",
              "      <td>7.0</td>\n",
              "      <td>No</td>\n",
              "      <td>No</td>\n",
              "      <td>0</td>\n",
              "      <td>NaN</td>\n",
              "      <td>NaN</td>\n",
              "      <td>12/29/2021</td>\n",
              "    </tr>\n",
              "    <tr>\n",
              "      <th>3</th>\n",
              "      <td>2020</td>\n",
              "      <td>4</td>\n",
              "      <td>31</td>\n",
              "      <td>M</td>\n",
              "      <td>13</td>\n",
              "      <td>160</td>\n",
              "      <td>70</td>\n",
              "      <td>90.8</td>\n",
              "      <td>1.0</td>\n",
              "      <td>1.0</td>\n",
              "      <td>...</td>\n",
              "      <td>1.2</td>\n",
              "      <td>65.0</td>\n",
              "      <td>97.0</td>\n",
              "      <td>72.0</td>\n",
              "      <td>No</td>\n",
              "      <td>No</td>\n",
              "      <td>1</td>\n",
              "      <td>0.0</td>\n",
              "      <td>0.0</td>\n",
              "      <td>12/29/2021</td>\n",
              "    </tr>\n",
              "    <tr>\n",
              "      <th>4</th>\n",
              "      <td>2020</td>\n",
              "      <td>5</td>\n",
              "      <td>41</td>\n",
              "      <td>F</td>\n",
              "      <td>12</td>\n",
              "      <td>155</td>\n",
              "      <td>50</td>\n",
              "      <td>75.2</td>\n",
              "      <td>1.5</td>\n",
              "      <td>1.2</td>\n",
              "      <td>...</td>\n",
              "      <td>0.7</td>\n",
              "      <td>18.0</td>\n",
              "      <td>17.0</td>\n",
              "      <td>14.0</td>\n",
              "      <td>No</td>\n",
              "      <td>No</td>\n",
              "      <td>0</td>\n",
              "      <td>NaN</td>\n",
              "      <td>NaN</td>\n",
              "      <td>12/29/2021</td>\n",
              "    </tr>\n",
              "  </tbody>\n",
              "</table>\n",
              "<p>5 rows × 31 columns</p>\n",
              "</div>\n",
              "      <button class=\"colab-df-convert\" onclick=\"convertToInteractive('df-e355e1a4-de40-4bcd-8a4d-b133852f8b6e')\"\n",
              "              title=\"Convert this dataframe to an interactive table.\"\n",
              "              style=\"display:none;\">\n",
              "        \n",
              "  <svg xmlns=\"http://www.w3.org/2000/svg\" height=\"24px\"viewBox=\"0 0 24 24\"\n",
              "       width=\"24px\">\n",
              "    <path d=\"M0 0h24v24H0V0z\" fill=\"none\"/>\n",
              "    <path d=\"M18.56 5.44l.94 2.06.94-2.06 2.06-.94-2.06-.94-.94-2.06-.94 2.06-2.06.94zm-11 1L8.5 8.5l.94-2.06 2.06-.94-2.06-.94L8.5 2.5l-.94 2.06-2.06.94zm10 10l.94 2.06.94-2.06 2.06-.94-2.06-.94-.94-2.06-.94 2.06-2.06.94z\"/><path d=\"M17.41 7.96l-1.37-1.37c-.4-.4-.92-.59-1.43-.59-.52 0-1.04.2-1.43.59L10.3 9.45l-7.72 7.72c-.78.78-.78 2.05 0 2.83L4 21.41c.39.39.9.59 1.41.59.51 0 1.02-.2 1.41-.59l7.78-7.78 2.81-2.81c.8-.78.8-2.07 0-2.86zM5.41 20L4 18.59l7.72-7.72 1.47 1.35L5.41 20z\"/>\n",
              "  </svg>\n",
              "      </button>\n",
              "      \n",
              "  <style>\n",
              "    .colab-df-container {\n",
              "      display:flex;\n",
              "      flex-wrap:wrap;\n",
              "      gap: 12px;\n",
              "    }\n",
              "\n",
              "    .colab-df-convert {\n",
              "      background-color: #E8F0FE;\n",
              "      border: none;\n",
              "      border-radius: 50%;\n",
              "      cursor: pointer;\n",
              "      display: none;\n",
              "      fill: #1967D2;\n",
              "      height: 32px;\n",
              "      padding: 0 0 0 0;\n",
              "      width: 32px;\n",
              "    }\n",
              "\n",
              "    .colab-df-convert:hover {\n",
              "      background-color: #E2EBFA;\n",
              "      box-shadow: 0px 1px 2px rgba(60, 64, 67, 0.3), 0px 1px 3px 1px rgba(60, 64, 67, 0.15);\n",
              "      fill: #174EA6;\n",
              "    }\n",
              "\n",
              "    [theme=dark] .colab-df-convert {\n",
              "      background-color: #3B4455;\n",
              "      fill: #D2E3FC;\n",
              "    }\n",
              "\n",
              "    [theme=dark] .colab-df-convert:hover {\n",
              "      background-color: #434B5C;\n",
              "      box-shadow: 0px 1px 3px 1px rgba(0, 0, 0, 0.15);\n",
              "      filter: drop-shadow(0px 1px 2px rgba(0, 0, 0, 0.3));\n",
              "      fill: #FFFFFF;\n",
              "    }\n",
              "  </style>\n",
              "\n",
              "      <script>\n",
              "        const buttonEl =\n",
              "          document.querySelector('#df-e355e1a4-de40-4bcd-8a4d-b133852f8b6e button.colab-df-convert');\n",
              "        buttonEl.style.display =\n",
              "          google.colab.kernel.accessAllowed ? 'block' : 'none';\n",
              "\n",
              "        async function convertToInteractive(key) {\n",
              "          const element = document.querySelector('#df-e355e1a4-de40-4bcd-8a4d-b133852f8b6e');\n",
              "          const dataTable =\n",
              "            await google.colab.kernel.invokeFunction('convertToInteractive',\n",
              "                                                     [key], {});\n",
              "          if (!dataTable) return;\n",
              "\n",
              "          const docLinkHtml = 'Like what you see? Visit the ' +\n",
              "            '<a target=\"_blank\" href=https://colab.research.google.com/notebooks/data_table.ipynb>data table notebook</a>'\n",
              "            + ' to learn more about interactive tables.';\n",
              "          element.innerHTML = '';\n",
              "          dataTable['output_type'] = 'display_data';\n",
              "          await google.colab.output.renderOutput(dataTable, element);\n",
              "          const docLink = document.createElement('div');\n",
              "          docLink.innerHTML = docLinkHtml;\n",
              "          element.appendChild(docLink);\n",
              "        }\n",
              "      </script>\n",
              "    </div>\n",
              "  </div>\n",
              "  "
            ]
          },
          "metadata": {}
        }
      ]
    },
    {
      "cell_type": "markdown",
      "metadata": {
        "id": "UsBTN2-OkALh"
      },
      "source": [
        "## 종속/독립변수 선택 "
      ]
    },
    {
      "cell_type": "code",
      "source": [
        "#파생변수 생성 \n",
        "health['BMI'] = round(health['체중(5Kg 단위)']/(health['신장(5Cm단위)']/100)**2, 1) \n",
        "health.head()"
      ],
      "metadata": {
        "colab": {
          "base_uri": "https://localhost:8080/",
          "height": 418
        },
        "id": "43koeZUG2yHt",
        "outputId": "9bbb5d73-88c3-41ab-fd52-85cc9118fae8"
      },
      "execution_count": 4,
      "outputs": [
        {
          "output_type": "execute_result",
          "data": {
            "text/plain": [
              "   기준년도  가입자일련번호  시도코드 성별코드  연령대코드(5세단위)  신장(5Cm단위)  체중(5Kg 단위)  허리둘레  시력(좌)  \\\n",
              "0  2020        1    36    M            9        165          60  72.1    1.2   \n",
              "1  2020        2    27    F           13        150          65  81.0    0.8   \n",
              "2  2020        3    11    F           12        155          55  70.0    0.6   \n",
              "3  2020        4    31    M           13        160          70  90.8    1.0   \n",
              "4  2020        5    41    F           12        155          50  75.2    1.5   \n",
              "\n",
              "   시력(우)  ...  (혈청지오티)AST  (혈청지오티)ALT  감마지티피  흡연상태  음주여부  구강검진수검여부  치아우식증유무  \\\n",
              "0    1.5  ...        21.0        27.0   21.0    No    No         0      NaN   \n",
              "1    0.8  ...        18.0        15.0   15.0    No    No         0      NaN   \n",
              "2    0.7  ...        27.0        25.0    7.0    No    No         0      NaN   \n",
              "3    1.0  ...        65.0        97.0   72.0    No    No         1      0.0   \n",
              "4    1.2  ...        18.0        17.0   14.0    No    No         0      NaN   \n",
              "\n",
              "    치석     데이터공개일자   BMI  \n",
              "0  NaN  12/29/2021  22.0  \n",
              "1  NaN  12/29/2021  28.9  \n",
              "2  NaN  12/29/2021  22.9  \n",
              "3  0.0  12/29/2021  27.3  \n",
              "4  NaN  12/29/2021  20.8  \n",
              "\n",
              "[5 rows x 32 columns]"
            ],
            "text/html": [
              "\n",
              "  <div id=\"df-6b0ad61b-42a5-43bc-b5f8-dca9a76364c7\">\n",
              "    <div class=\"colab-df-container\">\n",
              "      <div>\n",
              "<style scoped>\n",
              "    .dataframe tbody tr th:only-of-type {\n",
              "        vertical-align: middle;\n",
              "    }\n",
              "\n",
              "    .dataframe tbody tr th {\n",
              "        vertical-align: top;\n",
              "    }\n",
              "\n",
              "    .dataframe thead th {\n",
              "        text-align: right;\n",
              "    }\n",
              "</style>\n",
              "<table border=\"1\" class=\"dataframe\">\n",
              "  <thead>\n",
              "    <tr style=\"text-align: right;\">\n",
              "      <th></th>\n",
              "      <th>기준년도</th>\n",
              "      <th>가입자일련번호</th>\n",
              "      <th>시도코드</th>\n",
              "      <th>성별코드</th>\n",
              "      <th>연령대코드(5세단위)</th>\n",
              "      <th>신장(5Cm단위)</th>\n",
              "      <th>체중(5Kg 단위)</th>\n",
              "      <th>허리둘레</th>\n",
              "      <th>시력(좌)</th>\n",
              "      <th>시력(우)</th>\n",
              "      <th>...</th>\n",
              "      <th>(혈청지오티)AST</th>\n",
              "      <th>(혈청지오티)ALT</th>\n",
              "      <th>감마지티피</th>\n",
              "      <th>흡연상태</th>\n",
              "      <th>음주여부</th>\n",
              "      <th>구강검진수검여부</th>\n",
              "      <th>치아우식증유무</th>\n",
              "      <th>치석</th>\n",
              "      <th>데이터공개일자</th>\n",
              "      <th>BMI</th>\n",
              "    </tr>\n",
              "  </thead>\n",
              "  <tbody>\n",
              "    <tr>\n",
              "      <th>0</th>\n",
              "      <td>2020</td>\n",
              "      <td>1</td>\n",
              "      <td>36</td>\n",
              "      <td>M</td>\n",
              "      <td>9</td>\n",
              "      <td>165</td>\n",
              "      <td>60</td>\n",
              "      <td>72.1</td>\n",
              "      <td>1.2</td>\n",
              "      <td>1.5</td>\n",
              "      <td>...</td>\n",
              "      <td>21.0</td>\n",
              "      <td>27.0</td>\n",
              "      <td>21.0</td>\n",
              "      <td>No</td>\n",
              "      <td>No</td>\n",
              "      <td>0</td>\n",
              "      <td>NaN</td>\n",
              "      <td>NaN</td>\n",
              "      <td>12/29/2021</td>\n",
              "      <td>22.0</td>\n",
              "    </tr>\n",
              "    <tr>\n",
              "      <th>1</th>\n",
              "      <td>2020</td>\n",
              "      <td>2</td>\n",
              "      <td>27</td>\n",
              "      <td>F</td>\n",
              "      <td>13</td>\n",
              "      <td>150</td>\n",
              "      <td>65</td>\n",
              "      <td>81.0</td>\n",
              "      <td>0.8</td>\n",
              "      <td>0.8</td>\n",
              "      <td>...</td>\n",
              "      <td>18.0</td>\n",
              "      <td>15.0</td>\n",
              "      <td>15.0</td>\n",
              "      <td>No</td>\n",
              "      <td>No</td>\n",
              "      <td>0</td>\n",
              "      <td>NaN</td>\n",
              "      <td>NaN</td>\n",
              "      <td>12/29/2021</td>\n",
              "      <td>28.9</td>\n",
              "    </tr>\n",
              "    <tr>\n",
              "      <th>2</th>\n",
              "      <td>2020</td>\n",
              "      <td>3</td>\n",
              "      <td>11</td>\n",
              "      <td>F</td>\n",
              "      <td>12</td>\n",
              "      <td>155</td>\n",
              "      <td>55</td>\n",
              "      <td>70.0</td>\n",
              "      <td>0.6</td>\n",
              "      <td>0.7</td>\n",
              "      <td>...</td>\n",
              "      <td>27.0</td>\n",
              "      <td>25.0</td>\n",
              "      <td>7.0</td>\n",
              "      <td>No</td>\n",
              "      <td>No</td>\n",
              "      <td>0</td>\n",
              "      <td>NaN</td>\n",
              "      <td>NaN</td>\n",
              "      <td>12/29/2021</td>\n",
              "      <td>22.9</td>\n",
              "    </tr>\n",
              "    <tr>\n",
              "      <th>3</th>\n",
              "      <td>2020</td>\n",
              "      <td>4</td>\n",
              "      <td>31</td>\n",
              "      <td>M</td>\n",
              "      <td>13</td>\n",
              "      <td>160</td>\n",
              "      <td>70</td>\n",
              "      <td>90.8</td>\n",
              "      <td>1.0</td>\n",
              "      <td>1.0</td>\n",
              "      <td>...</td>\n",
              "      <td>65.0</td>\n",
              "      <td>97.0</td>\n",
              "      <td>72.0</td>\n",
              "      <td>No</td>\n",
              "      <td>No</td>\n",
              "      <td>1</td>\n",
              "      <td>0.0</td>\n",
              "      <td>0.0</td>\n",
              "      <td>12/29/2021</td>\n",
              "      <td>27.3</td>\n",
              "    </tr>\n",
              "    <tr>\n",
              "      <th>4</th>\n",
              "      <td>2020</td>\n",
              "      <td>5</td>\n",
              "      <td>41</td>\n",
              "      <td>F</td>\n",
              "      <td>12</td>\n",
              "      <td>155</td>\n",
              "      <td>50</td>\n",
              "      <td>75.2</td>\n",
              "      <td>1.5</td>\n",
              "      <td>1.2</td>\n",
              "      <td>...</td>\n",
              "      <td>18.0</td>\n",
              "      <td>17.0</td>\n",
              "      <td>14.0</td>\n",
              "      <td>No</td>\n",
              "      <td>No</td>\n",
              "      <td>0</td>\n",
              "      <td>NaN</td>\n",
              "      <td>NaN</td>\n",
              "      <td>12/29/2021</td>\n",
              "      <td>20.8</td>\n",
              "    </tr>\n",
              "  </tbody>\n",
              "</table>\n",
              "<p>5 rows × 32 columns</p>\n",
              "</div>\n",
              "      <button class=\"colab-df-convert\" onclick=\"convertToInteractive('df-6b0ad61b-42a5-43bc-b5f8-dca9a76364c7')\"\n",
              "              title=\"Convert this dataframe to an interactive table.\"\n",
              "              style=\"display:none;\">\n",
              "        \n",
              "  <svg xmlns=\"http://www.w3.org/2000/svg\" height=\"24px\"viewBox=\"0 0 24 24\"\n",
              "       width=\"24px\">\n",
              "    <path d=\"M0 0h24v24H0V0z\" fill=\"none\"/>\n",
              "    <path d=\"M18.56 5.44l.94 2.06.94-2.06 2.06-.94-2.06-.94-.94-2.06-.94 2.06-2.06.94zm-11 1L8.5 8.5l.94-2.06 2.06-.94-2.06-.94L8.5 2.5l-.94 2.06-2.06.94zm10 10l.94 2.06.94-2.06 2.06-.94-2.06-.94-.94-2.06-.94 2.06-2.06.94z\"/><path d=\"M17.41 7.96l-1.37-1.37c-.4-.4-.92-.59-1.43-.59-.52 0-1.04.2-1.43.59L10.3 9.45l-7.72 7.72c-.78.78-.78 2.05 0 2.83L4 21.41c.39.39.9.59 1.41.59.51 0 1.02-.2 1.41-.59l7.78-7.78 2.81-2.81c.8-.78.8-2.07 0-2.86zM5.41 20L4 18.59l7.72-7.72 1.47 1.35L5.41 20z\"/>\n",
              "  </svg>\n",
              "      </button>\n",
              "      \n",
              "  <style>\n",
              "    .colab-df-container {\n",
              "      display:flex;\n",
              "      flex-wrap:wrap;\n",
              "      gap: 12px;\n",
              "    }\n",
              "\n",
              "    .colab-df-convert {\n",
              "      background-color: #E8F0FE;\n",
              "      border: none;\n",
              "      border-radius: 50%;\n",
              "      cursor: pointer;\n",
              "      display: none;\n",
              "      fill: #1967D2;\n",
              "      height: 32px;\n",
              "      padding: 0 0 0 0;\n",
              "      width: 32px;\n",
              "    }\n",
              "\n",
              "    .colab-df-convert:hover {\n",
              "      background-color: #E2EBFA;\n",
              "      box-shadow: 0px 1px 2px rgba(60, 64, 67, 0.3), 0px 1px 3px 1px rgba(60, 64, 67, 0.15);\n",
              "      fill: #174EA6;\n",
              "    }\n",
              "\n",
              "    [theme=dark] .colab-df-convert {\n",
              "      background-color: #3B4455;\n",
              "      fill: #D2E3FC;\n",
              "    }\n",
              "\n",
              "    [theme=dark] .colab-df-convert:hover {\n",
              "      background-color: #434B5C;\n",
              "      box-shadow: 0px 1px 3px 1px rgba(0, 0, 0, 0.15);\n",
              "      filter: drop-shadow(0px 1px 2px rgba(0, 0, 0, 0.3));\n",
              "      fill: #FFFFFF;\n",
              "    }\n",
              "  </style>\n",
              "\n",
              "      <script>\n",
              "        const buttonEl =\n",
              "          document.querySelector('#df-6b0ad61b-42a5-43bc-b5f8-dca9a76364c7 button.colab-df-convert');\n",
              "        buttonEl.style.display =\n",
              "          google.colab.kernel.accessAllowed ? 'block' : 'none';\n",
              "\n",
              "        async function convertToInteractive(key) {\n",
              "          const element = document.querySelector('#df-6b0ad61b-42a5-43bc-b5f8-dca9a76364c7');\n",
              "          const dataTable =\n",
              "            await google.colab.kernel.invokeFunction('convertToInteractive',\n",
              "                                                     [key], {});\n",
              "          if (!dataTable) return;\n",
              "\n",
              "          const docLinkHtml = 'Like what you see? Visit the ' +\n",
              "            '<a target=\"_blank\" href=https://colab.research.google.com/notebooks/data_table.ipynb>data table notebook</a>'\n",
              "            + ' to learn more about interactive tables.';\n",
              "          element.innerHTML = '';\n",
              "          dataTable['output_type'] = 'display_data';\n",
              "          await google.colab.output.renderOutput(dataTable, element);\n",
              "          const docLink = document.createElement('div');\n",
              "          docLink.innerHTML = docLinkHtml;\n",
              "          element.appendChild(docLink);\n",
              "        }\n",
              "      </script>\n",
              "    </div>\n",
              "  </div>\n",
              "  "
            ]
          },
          "metadata": {},
          "execution_count": 4
        }
      ]
    },
    {
      "cell_type": "code",
      "source": [
        "health['비만여부'] = health['BMI'].apply(lambda x : 'Yes' if x >= 25 else 'No' )\n",
        "health.head()\n",
        "\n",
        "#new_class = []\n",
        "#for i in health['BMI'] : \n",
        "#  if i >=25:\n",
        "#    new_class.append('Yes')\n",
        "#  else:\n",
        "#    new_class.append('No')\n",
        "#health['비만여부'] = new_class"
      ],
      "metadata": {
        "colab": {
          "base_uri": "https://localhost:8080/",
          "height": 401
        },
        "id": "Htph0GKS3hk2",
        "outputId": "276dda79-3e16-4cb6-a8fb-f785227b8746"
      },
      "execution_count": 5,
      "outputs": [
        {
          "output_type": "execute_result",
          "data": {
            "text/plain": [
              "   기준년도  가입자일련번호  시도코드 성별코드  연령대코드(5세단위)  신장(5Cm단위)  체중(5Kg 단위)  허리둘레  시력(좌)  \\\n",
              "0  2020        1    36    M            9        165          60  72.1    1.2   \n",
              "1  2020        2    27    F           13        150          65  81.0    0.8   \n",
              "2  2020        3    11    F           12        155          55  70.0    0.6   \n",
              "3  2020        4    31    M           13        160          70  90.8    1.0   \n",
              "4  2020        5    41    F           12        155          50  75.2    1.5   \n",
              "\n",
              "   시력(우)  ...  (혈청지오티)ALT  감마지티피  흡연상태  음주여부  구강검진수검여부  치아우식증유무   치석  \\\n",
              "0    1.5  ...        27.0   21.0    No    No         0      NaN  NaN   \n",
              "1    0.8  ...        15.0   15.0    No    No         0      NaN  NaN   \n",
              "2    0.7  ...        25.0    7.0    No    No         0      NaN  NaN   \n",
              "3    1.0  ...        97.0   72.0    No    No         1      0.0  0.0   \n",
              "4    1.2  ...        17.0   14.0    No    No         0      NaN  NaN   \n",
              "\n",
              "      데이터공개일자   BMI  비만여부  \n",
              "0  12/29/2021  22.0    No  \n",
              "1  12/29/2021  28.9   Yes  \n",
              "2  12/29/2021  22.9    No  \n",
              "3  12/29/2021  27.3   Yes  \n",
              "4  12/29/2021  20.8    No  \n",
              "\n",
              "[5 rows x 33 columns]"
            ],
            "text/html": [
              "\n",
              "  <div id=\"df-b79054f8-73b3-43d2-995d-85d5fdce7933\">\n",
              "    <div class=\"colab-df-container\">\n",
              "      <div>\n",
              "<style scoped>\n",
              "    .dataframe tbody tr th:only-of-type {\n",
              "        vertical-align: middle;\n",
              "    }\n",
              "\n",
              "    .dataframe tbody tr th {\n",
              "        vertical-align: top;\n",
              "    }\n",
              "\n",
              "    .dataframe thead th {\n",
              "        text-align: right;\n",
              "    }\n",
              "</style>\n",
              "<table border=\"1\" class=\"dataframe\">\n",
              "  <thead>\n",
              "    <tr style=\"text-align: right;\">\n",
              "      <th></th>\n",
              "      <th>기준년도</th>\n",
              "      <th>가입자일련번호</th>\n",
              "      <th>시도코드</th>\n",
              "      <th>성별코드</th>\n",
              "      <th>연령대코드(5세단위)</th>\n",
              "      <th>신장(5Cm단위)</th>\n",
              "      <th>체중(5Kg 단위)</th>\n",
              "      <th>허리둘레</th>\n",
              "      <th>시력(좌)</th>\n",
              "      <th>시력(우)</th>\n",
              "      <th>...</th>\n",
              "      <th>(혈청지오티)ALT</th>\n",
              "      <th>감마지티피</th>\n",
              "      <th>흡연상태</th>\n",
              "      <th>음주여부</th>\n",
              "      <th>구강검진수검여부</th>\n",
              "      <th>치아우식증유무</th>\n",
              "      <th>치석</th>\n",
              "      <th>데이터공개일자</th>\n",
              "      <th>BMI</th>\n",
              "      <th>비만여부</th>\n",
              "    </tr>\n",
              "  </thead>\n",
              "  <tbody>\n",
              "    <tr>\n",
              "      <th>0</th>\n",
              "      <td>2020</td>\n",
              "      <td>1</td>\n",
              "      <td>36</td>\n",
              "      <td>M</td>\n",
              "      <td>9</td>\n",
              "      <td>165</td>\n",
              "      <td>60</td>\n",
              "      <td>72.1</td>\n",
              "      <td>1.2</td>\n",
              "      <td>1.5</td>\n",
              "      <td>...</td>\n",
              "      <td>27.0</td>\n",
              "      <td>21.0</td>\n",
              "      <td>No</td>\n",
              "      <td>No</td>\n",
              "      <td>0</td>\n",
              "      <td>NaN</td>\n",
              "      <td>NaN</td>\n",
              "      <td>12/29/2021</td>\n",
              "      <td>22.0</td>\n",
              "      <td>No</td>\n",
              "    </tr>\n",
              "    <tr>\n",
              "      <th>1</th>\n",
              "      <td>2020</td>\n",
              "      <td>2</td>\n",
              "      <td>27</td>\n",
              "      <td>F</td>\n",
              "      <td>13</td>\n",
              "      <td>150</td>\n",
              "      <td>65</td>\n",
              "      <td>81.0</td>\n",
              "      <td>0.8</td>\n",
              "      <td>0.8</td>\n",
              "      <td>...</td>\n",
              "      <td>15.0</td>\n",
              "      <td>15.0</td>\n",
              "      <td>No</td>\n",
              "      <td>No</td>\n",
              "      <td>0</td>\n",
              "      <td>NaN</td>\n",
              "      <td>NaN</td>\n",
              "      <td>12/29/2021</td>\n",
              "      <td>28.9</td>\n",
              "      <td>Yes</td>\n",
              "    </tr>\n",
              "    <tr>\n",
              "      <th>2</th>\n",
              "      <td>2020</td>\n",
              "      <td>3</td>\n",
              "      <td>11</td>\n",
              "      <td>F</td>\n",
              "      <td>12</td>\n",
              "      <td>155</td>\n",
              "      <td>55</td>\n",
              "      <td>70.0</td>\n",
              "      <td>0.6</td>\n",
              "      <td>0.7</td>\n",
              "      <td>...</td>\n",
              "      <td>25.0</td>\n",
              "      <td>7.0</td>\n",
              "      <td>No</td>\n",
              "      <td>No</td>\n",
              "      <td>0</td>\n",
              "      <td>NaN</td>\n",
              "      <td>NaN</td>\n",
              "      <td>12/29/2021</td>\n",
              "      <td>22.9</td>\n",
              "      <td>No</td>\n",
              "    </tr>\n",
              "    <tr>\n",
              "      <th>3</th>\n",
              "      <td>2020</td>\n",
              "      <td>4</td>\n",
              "      <td>31</td>\n",
              "      <td>M</td>\n",
              "      <td>13</td>\n",
              "      <td>160</td>\n",
              "      <td>70</td>\n",
              "      <td>90.8</td>\n",
              "      <td>1.0</td>\n",
              "      <td>1.0</td>\n",
              "      <td>...</td>\n",
              "      <td>97.0</td>\n",
              "      <td>72.0</td>\n",
              "      <td>No</td>\n",
              "      <td>No</td>\n",
              "      <td>1</td>\n",
              "      <td>0.0</td>\n",
              "      <td>0.0</td>\n",
              "      <td>12/29/2021</td>\n",
              "      <td>27.3</td>\n",
              "      <td>Yes</td>\n",
              "    </tr>\n",
              "    <tr>\n",
              "      <th>4</th>\n",
              "      <td>2020</td>\n",
              "      <td>5</td>\n",
              "      <td>41</td>\n",
              "      <td>F</td>\n",
              "      <td>12</td>\n",
              "      <td>155</td>\n",
              "      <td>50</td>\n",
              "      <td>75.2</td>\n",
              "      <td>1.5</td>\n",
              "      <td>1.2</td>\n",
              "      <td>...</td>\n",
              "      <td>17.0</td>\n",
              "      <td>14.0</td>\n",
              "      <td>No</td>\n",
              "      <td>No</td>\n",
              "      <td>0</td>\n",
              "      <td>NaN</td>\n",
              "      <td>NaN</td>\n",
              "      <td>12/29/2021</td>\n",
              "      <td>20.8</td>\n",
              "      <td>No</td>\n",
              "    </tr>\n",
              "  </tbody>\n",
              "</table>\n",
              "<p>5 rows × 33 columns</p>\n",
              "</div>\n",
              "      <button class=\"colab-df-convert\" onclick=\"convertToInteractive('df-b79054f8-73b3-43d2-995d-85d5fdce7933')\"\n",
              "              title=\"Convert this dataframe to an interactive table.\"\n",
              "              style=\"display:none;\">\n",
              "        \n",
              "  <svg xmlns=\"http://www.w3.org/2000/svg\" height=\"24px\"viewBox=\"0 0 24 24\"\n",
              "       width=\"24px\">\n",
              "    <path d=\"M0 0h24v24H0V0z\" fill=\"none\"/>\n",
              "    <path d=\"M18.56 5.44l.94 2.06.94-2.06 2.06-.94-2.06-.94-.94-2.06-.94 2.06-2.06.94zm-11 1L8.5 8.5l.94-2.06 2.06-.94-2.06-.94L8.5 2.5l-.94 2.06-2.06.94zm10 10l.94 2.06.94-2.06 2.06-.94-2.06-.94-.94-2.06-.94 2.06-2.06.94z\"/><path d=\"M17.41 7.96l-1.37-1.37c-.4-.4-.92-.59-1.43-.59-.52 0-1.04.2-1.43.59L10.3 9.45l-7.72 7.72c-.78.78-.78 2.05 0 2.83L4 21.41c.39.39.9.59 1.41.59.51 0 1.02-.2 1.41-.59l7.78-7.78 2.81-2.81c.8-.78.8-2.07 0-2.86zM5.41 20L4 18.59l7.72-7.72 1.47 1.35L5.41 20z\"/>\n",
              "  </svg>\n",
              "      </button>\n",
              "      \n",
              "  <style>\n",
              "    .colab-df-container {\n",
              "      display:flex;\n",
              "      flex-wrap:wrap;\n",
              "      gap: 12px;\n",
              "    }\n",
              "\n",
              "    .colab-df-convert {\n",
              "      background-color: #E8F0FE;\n",
              "      border: none;\n",
              "      border-radius: 50%;\n",
              "      cursor: pointer;\n",
              "      display: none;\n",
              "      fill: #1967D2;\n",
              "      height: 32px;\n",
              "      padding: 0 0 0 0;\n",
              "      width: 32px;\n",
              "    }\n",
              "\n",
              "    .colab-df-convert:hover {\n",
              "      background-color: #E2EBFA;\n",
              "      box-shadow: 0px 1px 2px rgba(60, 64, 67, 0.3), 0px 1px 3px 1px rgba(60, 64, 67, 0.15);\n",
              "      fill: #174EA6;\n",
              "    }\n",
              "\n",
              "    [theme=dark] .colab-df-convert {\n",
              "      background-color: #3B4455;\n",
              "      fill: #D2E3FC;\n",
              "    }\n",
              "\n",
              "    [theme=dark] .colab-df-convert:hover {\n",
              "      background-color: #434B5C;\n",
              "      box-shadow: 0px 1px 3px 1px rgba(0, 0, 0, 0.15);\n",
              "      filter: drop-shadow(0px 1px 2px rgba(0, 0, 0, 0.3));\n",
              "      fill: #FFFFFF;\n",
              "    }\n",
              "  </style>\n",
              "\n",
              "      <script>\n",
              "        const buttonEl =\n",
              "          document.querySelector('#df-b79054f8-73b3-43d2-995d-85d5fdce7933 button.colab-df-convert');\n",
              "        buttonEl.style.display =\n",
              "          google.colab.kernel.accessAllowed ? 'block' : 'none';\n",
              "\n",
              "        async function convertToInteractive(key) {\n",
              "          const element = document.querySelector('#df-b79054f8-73b3-43d2-995d-85d5fdce7933');\n",
              "          const dataTable =\n",
              "            await google.colab.kernel.invokeFunction('convertToInteractive',\n",
              "                                                     [key], {});\n",
              "          if (!dataTable) return;\n",
              "\n",
              "          const docLinkHtml = 'Like what you see? Visit the ' +\n",
              "            '<a target=\"_blank\" href=https://colab.research.google.com/notebooks/data_table.ipynb>data table notebook</a>'\n",
              "            + ' to learn more about interactive tables.';\n",
              "          element.innerHTML = '';\n",
              "          dataTable['output_type'] = 'display_data';\n",
              "          await google.colab.output.renderOutput(dataTable, element);\n",
              "          const docLink = document.createElement('div');\n",
              "          docLink.innerHTML = docLinkHtml;\n",
              "          element.appendChild(docLink);\n",
              "        }\n",
              "      </script>\n",
              "    </div>\n",
              "  </div>\n",
              "  "
            ]
          },
          "metadata": {},
          "execution_count": 5
        }
      ]
    },
    {
      "cell_type": "code",
      "source": [
        "print(health['비만여부'].value_counts())\n",
        "\n",
        "health['비만여부'].value_counts().plot.bar()\n",
        "plt.ylabel('count')\n",
        "plt.title('Distribution')\n",
        "plt.show()"
      ],
      "metadata": {
        "colab": {
          "base_uri": "https://localhost:8080/",
          "height": 344
        },
        "id": "Sh2c-88nmlhZ",
        "outputId": "9a126f78-5da1-47d4-dc70-5e2c5c6a16b4"
      },
      "execution_count": 6,
      "outputs": [
        {
          "output_type": "stream",
          "name": "stdout",
          "text": [
            "No     5944\n",
            "Yes    4056\n",
            "Name: 비만여부, dtype: int64\n"
          ]
        },
        {
          "output_type": "display_data",
          "data": {
            "text/plain": [
              "<Figure size 432x288 with 1 Axes>"
            ],
            "image/png": "[encoded data removed]"
          },
          "metadata": {
            "needs_background": "light"
          }
        }
      ]
    },
    {
      "cell_type": "code",
      "source": [
        "Xy= health[['비만여부', '성별코드', '흡연상태', '음주여부', '연령대코드(5세단위)','식전혈당(공복혈당)' ]]\n",
        "Xy.head()\n",
        "\n",
        "#Xy = health.iloc[:, [32, 3, 4, 7, 25, 26]]"
      ],
      "metadata": {
        "colab": {
          "base_uri": "https://localhost:8080/",
          "height": 206
        },
        "id": "ictPLjT_73IO",
        "outputId": "cf870345-f811-4909-fc15-4447d7b9bc42"
      },
      "execution_count": 7,
      "outputs": [
        {
          "output_type": "execute_result",
          "data": {
            "text/plain": [
              "  비만여부 성별코드 흡연상태 음주여부  연령대코드(5세단위)  식전혈당(공복혈당)\n",
              "0   No    M   No   No            9        90.0\n",
              "1  Yes    F   No   No           13        87.0\n",
              "2   No    F   No   No           12       102.0\n",
              "3  Yes    M   No   No           13       146.0\n",
              "4   No    F   No   No           12       110.0"
            ],
            "text/html": [
              "\n",
              "  <div id=\"df-3b237d86-b251-4316-91d2-f2c5b9a0d8a7\">\n",
              "    <div class=\"colab-df-container\">\n",
              "      <div>\n",
              "<style scoped>\n",
              "    .dataframe tbody tr th:only-of-type {\n",
              "        vertical-align: middle;\n",
              "    }\n",
              "\n",
              "    .dataframe tbody tr th {\n",
              "        vertical-align: top;\n",
              "    }\n",
              "\n",
              "    .dataframe thead th {\n",
              "        text-align: right;\n",
              "    }\n",
              "</style>\n",
              "<table border=\"1\" class=\"dataframe\">\n",
              "  <thead>\n",
              "    <tr style=\"text-align: right;\">\n",
              "      <th></th>\n",
              "      <th>비만여부</th>\n",
              "      <th>성별코드</th>\n",
              "      <th>흡연상태</th>\n",
              "      <th>음주여부</th>\n",
              "      <th>연령대코드(5세단위)</th>\n",
              "      <th>식전혈당(공복혈당)</th>\n",
              "    </tr>\n",
              "  </thead>\n",
              "  <tbody>\n",
              "    <tr>\n",
              "      <th>0</th>\n",
              "      <td>No</td>\n",
              "      <td>M</td>\n",
              "      <td>No</td>\n",
              "      <td>No</td>\n",
              "      <td>9</td>\n",
              "      <td>90.0</td>\n",
              "    </tr>\n",
              "    <tr>\n",
              "      <th>1</th>\n",
              "      <td>Yes</td>\n",
              "      <td>F</td>\n",
              "      <td>No</td>\n",
              "      <td>No</td>\n",
              "      <td>13</td>\n",
              "      <td>87.0</td>\n",
              "    </tr>\n",
              "    <tr>\n",
              "      <th>2</th>\n",
              "      <td>No</td>\n",
              "      <td>F</td>\n",
              "      <td>No</td>\n",
              "      <td>No</td>\n",
              "      <td>12</td>\n",
              "      <td>102.0</td>\n",
              "    </tr>\n",
              "    <tr>\n",
              "      <th>3</th>\n",
              "      <td>Yes</td>\n",
              "      <td>M</td>\n",
              "      <td>No</td>\n",
              "      <td>No</td>\n",
              "      <td>13</td>\n",
              "      <td>146.0</td>\n",
              "    </tr>\n",
              "    <tr>\n",
              "      <th>4</th>\n",
              "      <td>No</td>\n",
              "      <td>F</td>\n",
              "      <td>No</td>\n",
              "      <td>No</td>\n",
              "      <td>12</td>\n",
              "      <td>110.0</td>\n",
              "    </tr>\n",
              "  </tbody>\n",
              "</table>\n",
              "</div>\n",
              "      <button class=\"colab-df-convert\" onclick=\"convertToInteractive('df-3b237d86-b251-4316-91d2-f2c5b9a0d8a7')\"\n",
              "              title=\"Convert this dataframe to an interactive table.\"\n",
              "              style=\"display:none;\">\n",
              "        \n",
              "  <svg xmlns=\"http://www.w3.org/2000/svg\" height=\"24px\"viewBox=\"0 0 24 24\"\n",
              "       width=\"24px\">\n",
              "    <path d=\"M0 0h24v24H0V0z\" fill=\"none\"/>\n",
              "    <path d=\"M18.56 5.44l.94 2.06.94-2.06 2.06-.94-2.06-.94-.94-2.06-.94 2.06-2.06.94zm-11 1L8.5 8.5l.94-2.06 2.06-.94-2.06-.94L8.5 2.5l-.94 2.06-2.06.94zm10 10l.94 2.06.94-2.06 2.06-.94-2.06-.94-.94-2.06-.94 2.06-2.06.94z\"/><path d=\"M17.41 7.96l-1.37-1.37c-.4-.4-.92-.59-1.43-.59-.52 0-1.04.2-1.43.59L10.3 9.45l-7.72 7.72c-.78.78-.78 2.05 0 2.83L4 21.41c.39.39.9.59 1.41.59.51 0 1.02-.2 1.41-.59l7.78-7.78 2.81-2.81c.8-.78.8-2.07 0-2.86zM5.41 20L4 18.59l7.72-7.72 1.47 1.35L5.41 20z\"/>\n",
              "  </svg>\n",
              "      </button>\n",
              "      \n",
              "  <style>\n",
              "    .colab-df-container {\n",
              "      display:flex;\n",
              "      flex-wrap:wrap;\n",
              "      gap: 12px;\n",
              "    }\n",
              "\n",
              "    .colab-df-convert {\n",
              "      background-color: #E8F0FE;\n",
              "      border: none;\n",
              "      border-radius: 50%;\n",
              "      cursor: pointer;\n",
              "      display: none;\n",
              "      fill: #1967D2;\n",
              "      height: 32px;\n",
              "      padding: 0 0 0 0;\n",
              "      width: 32px;\n",
              "    }\n",
              "\n",
              "    .colab-df-convert:hover {\n",
              "      background-color: #E2EBFA;\n",
              "      box-shadow: 0px 1px 2px rgba(60, 64, 67, 0.3), 0px 1px 3px 1px rgba(60, 64, 67, 0.15);\n",
              "      fill: #174EA6;\n",
              "    }\n",
              "\n",
              "    [theme=dark] .colab-df-convert {\n",
              "      background-color: #3B4455;\n",
              "      fill: #D2E3FC;\n",
              "    }\n",
              "\n",
              "    [theme=dark] .colab-df-convert:hover {\n",
              "      background-color: #434B5C;\n",
              "      box-shadow: 0px 1px 3px 1px rgba(0, 0, 0, 0.15);\n",
              "      filter: drop-shadow(0px 1px 2px rgba(0, 0, 0, 0.3));\n",
              "      fill: #FFFFFF;\n",
              "    }\n",
              "  </style>\n",
              "\n",
              "      <script>\n",
              "        const buttonEl =\n",
              "          document.querySelector('#df-3b237d86-b251-4316-91d2-f2c5b9a0d8a7 button.colab-df-convert');\n",
              "        buttonEl.style.display =\n",
              "          google.colab.kernel.accessAllowed ? 'block' : 'none';\n",
              "\n",
              "        async function convertToInteractive(key) {\n",
              "          const element = document.querySelector('#df-3b237d86-b251-4316-91d2-f2c5b9a0d8a7');\n",
              "          const dataTable =\n",
              "            await google.colab.kernel.invokeFunction('convertToInteractive',\n",
              "                                                     [key], {});\n",
              "          if (!dataTable) return;\n",
              "\n",
              "          const docLinkHtml = 'Like what you see? Visit the ' +\n",
              "            '<a target=\"_blank\" href=https://colab.research.google.com/notebooks/data_table.ipynb>data table notebook</a>'\n",
              "            + ' to learn more about interactive tables.';\n",
              "          element.innerHTML = '';\n",
              "          dataTable['output_type'] = 'display_data';\n",
              "          await google.colab.output.renderOutput(dataTable, element);\n",
              "          const docLink = document.createElement('div');\n",
              "          docLink.innerHTML = docLinkHtml;\n",
              "          element.appendChild(docLink);\n",
              "        }\n",
              "      </script>\n",
              "    </div>\n",
              "  </div>\n",
              "  "
            ]
          },
          "metadata": {},
          "execution_count": 7
        }
      ]
    },
    {
      "cell_type": "markdown",
      "source": [
        "## 데이터 전처리 "
      ],
      "metadata": {
        "id": "KZfDLsUDJjpT"
      }
    },
    {
      "cell_type": "code",
      "source": [
        "print(Xy.shape)\n",
        "print(Xy.isnull().sum())  #결측치 확인"
      ],
      "metadata": {
        "colab": {
          "base_uri": "https://localhost:8080/"
        },
        "id": "d1eLcCuOJLam",
        "outputId": "5fb3724f-9ed1-48d2-fac8-485313067876"
      },
      "execution_count": 8,
      "outputs": [
        {
          "output_type": "stream",
          "name": "stdout",
          "text": [
            "(10000, 6)\n",
            "비만여부            0\n",
            "성별코드            0\n",
            "흡연상태            2\n",
            "음주여부            1\n",
            "연령대코드(5세단위)     0\n",
            "식전혈당(공복혈당)     88\n",
            "dtype: int64\n"
          ]
        }
      ]
    },
    {
      "cell_type": "code",
      "source": [
        "Xy_new = Xy.dropna(axis = 0) # NA 삭제\n",
        "print(Xy_new.shape)\n",
        "print(Xy_new.isnull().sum())  #결측치 확인"
      ],
      "metadata": {
        "colab": {
          "base_uri": "https://localhost:8080/"
        },
        "id": "-tIYk66rGteD",
        "outputId": "61d31274-0aad-4c43-f8a8-30bfbe74ab60"
      },
      "execution_count": 9,
      "outputs": [
        {
          "output_type": "stream",
          "name": "stdout",
          "text": [
            "(9909, 6)\n",
            "비만여부           0\n",
            "성별코드           0\n",
            "흡연상태           0\n",
            "음주여부           0\n",
            "연령대코드(5세단위)    0\n",
            "식전혈당(공복혈당)     0\n",
            "dtype: int64\n"
          ]
        }
      ]
    },
    {
      "cell_type": "code",
      "source": [
        "from sklearn.preprocessing import LabelEncoder\n",
        "cols = ['성별코드', '음주여부', '흡연상태']\n",
        "Xy_new[cols] = Xy_new[cols].apply(LabelEncoder().fit_transform)\n",
        "Xy_new.head()\n",
        "\n",
        "#Xy_new['성별코드'] = LabelEncoder().fit_transform(Xy_new['성별코드'])\n",
        "#Xy_new['음주여부'] = LabelEncoder().fit_transform(Xy_new['음주여부'])\n",
        "#Xy_new['흡연상태'] = LabelEncoder().fit_transform(Xy_new['흡연상태'])\n",
        "\n",
        "#Xy_new[\"성별코드\"].replace('M', 0, inplace='True' )\n",
        "#Xy_new[\"성별코드\"]=Xy_new[\"성별코드\"].replace('F', 1)\n",
        "#Xy_new[\"음주여부\"]=Xy_new[\"음주여부\"].replace('Yes', 1)\n",
        "#Xy_new[\"음주여부\"]=Xy_new[\"음주여부\"].replace('No', 0)\n",
        "\n",
        "#Xy_new[\"흡연상태\"]=Xy_new[\"흡연상태\"].replace('Yes', 1)\n",
        "#Xy_new[\"흡연상태\"]=Xy_new[\"흡연상태\"].replace('No', 0)\n",
        "#Xy_new[\"흡연상태\"]=Xy_new[\"흡연상태\"].replace('NotNow', 2)\n"
      ],
      "metadata": {
        "colab": {
          "base_uri": "https://localhost:8080/",
          "height": 340
        },
        "id": "GRCdebhdGwmG",
        "outputId": "3fe3b5d9-b34b-4803-d367-322a0530d6b7"
      },
      "execution_count": 10,
      "outputs": [
        {
          "output_type": "stream",
          "name": "stderr",
          "text": [
            "/usr/local/lib/python3.7/dist-packages/pandas/core/frame.py:3641: SettingWithCopyWarning: \n",
            "A value is trying to be set on a copy of a slice from a DataFrame.\n",
            "Try using .loc[row_indexer,col_indexer] = value instead\n",
            "\n",
            "See the caveats in the documentation: https://pandas.pydata.org/pandas-docs/stable/user_guide/indexing.html#returning-a-view-versus-a-copy\n",
            "  self[k1] = value[k2]\n"
          ]
        },
        {
          "output_type": "execute_result",
          "data": {
            "text/plain": [
              "  비만여부  성별코드  흡연상태  음주여부  연령대코드(5세단위)  식전혈당(공복혈당)\n",
              "0   No     1     0     0            9        90.0\n",
              "1  Yes     0     0     0           13        87.0\n",
              "2   No     0     0     0           12       102.0\n",
              "3  Yes     1     0     0           13       146.0\n",
              "4   No     0     0     0           12       110.0"
            ],
            "text/html": [
              "\n",
              "  <div id=\"df-002a1fe6-b238-4533-ba61-5a481fcf9d29\">\n",
              "    <div class=\"colab-df-container\">\n",
              "      <div>\n",
              "<style scoped>\n",
              "    .dataframe tbody tr th:only-of-type {\n",
              "        vertical-align: middle;\n",
              "    }\n",
              "\n",
              "    .dataframe tbody tr th {\n",
              "        vertical-align: top;\n",
              "    }\n",
              "\n",
              "    .dataframe thead th {\n",
              "        text-align: right;\n",
              "    }\n",
              "</style>\n",
              "<table border=\"1\" class=\"dataframe\">\n",
              "  <thead>\n",
              "    <tr style=\"text-align: right;\">\n",
              "      <th></th>\n",
              "      <th>비만여부</th>\n",
              "      <th>성별코드</th>\n",
              "      <th>흡연상태</th>\n",
              "      <th>음주여부</th>\n",
              "      <th>연령대코드(5세단위)</th>\n",
              "      <th>식전혈당(공복혈당)</th>\n",
              "    </tr>\n",
              "  </thead>\n",
              "  <tbody>\n",
              "    <tr>\n",
              "      <th>0</th>\n",
              "      <td>No</td>\n",
              "      <td>1</td>\n",
              "      <td>0</td>\n",
              "      <td>0</td>\n",
              "      <td>9</td>\n",
              "      <td>90.0</td>\n",
              "    </tr>\n",
              "    <tr>\n",
              "      <th>1</th>\n",
              "      <td>Yes</td>\n",
              "      <td>0</td>\n",
              "      <td>0</td>\n",
              "      <td>0</td>\n",
              "      <td>13</td>\n",
              "      <td>87.0</td>\n",
              "    </tr>\n",
              "    <tr>\n",
              "      <th>2</th>\n",
              "      <td>No</td>\n",
              "      <td>0</td>\n",
              "      <td>0</td>\n",
              "      <td>0</td>\n",
              "      <td>12</td>\n",
              "      <td>102.0</td>\n",
              "    </tr>\n",
              "    <tr>\n",
              "      <th>3</th>\n",
              "      <td>Yes</td>\n",
              "      <td>1</td>\n",
              "      <td>0</td>\n",
              "      <td>0</td>\n",
              "      <td>13</td>\n",
              "      <td>146.0</td>\n",
              "    </tr>\n",
              "    <tr>\n",
              "      <th>4</th>\n",
              "      <td>No</td>\n",
              "      <td>0</td>\n",
              "      <td>0</td>\n",
              "      <td>0</td>\n",
              "      <td>12</td>\n",
              "      <td>110.0</td>\n",
              "    </tr>\n",
              "  </tbody>\n",
              "</table>\n",
              "</div>\n",
              "      <button class=\"colab-df-convert\" onclick=\"convertToInteractive('df-002a1fe6-b238-4533-ba61-5a481fcf9d29')\"\n",
              "              title=\"Convert this dataframe to an interactive table.\"\n",
              "              style=\"display:none;\">\n",
              "        \n",
              "  <svg xmlns=\"http://www.w3.org/2000/svg\" height=\"24px\"viewBox=\"0 0 24 24\"\n",
              "       width=\"24px\">\n",
              "    <path d=\"M0 0h24v24H0V0z\" fill=\"none\"/>\n",
              "    <path d=\"M18.56 5.44l.94 2.06.94-2.06 2.06-.94-2.06-.94-.94-2.06-.94 2.06-2.06.94zm-11 1L8.5 8.5l.94-2.06 2.06-.94-2.06-.94L8.5 2.5l-.94 2.06-2.06.94zm10 10l.94 2.06.94-2.06 2.06-.94-2.06-.94-.94-2.06-.94 2.06-2.06.94z\"/><path d=\"M17.41 7.96l-1.37-1.37c-.4-.4-.92-.59-1.43-.59-.52 0-1.04.2-1.43.59L10.3 9.45l-7.72 7.72c-.78.78-.78 2.05 0 2.83L4 21.41c.39.39.9.59 1.41.59.51 0 1.02-.2 1.41-.59l7.78-7.78 2.81-2.81c.8-.78.8-2.07 0-2.86zM5.41 20L4 18.59l7.72-7.72 1.47 1.35L5.41 20z\"/>\n",
              "  </svg>\n",
              "      </button>\n",
              "      \n",
              "  <style>\n",
              "    .colab-df-container {\n",
              "      display:flex;\n",
              "      flex-wrap:wrap;\n",
              "      gap: 12px;\n",
              "    }\n",
              "\n",
              "    .colab-df-convert {\n",
              "      background-color: #E8F0FE;\n",
              "      border: none;\n",
              "      border-radius: 50%;\n",
              "      cursor: pointer;\n",
              "      display: none;\n",
              "      fill: #1967D2;\n",
              "      height: 32px;\n",
              "      padding: 0 0 0 0;\n",
              "      width: 32px;\n",
              "    }\n",
              "\n",
              "    .colab-df-convert:hover {\n",
              "      background-color: #E2EBFA;\n",
              "      box-shadow: 0px 1px 2px rgba(60, 64, 67, 0.3), 0px 1px 3px 1px rgba(60, 64, 67, 0.15);\n",
              "      fill: #174EA6;\n",
              "    }\n",
              "\n",
              "    [theme=dark] .colab-df-convert {\n",
              "      background-color: #3B4455;\n",
              "      fill: #D2E3FC;\n",
              "    }\n",
              "\n",
              "    [theme=dark] .colab-df-convert:hover {\n",
              "      background-color: #434B5C;\n",
              "      box-shadow: 0px 1px 3px 1px rgba(0, 0, 0, 0.15);\n",
              "      filter: drop-shadow(0px 1px 2px rgba(0, 0, 0, 0.3));\n",
              "      fill: #FFFFFF;\n",
              "    }\n",
              "  </style>\n",
              "\n",
              "      <script>\n",
              "        const buttonEl =\n",
              "          document.querySelector('#df-002a1fe6-b238-4533-ba61-5a481fcf9d29 button.colab-df-convert');\n",
              "        buttonEl.style.display =\n",
              "          google.colab.kernel.accessAllowed ? 'block' : 'none';\n",
              "\n",
              "        async function convertToInteractive(key) {\n",
              "          const element = document.querySelector('#df-002a1fe6-b238-4533-ba61-5a481fcf9d29');\n",
              "          const dataTable =\n",
              "            await google.colab.kernel.invokeFunction('convertToInteractive',\n",
              "                                                     [key], {});\n",
              "          if (!dataTable) return;\n",
              "\n",
              "          const docLinkHtml = 'Like what you see? Visit the ' +\n",
              "            '<a target=\"_blank\" href=https://colab.research.google.com/notebooks/data_table.ipynb>data table notebook</a>'\n",
              "            + ' to learn more about interactive tables.';\n",
              "          element.innerHTML = '';\n",
              "          dataTable['output_type'] = 'display_data';\n",
              "          await google.colab.output.renderOutput(dataTable, element);\n",
              "          const docLink = document.createElement('div');\n",
              "          docLink.innerHTML = docLinkHtml;\n",
              "          element.appendChild(docLink);\n",
              "        }\n",
              "      </script>\n",
              "    </div>\n",
              "  </div>\n",
              "  "
            ]
          },
          "metadata": {},
          "execution_count": 10
        }
      ]
    },
    {
      "cell_type": "code",
      "metadata": {
        "colab": {
          "base_uri": "https://localhost:8080/",
          "height": 300
        },
        "id": "XB6U6frSKyb1",
        "outputId": "5b95f5e1-9ac2-47a1-830b-b348e6863448"
      },
      "source": [
        "Xy_new.describe()  "
      ],
      "execution_count": 11,
      "outputs": [
        {
          "output_type": "execute_result",
          "data": {
            "text/plain": [
              "              성별코드         흡연상태         음주여부  연령대코드(5세단위)   식전혈당(공복혈당)\n",
              "count  9909.000000  9909.000000  9909.000000  9909.000000  9909.000000\n",
              "mean      0.514986     0.563326     0.585528    11.899082   103.781411\n",
              "std       0.499801     0.784740     0.492655     2.145050    24.652491\n",
              "min       0.000000     0.000000     0.000000     9.000000    55.000000\n",
              "25%       0.000000     0.000000     0.000000    10.000000    91.000000\n",
              "50%       1.000000     0.000000     1.000000    12.000000    99.000000\n",
              "75%       1.000000     1.000000     1.000000    13.000000   109.000000\n",
              "max       1.000000     2.000000     1.000000    18.000000   473.000000"
            ],
            "text/html": [
              "\n",
              "  <div id=\"df-43234471-1499-4da8-9436-21b7ecab7df8\">\n",
              "    <div class=\"colab-df-container\">\n",
              "      <div>\n",
              "<style scoped>\n",
              "    .dataframe tbody tr th:only-of-type {\n",
              "        vertical-align: middle;\n",
              "    }\n",
              "\n",
              "    .dataframe tbody tr th {\n",
              "        vertical-align: top;\n",
              "    }\n",
              "\n",
              "    .dataframe thead th {\n",
              "        text-align: right;\n",
              "    }\n",
              "</style>\n",
              "<table border=\"1\" class=\"dataframe\">\n",
              "  <thead>\n",
              "    <tr style=\"text-align: right;\">\n",
              "      <th></th>\n",
              "      <th>성별코드</th>\n",
              "      <th>흡연상태</th>\n",
              "      <th>음주여부</th>\n",
              "      <th>연령대코드(5세단위)</th>\n",
              "      <th>식전혈당(공복혈당)</th>\n",
              "    </tr>\n",
              "  </thead>\n",
              "  <tbody>\n",
              "    <tr>\n",
              "      <th>count</th>\n",
              "      <td>9909.000000</td>\n",
              "      <td>9909.000000</td>\n",
              "      <td>9909.000000</td>\n",
              "      <td>9909.000000</td>\n",
              "      <td>9909.000000</td>\n",
              "    </tr>\n",
              "    <tr>\n",
              "      <th>mean</th>\n",
              "      <td>0.514986</td>\n",
              "      <td>0.563326</td>\n",
              "      <td>0.585528</td>\n",
              "      <td>11.899082</td>\n",
              "      <td>103.781411</td>\n",
              "    </tr>\n",
              "    <tr>\n",
              "      <th>std</th>\n",
              "      <td>0.499801</td>\n",
              "      <td>0.784740</td>\n",
              "      <td>0.492655</td>\n",
              "      <td>2.145050</td>\n",
              "      <td>24.652491</td>\n",
              "    </tr>\n",
              "    <tr>\n",
              "      <th>min</th>\n",
              "      <td>0.000000</td>\n",
              "      <td>0.000000</td>\n",
              "      <td>0.000000</td>\n",
              "      <td>9.000000</td>\n",
              "      <td>55.000000</td>\n",
              "    </tr>\n",
              "    <tr>\n",
              "      <th>25%</th>\n",
              "      <td>0.000000</td>\n",
              "      <td>0.000000</td>\n",
              "      <td>0.000000</td>\n",
              "      <td>10.000000</td>\n",
              "      <td>91.000000</td>\n",
              "    </tr>\n",
              "    <tr>\n",
              "      <th>50%</th>\n",
              "      <td>1.000000</td>\n",
              "      <td>0.000000</td>\n",
              "      <td>1.000000</td>\n",
              "      <td>12.000000</td>\n",
              "      <td>99.000000</td>\n",
              "    </tr>\n",
              "    <tr>\n",
              "      <th>75%</th>\n",
              "      <td>1.000000</td>\n",
              "      <td>1.000000</td>\n",
              "      <td>1.000000</td>\n",
              "      <td>13.000000</td>\n",
              "      <td>109.000000</td>\n",
              "    </tr>\n",
              "    <tr>\n",
              "      <th>max</th>\n",
              "      <td>1.000000</td>\n",
              "      <td>2.000000</td>\n",
              "      <td>1.000000</td>\n",
              "      <td>18.000000</td>\n",
              "      <td>473.000000</td>\n",
              "    </tr>\n",
              "  </tbody>\n",
              "</table>\n",
              "</div>\n",
              "      <button class=\"colab-df-convert\" onclick=\"convertToInteractive('df-43234471-1499-4da8-9436-21b7ecab7df8')\"\n",
              "              title=\"Convert this dataframe to an interactive table.\"\n",
              "              style=\"display:none;\">\n",
              "        \n",
              "  <svg xmlns=\"http://www.w3.org/2000/svg\" height=\"24px\"viewBox=\"0 0 24 24\"\n",
              "       width=\"24px\">\n",
              "    <path d=\"M0 0h24v24H0V0z\" fill=\"none\"/>\n",
              "    <path d=\"M18.56 5.44l.94 2.06.94-2.06 2.06-.94-2.06-.94-.94-2.06-.94 2.06-2.06.94zm-11 1L8.5 8.5l.94-2.06 2.06-.94-2.06-.94L8.5 2.5l-.94 2.06-2.06.94zm10 10l.94 2.06.94-2.06 2.06-.94-2.06-.94-.94-2.06-.94 2.06-2.06.94z\"/><path d=\"M17.41 7.96l-1.37-1.37c-.4-.4-.92-.59-1.43-.59-.52 0-1.04.2-1.43.59L10.3 9.45l-7.72 7.72c-.78.78-.78 2.05 0 2.83L4 21.41c.39.39.9.59 1.41.59.51 0 1.02-.2 1.41-.59l7.78-7.78 2.81-2.81c.8-.78.8-2.07 0-2.86zM5.41 20L4 18.59l7.72-7.72 1.47 1.35L5.41 20z\"/>\n",
              "  </svg>\n",
              "      </button>\n",
              "      \n",
              "  <style>\n",
              "    .colab-df-container {\n",
              "      display:flex;\n",
              "      flex-wrap:wrap;\n",
              "      gap: 12px;\n",
              "    }\n",
              "\n",
              "    .colab-df-convert {\n",
              "      background-color: #E8F0FE;\n",
              "      border: none;\n",
              "      border-radius: 50%;\n",
              "      cursor: pointer;\n",
              "      display: none;\n",
              "      fill: #1967D2;\n",
              "      height: 32px;\n",
              "      padding: 0 0 0 0;\n",
              "      width: 32px;\n",
              "    }\n",
              "\n",
              "    .colab-df-convert:hover {\n",
              "      background-color: #E2EBFA;\n",
              "      box-shadow: 0px 1px 2px rgba(60, 64, 67, 0.3), 0px 1px 3px 1px rgba(60, 64, 67, 0.15);\n",
              "      fill: #174EA6;\n",
              "    }\n",
              "\n",
              "    [theme=dark] .colab-df-convert {\n",
              "      background-color: #3B4455;\n",
              "      fill: #D2E3FC;\n",
              "    }\n",
              "\n",
              "    [theme=dark] .colab-df-convert:hover {\n",
              "      background-color: #434B5C;\n",
              "      box-shadow: 0px 1px 3px 1px rgba(0, 0, 0, 0.15);\n",
              "      filter: drop-shadow(0px 1px 2px rgba(0, 0, 0, 0.3));\n",
              "      fill: #FFFFFF;\n",
              "    }\n",
              "  </style>\n",
              "\n",
              "      <script>\n",
              "        const buttonEl =\n",
              "          document.querySelector('#df-43234471-1499-4da8-9436-21b7ecab7df8 button.colab-df-convert');\n",
              "        buttonEl.style.display =\n",
              "          google.colab.kernel.accessAllowed ? 'block' : 'none';\n",
              "\n",
              "        async function convertToInteractive(key) {\n",
              "          const element = document.querySelector('#df-43234471-1499-4da8-9436-21b7ecab7df8');\n",
              "          const dataTable =\n",
              "            await google.colab.kernel.invokeFunction('convertToInteractive',\n",
              "                                                     [key], {});\n",
              "          if (!dataTable) return;\n",
              "\n",
              "          const docLinkHtml = 'Like what you see? Visit the ' +\n",
              "            '<a target=\"_blank\" href=https://colab.research.google.com/notebooks/data_table.ipynb>data table notebook</a>'\n",
              "            + ' to learn more about interactive tables.';\n",
              "          element.innerHTML = '';\n",
              "          dataTable['output_type'] = 'display_data';\n",
              "          await google.colab.output.renderOutput(dataTable, element);\n",
              "          const docLink = document.createElement('div');\n",
              "          docLink.innerHTML = docLinkHtml;\n",
              "          element.appendChild(docLink);\n",
              "        }\n",
              "      </script>\n",
              "    </div>\n",
              "  </div>\n",
              "  "
            ]
          },
          "metadata": {},
          "execution_count": 11
        }
      ]
    },
    {
      "cell_type": "code",
      "source": [
        "X =  Xy_new.iloc[:, 1:]   \n",
        "display(X.head())\n",
        "\n",
        "y = Xy_new.iloc[:, 0]\n",
        "#y = Xy['종속여부'] \n",
        "display(y.head())"
      ],
      "metadata": {
        "colab": {
          "base_uri": "https://localhost:8080/",
          "height": 320
        },
        "id": "SSDxNhS7nLmh",
        "outputId": "9a012b39-849c-4ac4-e647-ee0b30c367d7"
      },
      "execution_count": 12,
      "outputs": [
        {
          "output_type": "display_data",
          "data": {
            "text/plain": [
              "   성별코드  흡연상태  음주여부  연령대코드(5세단위)  식전혈당(공복혈당)\n",
              "0     1     0     0            9        90.0\n",
              "1     0     0     0           13        87.0\n",
              "2     0     0     0           12       102.0\n",
              "3     1     0     0           13       146.0\n",
              "4     0     0     0           12       110.0"
            ],
            "text/html": [
              "\n",
              "  <div id=\"df-d1f14adb-59f6-4cbf-9774-af98747bffc7\">\n",
              "    <div class=\"colab-df-container\">\n",
              "      <div>\n",
              "<style scoped>\n",
              "    .dataframe tbody tr th:only-of-type {\n",
              "        vertical-align: middle;\n",
              "    }\n",
              "\n",
              "    .dataframe tbody tr th {\n",
              "        vertical-align: top;\n",
              "    }\n",
              "\n",
              "    .dataframe thead th {\n",
              "        text-align: right;\n",
              "    }\n",
              "</style>\n",
              "<table border=\"1\" class=\"dataframe\">\n",
              "  <thead>\n",
              "    <tr style=\"text-align: right;\">\n",
              "      <th></th>\n",
              "      <th>성별코드</th>\n",
              "      <th>흡연상태</th>\n",
              "      <th>음주여부</th>\n",
              "      <th>연령대코드(5세단위)</th>\n",
              "      <th>식전혈당(공복혈당)</th>\n",
              "    </tr>\n",
              "  </thead>\n",
              "  <tbody>\n",
              "    <tr>\n",
              "      <th>0</th>\n",
              "      <td>1</td>\n",
              "      <td>0</td>\n",
              "      <td>0</td>\n",
              "      <td>9</td>\n",
              "      <td>90.0</td>\n",
              "    </tr>\n",
              "    <tr>\n",
              "      <th>1</th>\n",
              "      <td>0</td>\n",
              "      <td>0</td>\n",
              "      <td>0</td>\n",
              "      <td>13</td>\n",
              "      <td>87.0</td>\n",
              "    </tr>\n",
              "    <tr>\n",
              "      <th>2</th>\n",
              "      <td>0</td>\n",
              "      <td>0</td>\n",
              "      <td>0</td>\n",
              "      <td>12</td>\n",
              "      <td>102.0</td>\n",
              "    </tr>\n",
              "    <tr>\n",
              "      <th>3</th>\n",
              "      <td>1</td>\n",
              "      <td>0</td>\n",
              "      <td>0</td>\n",
              "      <td>13</td>\n",
              "      <td>146.0</td>\n",
              "    </tr>\n",
              "    <tr>\n",
              "      <th>4</th>\n",
              "      <td>0</td>\n",
              "      <td>0</td>\n",
              "      <td>0</td>\n",
              "      <td>12</td>\n",
              "      <td>110.0</td>\n",
              "    </tr>\n",
              "  </tbody>\n",
              "</table>\n",
              "</div>\n",
              "      <button class=\"colab-df-convert\" onclick=\"convertToInteractive('df-d1f14adb-59f6-4cbf-9774-af98747bffc7')\"\n",
              "              title=\"Convert this dataframe to an interactive table.\"\n",
              "              style=\"display:none;\">\n",
              "        \n",
              "  <svg xmlns=\"http://www.w3.org/2000/svg\" height=\"24px\"viewBox=\"0 0 24 24\"\n",
              "       width=\"24px\">\n",
              "    <path d=\"M0 0h24v24H0V0z\" fill=\"none\"/>\n",
              "    <path d=\"M18.56 5.44l.94 2.06.94-2.06 2.06-.94-2.06-.94-.94-2.06-.94 2.06-2.06.94zm-11 1L8.5 8.5l.94-2.06 2.06-.94-2.06-.94L8.5 2.5l-.94 2.06-2.06.94zm10 10l.94 2.06.94-2.06 2.06-.94-2.06-.94-.94-2.06-.94 2.06-2.06.94z\"/><path d=\"M17.41 7.96l-1.37-1.37c-.4-.4-.92-.59-1.43-.59-.52 0-1.04.2-1.43.59L10.3 9.45l-7.72 7.72c-.78.78-.78 2.05 0 2.83L4 21.41c.39.39.9.59 1.41.59.51 0 1.02-.2 1.41-.59l7.78-7.78 2.81-2.81c.8-.78.8-2.07 0-2.86zM5.41 20L4 18.59l7.72-7.72 1.47 1.35L5.41 20z\"/>\n",
              "  </svg>\n",
              "      </button>\n",
              "      \n",
              "  <style>\n",
              "    .colab-df-container {\n",
              "      display:flex;\n",
              "      flex-wrap:wrap;\n",
              "      gap: 12px;\n",
              "    }\n",
              "\n",
              "    .colab-df-convert {\n",
              "      background-color: #E8F0FE;\n",
              "      border: none;\n",
              "      border-radius: 50%;\n",
              "      cursor: pointer;\n",
              "      display: none;\n",
              "      fill: #1967D2;\n",
              "      height: 32px;\n",
              "      padding: 0 0 0 0;\n",
              "      width: 32px;\n",
              "    }\n",
              "\n",
              "    .colab-df-convert:hover {\n",
              "      background-color: #E2EBFA;\n",
              "      box-shadow: 0px 1px 2px rgba(60, 64, 67, 0.3), 0px 1px 3px 1px rgba(60, 64, 67, 0.15);\n",
              "      fill: #174EA6;\n",
              "    }\n",
              "\n",
              "    [theme=dark] .colab-df-convert {\n",
              "      background-color: #3B4455;\n",
              "      fill: #D2E3FC;\n",
              "    }\n",
              "\n",
              "    [theme=dark] .colab-df-convert:hover {\n",
              "      background-color: #434B5C;\n",
              "      box-shadow: 0px 1px 3px 1px rgba(0, 0, 0, 0.15);\n",
              "      filter: drop-shadow(0px 1px 2px rgba(0, 0, 0, 0.3));\n",
              "      fill: #FFFFFF;\n",
              "    }\n",
              "  </style>\n",
              "\n",
              "      <script>\n",
              "        const buttonEl =\n",
              "          document.querySelector('#df-d1f14adb-59f6-4cbf-9774-af98747bffc7 button.colab-df-convert');\n",
              "        buttonEl.style.display =\n",
              "          google.colab.kernel.accessAllowed ? 'block' : 'none';\n",
              "\n",
              "        async function convertToInteractive(key) {\n",
              "          const element = document.querySelector('#df-d1f14adb-59f6-4cbf-9774-af98747bffc7');\n",
              "          const dataTable =\n",
              "            await google.colab.kernel.invokeFunction('convertToInteractive',\n",
              "                                                     [key], {});\n",
              "          if (!dataTable) return;\n",
              "\n",
              "          const docLinkHtml = 'Like what you see? Visit the ' +\n",
              "            '<a target=\"_blank\" href=https://colab.research.google.com/notebooks/data_table.ipynb>data table notebook</a>'\n",
              "            + ' to learn more about interactive tables.';\n",
              "          element.innerHTML = '';\n",
              "          dataTable['output_type'] = 'display_data';\n",
              "          await google.colab.output.renderOutput(dataTable, element);\n",
              "          const docLink = document.createElement('div');\n",
              "          docLink.innerHTML = docLinkHtml;\n",
              "          element.appendChild(docLink);\n",
              "        }\n",
              "      </script>\n",
              "    </div>\n",
              "  </div>\n",
              "  "
            ]
          },
          "metadata": {}
        },
        {
          "output_type": "display_data",
          "data": {
            "text/plain": [
              "0     No\n",
              "1    Yes\n",
              "2     No\n",
              "3    Yes\n",
              "4     No\n",
              "Name: 비만여부, dtype: object"
            ]
          },
          "metadata": {}
        }
      ]
    },
    {
      "cell_type": "markdown",
      "metadata": {
        "id": "6Sp0xRQMQ5cg"
      },
      "source": [
        "## 의사결정나무 (Decision tree) 모델 "
      ]
    },
    {
      "cell_type": "code",
      "metadata": {
        "colab": {
          "base_uri": "https://localhost:8080/"
        },
        "id": "iwKC8Z7LterT",
        "outputId": "359b282e-6515-4632-b2b8-8850fe358fbb"
      },
      "source": [
        "from sklearn.tree import DecisionTreeClassifier\n",
        "from sklearn.model_selection import train_test_split\n",
        "\n",
        "X_train, X_test, y_train, y_test = train_test_split(X, y, test_size = 0.25, random_state=42)\n",
        "\n",
        "tree = DecisionTreeClassifier(max_depth =4, random_state=0)  \n",
        "tree.fit(X_train, y_train)\n",
        "print(\"학습용 데이터 정확도: {:.3f}\".format(tree.score(X_train, y_train)))\n",
        "print(\"시험용 데이터 정확도: {:.3f}\".format(tree.score(X_test, y_test)))"
      ],
      "execution_count": 13,
      "outputs": [
        {
          "output_type": "stream",
          "name": "stdout",
          "text": [
            "학습용 데이터 정확도: 0.615\n",
            "시험용 데이터 정확도: 0.595\n"
          ]
        }
      ]
    },
    {
      "cell_type": "code",
      "metadata": {
        "colab": {
          "base_uri": "https://localhost:8080/",
          "height": 675
        },
        "id": "SsMxdh-CD3pw",
        "outputId": "d4a98aa3-a064-4f72-fdb5-f3660c91c174"
      },
      "source": [
        "#graphviz 라이브러리를 이용하여 의사결정나무 그리기 \n",
        "from sklearn.tree import export_graphviz\n",
        "import graphviz\n",
        "\n",
        "export_graphviz(tree, out_file=\"tree.dot\", class_names=[\"No\", \"Yes\"],\n",
        "                feature_names=X.columns, impurity=False, filled=True)\n",
        "\n",
        "with open(\"tree.dot\") as f:\n",
        "    dot_graph = f.read()\n",
        "\n",
        "display(graphviz.Source(dot_graph))"
      ],
      "execution_count": 14,
      "outputs": [
        {
          "output_type": "display_data",
          "data": {
            "text/plain": [
              "<graphviz.files.Source at 0x7fc7f692da90>"
            ],
            "image/svg+xml": "<?xml version=\"1.0\" encoding=\"UTF-8\" standalone=\"no\"?>\n<!DOCTYPE svg PUBLIC \"-//W3C//DTD SVG 1.1//EN\"\n \"http://www.w3.org/Graphics/SVG/1.1/DTD/svg11.dtd\">\n<!-- Generated by graphviz version 2.40.1 (20161225.0304)\n -->\n<!-- Title: Tree Pages: 1 -->\n<svg width=\"2318pt\" height=\"477pt\"\n viewBox=\"0.00 0.00 2317.50 477.00\" xmlns=\"http://www.w3.org/2000/svg\" xmlns:xlink=\"http://www.w3.org/1999/xlink\">\n<g id=\"graph0\" class=\"graph\" transform=\"scale(1 1) rotate(0) translate(4 473)\">\n<title>Tree</title>\n<polygon fill=\"#ffffff\" stroke=\"transparent\" points=\"-4,4 -4,-473 2313.5,-473 2313.5,4 -4,4\"/>\n<!-- 0 -->\n<g id=\"node1\" class=\"node\">\n<title>0</title>\n<polygon fill=\"#f7d6bf\" stroke=\"#000000\" points=\"1252,-469 1058,-469 1058,-401 1252,-401 1252,-469\"/>\n<text text-anchor=\"middle\" x=\"1155\" y=\"-453.8\" font-family=\"Helvetica,sans-Serif\" font-size=\"14.00\" fill=\"#000000\">식전혈당(공복혈당) &lt;= 100.5</text>\n<text text-anchor=\"middle\" x=\"1155\" y=\"-438.8\" font-family=\"Helvetica,sans-Serif\" font-size=\"14.00\" fill=\"#000000\">samples = 7431</text>\n<text text-anchor=\"middle\" x=\"1155\" y=\"-423.8\" font-family=\"Helvetica,sans-Serif\" font-size=\"14.00\" fill=\"#000000\">value = [4437, 2994]</text>\n<text text-anchor=\"middle\" x=\"1155\" y=\"-408.8\" font-family=\"Helvetica,sans-Serif\" font-size=\"14.00\" fill=\"#000000\">class = No</text>\n</g>\n<!-- 1 -->\n<g id=\"node2\" class=\"node\">\n<title>1</title>\n<polygon fill=\"#f2c29f\" stroke=\"#000000\" points=\"957.5,-365 808.5,-365 808.5,-297 957.5,-297 957.5,-365\"/>\n<text text-anchor=\"middle\" x=\"883\" y=\"-349.8\" font-family=\"Helvetica,sans-Serif\" font-size=\"14.00\" fill=\"#000000\">성별코드 &lt;= 0.5</text>\n<text text-anchor=\"middle\" x=\"883\" y=\"-334.8\" font-family=\"Helvetica,sans-Serif\" font-size=\"14.00\" fill=\"#000000\">samples = 4215</text>\n<text text-anchor=\"middle\" x=\"883\" y=\"-319.8\" font-family=\"Helvetica,sans-Serif\" font-size=\"14.00\" fill=\"#000000\">value = [2780, 1435]</text>\n<text text-anchor=\"middle\" x=\"883\" y=\"-304.8\" font-family=\"Helvetica,sans-Serif\" font-size=\"14.00\" fill=\"#000000\">class = No</text>\n</g>\n<!-- 0&#45;&gt;1 -->\n<g id=\"edge1\" class=\"edge\">\n<title>0&#45;&gt;1</title>\n<path fill=\"none\" stroke=\"#000000\" d=\"M1065.937,-400.9465C1034.2044,-388.8135 998.586,-375.1946 967.2683,-363.2202\"/>\n<polygon fill=\"#000000\" stroke=\"#000000\" points=\"968.2867,-359.8626 957.6962,-359.5603 965.7867,-366.4009 968.2867,-359.8626\"/>\n<text text-anchor=\"middle\" x=\"967.8947\" y=\"-378.6855\" font-family=\"Helvetica,sans-Serif\" font-size=\"14.00\" fill=\"#000000\">True</text>\n</g>\n<!-- 16 -->\n<g id=\"node17\" class=\"node\">\n<title>16</title>\n<polygon fill=\"#fdf8f3\" stroke=\"#000000\" points=\"1559,-365 1365,-365 1365,-297 1559,-297 1559,-365\"/>\n<text text-anchor=\"middle\" x=\"1462\" y=\"-349.8\" font-family=\"Helvetica,sans-Serif\" font-size=\"14.00\" fill=\"#000000\">식전혈당(공복혈당) &lt;= 111.5</text>\n<text text-anchor=\"middle\" x=\"1462\" y=\"-334.8\" font-family=\"Helvetica,sans-Serif\" font-size=\"14.00\" fill=\"#000000\">samples = 3216</text>\n<text text-anchor=\"middle\" x=\"1462\" y=\"-319.8\" font-family=\"Helvetica,sans-Serif\" font-size=\"14.00\" fill=\"#000000\">value = [1657, 1559]</text>\n<text text-anchor=\"middle\" x=\"1462\" y=\"-304.8\" font-family=\"Helvetica,sans-Serif\" font-size=\"14.00\" fill=\"#000000\">class = No</text>\n</g>\n<!-- 0&#45;&gt;16 -->\n<g id=\"edge16\" class=\"edge\">\n<title>0&#45;&gt;16</title>\n<path fill=\"none\" stroke=\"#000000\" d=\"M1252.1367,-402.0938C1284.913,-390.9904 1321.6707,-378.5383 1355.1553,-367.195\"/>\n<polygon fill=\"#000000\" stroke=\"#000000\" points=\"1356.6204,-370.3941 1364.9687,-363.8705 1354.3744,-363.7642 1356.6204,-370.3941\"/>\n<text text-anchor=\"middle\" x=\"1353.8975\" y=\"-382.5855\" font-family=\"Helvetica,sans-Serif\" font-size=\"14.00\" fill=\"#000000\">False</text>\n</g>\n<!-- 2 -->\n<g id=\"node3\" class=\"node\">\n<title>2</title>\n<polygon fill=\"#efb185\" stroke=\"#000000\" points=\"561,-261 367,-261 367,-193 561,-193 561,-261\"/>\n<text text-anchor=\"middle\" x=\"464\" y=\"-245.8\" font-family=\"Helvetica,sans-Serif\" font-size=\"14.00\" fill=\"#000000\">연령대코드(5세단위) &lt;= 11.5</text>\n<text text-anchor=\"middle\" x=\"464\" y=\"-230.8\" font-family=\"Helvetica,sans-Serif\" font-size=\"14.00\" fill=\"#000000\">samples = 2314</text>\n<text text-anchor=\"middle\" x=\"464\" y=\"-215.8\" font-family=\"Helvetica,sans-Serif\" font-size=\"14.00\" fill=\"#000000\">value = [1672, 642]</text>\n<text text-anchor=\"middle\" x=\"464\" y=\"-200.8\" font-family=\"Helvetica,sans-Serif\" font-size=\"14.00\" fill=\"#000000\">class = No</text>\n</g>\n<!-- 1&#45;&gt;2 -->\n<g id=\"edge2\" class=\"edge\">\n<title>1&#45;&gt;2</title>\n<path fill=\"none\" stroke=\"#000000\" d=\"M808.0912,-312.4069C742.0857,-296.0237 645.1696,-271.9681 570.9992,-253.5583\"/>\n<polygon fill=\"#000000\" stroke=\"#000000\" points=\"571.7,-250.1261 561.1513,-251.1139 570.0137,-256.9199 571.7,-250.1261\"/>\n</g>\n<!-- 9 -->\n<g id=\"node10\" class=\"node\">\n<title>9</title>\n<polygon fill=\"#f8dbc7\" stroke=\"#000000\" points=\"976,-261 790,-261 790,-193 976,-193 976,-261\"/>\n<text text-anchor=\"middle\" x=\"883\" y=\"-245.8\" font-family=\"Helvetica,sans-Serif\" font-size=\"14.00\" fill=\"#000000\">식전혈당(공복혈당) &lt;= 93.5</text>\n<text text-anchor=\"middle\" x=\"883\" y=\"-230.8\" font-family=\"Helvetica,sans-Serif\" font-size=\"14.00\" fill=\"#000000\">samples = 1901</text>\n<text text-anchor=\"middle\" x=\"883\" y=\"-215.8\" font-family=\"Helvetica,sans-Serif\" font-size=\"14.00\" fill=\"#000000\">value = [1108, 793]</text>\n<text text-anchor=\"middle\" x=\"883\" y=\"-200.8\" font-family=\"Helvetica,sans-Serif\" font-size=\"14.00\" fill=\"#000000\">class = No</text>\n</g>\n<!-- 1&#45;&gt;9 -->\n<g id=\"edge9\" class=\"edge\">\n<title>1&#45;&gt;9</title>\n<path fill=\"none\" stroke=\"#000000\" d=\"M883,-296.9465C883,-288.776 883,-279.9318 883,-271.3697\"/>\n<polygon fill=\"#000000\" stroke=\"#000000\" points=\"886.5001,-271.13 883,-261.13 879.5001,-271.13 886.5001,-271.13\"/>\n</g>\n<!-- 3 -->\n<g id=\"node4\" class=\"node\">\n<title>3</title>\n<polygon fill=\"#eda673\" stroke=\"#000000\" points=\"309,-157 123,-157 123,-89 309,-89 309,-157\"/>\n<text text-anchor=\"middle\" x=\"216\" y=\"-141.8\" font-family=\"Helvetica,sans-Serif\" font-size=\"14.00\" fill=\"#000000\">식전혈당(공복혈당) &lt;= 91.5</text>\n<text text-anchor=\"middle\" x=\"216\" y=\"-126.8\" font-family=\"Helvetica,sans-Serif\" font-size=\"14.00\" fill=\"#000000\">samples = 1180</text>\n<text text-anchor=\"middle\" x=\"216\" y=\"-111.8\" font-family=\"Helvetica,sans-Serif\" font-size=\"14.00\" fill=\"#000000\">value = [911, 269]</text>\n<text text-anchor=\"middle\" x=\"216\" y=\"-96.8\" font-family=\"Helvetica,sans-Serif\" font-size=\"14.00\" fill=\"#000000\">class = No</text>\n</g>\n<!-- 2&#45;&gt;3 -->\n<g id=\"edge3\" class=\"edge\">\n<title>2&#45;&gt;3</title>\n<path fill=\"none\" stroke=\"#000000\" d=\"M382.7955,-192.9465C358.4948,-182.7559 331.6946,-171.5171 306.8178,-161.0849\"/>\n<polygon fill=\"#000000\" stroke=\"#000000\" points=\"307.9624,-157.7696 297.3869,-157.13 305.2553,-164.225 307.9624,-157.7696\"/>\n</g>\n<!-- 6 -->\n<g id=\"node7\" class=\"node\">\n<title>6</title>\n<polygon fill=\"#f2bf9a\" stroke=\"#000000\" points=\"557,-157 371,-157 371,-89 557,-89 557,-157\"/>\n<text text-anchor=\"middle\" x=\"464\" y=\"-141.8\" font-family=\"Helvetica,sans-Serif\" font-size=\"14.00\" fill=\"#000000\">식전혈당(공복혈당) &lt;= 85.5</text>\n<text text-anchor=\"middle\" x=\"464\" y=\"-126.8\" font-family=\"Helvetica,sans-Serif\" font-size=\"14.00\" fill=\"#000000\">samples = 1134</text>\n<text text-anchor=\"middle\" x=\"464\" y=\"-111.8\" font-family=\"Helvetica,sans-Serif\" font-size=\"14.00\" fill=\"#000000\">value = [761, 373]</text>\n<text text-anchor=\"middle\" x=\"464\" y=\"-96.8\" font-family=\"Helvetica,sans-Serif\" font-size=\"14.00\" fill=\"#000000\">class = No</text>\n</g>\n<!-- 2&#45;&gt;6 -->\n<g id=\"edge6\" class=\"edge\">\n<title>2&#45;&gt;6</title>\n<path fill=\"none\" stroke=\"#000000\" d=\"M464,-192.9465C464,-184.776 464,-175.9318 464,-167.3697\"/>\n<polygon fill=\"#000000\" stroke=\"#000000\" points=\"467.5001,-167.13 464,-157.13 460.5001,-167.13 467.5001,-167.13\"/>\n</g>\n<!-- 4 -->\n<g id=\"node5\" class=\"node\">\n<title>4</title>\n<polygon fill=\"#eb9d65\" stroke=\"#000000\" points=\"132,-53 0,-53 0,0 132,0 132,-53\"/>\n<text text-anchor=\"middle\" x=\"66\" y=\"-37.8\" font-family=\"Helvetica,sans-Serif\" font-size=\"14.00\" fill=\"#000000\">samples = 654</text>\n<text text-anchor=\"middle\" x=\"66\" y=\"-22.8\" font-family=\"Helvetica,sans-Serif\" font-size=\"14.00\" fill=\"#000000\">value = [536, 118]</text>\n<text text-anchor=\"middle\" x=\"66\" y=\"-7.8\" font-family=\"Helvetica,sans-Serif\" font-size=\"14.00\" fill=\"#000000\">class = No</text>\n</g>\n<!-- 3&#45;&gt;4 -->\n<g id=\"edge4\" class=\"edge\">\n<title>3&#45;&gt;4</title>\n<path fill=\"none\" stroke=\"#000000\" d=\"M163.1156,-88.9777C147.8856,-79.1798 131.3194,-68.5222 116.2536,-58.8298\"/>\n<polygon fill=\"#000000\" stroke=\"#000000\" points=\"117.8816,-55.7154 107.5779,-53.2485 114.0943,-61.6024 117.8816,-55.7154\"/>\n</g>\n<!-- 5 -->\n<g id=\"node6\" class=\"node\">\n<title>5</title>\n<polygon fill=\"#efb489\" stroke=\"#000000\" points=\"282,-53 150,-53 150,0 282,0 282,-53\"/>\n<text text-anchor=\"middle\" x=\"216\" y=\"-37.8\" font-family=\"Helvetica,sans-Serif\" font-size=\"14.00\" fill=\"#000000\">samples = 526</text>\n<text text-anchor=\"middle\" x=\"216\" y=\"-22.8\" font-family=\"Helvetica,sans-Serif\" font-size=\"14.00\" fill=\"#000000\">value = [375, 151]</text>\n<text text-anchor=\"middle\" x=\"216\" y=\"-7.8\" font-family=\"Helvetica,sans-Serif\" font-size=\"14.00\" fill=\"#000000\">class = No</text>\n</g>\n<!-- 3&#45;&gt;5 -->\n<g id=\"edge5\" class=\"edge\">\n<title>3&#45;&gt;5</title>\n<path fill=\"none\" stroke=\"#000000\" d=\"M216,-88.9777C216,-80.7364 216,-71.887 216,-63.5153\"/>\n<polygon fill=\"#000000\" stroke=\"#000000\" points=\"219.5001,-63.2484 216,-53.2485 212.5001,-63.2485 219.5001,-63.2484\"/>\n</g>\n<!-- 7 -->\n<g id=\"node8\" class=\"node\">\n<title>7</title>\n<polygon fill=\"#eeac7c\" stroke=\"#000000\" points=\"424,-53 300,-53 300,0 424,0 424,-53\"/>\n<text text-anchor=\"middle\" x=\"362\" y=\"-37.8\" font-family=\"Helvetica,sans-Serif\" font-size=\"14.00\" fill=\"#000000\">samples = 214</text>\n<text text-anchor=\"middle\" x=\"362\" y=\"-22.8\" font-family=\"Helvetica,sans-Serif\" font-size=\"14.00\" fill=\"#000000\">value = [160, 54]</text>\n<text text-anchor=\"middle\" x=\"362\" y=\"-7.8\" font-family=\"Helvetica,sans-Serif\" font-size=\"14.00\" fill=\"#000000\">class = No</text>\n</g>\n<!-- 6&#45;&gt;7 -->\n<g id=\"edge7\" class=\"edge\">\n<title>6&#45;&gt;7</title>\n<path fill=\"none\" stroke=\"#000000\" d=\"M428.0386,-88.9777C418.1662,-79.6376 407.468,-69.5163 397.6151,-60.1947\"/>\n<polygon fill=\"#000000\" stroke=\"#000000\" points=\"399.9426,-57.5785 390.273,-53.2485 395.1318,-62.6635 399.9426,-57.5785\"/>\n</g>\n<!-- 8 -->\n<g id=\"node9\" class=\"node\">\n<title>8</title>\n<polygon fill=\"#f3c4a2\" stroke=\"#000000\" points=\"574,-53 442,-53 442,0 574,0 574,-53\"/>\n<text text-anchor=\"middle\" x=\"508\" y=\"-37.8\" font-family=\"Helvetica,sans-Serif\" font-size=\"14.00\" fill=\"#000000\">samples = 920</text>\n<text text-anchor=\"middle\" x=\"508\" y=\"-22.8\" font-family=\"Helvetica,sans-Serif\" font-size=\"14.00\" fill=\"#000000\">value = [601, 319]</text>\n<text text-anchor=\"middle\" x=\"508\" y=\"-7.8\" font-family=\"Helvetica,sans-Serif\" font-size=\"14.00\" fill=\"#000000\">class = No</text>\n</g>\n<!-- 6&#45;&gt;8 -->\n<g id=\"edge8\" class=\"edge\">\n<title>6&#45;&gt;8</title>\n<path fill=\"none\" stroke=\"#000000\" d=\"M479.5128,-88.9777C483.4374,-80.3702 487.6646,-71.0992 491.6302,-62.402\"/>\n<polygon fill=\"#000000\" stroke=\"#000000\" points=\"494.8397,-63.7994 495.8038,-53.2485 488.4705,-60.8952 494.8397,-63.7994\"/>\n</g>\n<!-- 10 -->\n<g id=\"node11\" class=\"node\">\n<title>10</title>\n<polygon fill=\"#f5ceb2\" stroke=\"#000000\" points=\"874,-157 680,-157 680,-89 874,-89 874,-157\"/>\n<text text-anchor=\"middle\" x=\"777\" y=\"-141.8\" font-family=\"Helvetica,sans-Serif\" font-size=\"14.00\" fill=\"#000000\">연령대코드(5세단위) &lt;= 12.5</text>\n<text text-anchor=\"middle\" x=\"777\" y=\"-126.8\" font-family=\"Helvetica,sans-Serif\" font-size=\"14.00\" fill=\"#000000\">samples = 1018</text>\n<text text-anchor=\"middle\" x=\"777\" y=\"-111.8\" font-family=\"Helvetica,sans-Serif\" font-size=\"14.00\" fill=\"#000000\">value = [632, 386]</text>\n<text text-anchor=\"middle\" x=\"777\" y=\"-96.8\" font-family=\"Helvetica,sans-Serif\" font-size=\"14.00\" fill=\"#000000\">class = No</text>\n</g>\n<!-- 9&#45;&gt;10 -->\n<g id=\"edge10\" class=\"edge\">\n<title>9&#45;&gt;10</title>\n<path fill=\"none\" stroke=\"#000000\" d=\"M848.2916,-192.9465C838.9574,-183.7884 828.7604,-173.7838 819.0727,-164.2788\"/>\n<polygon fill=\"#000000\" stroke=\"#000000\" points=\"821.3757,-161.6351 811.7863,-157.13 816.4733,-166.6318 821.3757,-161.6351\"/>\n</g>\n<!-- 13 -->\n<g id=\"node14\" class=\"node\">\n<title>13</title>\n<polygon fill=\"#fbede2\" stroke=\"#000000\" points=\"1086,-157 892,-157 892,-89 1086,-89 1086,-157\"/>\n<text text-anchor=\"middle\" x=\"989\" y=\"-141.8\" font-family=\"Helvetica,sans-Serif\" font-size=\"14.00\" fill=\"#000000\">연령대코드(5세단위) &lt;= 14.5</text>\n<text text-anchor=\"middle\" x=\"989\" y=\"-126.8\" font-family=\"Helvetica,sans-Serif\" font-size=\"14.00\" fill=\"#000000\">samples = 883</text>\n<text text-anchor=\"middle\" x=\"989\" y=\"-111.8\" font-family=\"Helvetica,sans-Serif\" font-size=\"14.00\" fill=\"#000000\">value = [476, 407]</text>\n<text text-anchor=\"middle\" x=\"989\" y=\"-96.8\" font-family=\"Helvetica,sans-Serif\" font-size=\"14.00\" fill=\"#000000\">class = No</text>\n</g>\n<!-- 9&#45;&gt;13 -->\n<g id=\"edge13\" class=\"edge\">\n<title>9&#45;&gt;13</title>\n<path fill=\"none\" stroke=\"#000000\" d=\"M917.7084,-192.9465C927.0426,-183.7884 937.2396,-173.7838 946.9273,-164.2788\"/>\n<polygon fill=\"#000000\" stroke=\"#000000\" points=\"949.5267,-166.6318 954.2137,-157.13 944.6243,-161.6351 949.5267,-166.6318\"/>\n</g>\n<!-- 11 -->\n<g id=\"node12\" class=\"node\">\n<title>11</title>\n<polygon fill=\"#f6d5be\" stroke=\"#000000\" points=\"724,-53 592,-53 592,0 724,0 724,-53\"/>\n<text text-anchor=\"middle\" x=\"658\" y=\"-37.8\" font-family=\"Helvetica,sans-Serif\" font-size=\"14.00\" fill=\"#000000\">samples = 710</text>\n<text text-anchor=\"middle\" x=\"658\" y=\"-22.8\" font-family=\"Helvetica,sans-Serif\" font-size=\"14.00\" fill=\"#000000\">value = [425, 285]</text>\n<text text-anchor=\"middle\" x=\"658\" y=\"-7.8\" font-family=\"Helvetica,sans-Serif\" font-size=\"14.00\" fill=\"#000000\">class = No</text>\n</g>\n<!-- 10&#45;&gt;11 -->\n<g id=\"edge11\" class=\"edge\">\n<title>10&#45;&gt;11</title>\n<path fill=\"none\" stroke=\"#000000\" d=\"M735.0451,-88.9777C723.3014,-79.4545 710.5562,-69.1191 698.876,-59.6473\"/>\n<polygon fill=\"#000000\" stroke=\"#000000\" points=\"700.9568,-56.8286 690.9852,-53.2485 696.5478,-62.2656 700.9568,-56.8286\"/>\n</g>\n<!-- 12 -->\n<g id=\"node13\" class=\"node\">\n<title>12</title>\n<polygon fill=\"#f2be9a\" stroke=\"#000000\" points=\"874,-53 742,-53 742,0 874,0 874,-53\"/>\n<text text-anchor=\"middle\" x=\"808\" y=\"-37.8\" font-family=\"Helvetica,sans-Serif\" font-size=\"14.00\" fill=\"#000000\">samples = 308</text>\n<text text-anchor=\"middle\" x=\"808\" y=\"-22.8\" font-family=\"Helvetica,sans-Serif\" font-size=\"14.00\" fill=\"#000000\">value = [207, 101]</text>\n<text text-anchor=\"middle\" x=\"808\" y=\"-7.8\" font-family=\"Helvetica,sans-Serif\" font-size=\"14.00\" fill=\"#000000\">class = No</text>\n</g>\n<!-- 10&#45;&gt;12 -->\n<g id=\"edge12\" class=\"edge\">\n<title>10&#45;&gt;12</title>\n<path fill=\"none\" stroke=\"#000000\" d=\"M787.9294,-88.9777C790.6357,-80.5533 793.5462,-71.4934 796.2881,-62.9579\"/>\n<polygon fill=\"#000000\" stroke=\"#000000\" points=\"799.6809,-63.8398 799.4072,-53.2485 793.0164,-61.6988 799.6809,-63.8398\"/>\n</g>\n<!-- 14 -->\n<g id=\"node15\" class=\"node\">\n<title>14</title>\n<polygon fill=\"#fdf5ef\" stroke=\"#000000\" points=\"1024,-53 892,-53 892,0 1024,0 1024,-53\"/>\n<text text-anchor=\"middle\" x=\"958\" y=\"-37.8\" font-family=\"Helvetica,sans-Serif\" font-size=\"14.00\" fill=\"#000000\">samples = 785</text>\n<text text-anchor=\"middle\" x=\"958\" y=\"-22.8\" font-family=\"Helvetica,sans-Serif\" font-size=\"14.00\" fill=\"#000000\">value = [409, 376]</text>\n<text text-anchor=\"middle\" x=\"958\" y=\"-7.8\" font-family=\"Helvetica,sans-Serif\" font-size=\"14.00\" fill=\"#000000\">class = No</text>\n</g>\n<!-- 13&#45;&gt;14 -->\n<g id=\"edge14\" class=\"edge\">\n<title>13&#45;&gt;14</title>\n<path fill=\"none\" stroke=\"#000000\" d=\"M978.0706,-88.9777C975.3643,-80.5533 972.4538,-71.4934 969.7119,-62.9579\"/>\n<polygon fill=\"#000000\" stroke=\"#000000\" points=\"972.9836,-61.6988 966.5928,-53.2485 966.3191,-63.8398 972.9836,-61.6988\"/>\n</g>\n<!-- 15 -->\n<g id=\"node16\" class=\"node\">\n<title>15</title>\n<polygon fill=\"#f1bb95\" stroke=\"#000000\" points=\"1158,-53 1042,-53 1042,0 1158,0 1158,-53\"/>\n<text text-anchor=\"middle\" x=\"1100\" y=\"-37.8\" font-family=\"Helvetica,sans-Serif\" font-size=\"14.00\" fill=\"#000000\">samples = 98</text>\n<text text-anchor=\"middle\" x=\"1100\" y=\"-22.8\" font-family=\"Helvetica,sans-Serif\" font-size=\"14.00\" fill=\"#000000\">value = [67, 31]</text>\n<text text-anchor=\"middle\" x=\"1100\" y=\"-7.8\" font-family=\"Helvetica,sans-Serif\" font-size=\"14.00\" fill=\"#000000\">class = No</text>\n</g>\n<!-- 13&#45;&gt;15 -->\n<g id=\"edge15\" class=\"edge\">\n<title>13&#45;&gt;15</title>\n<path fill=\"none\" stroke=\"#000000\" d=\"M1028.1344,-88.9777C1038.9833,-79.546 1050.7484,-69.3178 1061.5574,-59.9208\"/>\n<polygon fill=\"#000000\" stroke=\"#000000\" points=\"1063.9819,-62.4508 1069.2323,-53.2485 1059.3892,-57.1681 1063.9819,-62.4508\"/>\n</g>\n<!-- 17 -->\n<g id=\"node18\" class=\"node\">\n<title>17</title>\n<polygon fill=\"#fae5d7\" stroke=\"#000000\" points=\"1528,-261 1396,-261 1396,-193 1528,-193 1528,-261\"/>\n<text text-anchor=\"middle\" x=\"1462\" y=\"-245.8\" font-family=\"Helvetica,sans-Serif\" font-size=\"14.00\" fill=\"#000000\">흡연상태 &lt;= 0.5</text>\n<text text-anchor=\"middle\" x=\"1462\" y=\"-230.8\" font-family=\"Helvetica,sans-Serif\" font-size=\"14.00\" fill=\"#000000\">samples = 1694</text>\n<text text-anchor=\"middle\" x=\"1462\" y=\"-215.8\" font-family=\"Helvetica,sans-Serif\" font-size=\"14.00\" fill=\"#000000\">value = [943, 751]</text>\n<text text-anchor=\"middle\" x=\"1462\" y=\"-200.8\" font-family=\"Helvetica,sans-Serif\" font-size=\"14.00\" fill=\"#000000\">class = No</text>\n</g>\n<!-- 16&#45;&gt;17 -->\n<g id=\"edge17\" class=\"edge\">\n<title>16&#45;&gt;17</title>\n<path fill=\"none\" stroke=\"#000000\" d=\"M1462,-296.9465C1462,-288.776 1462,-279.9318 1462,-271.3697\"/>\n<polygon fill=\"#000000\" stroke=\"#000000\" points=\"1465.5001,-271.13 1462,-261.13 1458.5001,-271.13 1465.5001,-271.13\"/>\n</g>\n<!-- 24 -->\n<g id=\"node25\" class=\"node\">\n<title>24</title>\n<polygon fill=\"#e8f4fc\" stroke=\"#000000\" points=\"1967,-261 1773,-261 1773,-193 1967,-193 1967,-261\"/>\n<text text-anchor=\"middle\" x=\"1870\" y=\"-245.8\" font-family=\"Helvetica,sans-Serif\" font-size=\"14.00\" fill=\"#000000\">연령대코드(5세단위) &lt;= 11.5</text>\n<text text-anchor=\"middle\" x=\"1870\" y=\"-230.8\" font-family=\"Helvetica,sans-Serif\" font-size=\"14.00\" fill=\"#000000\">samples = 1522</text>\n<text text-anchor=\"middle\" x=\"1870\" y=\"-215.8\" font-family=\"Helvetica,sans-Serif\" font-size=\"14.00\" fill=\"#000000\">value = [714, 808]</text>\n<text text-anchor=\"middle\" x=\"1870\" y=\"-200.8\" font-family=\"Helvetica,sans-Serif\" font-size=\"14.00\" fill=\"#000000\">class = Yes</text>\n</g>\n<!-- 16&#45;&gt;24 -->\n<g id=\"edge24\" class=\"edge\">\n<title>16&#45;&gt;24</title>\n<path fill=\"none\" stroke=\"#000000\" d=\"M1559.2078,-306.2215C1620.5098,-290.5955 1699.7295,-270.4023 1762.8445,-254.3141\"/>\n<polygon fill=\"#000000\" stroke=\"#000000\" points=\"1764.005,-257.6303 1772.8306,-251.7687 1762.2759,-250.8472 1764.005,-257.6303\"/>\n</g>\n<!-- 18 -->\n<g id=\"node19\" class=\"node\">\n<title>18</title>\n<polygon fill=\"#f7dac5\" stroke=\"#000000\" points=\"1469,-157 1275,-157 1275,-89 1469,-89 1469,-157\"/>\n<text text-anchor=\"middle\" x=\"1372\" y=\"-141.8\" font-family=\"Helvetica,sans-Serif\" font-size=\"14.00\" fill=\"#000000\">연령대코드(5세단위) &lt;= 13.5</text>\n<text text-anchor=\"middle\" x=\"1372\" y=\"-126.8\" font-family=\"Helvetica,sans-Serif\" font-size=\"14.00\" fill=\"#000000\">samples = 1003</text>\n<text text-anchor=\"middle\" x=\"1372\" y=\"-111.8\" font-family=\"Helvetica,sans-Serif\" font-size=\"14.00\" fill=\"#000000\">value = [588, 415]</text>\n<text text-anchor=\"middle\" x=\"1372\" y=\"-96.8\" font-family=\"Helvetica,sans-Serif\" font-size=\"14.00\" fill=\"#000000\">class = No</text>\n</g>\n<!-- 17&#45;&gt;18 -->\n<g id=\"edge18\" class=\"edge\">\n<title>17&#45;&gt;18</title>\n<path fill=\"none\" stroke=\"#000000\" d=\"M1432.5306,-192.9465C1424.7607,-183.968 1416.2868,-174.1758 1408.2064,-164.8385\"/>\n<polygon fill=\"#000000\" stroke=\"#000000\" points=\"1410.726,-162.4014 1401.5356,-157.13 1405.4328,-166.982 1410.726,-162.4014\"/>\n</g>\n<!-- 21 -->\n<g id=\"node22\" class=\"node\">\n<title>21</title>\n<polygon fill=\"#fef8f4\" stroke=\"#000000\" points=\"1619,-157 1487,-157 1487,-89 1619,-89 1619,-157\"/>\n<text text-anchor=\"middle\" x=\"1553\" y=\"-141.8\" font-family=\"Helvetica,sans-Serif\" font-size=\"14.00\" fill=\"#000000\">음주여부 &lt;= 0.5</text>\n<text text-anchor=\"middle\" x=\"1553\" y=\"-126.8\" font-family=\"Helvetica,sans-Serif\" font-size=\"14.00\" fill=\"#000000\">samples = 691</text>\n<text text-anchor=\"middle\" x=\"1553\" y=\"-111.8\" font-family=\"Helvetica,sans-Serif\" font-size=\"14.00\" fill=\"#000000\">value = [355, 336]</text>\n<text text-anchor=\"middle\" x=\"1553\" y=\"-96.8\" font-family=\"Helvetica,sans-Serif\" font-size=\"14.00\" fill=\"#000000\">class = No</text>\n</g>\n<!-- 17&#45;&gt;21 -->\n<g id=\"edge21\" class=\"edge\">\n<title>17&#45;&gt;21</title>\n<path fill=\"none\" stroke=\"#000000\" d=\"M1491.7968,-192.9465C1499.653,-183.968 1508.2212,-174.1758 1516.3913,-164.8385\"/>\n<polygon fill=\"#000000\" stroke=\"#000000\" points=\"1519.1852,-166.9606 1523.1363,-157.13 1513.9171,-162.351 1519.1852,-166.9606\"/>\n</g>\n<!-- 19 -->\n<g id=\"node20\" class=\"node\">\n<title>19</title>\n<polygon fill=\"#f7d6bf\" stroke=\"#000000\" points=\"1308,-53 1176,-53 1176,0 1308,0 1308,-53\"/>\n<text text-anchor=\"middle\" x=\"1242\" y=\"-37.8\" font-family=\"Helvetica,sans-Serif\" font-size=\"14.00\" fill=\"#000000\">samples = 748</text>\n<text text-anchor=\"middle\" x=\"1242\" y=\"-22.8\" font-family=\"Helvetica,sans-Serif\" font-size=\"14.00\" fill=\"#000000\">value = [446, 302]</text>\n<text text-anchor=\"middle\" x=\"1242\" y=\"-7.8\" font-family=\"Helvetica,sans-Serif\" font-size=\"14.00\" fill=\"#000000\">class = No</text>\n</g>\n<!-- 18&#45;&gt;19 -->\n<g id=\"edge19\" class=\"edge\">\n<title>18&#45;&gt;19</title>\n<path fill=\"none\" stroke=\"#000000\" d=\"M1326.1669,-88.9777C1313.2143,-79.3629 1299.1465,-68.9203 1286.2867,-59.3743\"/>\n<polygon fill=\"#000000\" stroke=\"#000000\" points=\"1288.1499,-56.3986 1278.0342,-53.2485 1283.9776,-62.0193 1288.1499,-56.3986\"/>\n</g>\n<!-- 20 -->\n<g id=\"node21\" class=\"node\">\n<title>20</title>\n<polygon fill=\"#fae5d7\" stroke=\"#000000\" points=\"1458,-53 1326,-53 1326,0 1458,0 1458,-53\"/>\n<text text-anchor=\"middle\" x=\"1392\" y=\"-37.8\" font-family=\"Helvetica,sans-Serif\" font-size=\"14.00\" fill=\"#000000\">samples = 255</text>\n<text text-anchor=\"middle\" x=\"1392\" y=\"-22.8\" font-family=\"Helvetica,sans-Serif\" font-size=\"14.00\" fill=\"#000000\">value = [142, 113]</text>\n<text text-anchor=\"middle\" x=\"1392\" y=\"-7.8\" font-family=\"Helvetica,sans-Serif\" font-size=\"14.00\" fill=\"#000000\">class = No</text>\n</g>\n<!-- 18&#45;&gt;20 -->\n<g id=\"edge20\" class=\"edge\">\n<title>18&#45;&gt;20</title>\n<path fill=\"none\" stroke=\"#000000\" d=\"M1379.0513,-88.9777C1380.7783,-80.6449 1382.6341,-71.6903 1384.3862,-63.2364\"/>\n<polygon fill=\"#000000\" stroke=\"#000000\" points=\"1387.854,-63.7507 1386.4563,-53.2485 1380.9996,-62.3301 1387.854,-63.7507\"/>\n</g>\n<!-- 22 -->\n<g id=\"node23\" class=\"node\">\n<title>22</title>\n<polygon fill=\"#f4caab\" stroke=\"#000000\" points=\"1592,-53 1476,-53 1476,0 1592,0 1592,-53\"/>\n<text text-anchor=\"middle\" x=\"1534\" y=\"-37.8\" font-family=\"Helvetica,sans-Serif\" font-size=\"14.00\" fill=\"#000000\">samples = 123</text>\n<text text-anchor=\"middle\" x=\"1534\" y=\"-22.8\" font-family=\"Helvetica,sans-Serif\" font-size=\"14.00\" fill=\"#000000\">value = [78, 45]</text>\n<text text-anchor=\"middle\" x=\"1534\" y=\"-7.8\" font-family=\"Helvetica,sans-Serif\" font-size=\"14.00\" fill=\"#000000\">class = No</text>\n</g>\n<!-- 21&#45;&gt;22 -->\n<g id=\"edge22\" class=\"edge\">\n<title>21&#45;&gt;22</title>\n<path fill=\"none\" stroke=\"#000000\" d=\"M1546.3013,-88.9777C1544.6606,-80.6449 1542.8976,-71.6903 1541.2331,-63.2364\"/>\n<polygon fill=\"#000000\" stroke=\"#000000\" points=\"1544.6325,-62.3839 1539.2665,-53.2485 1537.7644,-63.7363 1544.6325,-62.3839\"/>\n</g>\n<!-- 23 -->\n<g id=\"node24\" class=\"node\">\n<title>23</title>\n<polygon fill=\"#f5fafe\" stroke=\"#000000\" points=\"1742,-53 1610,-53 1610,0 1742,0 1742,-53\"/>\n<text text-anchor=\"middle\" x=\"1676\" y=\"-37.8\" font-family=\"Helvetica,sans-Serif\" font-size=\"14.00\" fill=\"#000000\">samples = 568</text>\n<text text-anchor=\"middle\" x=\"1676\" y=\"-22.8\" font-family=\"Helvetica,sans-Serif\" font-size=\"14.00\" fill=\"#000000\">value = [277, 291]</text>\n<text text-anchor=\"middle\" x=\"1676\" y=\"-7.8\" font-family=\"Helvetica,sans-Serif\" font-size=\"14.00\" fill=\"#000000\">class = Yes</text>\n</g>\n<!-- 21&#45;&gt;23 -->\n<g id=\"edge23\" class=\"edge\">\n<title>21&#45;&gt;23</title>\n<path fill=\"none\" stroke=\"#000000\" d=\"M1596.3652,-88.9777C1608.5036,-79.4545 1621.6772,-69.1191 1633.7501,-59.6473\"/>\n<polygon fill=\"#000000\" stroke=\"#000000\" points=\"1636.1989,-62.1748 1641.9061,-53.2485 1631.878,-56.6674 1636.1989,-62.1748\"/>\n</g>\n<!-- 25 -->\n<g id=\"node26\" class=\"node\">\n<title>25</title>\n<polygon fill=\"#baddf6\" stroke=\"#000000\" points=\"1967,-157 1773,-157 1773,-89 1967,-89 1967,-157\"/>\n<text text-anchor=\"middle\" x=\"1870\" y=\"-141.8\" font-family=\"Helvetica,sans-Serif\" font-size=\"14.00\" fill=\"#000000\">식전혈당(공복혈당) &lt;= 121.5</text>\n<text text-anchor=\"middle\" x=\"1870\" y=\"-126.8\" font-family=\"Helvetica,sans-Serif\" font-size=\"14.00\" fill=\"#000000\">samples = 560</text>\n<text text-anchor=\"middle\" x=\"1870\" y=\"-111.8\" font-family=\"Helvetica,sans-Serif\" font-size=\"14.00\" fill=\"#000000\">value = [221, 339]</text>\n<text text-anchor=\"middle\" x=\"1870\" y=\"-96.8\" font-family=\"Helvetica,sans-Serif\" font-size=\"14.00\" fill=\"#000000\">class = Yes</text>\n</g>\n<!-- 24&#45;&gt;25 -->\n<g id=\"edge25\" class=\"edge\">\n<title>24&#45;&gt;25</title>\n<path fill=\"none\" stroke=\"#000000\" d=\"M1870,-192.9465C1870,-184.776 1870,-175.9318 1870,-167.3697\"/>\n<polygon fill=\"#000000\" stroke=\"#000000\" points=\"1873.5001,-167.13 1870,-157.13 1866.5001,-167.13 1873.5001,-167.13\"/>\n</g>\n<!-- 28 -->\n<g id=\"node29\" class=\"node\">\n<title>28</title>\n<polygon fill=\"#fef9f5\" stroke=\"#000000\" points=\"2223,-157 2029,-157 2029,-89 2223,-89 2223,-157\"/>\n<text text-anchor=\"middle\" x=\"2126\" y=\"-141.8\" font-family=\"Helvetica,sans-Serif\" font-size=\"14.00\" fill=\"#000000\">연령대코드(5세단위) &lt;= 17.5</text>\n<text text-anchor=\"middle\" x=\"2126\" y=\"-126.8\" font-family=\"Helvetica,sans-Serif\" font-size=\"14.00\" fill=\"#000000\">samples = 962</text>\n<text text-anchor=\"middle\" x=\"2126\" y=\"-111.8\" font-family=\"Helvetica,sans-Serif\" font-size=\"14.00\" fill=\"#000000\">value = [493, 469]</text>\n<text text-anchor=\"middle\" x=\"2126\" y=\"-96.8\" font-family=\"Helvetica,sans-Serif\" font-size=\"14.00\" fill=\"#000000\">class = No</text>\n</g>\n<!-- 24&#45;&gt;28 -->\n<g id=\"edge28\" class=\"edge\">\n<title>24&#45;&gt;28</title>\n<path fill=\"none\" stroke=\"#000000\" d=\"M1953.824,-192.9465C1979.0191,-182.711 2006.8171,-171.4181 2032.5918,-160.9471\"/>\n<polygon fill=\"#000000\" stroke=\"#000000\" points=\"2034.0404,-164.1365 2041.9877,-157.13 2031.4057,-157.6512 2034.0404,-164.1365\"/>\n</g>\n<!-- 26 -->\n<g id=\"node27\" class=\"node\">\n<title>26</title>\n<polygon fill=\"#e3f1fb\" stroke=\"#000000\" points=\"1892,-53 1760,-53 1760,0 1892,0 1892,-53\"/>\n<text text-anchor=\"middle\" x=\"1826\" y=\"-37.8\" font-family=\"Helvetica,sans-Serif\" font-size=\"14.00\" fill=\"#000000\">samples = 253</text>\n<text text-anchor=\"middle\" x=\"1826\" y=\"-22.8\" font-family=\"Helvetica,sans-Serif\" font-size=\"14.00\" fill=\"#000000\">value = [117, 136]</text>\n<text text-anchor=\"middle\" x=\"1826\" y=\"-7.8\" font-family=\"Helvetica,sans-Serif\" font-size=\"14.00\" fill=\"#000000\">class = Yes</text>\n</g>\n<!-- 25&#45;&gt;26 -->\n<g id=\"edge26\" class=\"edge\">\n<title>25&#45;&gt;26</title>\n<path fill=\"none\" stroke=\"#000000\" d=\"M1854.4872,-88.9777C1850.5626,-80.3702 1846.3354,-71.0992 1842.3698,-62.402\"/>\n<polygon fill=\"#000000\" stroke=\"#000000\" points=\"1845.5295,-60.8952 1838.1962,-53.2485 1839.1603,-63.7994 1845.5295,-60.8952\"/>\n</g>\n<!-- 27 -->\n<g id=\"node28\" class=\"node\">\n<title>27</title>\n<polygon fill=\"#9ecff2\" stroke=\"#000000\" points=\"2042,-53 1910,-53 1910,0 2042,0 2042,-53\"/>\n<text text-anchor=\"middle\" x=\"1976\" y=\"-37.8\" font-family=\"Helvetica,sans-Serif\" font-size=\"14.00\" fill=\"#000000\">samples = 307</text>\n<text text-anchor=\"middle\" x=\"1976\" y=\"-22.8\" font-family=\"Helvetica,sans-Serif\" font-size=\"14.00\" fill=\"#000000\">value = [104, 203]</text>\n<text text-anchor=\"middle\" x=\"1976\" y=\"-7.8\" font-family=\"Helvetica,sans-Serif\" font-size=\"14.00\" fill=\"#000000\">class = Yes</text>\n</g>\n<!-- 25&#45;&gt;27 -->\n<g id=\"edge27\" class=\"edge\">\n<title>25&#45;&gt;27</title>\n<path fill=\"none\" stroke=\"#000000\" d=\"M1907.3716,-88.9777C1917.6312,-79.6376 1928.7489,-69.5163 1938.9882,-60.1947\"/>\n<polygon fill=\"#000000\" stroke=\"#000000\" points=\"1941.5798,-62.5686 1946.6183,-53.2485 1936.8674,-57.3923 1941.5798,-62.5686\"/>\n</g>\n<!-- 29 -->\n<g id=\"node30\" class=\"node\">\n<title>29</title>\n<polygon fill=\"#fefaf8\" stroke=\"#000000\" points=\"2192,-53 2060,-53 2060,0 2192,0 2192,-53\"/>\n<text text-anchor=\"middle\" x=\"2126\" y=\"-37.8\" font-family=\"Helvetica,sans-Serif\" font-size=\"14.00\" fill=\"#000000\">samples = 956</text>\n<text text-anchor=\"middle\" x=\"2126\" y=\"-22.8\" font-family=\"Helvetica,sans-Serif\" font-size=\"14.00\" fill=\"#000000\">value = [487, 469]</text>\n<text text-anchor=\"middle\" x=\"2126\" y=\"-7.8\" font-family=\"Helvetica,sans-Serif\" font-size=\"14.00\" fill=\"#000000\">class = No</text>\n</g>\n<!-- 28&#45;&gt;29 -->\n<g id=\"edge29\" class=\"edge\">\n<title>28&#45;&gt;29</title>\n<path fill=\"none\" stroke=\"#000000\" d=\"M2126,-88.9777C2126,-80.7364 2126,-71.887 2126,-63.5153\"/>\n<polygon fill=\"#000000\" stroke=\"#000000\" points=\"2129.5001,-63.2484 2126,-53.2485 2122.5001,-63.2485 2129.5001,-63.2484\"/>\n</g>\n<!-- 30 -->\n<g id=\"node31\" class=\"node\">\n<title>30</title>\n<polygon fill=\"#e58139\" stroke=\"#000000\" points=\"2309.5,-53 2210.5,-53 2210.5,0 2309.5,0 2309.5,-53\"/>\n<text text-anchor=\"middle\" x=\"2260\" y=\"-37.8\" font-family=\"Helvetica,sans-Serif\" font-size=\"14.00\" fill=\"#000000\">samples = 6</text>\n<text text-anchor=\"middle\" x=\"2260\" y=\"-22.8\" font-family=\"Helvetica,sans-Serif\" font-size=\"14.00\" fill=\"#000000\">value = [6, 0]</text>\n<text text-anchor=\"middle\" x=\"2260\" y=\"-7.8\" font-family=\"Helvetica,sans-Serif\" font-size=\"14.00\" fill=\"#000000\">class = No</text>\n</g>\n<!-- 28&#45;&gt;30 -->\n<g id=\"edge30\" class=\"edge\">\n<title>28&#45;&gt;30</title>\n<path fill=\"none\" stroke=\"#000000\" d=\"M2173.2434,-88.9777C2186.7217,-79.2713 2201.3715,-68.7213 2214.7291,-59.1018\"/>\n<polygon fill=\"#000000\" stroke=\"#000000\" points=\"2216.7876,-61.9325 2222.857,-53.2485 2212.6969,-56.2522 2216.7876,-61.9325\"/>\n</g>\n</g>\n</svg>\n"
          },
          "metadata": {}
        }
      ]
    },
    {
      "cell_type": "markdown",
      "metadata": {
        "id": "Iu9aVzFgRIFA"
      },
      "source": [
        "### 주요 변수들 (features)"
      ]
    },
    {
      "cell_type": "code",
      "metadata": {
        "colab": {
          "base_uri": "https://localhost:8080/"
        },
        "id": "4-YWRWRqHXrz",
        "outputId": "dece284e-cd5c-46a2-89c6-c5fd40b07ef7"
      },
      "source": [
        "result = tree.feature_importances_\n",
        "print(\"변수의 중요도:\\n\", result)"
      ],
      "execution_count": 15,
      "outputs": [
        {
          "output_type": "stream",
          "name": "stdout",
          "text": [
            "변수의 중요도:\n",
            " [0.21447825 0.02263896 0.02283874 0.16850613 0.57153791]\n"
          ]
        }
      ]
    },
    {
      "cell_type": "code",
      "metadata": {
        "colab": {
          "base_uri": "https://localhost:8080/",
          "height": 389
        },
        "id": "jxyyqWFpJ94G",
        "outputId": "986ff362-e6ed-4e36-ae4c-87db205fa3f0"
      },
      "source": [
        "import numpy as np\n",
        "\n",
        "def plot_feature_importances(model):\n",
        "    plt.rcParams[\"figure.figsize\"] = (9,6)\n",
        "    n_features = len(X.columns)  \n",
        "    plt.barh(np.arange(n_features), model.feature_importances_, align='center') \n",
        "    plt.yticks(np.arange(n_features), X.columns)\n",
        "    plt.xlabel(\"feature importance\")\n",
        "    plt.ylabel(\"feature\")\n",
        "    plt.ylim(-1, n_features) #Y 축 범위 지정 (-1 ~ 30)\n",
        "\n",
        "plot_feature_importances(tree)"
      ],
      "execution_count": 23,
      "outputs": [
        {
          "output_type": "display_data",
          "data": {
            "text/plain": [
              "<Figure size 648x432 with 1 Axes>"
            ],
            "image/png": "[encoded data removed]"
          },
          "metadata": {
            "needs_background": "light"
          }
        }
      ]
    },
    {
      "cell_type": "markdown",
      "metadata": {
        "id": "9hNvZy-OEgmr"
      },
      "source": [
        "##랜덤 포레스트 (Random forest)"
      ]
    },
    {
      "cell_type": "code",
      "metadata": {
        "colab": {
          "base_uri": "https://localhost:8080/"
        },
        "id": "twX_F66MaDuP",
        "outputId": "51a22ead-8c59-49a5-d6c6-14d85eae2ee8"
      },
      "source": [
        "from sklearn.ensemble import RandomForestClassifier\n",
        "\n",
        "forest = RandomForestClassifier(n_estimators=100, random_state=0)\n",
        "forest.fit(X_train, y_train)\n",
        "\n",
        "print(\"학습용 데이터 세트 정확도: {:.3f}\".format(forest.score(X_train, y_train)))\n",
        "print(\"시험용 데이터 세트 정확도: {:.3f}\".format(forest.score(X_test, y_test)))"
      ],
      "execution_count": 17,
      "outputs": [
        {
          "output_type": "stream",
          "name": "stdout",
          "text": [
            "학습용 데이터 세트 정확도: 0.780\n",
            "시험용 데이터 세트 정확도: 0.567\n"
          ]
        }
      ]
    },
    {
      "cell_type": "code",
      "metadata": {
        "colab": {
          "base_uri": "https://localhost:8080/",
          "height": 389
        },
        "id": "NqK7ku-UaGZW",
        "outputId": "10f29c83-951d-4a4a-fbef-b4497ae50222"
      },
      "source": [
        "plot_feature_importances(forest)"
      ],
      "execution_count": 24,
      "outputs": [
        {
          "output_type": "display_data",
          "data": {
            "text/plain": [
              "<Figure size 648x432 with 1 Axes>"
            ],
            "image/png": "[encoded data removed]"
          },
          "metadata": {
            "needs_background": "light"
          }
        }
      ]
    },
    {
      "cell_type": "markdown",
      "metadata": {
        "id": "lUtBQgiKznEY"
      },
      "source": [
        "##그래디언트 부스팅 (Gradient Boosting)\n"
      ]
    },
    {
      "cell_type": "code",
      "metadata": {
        "colab": {
          "base_uri": "https://localhost:8080/"
        },
        "id": "rhr1K7oAaLDe",
        "outputId": "e363014a-6841-4879-b54f-20b57fbf3ac5"
      },
      "source": [
        "from sklearn.ensemble import GradientBoostingClassifier\n",
        "# 기본값은 max_depth= 3, n_estimators=100, learning_rate = 0.1\n",
        "\n",
        "gbrt = GradientBoostingClassifier(random_state=0, max_depth=2)\n",
        "gbrt.fit(X_train, y_train)"
      ],
      "execution_count": 20,
      "outputs": [
        {
          "output_type": "execute_result",
          "data": {
            "text/plain": [
              "GradientBoostingClassifier(max_depth=2, random_state=0)"
            ]
          },
          "metadata": {},
          "execution_count": 20
        }
      ]
    },
    {
      "cell_type": "code",
      "metadata": {
        "colab": {
          "base_uri": "https://localhost:8080/"
        },
        "id": "YORzQ-jXxKti",
        "outputId": "bb8e9970-d857-41f9-f956-9955f648787b"
      },
      "source": [
        "print(\"학습용 데이터 세트 정확도: {:.3f}\".format(gbrt.score(X_train, y_train)))\n",
        "print(\"시험용 데이터 세트 정확도: {:.3f}\".format(gbrt.score(X_test, y_test)))"
      ],
      "execution_count": 21,
      "outputs": [
        {
          "output_type": "stream",
          "name": "stdout",
          "text": [
            "학습용 데이터 세트 정확도: 0.623\n",
            "시험용 데이터 세트 정확도: 0.613\n"
          ]
        }
      ]
    },
    {
      "cell_type": "code",
      "metadata": {
        "colab": {
          "base_uri": "https://localhost:8080/",
          "height": 389
        },
        "id": "x5K8erKMzf1r",
        "outputId": "eb4e4a88-f15b-46dd-ec12-932a07f4a4a9"
      },
      "source": [
        "plot_feature_importances(gbrt)"
      ],
      "execution_count": 25,
      "outputs": [
        {
          "output_type": "display_data",
          "data": {
            "text/plain": [
              "<Figure size 648x432 with 1 Axes>"
            ],
            "image/png": "[encoded data removed]"
          },
          "metadata": {
            "needs_background": "light"
          }
        }
      ]
    },
    {
      "cell_type": "markdown",
      "metadata": {
        "id": "fmv_YklU2ci8"
      },
      "source": [
        "# 분류 모델 평가 (Evaluation)\n"
      ]
    },
    {
      "cell_type": "markdown",
      "metadata": {
        "id": "DcuuOXycUSgq"
      },
      "source": [
        "## 교차 검증 (Cross validation)"
      ]
    },
    {
      "cell_type": "code",
      "metadata": {
        "colab": {
          "base_uri": "https://localhost:8080/"
        },
        "id": "1ATq84TS9twG",
        "outputId": "ac497548-a0bb-44c7-ba51-4edccc6437ef"
      },
      "source": [
        "from sklearn.model_selection import cross_val_score\n",
        "# 교차 검증을 10번 수행하여 10번의 교차 검증 평균 정확도를 비교 (10-fold cross validation), default cv=5\n",
        "\n",
        "dt_scores = cross_val_score(tree, X_train, y_train, cv=10, scoring='accuracy')  \n",
        "rf_scores = cross_val_score(forest, X_train, y_train, cv=10, scoring='accuracy')\n",
        "gbrt_scores = cross_val_score(gbrt, X_train, y_train, cv=10, scoring='accuracy')\n",
        "\n",
        "print(\"Accuracy mean\")\n",
        "print(\"Decision tree :{:.3f}\".format(dt_scores.mean())) \n",
        "print(\"Random forest :{:.3f}\".format(rf_scores.mean())) \n",
        "print(\"Gradient boosting :{:.3f}\".format(gbrt_scores.mean())) "
      ],
      "execution_count": 28,
      "outputs": [
        {
          "output_type": "stream",
          "name": "stdout",
          "text": [
            "Accuracy mean\n",
            "Decision tree :0.605\n",
            "Random forest :0.572\n",
            "Gradient boosting :0.613\n"
          ]
        }
      ]
    },
    {
      "cell_type": "markdown",
      "metadata": {
        "id": "N4qOV8oHnZRd"
      },
      "source": [
        "## 그리드 서치 (Grid Search)"
      ]
    },
    {
      "cell_type": "code",
      "metadata": {
        "id": "C3KSHp7cfaJp"
      },
      "source": [
        "from sklearn.model_selection import GridSearchCV\n",
        "\n",
        "# 파라미터를 dictionary 형태로 설정\n",
        "parameters1 = {'max_depth':[4, 5]}\n",
        "parameters2 = {'max_depth':[4, 5], 'n_estimators':[80, 90, 100]}\n",
        "parameters3 = {'max_depth':[4, 5], 'learning_rate':[0.1,0.08]}"
      ],
      "execution_count": 30,
      "outputs": []
    },
    {
      "cell_type": "code",
      "metadata": {
        "colab": {
          "base_uri": "https://localhost:8080/"
        },
        "id": "-Mgjmmo2fYGs",
        "outputId": "980e0c09-96d1-42d3-995e-4f691987f8f5"
      },
      "source": [
        "grid_tree = GridSearchCV(tree, param_grid=parameters1, cv=5, refit=True)\n",
        "grid_tree.fit(X_train, y_train)\n",
        "\n",
        "print('GridSearchCV 최적 파라미터:', grid_tree.best_params_)\n",
        "print('GridSearchCV 최고 정확도: {0:.4f}'.format(grid_tree.best_score_))\n",
        "\n",
        "grid_forest = GridSearchCV(forest, param_grid=parameters2, cv=5, refit=True)\n",
        "grid_forest.fit(X_train, y_train)\n",
        "\n",
        "print('GridSearchCV 최적 파라미터:', grid_forest.best_params_)\n",
        "print('GridSearchCV 최고 정확도: {0:.4f}'.format(grid_forest.best_score_))\n",
        "\n",
        "grid_gbrt = GridSearchCV(gbrt, param_grid=parameters3, cv=5, refit=True)\n",
        "grid_gbrt.fit(X_train, y_train)\n",
        "\n",
        "print('GridSearchCV 최적 파라미터:', grid_gbrt.best_params_)\n",
        "print('GridSearchCV 최고 정확도: {0:.4f}'.format(grid_gbrt.best_score_))"
      ],
      "execution_count": 33,
      "outputs": [
        {
          "output_type": "stream",
          "name": "stdout",
          "text": [
            "GridSearchCV 최적 파라미터: {'max_depth': 4}\n",
            "GridSearchCV 최고 정확도: 0.6033\n",
            "GridSearchCV 최적 파라미터: {'max_depth': 4, 'n_estimators': 100}\n",
            "GridSearchCV 최고 정확도: 0.6119\n",
            "GridSearchCV 최적 파라미터: {'learning_rate': 0.08, 'max_depth': 4}\n",
            "GridSearchCV 최고 정확도: 0.6085\n"
          ]
        }
      ]
    },
    {
      "cell_type": "code",
      "metadata": {
        "colab": {
          "base_uri": "https://localhost:8080/"
        },
        "id": "JpjfCWM9x4Hn",
        "outputId": "905e7d2e-9afc-43d7-861b-6db12f084c54"
      },
      "source": [
        "# 최적 파라미터로 학습이 된 모델을 이용하여 시험용 데이터 세트 분류\n",
        "print(\"tree: 시험용 데이터 세트 정확도: {:.3f}\".format(grid_tree.score(X_test, y_test)))\n",
        "print(\"forest: 시험용 데이터 세트 정확도: {:.3f}\".format(grid_forest.score(X_test, y_test)))\n",
        "print(\"gbrt: 시험용 데이터 세트 정확도: {:.3f}\".format(grid_gbrt.score(X_test, y_test)))"
      ],
      "execution_count": 34,
      "outputs": [
        {
          "output_type": "stream",
          "name": "stdout",
          "text": [
            "tree: 시험용 데이터 세트 정확도: 0.595\n",
            "forest: 시험용 데이터 세트 정확도: 0.610\n",
            "gbrt: 시험용 데이터 세트 정확도: 0.608\n"
          ]
        }
      ]
    },
    {
      "cell_type": "markdown",
      "metadata": {
        "id": "7kh8vssqyFob"
      },
      "source": [
        "## 모델 평가 지표"
      ]
    },
    {
      "cell_type": "markdown",
      "metadata": {
        "id": "36zfuM21yb4p"
      },
      "source": [
        "### 정오 분류표 (Confusion matrix)"
      ]
    },
    {
      "cell_type": "code",
      "metadata": {
        "colab": {
          "base_uri": "https://localhost:8080/"
        },
        "id": "G8bTI7lXylJ0",
        "outputId": "9b81fc6e-a38b-4fc4-9dd7-252885c9525a"
      },
      "source": [
        "from sklearn.metrics import accuracy_score, precision_score, recall_score, f1_score\n",
        "from sklearn.metrics import confusion_matrix \n",
        "\n",
        "dt_pred = grid_tree.predict(X_test)\n",
        "forest_pred= grid_forest.predict(X_test)\n",
        "gbrt_pred = grid_gbrt.predict(X_test)\n",
        "\n",
        "# 예측 결과인 pred와 실제 결과인 y_test의 Confusion Matrix 출력\n",
        "print('Decision tree 시험용 데이터 세트 정확도:{:.3f}'.format(accuracy_score(y_test, dt_pred)))\n",
        "print(confusion_matrix(y_test, dt_pred))\n",
        "print('Random forest 시험용 데이터 세트 정확도:{:.3f}'.format(accuracy_score(y_test, forest_pred)))\n",
        "print(confusion_matrix(y_test, dt_pred))\n",
        "print('Gradient boosting 시험용 데이터 세트 정확도:{:.3f}'.format(accuracy_score(y_test, gbrt_pred)))\n",
        "print(confusion_matrix(y_test, gbrt_pred))"
      ],
      "execution_count": 35,
      "outputs": [
        {
          "output_type": "stream",
          "name": "stdout",
          "text": [
            "Decision tree 시험용 데이터 세트 정확도:0.595\n",
            "[[1269  182]\n",
            " [ 822  205]]\n",
            "Random forest 시험용 데이터 세트 정확도:0.610\n",
            "[[1269  182]\n",
            " [ 822  205]]\n",
            "Gradient boosting 시험용 데이터 세트 정확도:0.608\n",
            "[[1256  195]\n",
            " [ 777  250]]\n"
          ]
        }
      ]
    },
    {
      "cell_type": "code",
      "metadata": {
        "colab": {
          "base_uri": "https://localhost:8080/"
        },
        "id": "u6-Rb-dpKf5M",
        "outputId": "a0e6d65f-486e-4d37-80bd-a3d2bea53475"
      },
      "source": [
        "print(\"Decision tree\")\n",
        "print('정밀도:{:.3f}'.format(precision_score (y_test, dt_pred, average='binary', pos_label=\"Yes\")))  # pos_label = 1 기본값\n",
        "print('재현율:{:.3f}'.format(recall_score(y_test, dt_pred, average='binary', pos_label=\"Yes\")))\n",
        "print('f1-measure:{:.3f}'.format(f1_score(y_test, dt_pred, average='binary', pos_label=\"Yes\")))\n",
        "\n",
        "print(\"Random forest\")\n",
        "print('정밀도:{:.3f}'.format(precision_score (y_test, forest_pred, average='binary', pos_label=\"Yes\")))  # pos_label = 1 기본값\n",
        "print('재현율:{:.3f}'.format(recall_score(y_test, forest_pred, average='binary', pos_label=\"Yes\")))\n",
        "print('f1-measure:{:.3f}'.format(f1_score(y_test, forest_pred, average='binary', pos_label=\"Yes\")))\n",
        "\n",
        "print(\"Gradienc boosting\")\n",
        "print('정밀도:{:.3f}'.format(precision_score (y_test, gbrt_pred, average='binary', pos_label=\"Yes\")))  # pos_label = 1 기본값\n",
        "print('재현율:{:.3f}'.format(recall_score(y_test, gbrt_pred, average='binary', pos_label=\"Yes\")))\n",
        "print('f1-measure:{:.3f}'.format(f1_score(y_test, gbrt_pred, average='binary', pos_label=\"Yes\")))\n"
      ],
      "execution_count": 38,
      "outputs": [
        {
          "output_type": "stream",
          "name": "stdout",
          "text": [
            "Decision tree\n",
            "정밀도:0.530\n",
            "재현율:0.200\n",
            "f1-measure:0.290\n",
            "Random forest\n",
            "정밀도:0.592\n",
            "재현율:0.191\n",
            "f1-measure:0.289\n",
            "Gradienc boosting\n",
            "정밀도:0.562\n",
            "재현율:0.243\n",
            "f1-measure:0.340\n"
          ]
        }
      ]
    },
    {
      "cell_type": "markdown",
      "metadata": {
        "id": "udF_zm-Qylt6"
      },
      "source": [
        "### ROC (Receiver Operator Characteristic) 곡선과 AUC (Area Under the Curve)\n"
      ]
    },
    {
      "cell_type": "code",
      "metadata": {
        "colab": {
          "base_uri": "https://localhost:8080/",
          "height": 388
        },
        "id": "0_Zfh8NDL4RU",
        "outputId": "edd1916c-a32c-4645-9251-ac39e8c8eaf8"
      },
      "source": [
        "from sklearn.metrics import roc_auc_score, roc_curve\n",
        "\n",
        "fpr_dt, tpr_dt, cutoff_dt = roc_curve(y_test, grid_tree.predict_proba(X_test)[:, 1], pos_label=\"Yes\")\n",
        "fpr_rf, tpr_rf, cutoff_rf = roc_curve(y_test, grid_forest.predict_proba(X_test)[:, 1], pos_label=\"Yes\")\n",
        "fpr_gbrt, tpr_gbrt, cutoff_gbrt = roc_curve(y_test, grid_gbrt.predict_proba(X_test)[:, 1], pos_label=\"Yes\")\n",
        "\n",
        "plt.plot(fpr_dt, tpr_dt, label=\"Decision Tree ROC Curve\")\n",
        "plt.plot(fpr_rf, tpr_rf, label=\"Random Forest ROC Curve\")\n",
        "plt.plot(fpr_gbrt, tpr_gbrt, label=\"Gradient Boosting ROC Curve\")\n",
        "plt.plot([0,1], [0, 1], \"k--\", label =\"Random\")\n",
        "\n",
        "plt.xlabel(\"False Positive Rate\")\n",
        "plt.ylabel(\"True Positive Rate\")\n",
        "\n",
        "plt.legend(loc=4)\n",
        "plt.show() "
      ],
      "execution_count": 41,
      "outputs": [
        {
          "output_type": "display_data",
          "data": {
            "text/plain": [
              "<Figure size 648x432 with 1 Axes>"
            ],
            "image/png": "[encoded data removed]"
          },
          "metadata": {
            "needs_background": "light"
          }
        }
      ]
    },
    {
      "cell_type": "code",
      "metadata": {
        "id": "ow-VIeBtNmhX",
        "colab": {
          "base_uri": "https://localhost:8080/"
        },
        "outputId": "c21523f9-8bc1-42e3-8300-094325edbd25"
      },
      "source": [
        "auc_dt = roc_auc_score(y_test, grid_tree.predict_proba(X_test)[:, 1])\n",
        "auc_rf = roc_auc_score(y_test, grid_forest.predict_proba(X_test)[:, 1])\n",
        "auc_gbrt = roc_auc_score(y_test, grid_gbrt.predict_proba(X_test)[:, 1])\n",
        "print(\"Decision Tree의 AUC: {:.3f}\".format(auc_dt))\n",
        "print(\"Random Forest의 AUC: {:.3f}\".format(auc_rf))\n",
        "print(\"Gradient Boosting의 AUC: {:.3f}\".format(auc_gbrt)) ## AUC 면적이 가장 큰 모델"
      ],
      "execution_count": 42,
      "outputs": [
        {
          "output_type": "stream",
          "name": "stdout",
          "text": [
            "Decision Tree의 AUC: 0.612\n",
            "Random Forest의 AUC: 0.627\n",
            "Gradient Boosting의 AUC: 0.624\n"
          ]
        }
      ]
    }
  ]
}