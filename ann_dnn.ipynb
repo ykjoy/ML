{
  "nbformat": 4,
  "nbformat_minor": 0,
  "metadata": {
    "colab": {
      "provenance": [],
      "toc_visible": true,
      "include_colab_link": true
    },
    "kernelspec": {
      "name": "python3",
      "display_name": "Python 3"
    },
    "language_info": {
      "name": "python"
    }
  },
  "cells": [
    {
      "cell_type": "markdown",
      "metadata": {
        "id": "view-in-github",
        "colab_type": "text"
      },
      "source": [
        "<a href=\"https://colab.research.google.com/github/ykjoy/ML/blob/main/ann_dnn.ipynb\" target=\"_parent\"><img src=\"https://colab.research.google.com/assets/colab-badge.svg\" alt=\"Open In Colab\"/></a>"
      ]
    },
    {
      "cell_type": "markdown",
      "source": [
        "# Artificial Neural Network\n",
        "\n",
        "\n"
      ],
      "metadata": {
        "id": "pvsXLZonATIL"
      }
    },
    {
      "cell_type": "code",
      "source": [
        "# tensorflow와 tf.keras를 임포트한다\n",
        "import tensorflow as tf\n",
        "from tensorflow import keras\n",
        "import numpy as np\n",
        "import matplotlib.pyplot as plt"
      ],
      "metadata": {
        "id": "I9pd2r_RGfaU"
      },
      "execution_count": null,
      "outputs": []
    },
    {
      "cell_type": "markdown",
      "source": [
        "## 데이터 준비"
      ],
      "metadata": {
        "id": "riiQwFJSPN5n"
      }
    },
    {
      "cell_type": "code",
      "metadata": {
        "colab": {
          "base_uri": "https://localhost:8080/"
        },
        "id": "6QG_ASC5ThTY",
        "outputId": "af881220-10f5-4295-b69e-e50a9065005b"
      },
      "source": [
        "# 패션 MNIST 데이터는 keras의 데이터셋에 있으며, 이를 학습용, 테스트 데이터로 구분하자\n",
        "(train_input, train_target), (test_input, test_target) = keras.datasets.fashion_mnist.load_data()"
      ],
      "execution_count": null,
      "outputs": [
        {
          "output_type": "stream",
          "name": "stdout",
          "text": [
            "Downloading data from https://storage.googleapis.com/tensorflow/tf-keras-datasets/train-labels-idx1-ubyte.gz\n",
            "29515/29515 [==============================] - 0s 0us/step\n",
            "Downloading data from https://storage.googleapis.com/tensorflow/tf-keras-datasets/train-images-idx3-ubyte.gz\n",
            "26421880/26421880 [==============================] - 0s 0us/step\n",
            "Downloading data from https://storage.googleapis.com/tensorflow/tf-keras-datasets/t10k-labels-idx1-ubyte.gz\n",
            "5148/5148 [==============================] - 0s 0us/step\n",
            "Downloading data from https://storage.googleapis.com/tensorflow/tf-keras-datasets/t10k-images-idx3-ubyte.gz\n",
            "4422102/4422102 [==============================] - 0s 0us/step\n"
          ]
        }
      ]
    },
    {
      "cell_type": "code",
      "metadata": {
        "colab": {
          "base_uri": "https://localhost:8080/"
        },
        "id": "rLnOWTmDdk7a",
        "outputId": "c4de3e75-32b4-4192-a9d3-8068d49b1ce6"
      },
      "source": [
        "print(train_input.shape, train_target.shape)"
      ],
      "execution_count": null,
      "outputs": [
        {
          "output_type": "stream",
          "name": "stdout",
          "text": [
            "(60000, 28, 28) (60000,)\n"
          ]
        }
      ]
    },
    {
      "cell_type": "code",
      "source": [
        "print(train_target)"
      ],
      "metadata": {
        "colab": {
          "base_uri": "https://localhost:8080/"
        },
        "id": "HIE9tFclGuuz",
        "outputId": "9a0a24e4-f05b-46b1-b93a-376f90ae9c8d"
      },
      "execution_count": null,
      "outputs": [
        {
          "output_type": "stream",
          "name": "stdout",
          "text": [
            "[9 0 0 ... 3 0 5]\n"
          ]
        }
      ]
    },
    {
      "cell_type": "code",
      "metadata": {
        "colab": {
          "base_uri": "https://localhost:8080/"
        },
        "id": "pIUJFmeOfRJ0",
        "outputId": "bd4750f5-0ec5-4247-9fd8-19d50dbfd022"
      },
      "source": [
        "print(test_input.shape, test_target.shape)"
      ],
      "execution_count": null,
      "outputs": [
        {
          "output_type": "stream",
          "name": "stdout",
          "text": [
            "(10000, 28, 28) (10000,)\n"
          ]
        }
      ]
    },
    {
      "cell_type": "markdown",
      "metadata": {
        "id": "Ect7F_LJh3qP"
      },
      "source": [
        "학습데이터 10개의 그림을 출력하기"
      ]
    },
    {
      "cell_type": "code",
      "metadata": {
        "colab": {
          "base_uri": "https://localhost:8080/",
          "height": 100
        },
        "id": "b0rUYr8qh8Yh",
        "outputId": "dceb1774-7ad3-4c00-cd17-3c192001f270"
      },
      "source": [
        "import matplotlib.pyplot as plt\n",
        "fig, axs = plt.subplots(1,10, figsize = (10,10))\n",
        "for i in range(10):\n",
        "  axs[i].imshow(train_input[i], cmap = 'gray_r')\n",
        "  axs[i].axis('off')\n",
        "plt.show()\n"
      ],
      "execution_count": null,
      "outputs": [
        {
          "output_type": "display_data",
          "data": {
            "text/plain": [
              "<Figure size 1000x1000 with 10 Axes>"
            ],
            "image/png": "[encoded data removed]"
          },
          "metadata": {}
        }
      ]
    },
    {
      "cell_type": "code",
      "metadata": {
        "colab": {
          "base_uri": "https://localhost:8080/"
        },
        "id": "pH150Sl_jQzP",
        "outputId": "80c90c54-4ea6-4639-ae26-7207fa29ffbb"
      },
      "source": [
        "print([train_target[i] for i in range(10)])"
      ],
      "execution_count": null,
      "outputs": [
        {
          "output_type": "stream",
          "name": "stdout",
          "text": [
            "[9, 0, 0, 3, 0, 2, 7, 2, 5, 5]\n"
          ]
        }
      ]
    },
    {
      "cell_type": "code",
      "metadata": {
        "colab": {
          "base_uri": "https://localhost:8080/"
        },
        "id": "IrW6AGm3-r3q",
        "outputId": "75e90935-9329-4e93-d0cf-f2dcc6d03b0e"
      },
      "source": [
        "class_names = ['티셔츠', '바지', '풀오버', '드레스', '코드', '샌달', '셔츠', '스니커즈', '가방', '부츠']\n",
        "\n",
        "for i in range(10):\n",
        "    print(class_names[train_target[i]], end = \",\")"
      ],
      "execution_count": null,
      "outputs": [
        {
          "output_type": "stream",
          "name": "stdout",
          "text": [
            "부츠,티셔츠,티셔츠,드레스,티셔츠,풀오버,스니커즈,풀오버,샌달,샌달,"
          ]
        }
      ]
    },
    {
      "cell_type": "code",
      "metadata": {
        "colab": {
          "base_uri": "https://localhost:8080/"
        },
        "id": "sFXfgPbnlyy_",
        "outputId": "5fcad919-ed74-4113-b4e5-5951cb1d02ed"
      },
      "source": [
        "type(train_input)"
      ],
      "execution_count": null,
      "outputs": [
        {
          "output_type": "execute_result",
          "data": {
            "text/plain": [
              "numpy.ndarray"
            ]
          },
          "metadata": {},
          "execution_count": 7
        }
      ]
    },
    {
      "cell_type": "code",
      "metadata": {
        "colab": {
          "base_uri": "https://localhost:8080/"
        },
        "id": "Z8Kfdm-KkCPi",
        "outputId": "653f6e64-d5b5-4279-cf98-31f2ab11d839"
      },
      "source": [
        "import numpy as np\n",
        "print(np.unique(train_target, return_counts=True))"
      ],
      "execution_count": null,
      "outputs": [
        {
          "output_type": "stream",
          "name": "stdout",
          "text": [
            "(array([0, 1, 2, 3, 4, 5, 6, 7, 8, 9], dtype=uint8), array([6000, 6000, 6000, 6000, 6000, 6000, 6000, 6000, 6000, 6000]))\n"
          ]
        }
      ]
    },
    {
      "cell_type": "markdown",
      "source": [
        "데이터 정제"
      ],
      "metadata": {
        "id": "wG1_Hqa5QpZb"
      }
    },
    {
      "cell_type": "code",
      "metadata": {
        "id": "KxeYaA67kbeh"
      },
      "source": [
        "train_scaled = train_input/255.0   # 학습데이터 입력값을 0~1사이로 변환\n",
        "train_scaled = train_scaled.reshape(-1,28*28)   # 2차원을 1차원으로 펼쳐서 입력값으로 사용\n",
        "test_scaled = test_input/255.0\n",
        "test_scaled = test_scaled.reshape(-1,28*28)"
      ],
      "execution_count": null,
      "outputs": []
    },
    {
      "cell_type": "markdown",
      "source": [
        "## 입력과 출력층만 가지는 신경망 구성"
      ],
      "metadata": {
        "id": "fFw3vfYmPi4y"
      }
    },
    {
      "cell_type": "markdown",
      "source": [
        "Keras의 Sequential() 이용방법\n",
        "\n",
        "* https://wikidocs.net/192931\n",
        "* Sequential() 클래스를 사용하여 간단한 순차적인 구조를 가진 모델을 쉽게 구성할 수 있습니다. 즉, 입력층부터 출력층까지 차례대로 쌓아가는 것으로 모델을 구성합니다.\n",
        "* Sequential 객체를 생성한 후, add() 메서드를 사용하여 입력층과 은닉층, 출력층(layer)을 추가할 수 있습니다. 케라스에서 제공하는 다양한 층들(Dense, Conv2D, MaxPooling2D, LSTM 등)을 사용하여 모델을 구성할 수 있습니다. 이후, compile() 메서드를 사용하여 모델을 컴파일합니다.\n"
      ],
      "metadata": {
        "id": "_jQBBryUKjc3"
      }
    },
    {
      "cell_type": "code",
      "source": [
        "'''\n",
        "from keras.models import Sequential\n",
        "from keras.layers import Dense\n",
        "\n",
        "# 1. Sequential 모델 생성\n",
        "model = Sequential()\n",
        "# 2. 입력층과 은닉층 추가\n",
        "model.add(Dense(units=64, activation='relu', input_dim=100))\n",
        "model.add(Dense(units=32, activation='relu'))\n",
        "# 3. 출력층 추가\n",
        "model.add(Dense(units=10, activation='softmax'))\n",
        "\n",
        "# model을 Sequential로 구현하는 다른 방법\n",
        "# model = Sequential([\n",
        "#   Dense(units=64, activation='relu', input_dim=100),\n",
        "#   Dense(units=32, activation='relu'),\n",
        "#   Dense(units=10, activation='softmax')\n",
        "# ])\n",
        "#`model.summary()`로 모델 구조를 확인하면 두 개가 같다는 것을 알 수 있습니다.\n",
        "\n",
        "# 모델 컴파일\n",
        "model.compile(loss='categorical_crossentropy', optimizer='adam', metrics=['accuracy'])\n",
        "'''"
      ],
      "metadata": {
        "id": "hPjiwuaPKidP"
      },
      "execution_count": null,
      "outputs": []
    },
    {
      "cell_type": "code",
      "metadata": {
        "id": "e3_MrEIplUia"
      },
      "source": [
        "# 1. 입력과 출력층만 갖는 신경망 구조 생성 (분류 10개 클래스)\n",
        "dense = keras.layers.Dense(10, activation = 'softmax', input_shape=(784,))\n",
        "model = keras.Sequential([dense])  # 생성된 dense층 추가\n",
        "model.compile(loss = 'sparse_categorical_crossentropy', metrics = 'accuracy')"
      ],
      "execution_count": null,
      "outputs": []
    },
    {
      "cell_type": "code",
      "metadata": {
        "colab": {
          "base_uri": "https://localhost:8080/"
        },
        "id": "fOQyG1VHo1kv",
        "outputId": "e928f41e-7818-4086-eaf9-d9b0c00a3e93"
      },
      "source": [
        "#2. 위에서 구성된 신경망을 데이터를 사용해서 훈련\n",
        "model.fit(train_scaled, train_target, epochs = 5)"
      ],
      "execution_count": null,
      "outputs": [
        {
          "output_type": "stream",
          "name": "stdout",
          "text": [
            "Epoch 1/5\n",
            "1875/1875 [==============================] - 4s 2ms/step - loss: 0.5829 - accuracy: 0.8007\n",
            "Epoch 2/5\n",
            "1875/1875 [==============================] - 3s 2ms/step - loss: 0.4646 - accuracy: 0.8430\n",
            "Epoch 3/5\n",
            "1875/1875 [==============================] - 4s 2ms/step - loss: 0.4442 - accuracy: 0.8503\n",
            "Epoch 4/5\n",
            "1875/1875 [==============================] - 3s 2ms/step - loss: 0.4331 - accuracy: 0.8539\n",
            "Epoch 5/5\n",
            "1875/1875 [==============================] - 4s 2ms/step - loss: 0.4260 - accuracy: 0.8563\n"
          ]
        },
        {
          "output_type": "execute_result",
          "data": {
            "text/plain": [
              "<keras.src.callbacks.History at 0x7e34760aca30>"
            ]
          },
          "metadata": {},
          "execution_count": 11
        }
      ]
    },
    {
      "cell_type": "code",
      "metadata": {
        "id": "OITH6HjCqchl",
        "colab": {
          "base_uri": "https://localhost:8080/"
        },
        "outputId": "51e9ef48-9067-47eb-a43e-695e98485e21"
      },
      "source": [
        "# 3. 성능 평가하기\n",
        "model.evaluate(test_scaled, test_target)"
      ],
      "execution_count": null,
      "outputs": [
        {
          "output_type": "stream",
          "name": "stdout",
          "text": [
            "313/313 [==============================] - 1s 2ms/step - loss: 0.4676 - accuracy: 0.8416\n"
          ]
        },
        {
          "output_type": "execute_result",
          "data": {
            "text/plain": [
              "[0.4676211476325989, 0.8416000008583069]"
            ]
          },
          "metadata": {},
          "execution_count": 17
        }
      ]
    },
    {
      "cell_type": "code",
      "metadata": {
        "id": "ODOZlTLi1rRw",
        "colab": {
          "base_uri": "https://localhost:8080/"
        },
        "outputId": "122df273-a134-4506-b430-f43e42ae4015"
      },
      "source": [
        "# 세부 예측결과 확인\n",
        "pred_detail =model.predict(test_scaled)  # 세부값 예측. 각 클래스별 확률로 출력됨. 슬라이싱 해서 일부만 하면 빠름[0:1]\n"
      ],
      "execution_count": null,
      "outputs": [
        {
          "output_type": "stream",
          "name": "stdout",
          "text": [
            "313/313 [==============================] - 0s 1ms/step\n"
          ]
        }
      ]
    },
    {
      "cell_type": "code",
      "metadata": {
        "colab": {
          "base_uri": "https://localhost:8080/"
        },
        "id": "srkVYqP72WWv",
        "outputId": "869fea22-8f4e-4e67-f463-027b6f51eb2f"
      },
      "source": [
        "pred_index = np.argmax(pred_detail[0])  #가장 큰 인덱스 반환\n",
        "print(class_names[pred_index])   # 첫번째 테스트데이터 예측결과 출력"
      ],
      "execution_count": null,
      "outputs": [
        {
          "output_type": "stream",
          "name": "stdout",
          "text": [
            "부츠\n"
          ]
        }
      ]
    },
    {
      "cell_type": "code",
      "metadata": {
        "colab": {
          "base_uri": "https://localhost:8080/"
        },
        "id": "WptrEYMl2Zbm",
        "outputId": "75f43f64-2141-48a5-900c-0d633e1f190f"
      },
      "source": [
        "print(class_names[test_target[0]])"
      ],
      "execution_count": null,
      "outputs": [
        {
          "output_type": "stream",
          "name": "stdout",
          "text": [
            "부츠\n"
          ]
        }
      ]
    },
    {
      "cell_type": "markdown",
      "metadata": {
        "id": "xOiST-qetI-h"
      },
      "source": [
        "# Deep Neural Network\n"
      ]
    },
    {
      "cell_type": "markdown",
      "source": [
        "## 은닉층을 한 개 가지는 신경망 구성"
      ],
      "metadata": {
        "id": "oNHRmAifArsj"
      }
    },
    {
      "cell_type": "code",
      "metadata": {
        "colab": {
          "base_uri": "https://localhost:8080/"
        },
        "id": "IRpdc4HLWho8",
        "outputId": "57274da9-25fe-4e58-97a9-2f1d9ee7bce8"
      },
      "source": [
        "from tensorflow import keras\n",
        "\n",
        "(train_input, train_target),(test_input, test_target) = keras.datasets.fashion_mnist.load_data()\n",
        "\n",
        "# 1. 데이터 입력 준비\n",
        "train_scaled = train_input/255.0\n",
        "test_scaled = test_input/255.0\n",
        "train_scaled = train_scaled.reshape(-1, 28*28)\n",
        "test_scaled = test_scaled.reshape(-1, 28*28)\n",
        "\n",
        "# 2. 신경망 구성\n",
        "dense1 = keras.layers.Dense(100, activation = 'relu', input_shape = (784,))\n",
        "dense2 = keras.layers.Dense(10, activation = 'softmax')\n",
        "model = keras.Sequential([dense1, dense2])\n",
        "model.compile(loss = 'sparse_categorical_crossentropy', metrics = 'accuracy')\n",
        "\n",
        "# 3. 신경망 학습\n",
        "model.fit(train_scaled, train_target, epochs = 5)\n",
        "\n",
        "#4. 성능평가\n",
        "model.evaluate(test_scaled, test_target)\n"
      ],
      "execution_count": null,
      "outputs": [
        {
          "output_type": "stream",
          "name": "stdout",
          "text": [
            "Epoch 1/5\n",
            "1875/1875 [==============================] - 6s 3ms/step - loss: 0.5092 - accuracy: 0.8217\n",
            "Epoch 2/5\n",
            "1875/1875 [==============================] - 6s 3ms/step - loss: 0.3810 - accuracy: 0.8623\n",
            "Epoch 3/5\n",
            "1875/1875 [==============================] - 6s 3ms/step - loss: 0.3474 - accuracy: 0.8760\n",
            "Epoch 4/5\n",
            "1875/1875 [==============================] - 6s 3ms/step - loss: 0.3301 - accuracy: 0.8824\n",
            "Epoch 5/5\n",
            "1875/1875 [==============================] - 5s 3ms/step - loss: 0.3164 - accuracy: 0.8874\n",
            "313/313 [==============================] - 1s 2ms/step - loss: 0.3717 - accuracy: 0.8756\n"
          ]
        },
        {
          "output_type": "execute_result",
          "data": {
            "text/plain": [
              "[0.3716799020767212, 0.8755999803543091]"
            ]
          },
          "metadata": {},
          "execution_count": 21
        }
      ]
    },
    {
      "cell_type": "markdown",
      "source": [
        "## 과적합 방지 -드롭아웃"
      ],
      "metadata": {
        "id": "8bxOmiImH3n7"
      }
    },
    {
      "cell_type": "code",
      "source": [
        "'''from tensorflow import keras\n",
        "\n",
        "(train_input, train_target),(test_input, test_target) = keras.datasets.fashion_mnist.load_data()\n",
        "\n",
        "# 1. 데이터 입력 준비\n",
        "train_scaled = train_input/255.0\n",
        "test_scaled = test_input/255.0\n",
        "train_scaled = train_scaled.reshape(-1, 28*28)\n",
        "test_scaled = test_scaled.reshape(-1, 28*28)\n",
        "'''\n",
        "\n",
        "# 2. 신경망 구성\n",
        "dense1 = keras.layers.Dense(100, activation = 'relu', input_shape = (784,))\n",
        "######## 과적합 방지 - 드롭아웃 ##############\n",
        "dense2 = keras.layers.Dropout(0.2)\n",
        "dense3 =keras.layers.Dense(64, activation = 'relu')\n",
        "dense4 = keras.layers.Dropout(0.2)\n",
        "######################################\n",
        "dense9 = keras.layers.Dense(10, activation = 'softmax')\n",
        "model = keras.Sequential([dense1,dense2,dense3,dense4,dense5])\n",
        "model.compile(loss = 'sparse_categorical_crossentropy', metrics = 'accuracy')\n",
        "\n",
        "# 3. 신경망 학습\n",
        "model.fit(train_scaled, train_target, epochs = 5)\n",
        "\n",
        "#4. 성능평가\n",
        "model.evaluate(test_scaled, test_target)"
      ],
      "metadata": {
        "colab": {
          "base_uri": "https://localhost:8080/"
        },
        "id": "CVRflDbYH1qq",
        "outputId": "9a2036aa-7e6c-4aa7-90fe-09c1b10d0716"
      },
      "execution_count": 38,
      "outputs": [
        {
          "output_type": "stream",
          "name": "stdout",
          "text": [
            "Epoch 1/5\n",
            "1875/1875 [==============================] - 8s 4ms/step - loss: 4.2774 - accuracy: 0.1121\n",
            "Epoch 2/5\n",
            "1875/1875 [==============================] - 6s 3ms/step - loss: 4.1672 - accuracy: 0.1000\n",
            "Epoch 3/5\n",
            "1875/1875 [==============================] - 7s 4ms/step - loss: 4.1653 - accuracy: 0.1000\n",
            "Epoch 4/5\n",
            "1875/1875 [==============================] - 6s 3ms/step - loss: 4.1623 - accuracy: 0.1000\n",
            "Epoch 5/5\n",
            "1875/1875 [==============================] - 8s 4ms/step - loss: 4.1628 - accuracy: 0.0999\n",
            "313/313 [==============================] - 1s 2ms/step - loss: 4.1589 - accuracy: 0.1000\n"
          ]
        },
        {
          "output_type": "execute_result",
          "data": {
            "text/plain": [
              "[4.1588897705078125, 0.10000000149011612]"
            ]
          },
          "metadata": {},
          "execution_count": 38
        }
      ]
    },
    {
      "cell_type": "markdown",
      "source": [
        "## 과적합 방지 - 콜백"
      ],
      "metadata": {
        "id": "rviONG9MH4TD"
      }
    },
    {
      "cell_type": "code",
      "metadata": {
        "colab": {
          "base_uri": "https://localhost:8080/"
        },
        "id": "jtnCgeZCL2WL",
        "outputId": "9480b028-45d9-435e-b3c3-3c624c8a9885"
      },
      "source": [
        "'''from tensorflow import keras\n",
        "\n",
        "(train_input, train_target),(test_input, test_target) = keras.datasets.fashion_mnist.load_data()\n",
        "\n",
        "# 1. 데이터 입력 준비\n",
        "train_scaled = train_input/255.0\n",
        "test_scaled = test_input/255.0\n",
        "train_scaled = train_scaled.reshape(-1, 28*28)\n",
        "test_scaled = test_scaled.reshape(-1, 28*28)\n",
        "\n",
        "# 2. 신경망 구성\n",
        "dense1 = keras.layers.Dense(100, activation = 'relu', input_shape = (784,))\n",
        "dense2 = keras.layers.Dense(10, activation = 'softmax')\n",
        "model = keras.Sequential([dense1, dense2])\n",
        "model.compile(loss = 'sparse_categorical_crossentropy', metrics = 'accuracy')\n",
        "'''\n",
        "######## 과적합 방지 - 콜백 ##############\n",
        "checkpoint_cb = keras.callbacks.ModelCheckpoint('best-model')  ## 화일형식h5 대신 keras 이용\n",
        "early_stopping_cb = keras.callbacks.EarlyStopping(patience = 2, restore_best_weights = True)\n",
        "######################################\n",
        "# 3. 신경망 학습\n",
        "model.fit(train_scaled, train_target, epochs = 30, validation_data = (test_scaled,test_target), callbacks = [checkpoint_cb,early_stopping_cb])\n",
        "\n",
        "print(\"조기종료: %f\"   %(early_stopping_cb.stopped_epoch))\n",
        "#4. 성능평가\n",
        "model.evaluate(test_scaled, test_target)"
      ],
      "execution_count": null,
      "outputs": [
        {
          "output_type": "stream",
          "name": "stdout",
          "text": [
            "Epoch 1/30\n",
            "1875/1875 [==============================] - 7s 4ms/step - loss: 0.2529 - accuracy: 0.9129 - val_loss: 0.4156 - val_accuracy: 0.8828\n",
            "Epoch 2/30\n",
            "1875/1875 [==============================] - 8s 4ms/step - loss: 0.2484 - accuracy: 0.9145 - val_loss: 0.4682 - val_accuracy: 0.8756\n",
            "Epoch 3/30\n",
            "1875/1875 [==============================] - 7s 4ms/step - loss: 0.2446 - accuracy: 0.9152 - val_loss: 0.4089 - val_accuracy: 0.8843\n",
            "Epoch 4/30\n",
            "1875/1875 [==============================] - 6s 3ms/step - loss: 0.2422 - accuracy: 0.9180 - val_loss: 0.4269 - val_accuracy: 0.8804\n",
            "Epoch 5/30\n",
            "1875/1875 [==============================] - 8s 4ms/step - loss: 0.2383 - accuracy: 0.9194 - val_loss: 0.4421 - val_accuracy: 0.8798\n",
            "조기종료: 4.000000\n",
            "313/313 [==============================] - 1s 2ms/step - loss: 0.4089 - accuracy: 0.8843\n"
          ]
        },
        {
          "output_type": "execute_result",
          "data": {
            "text/plain": [
              "[0.40885770320892334, 0.8842999935150146]"
            ]
          },
          "metadata": {},
          "execution_count": 25
        }
      ]
    },
    {
      "cell_type": "code",
      "metadata": {
        "id": "vimOefg3zSiC"
      },
      "source": [],
      "execution_count": null,
      "outputs": []
    }
  ]
}