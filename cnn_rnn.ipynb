{
  "nbformat": 4,
  "nbformat_minor": 0,
  "metadata": {
    "colab": {
      "provenance": [],
      "toc_visible": true,
      "gpuType": "T4",
      "include_colab_link": true
    },
    "kernelspec": {
      "name": "python3",
      "display_name": "Python 3"
    },
    "language_info": {
      "name": "python"
    },
    "accelerator": "GPU"
  },
  "cells": [
    {
      "cell_type": "markdown",
      "metadata": {
        "id": "view-in-github",
        "colab_type": "text"
      },
      "source": [
        "<a href=\"https://colab.research.google.com/github/ykjoy/ML/blob/main/cnn_rnn.ipynb\" target=\"_parent\"><img src=\"https://colab.research.google.com/assets/colab-badge.svg\" alt=\"Open In Colab\"/></a>"
      ]
    },
    {
      "cell_type": "markdown",
      "source": [
        "# CNN 실습"
      ],
      "metadata": {
        "id": "Vt1PNyNNJC1x"
      }
    },
    {
      "cell_type": "markdown",
      "source": [
        "## 패션 Minst 데이터 예측"
      ],
      "metadata": {
        "id": "kHR8Wi1CJlPF"
      }
    },
    {
      "cell_type": "code",
      "source": [
        "from tensorflow import keras\n",
        "# 1. 데이터 입력 준비(패션 Minst)\n",
        "(train_input, train_target),(test_input, test_target) = keras.datasets.fashion_mnist.load_data()\n",
        "train_scaled = train_input/255.0\n",
        "test_scaled = test_input/255.0\n",
        "train_scaled = train_scaled.reshape(-1, 28,28,1)  #-1은 데이터 수, 뒤의 (28,28,1)이 각 그림의 크기임\n",
        "test_scaled = test_scaled.reshape(-1, 28,28, 1)\n",
        "\n",
        "# 2. 신경망 구성\n",
        "convol = keras.layers.Conv2D(32, kernel_size = 3, activation = 'relu', padding='same', input_shape = (28,28,1))\n",
        "# 2차원 모양을 그대로 유지, 흑백이라 1\n",
        "pooling = keras.layers.MaxPooling2D(2)\n",
        "flatten = keras.layers.Flatten()\n",
        "dense = keras.layers.Dense(10, activation = 'softmax')  # 출력층 -   밀집층으로 이전과 동일\n",
        "model = keras.Sequential([convol, pooling, flatten,dense]) #CNN 또는 dense층을 상황에 따라서 추가하면 됨.\n",
        "model.compile(loss = 'sparse_categorical_crossentropy', metrics = 'accuracy')\n",
        "\n",
        "# 3. 신경망 학습\n",
        "model.fit(train_scaled, train_target, epochs = 7, validation_data = (test_scaled,test_target))\n",
        "#4. 성능평가\n",
        "model.evaluate(test_scaled, test_target)"
      ],
      "metadata": {
        "colab": {
          "base_uri": "https://localhost:8080/"
        },
        "id": "6JvP87PJJRm4",
        "outputId": "ced115b0-8606-448a-d377-f70d889341f4"
      },
      "execution_count": 1,
      "outputs": [
        {
          "output_type": "stream",
          "name": "stdout",
          "text": [
            "Downloading data from https://storage.googleapis.com/tensorflow/tf-keras-datasets/train-labels-idx1-ubyte.gz\n",
            "29515/29515 [==============================] - 0s 1us/step\n",
            "Downloading data from https://storage.googleapis.com/tensorflow/tf-keras-datasets/train-images-idx3-ubyte.gz\n",
            "26421880/26421880 [==============================] - 2s 0us/step\n",
            "Downloading data from https://storage.googleapis.com/tensorflow/tf-keras-datasets/t10k-labels-idx1-ubyte.gz\n",
            "5148/5148 [==============================] - 0s 0us/step\n",
            "Downloading data from https://storage.googleapis.com/tensorflow/tf-keras-datasets/t10k-images-idx3-ubyte.gz\n",
            "4422102/4422102 [==============================] - 1s 0us/step\n",
            "Epoch 1/7\n",
            "1875/1875 [==============================] - 18s 3ms/step - loss: 0.4337 - accuracy: 0.8485 - val_loss: 0.3621 - val_accuracy: 0.8734\n",
            "Epoch 2/7\n",
            "1875/1875 [==============================] - 6s 3ms/step - loss: 0.3127 - accuracy: 0.8917 - val_loss: 0.3108 - val_accuracy: 0.8930\n",
            "Epoch 3/7\n",
            "1875/1875 [==============================] - 6s 3ms/step - loss: 0.2830 - accuracy: 0.9009 - val_loss: 0.3132 - val_accuracy: 0.8904\n",
            "Epoch 4/7\n",
            "1875/1875 [==============================] - 7s 3ms/step - loss: 0.2641 - accuracy: 0.9078 - val_loss: 0.2899 - val_accuracy: 0.8988\n",
            "Epoch 5/7\n",
            "1875/1875 [==============================] - 6s 3ms/step - loss: 0.2501 - accuracy: 0.9133 - val_loss: 0.2926 - val_accuracy: 0.8980\n",
            "Epoch 6/7\n",
            "1875/1875 [==============================] - 7s 4ms/step - loss: 0.2392 - accuracy: 0.9175 - val_loss: 0.3004 - val_accuracy: 0.8943\n",
            "Epoch 7/7\n",
            "1875/1875 [==============================] - 6s 3ms/step - loss: 0.2295 - accuracy: 0.9200 - val_loss: 0.2713 - val_accuracy: 0.9052\n",
            "313/313 [==============================] - 1s 3ms/step - loss: 0.2713 - accuracy: 0.9052\n"
          ]
        },
        {
          "output_type": "execute_result",
          "data": {
            "text/plain": [
              "[0.2713024318218231, 0.9052000045776367]"
            ]
          },
          "metadata": {},
          "execution_count": 1
        }
      ]
    },
    {
      "cell_type": "markdown",
      "metadata": {
        "id": "pR1iPeiRg8Sg"
      },
      "source": [
        "# RNN 실습   "
      ]
    },
    {
      "cell_type": "markdown",
      "source": [
        "\n",
        "## 주가 데이터 불러오기"
      ],
      "metadata": {
        "id": "BsC45vy_74jq"
      }
    },
    {
      "cell_type": "code",
      "metadata": {
        "colab": {
          "base_uri": "https://localhost:8080/",
          "height": 79
        },
        "id": "s5ez4kQrDQLp",
        "outputId": "eecf10ec-96dd-4c2c-bba6-1f4088b5f78d"
      },
      "source": [
        "from google.colab import files\n",
        "\n",
        "stock_file = files.upload() #화일을 코랩에 업로드"
      ],
      "execution_count": 5,
      "outputs": [
        {
          "output_type": "display_data",
          "data": {
            "text/plain": [
              "<IPython.core.display.HTML object>"
            ],
            "text/html": [
              "\n",
              "     <input type=\"file\" id=\"files-01fc3cbb-2a19-4ac9-9c32-b0c9aeb8b76c\" name=\"files[]\" multiple disabled\n",
              "        style=\"border:none\" />\n",
              "     <output id=\"result-01fc3cbb-2a19-4ac9-9c32-b0c9aeb8b76c\">\n",
              "      Upload widget is only available when the cell has been executed in the\n",
              "      current browser session. Please rerun this cell to enable.\n",
              "      </output>\n",
              "      <script>// Copyright 2017 Google LLC\n",
              "//\n",
              "// Licensed under the Apache License, Version 2.0 (the \"License\");\n",
              "// you may not use this file except in compliance with the License.\n",
              "// You may obtain a copy of the License at\n",
              "//\n",
              "//      http://www.apache.org/licenses/LICENSE-2.0\n",
              "//\n",
              "// Unless required by applicable law or agreed to in writing, software\n",
              "// distributed under the License is distributed on an \"AS IS\" BASIS,\n",
              "// WITHOUT WARRANTIES OR CONDITIONS OF ANY KIND, either express or implied.\n",
              "// See the License for the specific language governing permissions and\n",
              "// limitations under the License.\n",
              "\n",
              "/**\n",
              " * @fileoverview Helpers for google.colab Python module.\n",
              " */\n",
              "(function(scope) {\n",
              "function span(text, styleAttributes = {}) {\n",
              "  const element = document.createElement('span');\n",
              "  element.textContent = text;\n",
              "  for (const key of Object.keys(styleAttributes)) {\n",
              "    element.style[key] = styleAttributes[key];\n",
              "  }\n",
              "  return element;\n",
              "}\n",
              "\n",
              "// Max number of bytes which will be uploaded at a time.\n",
              "const MAX_PAYLOAD_SIZE = 100 * 1024;\n",
              "\n",
              "function _uploadFiles(inputId, outputId) {\n",
              "  const steps = uploadFilesStep(inputId, outputId);\n",
              "  const outputElement = document.getElementById(outputId);\n",
              "  // Cache steps on the outputElement to make it available for the next call\n",
              "  // to uploadFilesContinue from Python.\n",
              "  outputElement.steps = steps;\n",
              "\n",
              "  return _uploadFilesContinue(outputId);\n",
              "}\n",
              "\n",
              "// This is roughly an async generator (not supported in the browser yet),\n",
              "// where there are multiple asynchronous steps and the Python side is going\n",
              "// to poll for completion of each step.\n",
              "// This uses a Promise to block the python side on completion of each step,\n",
              "// then passes the result of the previous step as the input to the next step.\n",
              "function _uploadFilesContinue(outputId) {\n",
              "  const outputElement = document.getElementById(outputId);\n",
              "  const steps = outputElement.steps;\n",
              "\n",
              "  const next = steps.next(outputElement.lastPromiseValue);\n",
              "  return Promise.resolve(next.value.promise).then((value) => {\n",
              "    // Cache the last promise value to make it available to the next\n",
              "    // step of the generator.\n",
              "    outputElement.lastPromiseValue = value;\n",
              "    return next.value.response;\n",
              "  });\n",
              "}\n",
              "\n",
              "/**\n",
              " * Generator function which is called between each async step of the upload\n",
              " * process.\n",
              " * @param {string} inputId Element ID of the input file picker element.\n",
              " * @param {string} outputId Element ID of the output display.\n",
              " * @return {!Iterable<!Object>} Iterable of next steps.\n",
              " */\n",
              "function* uploadFilesStep(inputId, outputId) {\n",
              "  const inputElement = document.getElementById(inputId);\n",
              "  inputElement.disabled = false;\n",
              "\n",
              "  const outputElement = document.getElementById(outputId);\n",
              "  outputElement.innerHTML = '';\n",
              "\n",
              "  const pickedPromise = new Promise((resolve) => {\n",
              "    inputElement.addEventListener('change', (e) => {\n",
              "      resolve(e.target.files);\n",
              "    });\n",
              "  });\n",
              "\n",
              "  const cancel = document.createElement('button');\n",
              "  inputElement.parentElement.appendChild(cancel);\n",
              "  cancel.textContent = 'Cancel upload';\n",
              "  const cancelPromise = new Promise((resolve) => {\n",
              "    cancel.onclick = () => {\n",
              "      resolve(null);\n",
              "    };\n",
              "  });\n",
              "\n",
              "  // Wait for the user to pick the files.\n",
              "  const files = yield {\n",
              "    promise: Promise.race([pickedPromise, cancelPromise]),\n",
              "    response: {\n",
              "      action: 'starting',\n",
              "    }\n",
              "  };\n",
              "\n",
              "  cancel.remove();\n",
              "\n",
              "  // Disable the input element since further picks are not allowed.\n",
              "  inputElement.disabled = true;\n",
              "\n",
              "  if (!files) {\n",
              "    return {\n",
              "      response: {\n",
              "        action: 'complete',\n",
              "      }\n",
              "    };\n",
              "  }\n",
              "\n",
              "  for (const file of files) {\n",
              "    const li = document.createElement('li');\n",
              "    li.append(span(file.name, {fontWeight: 'bold'}));\n",
              "    li.append(span(\n",
              "        `(${file.type || 'n/a'}) - ${file.size} bytes, ` +\n",
              "        `last modified: ${\n",
              "            file.lastModifiedDate ? file.lastModifiedDate.toLocaleDateString() :\n",
              "                                    'n/a'} - `));\n",
              "    const percent = span('0% done');\n",
              "    li.appendChild(percent);\n",
              "\n",
              "    outputElement.appendChild(li);\n",
              "\n",
              "    const fileDataPromise = new Promise((resolve) => {\n",
              "      const reader = new FileReader();\n",
              "      reader.onload = (e) => {\n",
              "        resolve(e.target.result);\n",
              "      };\n",
              "      reader.readAsArrayBuffer(file);\n",
              "    });\n",
              "    // Wait for the data to be ready.\n",
              "    let fileData = yield {\n",
              "      promise: fileDataPromise,\n",
              "      response: {\n",
              "        action: 'continue',\n",
              "      }\n",
              "    };\n",
              "\n",
              "    // Use a chunked sending to avoid message size limits. See b/62115660.\n",
              "    let position = 0;\n",
              "    do {\n",
              "      const length = Math.min(fileData.byteLength - position, MAX_PAYLOAD_SIZE);\n",
              "      const chunk = new Uint8Array(fileData, position, length);\n",
              "      position += length;\n",
              "\n",
              "      const base64 = btoa(String.fromCharCode.apply(null, chunk));\n",
              "      yield {\n",
              "        response: {\n",
              "          action: 'append',\n",
              "          file: file.name,\n",
              "          data: base64,\n",
              "        },\n",
              "      };\n",
              "\n",
              "      let percentDone = fileData.byteLength === 0 ?\n",
              "          100 :\n",
              "          Math.round((position / fileData.byteLength) * 100);\n",
              "      percent.textContent = `${percentDone}% done`;\n",
              "\n",
              "    } while (position < fileData.byteLength);\n",
              "  }\n",
              "\n",
              "  // All done.\n",
              "  yield {\n",
              "    response: {\n",
              "      action: 'complete',\n",
              "    }\n",
              "  };\n",
              "}\n",
              "\n",
              "scope.google = scope.google || {};\n",
              "scope.google.colab = scope.google.colab || {};\n",
              "scope.google.colab._files = {\n",
              "  _uploadFiles,\n",
              "  _uploadFilesContinue,\n",
              "};\n",
              "})(self);\n",
              "</script> "
            ]
          },
          "metadata": {}
        },
        {
          "output_type": "stream",
          "name": "stdout",
          "text": [
            "Saving 삼성전자_20200101.csv to 삼성전자_20200101.csv\n"
          ]
        }
      ]
    },
    {
      "cell_type": "code",
      "metadata": {
        "id": "T6BNX51nEmRK",
        "colab": {
          "base_uri": "https://localhost:8080/"
        },
        "outputId": "119f70ab-73af-4709-8124-02894b6b08fe"
      },
      "source": [
        "import io\n",
        "import pandas as pd\n",
        "\n",
        "df = pd.read_csv(io.BytesIO(stock_file[\"삼성전자_20200101.csv\"])) #데이터프레임으로 불러오기, null포함\n",
        "print(df.head())\n",
        "df.info()"
      ],
      "execution_count": 7,
      "outputs": [
        {
          "output_type": "stream",
          "name": "stdout",
          "text": [
            "         Date     Open     High      Low    Close     Adj Close    Volume\n",
            "0  2020-01-02  55500.0  56000.0  55000.0  55200.0  50037.410156  12993228\n",
            "1  2020-01-03  56000.0  56600.0  54900.0  55500.0  50309.359375  15422255\n",
            "2  2020-01-06  54900.0  55600.0  54600.0  55500.0  50309.359375  10278951\n",
            "3  2020-01-07  55700.0  56400.0  55600.0  55800.0  50581.296875  10009778\n",
            "4  2020-01-08  56200.0  57400.0  55900.0  56800.0  51487.773438  23501171\n",
            "<class 'pandas.core.frame.DataFrame'>\n",
            "RangeIndex: 930 entries, 0 to 929\n",
            "Data columns (total 7 columns):\n",
            " #   Column     Non-Null Count  Dtype  \n",
            "---  ------     --------------  -----  \n",
            " 0   Date       930 non-null    object \n",
            " 1   Open       930 non-null    float64\n",
            " 2   High       930 non-null    float64\n",
            " 3   Low        930 non-null    float64\n",
            " 4   Close      930 non-null    float64\n",
            " 5   Adj Close  930 non-null    float64\n",
            " 6   Volume     930 non-null    int64  \n",
            "dtypes: float64(5), int64(1), object(1)\n",
            "memory usage: 51.0+ KB\n"
          ]
        }
      ]
    },
    {
      "cell_type": "code",
      "metadata": {
        "colab": {
          "base_uri": "https://localhost:8080/"
        },
        "id": "NrvDpfSO362h",
        "outputId": "efe5eeb9-6643-4bdd-fd42-ea75fc5ae5ba"
      },
      "source": [
        "df = df.dropna(axis =0)  #결측값 있다면 행 전체 제거\n",
        "df.shape"
      ],
      "execution_count": 8,
      "outputs": [
        {
          "output_type": "execute_result",
          "data": {
            "text/plain": [
              "(930, 7)"
            ]
          },
          "metadata": {},
          "execution_count": 8
        }
      ]
    },
    {
      "cell_type": "code",
      "source": [
        "## 구글 드라이브를 이용하는 경우\n",
        "## from google.colab import drive\n",
        "## drive.mount('/content/drive')\n",
        "\n",
        "## df = pd.read_csv(\"/content/drive/MyDrive/Colab Notebooks/Data/삼성전자.csv\")"
      ],
      "metadata": {
        "id": "zkR5FTZk--j6"
      },
      "execution_count": null,
      "outputs": []
    },
    {
      "cell_type": "markdown",
      "metadata": {
        "id": "QgNmnuvNhGfl"
      },
      "source": [
        "## 데이터 전처리"
      ]
    },
    {
      "cell_type": "code",
      "metadata": {
        "colab": {
          "base_uri": "https://localhost:8080/"
        },
        "id": "oxMgfum8SnL1",
        "outputId": "aaa56559-be4a-438f-a22d-8407e9401da5"
      },
      "source": [
        "df_x = df[['Open','High','Low', 'Volume', 'Adj Close']] #독립변수로 사용할 변수만 모았음/또는 df.drop([삭제할것, ], axis =1)\n",
        "df_y = df[['Adj Close']]\n",
        "print(df_x.head(5))"
      ],
      "execution_count": 9,
      "outputs": [
        {
          "output_type": "stream",
          "name": "stdout",
          "text": [
            "      Open     High      Low    Volume     Adj Close\n",
            "0  55500.0  56000.0  55000.0  12993228  50037.410156\n",
            "1  56000.0  56600.0  54900.0  15422255  50309.359375\n",
            "2  54900.0  55600.0  54600.0  10278951  50309.359375\n",
            "3  55700.0  56400.0  55600.0  10009778  50581.296875\n",
            "4  56200.0  57400.0  55900.0  23501171  51487.773438\n"
          ]
        }
      ]
    },
    {
      "cell_type": "code",
      "metadata": {
        "id": "pgQNVPsSXb5g"
      },
      "source": [
        "# scikit-learn의 MinMaxScaler로 독립변수를 0~1로 변환: 값-최소값/(최대값-최소값)\n",
        "# 거래량은 단위가 다름\n",
        "\n",
        "from sklearn.preprocessing import MinMaxScaler  #(값-최소)/(최대-최소)\n",
        "\n",
        "scaler = MinMaxScaler()\n",
        "scale_x = scaler.fit_transform(df_x)\n",
        "scale_y = scaler.fit_transform(df_y)  #모든 행, 마지막 열 종가"
      ],
      "execution_count": 12,
      "outputs": []
    },
    {
      "cell_type": "code",
      "metadata": {
        "colab": {
          "base_uri": "https://localhost:8080/"
        },
        "id": "Zn2FJ6p6ZHl6",
        "outputId": "9d006499-77cd-422d-c009-a3a47c0bff17"
      },
      "source": [
        "# 입력 10일치의 [시가, 고가, 저가, 거래량, 종가] 를 2차원 배열로 구성\n",
        "# 타겟  다음날의 [종가]\n",
        "import numpy as np\n",
        "\n",
        "# 데이터 정제  과거 *일, 다음날 종가\n",
        "x = []\n",
        "y= []\n",
        "\n",
        "window_size = 10 # 과거 10일일때\n",
        "\n",
        "print(len(scale_y))\n",
        "for i in range(len(scale_y)-window_size): # 마지막 10개 종속변수가 없음.\n",
        "  current_x = scale_x[i:i+window_size]\n",
        "  current_y = scale_y[[i+window_size]]\n",
        "  x.append(current_x)\n",
        "  y.append(current_y)\n",
        "\n",
        "x = np.array(x)\n",
        "y = np.array(y)\n",
        "print(x[0],\"->\",y[0])\n",
        "print(x[1],\"->\",y[1])"
      ],
      "execution_count": 14,
      "outputs": [
        {
          "output_type": "stream",
          "name": "stdout",
          "text": [
            "930\n",
            "[[0.61461794 0.5785124  0.61452514 0.14387973 0.24103566]\n",
            " [0.62015504 0.58471074 0.61340782 0.17077741 0.24672956]\n",
            " [0.60797342 0.57438017 0.61005587 0.11382334 0.24672956]\n",
            " [0.61683278 0.58264463 0.62122905 0.11084267 0.25242321]\n",
            " [0.62236988 0.59297521 0.62458101 0.2602388  0.27140243]\n",
            " [0.64673311 0.6053719  0.64134078 0.26689845 0.30556484]\n",
            " [0.65116279 0.61673554 0.65139665 0.17717692 0.3226462 ]\n",
            " [0.66002215 0.61983471 0.6603352  0.12578474 0.33213581]\n",
            " [0.66888151 0.63016529 0.66927374 0.18721084 0.33213581]\n",
            " [0.65891473 0.61570248 0.65810056 0.15836046 0.31315659]] -> [[0.3454213]]\n",
            "[[0.62015504 0.58471074 0.61340782 0.17077741 0.24672956]\n",
            " [0.60797342 0.57438017 0.61005587 0.11382334 0.24672956]\n",
            " [0.61683278 0.58264463 0.62122905 0.11084267 0.25242321]\n",
            " [0.62236988 0.59297521 0.62458101 0.2602388  0.27140243]\n",
            " [0.64673311 0.6053719  0.64134078 0.26689845 0.30556484]\n",
            " [0.65116279 0.61673554 0.65139665 0.17717692 0.3226462 ]\n",
            " [0.66002215 0.61983471 0.6603352  0.12578474 0.33213581]\n",
            " [0.66888151 0.63016529 0.66927374 0.18721084 0.33213581]\n",
            " [0.65891473 0.61570248 0.65810056 0.15836046 0.31315659]\n",
            " [0.65448505 0.62706612 0.65921788 0.15925571 0.3454213 ]] -> [[0.35680869]]\n"
          ]
        }
      ]
    },
    {
      "cell_type": "markdown",
      "metadata": {
        "id": "VWWq6yu_gWOK"
      },
      "source": [
        "## LSTM 이용 주가 예측\n"
      ]
    },
    {
      "cell_type": "code",
      "metadata": {
        "id": "gfbLqMjtdnml"
      },
      "source": [
        "from sklearn.model_selection import train_test_split\n",
        "\n",
        "x_train, x_test, y_train,y_test = train_test_split(x,y,test_size = 0.3, shuffle  = False) # 시계열데이터는 섞으면 안됨."
      ],
      "execution_count": 15,
      "outputs": []
    },
    {
      "cell_type": "code",
      "metadata": {
        "colab": {
          "base_uri": "https://localhost:8080/"
        },
        "id": "Ud4YE41ndmTL",
        "outputId": "6beca988-e4e4-43f8-811e-c4bd29bf50ea"
      },
      "source": [
        "from tensorflow import keras\n",
        "\n",
        "model = keras.Sequential()\n",
        "model.add(keras.layers.LSTM(10, return_sequences = True, input_shape = (window_size, 5)))\n",
        "model.add(keras.layers.LSTM(10))\n",
        "model.add(keras.layers.Dense(1))\n",
        "model.compile(optimizer = 'adam', loss = 'mse')\n",
        "model.summary()"
      ],
      "execution_count": 16,
      "outputs": [
        {
          "output_type": "stream",
          "name": "stdout",
          "text": [
            "Model: \"sequential\"\n",
            "_________________________________________________________________\n",
            " Layer (type)                Output Shape              Param #   \n",
            "=================================================================\n",
            " lstm (LSTM)                 (None, 10, 10)            640       \n",
            "                                                                 \n",
            " lstm_1 (LSTM)               (None, 10)                840       \n",
            "                                                                 \n",
            " dense (Dense)               (None, 1)                 11        \n",
            "                                                                 \n",
            "=================================================================\n",
            "Total params: 1491 (5.82 KB)\n",
            "Trainable params: 1491 (5.82 KB)\n",
            "Non-trainable params: 0 (0.00 Byte)\n",
            "_________________________________________________________________\n"
          ]
        }
      ]
    },
    {
      "cell_type": "code",
      "metadata": {
        "colab": {
          "base_uri": "https://localhost:8080/"
        },
        "id": "xpvzfi4LtWzV",
        "outputId": "a438cd60-fce9-454f-e2e4-0165e31ce18f"
      },
      "source": [
        "model.fit(x_train, y_train, epochs = 20)\n",
        "pred_y = model.predict(x_test)\n",
        "print(\"MSE: \",model.evaluate(x_test,y_test))"
      ],
      "execution_count": 17,
      "outputs": [
        {
          "output_type": "stream",
          "name": "stdout",
          "text": [
            "Epoch 1/20\n",
            "21/21 [==============================] - 6s 21ms/step - loss: 0.2753\n",
            "Epoch 2/20\n",
            "21/21 [==============================] - 0s 14ms/step - loss: 0.0485\n",
            "Epoch 3/20\n",
            "21/21 [==============================] - 0s 13ms/step - loss: 0.0311\n",
            "Epoch 4/20\n",
            "21/21 [==============================] - 0s 12ms/step - loss: 0.0242\n",
            "Epoch 5/20\n",
            "21/21 [==============================] - 0s 12ms/step - loss: 0.0183\n",
            "Epoch 6/20\n",
            "21/21 [==============================] - 0s 12ms/step - loss: 0.0122\n",
            "Epoch 7/20\n",
            "21/21 [==============================] - 0s 13ms/step - loss: 0.0066\n",
            "Epoch 8/20\n",
            "21/21 [==============================] - 0s 12ms/step - loss: 0.0033\n",
            "Epoch 9/20\n",
            "21/21 [==============================] - 0s 14ms/step - loss: 0.0021\n",
            "Epoch 10/20\n",
            "21/21 [==============================] - 0s 14ms/step - loss: 0.0021\n",
            "Epoch 11/20\n",
            "21/21 [==============================] - 0s 13ms/step - loss: 0.0020\n",
            "Epoch 12/20\n",
            "21/21 [==============================] - 0s 13ms/step - loss: 0.0021\n",
            "Epoch 13/20\n",
            "21/21 [==============================] - 0s 14ms/step - loss: 0.0020\n",
            "Epoch 14/20\n",
            "21/21 [==============================] - 0s 15ms/step - loss: 0.0020\n",
            "Epoch 15/20\n",
            "21/21 [==============================] - 0s 14ms/step - loss: 0.0020\n",
            "Epoch 16/20\n",
            "21/21 [==============================] - 0s 15ms/step - loss: 0.0020\n",
            "Epoch 17/20\n",
            "21/21 [==============================] - 0s 14ms/step - loss: 0.0019\n",
            "Epoch 18/20\n",
            "21/21 [==============================] - 0s 14ms/step - loss: 0.0020\n",
            "Epoch 19/20\n",
            "21/21 [==============================] - 0s 14ms/step - loss: 0.0019\n",
            "Epoch 20/20\n",
            "21/21 [==============================] - 0s 14ms/step - loss: 0.0019\n",
            "9/9 [==============================] - 1s 4ms/step\n",
            "9/9 [==============================] - 1s 4ms/step - loss: 0.0011\n",
            "MSE:  0.0011302451603114605\n"
          ]
        }
      ]
    },
    {
      "cell_type": "code",
      "metadata": {
        "colab": {
          "base_uri": "https://localhost:8080/"
        },
        "id": "nTBdGlPftswM",
        "outputId": "fb267bde-0b2e-48f4-a9a0-dfc128107c47"
      },
      "source": [
        "pred_y.shape"
      ],
      "execution_count": 18,
      "outputs": [
        {
          "output_type": "execute_result",
          "data": {
            "text/plain": [
              "(276, 1)"
            ]
          },
          "metadata": {},
          "execution_count": 18
        }
      ]
    },
    {
      "cell_type": "code",
      "metadata": {
        "colab": {
          "base_uri": "https://localhost:8080/"
        },
        "id": "WEm1nQkZ8XXn",
        "outputId": "33785259-f84e-4acc-dbd2-d2e72e34b4f4"
      },
      "source": [
        "print(pred_y[0])"
      ],
      "execution_count": 19,
      "outputs": [
        {
          "output_type": "stream",
          "name": "stdout",
          "text": [
            "[0.4193722]\n"
          ]
        }
      ]
    },
    {
      "cell_type": "code",
      "metadata": {
        "id": "XHmONXlG-djG",
        "colab": {
          "base_uri": "https://localhost:8080/"
        },
        "outputId": "b7efc282-e053-4b33-c998-61ee87962566"
      },
      "source": [
        "pred_y = scaler.inverse_transform(pred_y)  #원래 단위로 inverse transform\n",
        "print(pred_y[0])\n"
      ],
      "execution_count": 20,
      "outputs": [
        {
          "output_type": "stream",
          "name": "stdout",
          "text": [
            "[58555.035]\n"
          ]
        }
      ]
    },
    {
      "cell_type": "code",
      "source": [
        "y_train.shape"
      ],
      "metadata": {
        "colab": {
          "base_uri": "https://localhost:8080/"
        },
        "id": "AHJXYFzgFcF5",
        "outputId": "b660766d-f8a0-48cf-c3dc-af4b6e369e9f"
      },
      "execution_count": 35,
      "outputs": [
        {
          "output_type": "execute_result",
          "data": {
            "text/plain": [
              "(644, 1, 1)"
            ]
          },
          "metadata": {},
          "execution_count": 35
        }
      ]
    },
    {
      "cell_type": "code",
      "metadata": {
        "id": "lxfo-OC0CVpp",
        "colab": {
          "base_uri": "https://localhost:8080/",
          "height": 206
        },
        "outputId": "5b452304-2974-495f-f35c-6623f8b7ce0d"
      },
      "source": [
        "result_df =  df.loc[654:,['Date', 'Adj Close']] #테스트데이터가 654부터 시작됨.\n",
        "result_df['Pred Close'] = pred_y\n",
        "result_df.head()"
      ],
      "execution_count": 39,
      "outputs": [
        {
          "output_type": "execute_result",
          "data": {
            "text/plain": [
              "           Date     Adj Close    Pred Close\n",
              "654  2022-08-26  58586.953125  58555.035156\n",
              "655  2022-08-29  57219.921875  58474.804688\n",
              "656  2022-08-30  57415.214844  58285.906250\n",
              "657  2022-08-31  58294.015625  58045.839844\n",
              "658  2022-09-01  57024.632813  57897.234375"
            ],
            "text/html": [
              "\n",
              "  <div id=\"df-498a82ba-cbda-4613-8af1-43f8d1051331\" class=\"colab-df-container\">\n",
              "    <div>\n",
              "<style scoped>\n",
              "    .dataframe tbody tr th:only-of-type {\n",
              "        vertical-align: middle;\n",
              "    }\n",
              "\n",
              "    .dataframe tbody tr th {\n",
              "        vertical-align: top;\n",
              "    }\n",
              "\n",
              "    .dataframe thead th {\n",
              "        text-align: right;\n",
              "    }\n",
              "</style>\n",
              "<table border=\"1\" class=\"dataframe\">\n",
              "  <thead>\n",
              "    <tr style=\"text-align: right;\">\n",
              "      <th></th>\n",
              "      <th>Date</th>\n",
              "      <th>Adj Close</th>\n",
              "      <th>Pred Close</th>\n",
              "    </tr>\n",
              "  </thead>\n",
              "  <tbody>\n",
              "    <tr>\n",
              "      <th>654</th>\n",
              "      <td>2022-08-26</td>\n",
              "      <td>58586.953125</td>\n",
              "      <td>58555.035156</td>\n",
              "    </tr>\n",
              "    <tr>\n",
              "      <th>655</th>\n",
              "      <td>2022-08-29</td>\n",
              "      <td>57219.921875</td>\n",
              "      <td>58474.804688</td>\n",
              "    </tr>\n",
              "    <tr>\n",
              "      <th>656</th>\n",
              "      <td>2022-08-30</td>\n",
              "      <td>57415.214844</td>\n",
              "      <td>58285.906250</td>\n",
              "    </tr>\n",
              "    <tr>\n",
              "      <th>657</th>\n",
              "      <td>2022-08-31</td>\n",
              "      <td>58294.015625</td>\n",
              "      <td>58045.839844</td>\n",
              "    </tr>\n",
              "    <tr>\n",
              "      <th>658</th>\n",
              "      <td>2022-09-01</td>\n",
              "      <td>57024.632813</td>\n",
              "      <td>57897.234375</td>\n",
              "    </tr>\n",
              "  </tbody>\n",
              "</table>\n",
              "</div>\n",
              "    <div class=\"colab-df-buttons\">\n",
              "\n",
              "  <div class=\"colab-df-container\">\n",
              "    <button class=\"colab-df-convert\" onclick=\"convertToInteractive('df-498a82ba-cbda-4613-8af1-43f8d1051331')\"\n",
              "            title=\"Convert this dataframe to an interactive table.\"\n",
              "            style=\"display:none;\">\n",
              "\n",
              "  <svg xmlns=\"http://www.w3.org/2000/svg\" height=\"24px\" viewBox=\"0 -960 960 960\">\n",
              "    <path d=\"M120-120v-720h720v720H120Zm60-500h600v-160H180v160Zm220 220h160v-160H400v160Zm0 220h160v-160H400v160ZM180-400h160v-160H180v160Zm440 0h160v-160H620v160ZM180-180h160v-160H180v160Zm440 0h160v-160H620v160Z\"/>\n",
              "  </svg>\n",
              "    </button>\n",
              "\n",
              "  <style>\n",
              "    .colab-df-container {\n",
              "      display:flex;\n",
              "      gap: 12px;\n",
              "    }\n",
              "\n",
              "    .colab-df-convert {\n",
              "      background-color: #E8F0FE;\n",
              "      border: none;\n",
              "      border-radius: 50%;\n",
              "      cursor: pointer;\n",
              "      display: none;\n",
              "      fill: #1967D2;\n",
              "      height: 32px;\n",
              "      padding: 0 0 0 0;\n",
              "      width: 32px;\n",
              "    }\n",
              "\n",
              "    .colab-df-convert:hover {\n",
              "      background-color: #E2EBFA;\n",
              "      box-shadow: 0px 1px 2px rgba(60, 64, 67, 0.3), 0px 1px 3px 1px rgba(60, 64, 67, 0.15);\n",
              "      fill: #174EA6;\n",
              "    }\n",
              "\n",
              "    .colab-df-buttons div {\n",
              "      margin-bottom: 4px;\n",
              "    }\n",
              "\n",
              "    [theme=dark] .colab-df-convert {\n",
              "      background-color: #3B4455;\n",
              "      fill: #D2E3FC;\n",
              "    }\n",
              "\n",
              "    [theme=dark] .colab-df-convert:hover {\n",
              "      background-color: #434B5C;\n",
              "      box-shadow: 0px 1px 3px 1px rgba(0, 0, 0, 0.15);\n",
              "      filter: drop-shadow(0px 1px 2px rgba(0, 0, 0, 0.3));\n",
              "      fill: #FFFFFF;\n",
              "    }\n",
              "  </style>\n",
              "\n",
              "    <script>\n",
              "      const buttonEl =\n",
              "        document.querySelector('#df-498a82ba-cbda-4613-8af1-43f8d1051331 button.colab-df-convert');\n",
              "      buttonEl.style.display =\n",
              "        google.colab.kernel.accessAllowed ? 'block' : 'none';\n",
              "\n",
              "      async function convertToInteractive(key) {\n",
              "        const element = document.querySelector('#df-498a82ba-cbda-4613-8af1-43f8d1051331');\n",
              "        const dataTable =\n",
              "          await google.colab.kernel.invokeFunction('convertToInteractive',\n",
              "                                                    [key], {});\n",
              "        if (!dataTable) return;\n",
              "\n",
              "        const docLinkHtml = 'Like what you see? Visit the ' +\n",
              "          '<a target=\"_blank\" href=https://colab.research.google.com/notebooks/data_table.ipynb>data table notebook</a>'\n",
              "          + ' to learn more about interactive tables.';\n",
              "        element.innerHTML = '';\n",
              "        dataTable['output_type'] = 'display_data';\n",
              "        await google.colab.output.renderOutput(dataTable, element);\n",
              "        const docLink = document.createElement('div');\n",
              "        docLink.innerHTML = docLinkHtml;\n",
              "        element.appendChild(docLink);\n",
              "      }\n",
              "    </script>\n",
              "  </div>\n",
              "\n",
              "\n",
              "<div id=\"df-3a30e7e5-3056-47bf-bf48-c5447be862fc\">\n",
              "  <button class=\"colab-df-quickchart\" onclick=\"quickchart('df-3a30e7e5-3056-47bf-bf48-c5447be862fc')\"\n",
              "            title=\"Suggest charts.\"\n",
              "            style=\"display:none;\">\n",
              "\n",
              "<svg xmlns=\"http://www.w3.org/2000/svg\" height=\"24px\"viewBox=\"0 0 24 24\"\n",
              "     width=\"24px\">\n",
              "    <g>\n",
              "        <path d=\"M19 3H5c-1.1 0-2 .9-2 2v14c0 1.1.9 2 2 2h14c1.1 0 2-.9 2-2V5c0-1.1-.9-2-2-2zM9 17H7v-7h2v7zm4 0h-2V7h2v10zm4 0h-2v-4h2v4z\"/>\n",
              "    </g>\n",
              "</svg>\n",
              "  </button>\n",
              "\n",
              "<style>\n",
              "  .colab-df-quickchart {\n",
              "      --bg-color: #E8F0FE;\n",
              "      --fill-color: #1967D2;\n",
              "      --hover-bg-color: #E2EBFA;\n",
              "      --hover-fill-color: #174EA6;\n",
              "      --disabled-fill-color: #AAA;\n",
              "      --disabled-bg-color: #DDD;\n",
              "  }\n",
              "\n",
              "  [theme=dark] .colab-df-quickchart {\n",
              "      --bg-color: #3B4455;\n",
              "      --fill-color: #D2E3FC;\n",
              "      --hover-bg-color: #434B5C;\n",
              "      --hover-fill-color: #FFFFFF;\n",
              "      --disabled-bg-color: #3B4455;\n",
              "      --disabled-fill-color: #666;\n",
              "  }\n",
              "\n",
              "  .colab-df-quickchart {\n",
              "    background-color: var(--bg-color);\n",
              "    border: none;\n",
              "    border-radius: 50%;\n",
              "    cursor: pointer;\n",
              "    display: none;\n",
              "    fill: var(--fill-color);\n",
              "    height: 32px;\n",
              "    padding: 0;\n",
              "    width: 32px;\n",
              "  }\n",
              "\n",
              "  .colab-df-quickchart:hover {\n",
              "    background-color: var(--hover-bg-color);\n",
              "    box-shadow: 0 1px 2px rgba(60, 64, 67, 0.3), 0 1px 3px 1px rgba(60, 64, 67, 0.15);\n",
              "    fill: var(--button-hover-fill-color);\n",
              "  }\n",
              "\n",
              "  .colab-df-quickchart-complete:disabled,\n",
              "  .colab-df-quickchart-complete:disabled:hover {\n",
              "    background-color: var(--disabled-bg-color);\n",
              "    fill: var(--disabled-fill-color);\n",
              "    box-shadow: none;\n",
              "  }\n",
              "\n",
              "  .colab-df-spinner {\n",
              "    border: 2px solid var(--fill-color);\n",
              "    border-color: transparent;\n",
              "    border-bottom-color: var(--fill-color);\n",
              "    animation:\n",
              "      spin 1s steps(1) infinite;\n",
              "  }\n",
              "\n",
              "  @keyframes spin {\n",
              "    0% {\n",
              "      border-color: transparent;\n",
              "      border-bottom-color: var(--fill-color);\n",
              "      border-left-color: var(--fill-color);\n",
              "    }\n",
              "    20% {\n",
              "      border-color: transparent;\n",
              "      border-left-color: var(--fill-color);\n",
              "      border-top-color: var(--fill-color);\n",
              "    }\n",
              "    30% {\n",
              "      border-color: transparent;\n",
              "      border-left-color: var(--fill-color);\n",
              "      border-top-color: var(--fill-color);\n",
              "      border-right-color: var(--fill-color);\n",
              "    }\n",
              "    40% {\n",
              "      border-color: transparent;\n",
              "      border-right-color: var(--fill-color);\n",
              "      border-top-color: var(--fill-color);\n",
              "    }\n",
              "    60% {\n",
              "      border-color: transparent;\n",
              "      border-right-color: var(--fill-color);\n",
              "    }\n",
              "    80% {\n",
              "      border-color: transparent;\n",
              "      border-right-color: var(--fill-color);\n",
              "      border-bottom-color: var(--fill-color);\n",
              "    }\n",
              "    90% {\n",
              "      border-color: transparent;\n",
              "      border-bottom-color: var(--fill-color);\n",
              "    }\n",
              "  }\n",
              "</style>\n",
              "\n",
              "  <script>\n",
              "    async function quickchart(key) {\n",
              "      const quickchartButtonEl =\n",
              "        document.querySelector('#' + key + ' button');\n",
              "      quickchartButtonEl.disabled = true;  // To prevent multiple clicks.\n",
              "      quickchartButtonEl.classList.add('colab-df-spinner');\n",
              "      try {\n",
              "        const charts = await google.colab.kernel.invokeFunction(\n",
              "            'suggestCharts', [key], {});\n",
              "      } catch (error) {\n",
              "        console.error('Error during call to suggestCharts:', error);\n",
              "      }\n",
              "      quickchartButtonEl.classList.remove('colab-df-spinner');\n",
              "      quickchartButtonEl.classList.add('colab-df-quickchart-complete');\n",
              "    }\n",
              "    (() => {\n",
              "      let quickchartButtonEl =\n",
              "        document.querySelector('#df-3a30e7e5-3056-47bf-bf48-c5447be862fc button');\n",
              "      quickchartButtonEl.style.display =\n",
              "        google.colab.kernel.accessAllowed ? 'block' : 'none';\n",
              "    })();\n",
              "  </script>\n",
              "</div>\n",
              "    </div>\n",
              "  </div>\n"
            ]
          },
          "metadata": {},
          "execution_count": 39
        }
      ]
    },
    {
      "cell_type": "markdown",
      "metadata": {
        "id": "BS6LViKxIPh-"
      },
      "source": [
        "## 그래프로 그리기"
      ]
    },
    {
      "cell_type": "code",
      "metadata": {
        "colab": {
          "base_uri": "https://localhost:8080/",
          "height": 282
        },
        "id": "X3sOhvkTITIa",
        "outputId": "056150f3-b9b5-4867-8d26-dcadbeace739"
      },
      "source": [
        "import matplotlib.pyplot as plt\n",
        "\n",
        "plt.figure(figsize = (25,10))   #크기 늘려줌\n",
        "plt.plot(result_df['Date'], result_df['Adj Close'], c='r')\n",
        "plt.plot(result_df['Date'], result_df['Pred Close'], c='b')\n",
        "plt.title(\"Stock price prediction by RNN\")\n",
        "plt.xlabel('Date')\n",
        "plt.ylabel(\"Won\")\n",
        "\n",
        "plt.legend(['Real Price', 'Predict Price'])  #계열 표시\n",
        "plt.xticks(np.arange(0, len(result_df['Date']), 15)) #X간격 10일에 한번씩만 찍기\n",
        "\n",
        "plt.show()"
      ],
      "execution_count": 41,
      "outputs": [
        {
          "output_type": "display_data",
          "data": {
            "text/plain": [
              "<Figure size 2500x1000 with 1 Axes>"
            ],
            "image/png": "[encoded data removed]"
          },
          "metadata": {}
        }
      ]
    }
  ]
}