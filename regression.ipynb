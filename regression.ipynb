{
  "nbformat": 4,
  "nbformat_minor": 0,
  "metadata": {
    "colab": {
      "name": "regression_done.ipynb",
      "provenance": [],
      "collapsed_sections": [],
      "toc_visible": true
    },
    "kernelspec": {
      "name": "python3",
      "display_name": "Python 3"
    },
    "language_info": {
      "name": "python"
    }
  },
  "cells": [
    {
      "cell_type": "markdown",
      "metadata": {
        "id": "hyKtSXqXysAK"
      },
      "source": [
        "# 데이터 전처리 (Data Preprocessing)   \n",
        "\n",
        "데이터 분석 모델을 선정하는 것 만큼 어떤 데이터를 입력값으로 가지느냐에 따라 분석 결과는 크게 달라질 수 있으므로 다음과 같은 데이터 전처리 과정이 필요하다. (Garbage In, Garbage Out). \n",
        "\n",
        "- 결측치 (Missing Data) 처리\n",
        "- 데이터 인코딩 (Encoding) \n",
        "- 데이터 스케일링 조정 \n",
        "\n",
        "*본 실습은 파이썬 머신러닝 완벽 가이드(권철민, 위키북스, 2020), 파이썬 라이브러리를 활용한 머신러닝 (A.Mueller & S.Guido, 박해선 역, 한빛미디어, 2019) 교재 참고"
      ]
    },
    {
      "cell_type": "code",
      "metadata": {
        "id": "kGA3lk3Xx-LG",
        "colab": {
          "base_uri": "https://localhost:8080/"
        },
        "outputId": "0e942849-cb4c-4ff7-c05b-0ac195a18d4a"
      },
      "source": [
        "# 간단하게 그림을 그릴 수 있는 mglearn 라이브러리 사용 (!pip install mglearn 명령어로 설치)\n",
        "!pip install mglearn\n",
        "import mglearn\n",
        "\n",
        "%matplotlib inline\n",
        "import pandas as pd\n",
        "import numpy as np\n",
        "import seaborn as sns           # Seaborn 로딩하기\n",
        "import matplotlib.pyplot as plt # Matplotlib의 pyplot 로딩하기"
      ],
      "execution_count": 19,
      "outputs": [
        {
          "output_type": "stream",
          "name": "stdout",
          "text": [
            "Collecting mglearn\n",
            "  Downloading mglearn-0.1.9.tar.gz (540 kB)\n",
            "\u001b[?25l\r\u001b[K     |▋                               | 10 kB 13.4 MB/s eta 0:00:01\r\u001b[K     |█▏                              | 20 kB 16.3 MB/s eta 0:00:01\r\u001b[K     |█▉                              | 30 kB 12.1 MB/s eta 0:00:01\r\u001b[K     |██▍                             | 40 kB 9.2 MB/s eta 0:00:01\r\u001b[K     |███                             | 51 kB 4.6 MB/s eta 0:00:01\r\u001b[K     |███▋                            | 61 kB 5.4 MB/s eta 0:00:01\r\u001b[K     |████▎                           | 71 kB 5.5 MB/s eta 0:00:01\r\u001b[K     |████▉                           | 81 kB 5.5 MB/s eta 0:00:01\r\u001b[K     |█████▌                          | 92 kB 6.0 MB/s eta 0:00:01\r\u001b[K     |██████                          | 102 kB 5.0 MB/s eta 0:00:01\r\u001b[K     |██████▊                         | 112 kB 5.0 MB/s eta 0:00:01\r\u001b[K     |███████▎                        | 122 kB 5.0 MB/s eta 0:00:01\r\u001b[K     |███████▉                        | 133 kB 5.0 MB/s eta 0:00:01\r\u001b[K     |████████▌                       | 143 kB 5.0 MB/s eta 0:00:01\r\u001b[K     |█████████                       | 153 kB 5.0 MB/s eta 0:00:01\r\u001b[K     |█████████▊                      | 163 kB 5.0 MB/s eta 0:00:01\r\u001b[K     |██████████▎                     | 174 kB 5.0 MB/s eta 0:00:01\r\u001b[K     |███████████                     | 184 kB 5.0 MB/s eta 0:00:01\r\u001b[K     |███████████▌                    | 194 kB 5.0 MB/s eta 0:00:01\r\u001b[K     |████████████▏                   | 204 kB 5.0 MB/s eta 0:00:01\r\u001b[K     |████████████▊                   | 215 kB 5.0 MB/s eta 0:00:01\r\u001b[K     |█████████████▍                  | 225 kB 5.0 MB/s eta 0:00:01\r\u001b[K     |██████████████                  | 235 kB 5.0 MB/s eta 0:00:01\r\u001b[K     |██████████████▋                 | 245 kB 5.0 MB/s eta 0:00:01\r\u001b[K     |███████████████▏                | 256 kB 5.0 MB/s eta 0:00:01\r\u001b[K     |███████████████▊                | 266 kB 5.0 MB/s eta 0:00:01\r\u001b[K     |████████████████▍               | 276 kB 5.0 MB/s eta 0:00:01\r\u001b[K     |█████████████████               | 286 kB 5.0 MB/s eta 0:00:01\r\u001b[K     |█████████████████▋              | 296 kB 5.0 MB/s eta 0:00:01\r\u001b[K     |██████████████████▏             | 307 kB 5.0 MB/s eta 0:00:01\r\u001b[K     |██████████████████▉             | 317 kB 5.0 MB/s eta 0:00:01\r\u001b[K     |███████████████████▍            | 327 kB 5.0 MB/s eta 0:00:01\r\u001b[K     |████████████████████            | 337 kB 5.0 MB/s eta 0:00:01\r\u001b[K     |████████████████████▋           | 348 kB 5.0 MB/s eta 0:00:01\r\u001b[K     |█████████████████████▎          | 358 kB 5.0 MB/s eta 0:00:01\r\u001b[K     |█████████████████████▉          | 368 kB 5.0 MB/s eta 0:00:01\r\u001b[K     |██████████████████████▌         | 378 kB 5.0 MB/s eta 0:00:01\r\u001b[K     |███████████████████████         | 389 kB 5.0 MB/s eta 0:00:01\r\u001b[K     |███████████████████████▋        | 399 kB 5.0 MB/s eta 0:00:01\r\u001b[K     |████████████████████████▎       | 409 kB 5.0 MB/s eta 0:00:01\r\u001b[K     |████████████████████████▉       | 419 kB 5.0 MB/s eta 0:00:01\r\u001b[K     |█████████████████████████▌      | 430 kB 5.0 MB/s eta 0:00:01\r\u001b[K     |██████████████████████████      | 440 kB 5.0 MB/s eta 0:00:01\r\u001b[K     |██████████████████████████▊     | 450 kB 5.0 MB/s eta 0:00:01\r\u001b[K     |███████████████████████████▎    | 460 kB 5.0 MB/s eta 0:00:01\r\u001b[K     |████████████████████████████    | 471 kB 5.0 MB/s eta 0:00:01\r\u001b[K     |████████████████████████████▌   | 481 kB 5.0 MB/s eta 0:00:01\r\u001b[K     |█████████████████████████████▏  | 491 kB 5.0 MB/s eta 0:00:01\r\u001b[K     |█████████████████████████████▊  | 501 kB 5.0 MB/s eta 0:00:01\r\u001b[K     |██████████████████████████████▍ | 512 kB 5.0 MB/s eta 0:00:01\r\u001b[K     |███████████████████████████████ | 522 kB 5.0 MB/s eta 0:00:01\r\u001b[K     |███████████████████████████████▌| 532 kB 5.0 MB/s eta 0:00:01\r\u001b[K     |████████████████████████████████| 540 kB 5.0 MB/s \n",
            "\u001b[?25hRequirement already satisfied: numpy in /usr/local/lib/python3.7/dist-packages (from mglearn) (1.21.6)\n",
            "Requirement already satisfied: matplotlib in /usr/local/lib/python3.7/dist-packages (from mglearn) (3.2.2)\n",
            "Requirement already satisfied: scikit-learn in /usr/local/lib/python3.7/dist-packages (from mglearn) (1.0.2)\n",
            "Requirement already satisfied: pandas in /usr/local/lib/python3.7/dist-packages (from mglearn) (1.3.5)\n",
            "Requirement already satisfied: pillow in /usr/local/lib/python3.7/dist-packages (from mglearn) (7.1.2)\n",
            "Requirement already satisfied: cycler in /usr/local/lib/python3.7/dist-packages (from mglearn) (0.11.0)\n",
            "Requirement already satisfied: imageio in /usr/local/lib/python3.7/dist-packages (from mglearn) (2.4.1)\n",
            "Requirement already satisfied: joblib in /usr/local/lib/python3.7/dist-packages (from mglearn) (1.1.0)\n",
            "Requirement already satisfied: pyparsing!=2.0.4,!=2.1.2,!=2.1.6,>=2.0.1 in /usr/local/lib/python3.7/dist-packages (from matplotlib->mglearn) (3.0.8)\n",
            "Requirement already satisfied: kiwisolver>=1.0.1 in /usr/local/lib/python3.7/dist-packages (from matplotlib->mglearn) (1.4.2)\n",
            "Requirement already satisfied: python-dateutil>=2.1 in /usr/local/lib/python3.7/dist-packages (from matplotlib->mglearn) (2.8.2)\n",
            "Requirement already satisfied: typing-extensions in /usr/local/lib/python3.7/dist-packages (from kiwisolver>=1.0.1->matplotlib->mglearn) (4.2.0)\n",
            "Requirement already satisfied: six>=1.5 in /usr/local/lib/python3.7/dist-packages (from python-dateutil>=2.1->matplotlib->mglearn) (1.15.0)\n",
            "Requirement already satisfied: pytz>=2017.3 in /usr/local/lib/python3.7/dist-packages (from pandas->mglearn) (2022.1)\n",
            "Requirement already satisfied: threadpoolctl>=2.0.0 in /usr/local/lib/python3.7/dist-packages (from scikit-learn->mglearn) (3.1.0)\n",
            "Requirement already satisfied: scipy>=1.1.0 in /usr/local/lib/python3.7/dist-packages (from scikit-learn->mglearn) (1.4.1)\n",
            "Building wheels for collected packages: mglearn\n",
            "  Building wheel for mglearn (setup.py) ... \u001b[?25l\u001b[?25hdone\n",
            "  Created wheel for mglearn: filename=mglearn-0.1.9-py2.py3-none-any.whl size=582639 sha256=52b7d923b1a4299e3a6c9929f1ef822114a4bc0e2ab496724e751cdc6a935785\n",
            "  Stored in directory: /root/.cache/pip/wheels/f1/17/e1/1720d6dcd70187b6b6c3750cb3508798f2b1d57c9d3214b08b\n",
            "Successfully built mglearn\n",
            "Installing collected packages: mglearn\n",
            "Successfully installed mglearn-0.1.9\n"
          ]
        }
      ]
    },
    {
      "cell_type": "code",
      "source": [
        "from google.colab import drive\n",
        "drive.mount('/content/drive')"
      ],
      "metadata": {
        "colab": {
          "base_uri": "https://localhost:8080/"
        },
        "id": "Ju3nb4Ue0Yw2",
        "outputId": "d58f6b9c-334d-41b8-c987-8a893b68be97"
      },
      "execution_count": 2,
      "outputs": [
        {
          "output_type": "stream",
          "name": "stdout",
          "text": [
            "Mounted at /content/drive\n"
          ]
        }
      ]
    },
    {
      "cell_type": "code",
      "metadata": {
        "colab": {
          "base_uri": "https://localhost:8080/",
          "height": 270
        },
        "id": "mb4ZFa0zSVkY",
        "outputId": "f34427b7-b4b3-498e-e946-f9ddd8617313"
      },
      "source": [
        "from sklearn.datasets import load_boston\n",
        "\n",
        "# csv 데이터 가져오기 (타겟 변수 MEDV: python_basic2.ipynb 의 PRICE와 같은 값임)\n",
        "df = pd.read_csv(\"/content/drive/My Drive/Colab Notebooks/BigMining/BostonHousing_missing.csv\")\n",
        "df.rename(columns = {'MEDV':'PRICE'},inplace=True)\n",
        "display(df.head())   \n"
      ],
      "execution_count": 9,
      "outputs": [
        {
          "output_type": "display_data",
          "data": {
            "text/plain": [
              "      CRIM    ZN  attributeINDUS  CHAS    NOX     RM   AGE     DIS  RAD  \\\n",
              "0  0.00632  18.0            2.31     0  0.538    NaN  65.2  4.0900    1   \n",
              "1  0.02731   0.0            7.07     0    NaN  6.421  78.9  4.9671    2   \n",
              "2  0.02729   0.0            7.07     0  0.469  7.185  61.1  4.9671    2   \n",
              "3      NaN   0.0            2.18     0  0.458  6.998  45.8  6.0622    3   \n",
              "4  0.06905   0.0            2.18     0  0.458  7.147  54.2  6.0622    3   \n",
              "\n",
              "     TAX  PTRATIO       B  LSTAT  PRICE  \n",
              "0  296.0     15.3  396.90   4.98   24.0  \n",
              "1  242.0     17.8  396.90   9.14   21.6  \n",
              "2  242.0     17.8  392.83   4.03   34.7  \n",
              "3  222.0     18.7  394.63   2.94   33.4  \n",
              "4  222.0     18.7  396.90   5.33    NaN  "
            ],
            "text/html": [
              "\n",
              "  <div id=\"df-6236cdde-173c-42d7-8368-6e7697dd1b6f\">\n",
              "    <div class=\"colab-df-container\">\n",
              "      <div>\n",
              "<style scoped>\n",
              "    .dataframe tbody tr th:only-of-type {\n",
              "        vertical-align: middle;\n",
              "    }\n",
              "\n",
              "    .dataframe tbody tr th {\n",
              "        vertical-align: top;\n",
              "    }\n",
              "\n",
              "    .dataframe thead th {\n",
              "        text-align: right;\n",
              "    }\n",
              "</style>\n",
              "<table border=\"1\" class=\"dataframe\">\n",
              "  <thead>\n",
              "    <tr style=\"text-align: right;\">\n",
              "      <th></th>\n",
              "      <th>CRIM</th>\n",
              "      <th>ZN</th>\n",
              "      <th>attributeINDUS</th>\n",
              "      <th>CHAS</th>\n",
              "      <th>NOX</th>\n",
              "      <th>RM</th>\n",
              "      <th>AGE</th>\n",
              "      <th>DIS</th>\n",
              "      <th>RAD</th>\n",
              "      <th>TAX</th>\n",
              "      <th>PTRATIO</th>\n",
              "      <th>B</th>\n",
              "      <th>LSTAT</th>\n",
              "      <th>PRICE</th>\n",
              "    </tr>\n",
              "  </thead>\n",
              "  <tbody>\n",
              "    <tr>\n",
              "      <th>0</th>\n",
              "      <td>0.00632</td>\n",
              "      <td>18.0</td>\n",
              "      <td>2.31</td>\n",
              "      <td>0</td>\n",
              "      <td>0.538</td>\n",
              "      <td>NaN</td>\n",
              "      <td>65.2</td>\n",
              "      <td>4.0900</td>\n",
              "      <td>1</td>\n",
              "      <td>296.0</td>\n",
              "      <td>15.3</td>\n",
              "      <td>396.90</td>\n",
              "      <td>4.98</td>\n",
              "      <td>24.0</td>\n",
              "    </tr>\n",
              "    <tr>\n",
              "      <th>1</th>\n",
              "      <td>0.02731</td>\n",
              "      <td>0.0</td>\n",
              "      <td>7.07</td>\n",
              "      <td>0</td>\n",
              "      <td>NaN</td>\n",
              "      <td>6.421</td>\n",
              "      <td>78.9</td>\n",
              "      <td>4.9671</td>\n",
              "      <td>2</td>\n",
              "      <td>242.0</td>\n",
              "      <td>17.8</td>\n",
              "      <td>396.90</td>\n",
              "      <td>9.14</td>\n",
              "      <td>21.6</td>\n",
              "    </tr>\n",
              "    <tr>\n",
              "      <th>2</th>\n",
              "      <td>0.02729</td>\n",
              "      <td>0.0</td>\n",
              "      <td>7.07</td>\n",
              "      <td>0</td>\n",
              "      <td>0.469</td>\n",
              "      <td>7.185</td>\n",
              "      <td>61.1</td>\n",
              "      <td>4.9671</td>\n",
              "      <td>2</td>\n",
              "      <td>242.0</td>\n",
              "      <td>17.8</td>\n",
              "      <td>392.83</td>\n",
              "      <td>4.03</td>\n",
              "      <td>34.7</td>\n",
              "    </tr>\n",
              "    <tr>\n",
              "      <th>3</th>\n",
              "      <td>NaN</td>\n",
              "      <td>0.0</td>\n",
              "      <td>2.18</td>\n",
              "      <td>0</td>\n",
              "      <td>0.458</td>\n",
              "      <td>6.998</td>\n",
              "      <td>45.8</td>\n",
              "      <td>6.0622</td>\n",
              "      <td>3</td>\n",
              "      <td>222.0</td>\n",
              "      <td>18.7</td>\n",
              "      <td>394.63</td>\n",
              "      <td>2.94</td>\n",
              "      <td>33.4</td>\n",
              "    </tr>\n",
              "    <tr>\n",
              "      <th>4</th>\n",
              "      <td>0.06905</td>\n",
              "      <td>0.0</td>\n",
              "      <td>2.18</td>\n",
              "      <td>0</td>\n",
              "      <td>0.458</td>\n",
              "      <td>7.147</td>\n",
              "      <td>54.2</td>\n",
              "      <td>6.0622</td>\n",
              "      <td>3</td>\n",
              "      <td>222.0</td>\n",
              "      <td>18.7</td>\n",
              "      <td>396.90</td>\n",
              "      <td>5.33</td>\n",
              "      <td>NaN</td>\n",
              "    </tr>\n",
              "  </tbody>\n",
              "</table>\n",
              "</div>\n",
              "      <button class=\"colab-df-convert\" onclick=\"convertToInteractive('df-6236cdde-173c-42d7-8368-6e7697dd1b6f')\"\n",
              "              title=\"Convert this dataframe to an interactive table.\"\n",
              "              style=\"display:none;\">\n",
              "        \n",
              "  <svg xmlns=\"http://www.w3.org/2000/svg\" height=\"24px\"viewBox=\"0 0 24 24\"\n",
              "       width=\"24px\">\n",
              "    <path d=\"M0 0h24v24H0V0z\" fill=\"none\"/>\n",
              "    <path d=\"M18.56 5.44l.94 2.06.94-2.06 2.06-.94-2.06-.94-.94-2.06-.94 2.06-2.06.94zm-11 1L8.5 8.5l.94-2.06 2.06-.94-2.06-.94L8.5 2.5l-.94 2.06-2.06.94zm10 10l.94 2.06.94-2.06 2.06-.94-2.06-.94-.94-2.06-.94 2.06-2.06.94z\"/><path d=\"M17.41 7.96l-1.37-1.37c-.4-.4-.92-.59-1.43-.59-.52 0-1.04.2-1.43.59L10.3 9.45l-7.72 7.72c-.78.78-.78 2.05 0 2.83L4 21.41c.39.39.9.59 1.41.59.51 0 1.02-.2 1.41-.59l7.78-7.78 2.81-2.81c.8-.78.8-2.07 0-2.86zM5.41 20L4 18.59l7.72-7.72 1.47 1.35L5.41 20z\"/>\n",
              "  </svg>\n",
              "      </button>\n",
              "      \n",
              "  <style>\n",
              "    .colab-df-container {\n",
              "      display:flex;\n",
              "      flex-wrap:wrap;\n",
              "      gap: 12px;\n",
              "    }\n",
              "\n",
              "    .colab-df-convert {\n",
              "      background-color: #E8F0FE;\n",
              "      border: none;\n",
              "      border-radius: 50%;\n",
              "      cursor: pointer;\n",
              "      display: none;\n",
              "      fill: #1967D2;\n",
              "      height: 32px;\n",
              "      padding: 0 0 0 0;\n",
              "      width: 32px;\n",
              "    }\n",
              "\n",
              "    .colab-df-convert:hover {\n",
              "      background-color: #E2EBFA;\n",
              "      box-shadow: 0px 1px 2px rgba(60, 64, 67, 0.3), 0px 1px 3px 1px rgba(60, 64, 67, 0.15);\n",
              "      fill: #174EA6;\n",
              "    }\n",
              "\n",
              "    [theme=dark] .colab-df-convert {\n",
              "      background-color: #3B4455;\n",
              "      fill: #D2E3FC;\n",
              "    }\n",
              "\n",
              "    [theme=dark] .colab-df-convert:hover {\n",
              "      background-color: #434B5C;\n",
              "      box-shadow: 0px 1px 3px 1px rgba(0, 0, 0, 0.15);\n",
              "      filter: drop-shadow(0px 1px 2px rgba(0, 0, 0, 0.3));\n",
              "      fill: #FFFFFF;\n",
              "    }\n",
              "  </style>\n",
              "\n",
              "      <script>\n",
              "        const buttonEl =\n",
              "          document.querySelector('#df-6236cdde-173c-42d7-8368-6e7697dd1b6f button.colab-df-convert');\n",
              "        buttonEl.style.display =\n",
              "          google.colab.kernel.accessAllowed ? 'block' : 'none';\n",
              "\n",
              "        async function convertToInteractive(key) {\n",
              "          const element = document.querySelector('#df-6236cdde-173c-42d7-8368-6e7697dd1b6f');\n",
              "          const dataTable =\n",
              "            await google.colab.kernel.invokeFunction('convertToInteractive',\n",
              "                                                     [key], {});\n",
              "          if (!dataTable) return;\n",
              "\n",
              "          const docLinkHtml = 'Like what you see? Visit the ' +\n",
              "            '<a target=\"_blank\" href=https://colab.research.google.com/notebooks/data_table.ipynb>data table notebook</a>'\n",
              "            + ' to learn more about interactive tables.';\n",
              "          element.innerHTML = '';\n",
              "          dataTable['output_type'] = 'display_data';\n",
              "          await google.colab.output.renderOutput(dataTable, element);\n",
              "          const docLink = document.createElement('div');\n",
              "          docLink.innerHTML = docLinkHtml;\n",
              "          element.appendChild(docLink);\n",
              "        }\n",
              "      </script>\n",
              "    </div>\n",
              "  </div>\n",
              "  "
            ]
          },
          "metadata": {}
        }
      ]
    },
    {
      "cell_type": "code",
      "metadata": {
        "colab": {
          "base_uri": "https://localhost:8080/",
          "height": 1000
        },
        "id": "vK2TWQR2yTcT",
        "outputId": "ee6fe9f7-77ea-4416-acdb-1697d57686e7"
      },
      "source": [
        "display(df.shape) # 행열\n",
        "display(df.info()) # 데이터타입, null정보등 확인\n",
        "display(df.isna().sum()) # 결측치 수\n",
        "display(df.head(10))"
      ],
      "execution_count": 13,
      "outputs": [
        {
          "output_type": "display_data",
          "data": {
            "text/plain": [
              "(506, 14)"
            ]
          },
          "metadata": {}
        },
        {
          "output_type": "stream",
          "name": "stdout",
          "text": [
            "<class 'pandas.core.frame.DataFrame'>\n",
            "RangeIndex: 506 entries, 0 to 505\n",
            "Data columns (total 14 columns):\n",
            " #   Column          Non-Null Count  Dtype  \n",
            "---  ------          --------------  -----  \n",
            " 0   CRIM            502 non-null    float64\n",
            " 1   ZN              506 non-null    float64\n",
            " 2   attributeINDUS  506 non-null    float64\n",
            " 3   CHAS            506 non-null    int64  \n",
            " 4   NOX             504 non-null    float64\n",
            " 5   RM              505 non-null    float64\n",
            " 6   AGE             505 non-null    float64\n",
            " 7   DIS             505 non-null    float64\n",
            " 8   RAD             506 non-null    int64  \n",
            " 9   TAX             505 non-null    float64\n",
            " 10  PTRATIO         506 non-null    float64\n",
            " 11  B               506 non-null    float64\n",
            " 12  LSTAT           504 non-null    float64\n",
            " 13  PRICE           505 non-null    float64\n",
            "dtypes: float64(12), int64(2)\n",
            "memory usage: 55.5 KB\n"
          ]
        },
        {
          "output_type": "display_data",
          "data": {
            "text/plain": [
              "None"
            ]
          },
          "metadata": {}
        },
        {
          "output_type": "display_data",
          "data": {
            "text/plain": [
              "CRIM              4\n",
              "ZN                0\n",
              "attributeINDUS    0\n",
              "CHAS              0\n",
              "NOX               2\n",
              "RM                1\n",
              "AGE               1\n",
              "DIS               1\n",
              "RAD               0\n",
              "TAX               1\n",
              "PTRATIO           0\n",
              "B                 0\n",
              "LSTAT             2\n",
              "PRICE             1\n",
              "dtype: int64"
            ]
          },
          "metadata": {}
        },
        {
          "output_type": "display_data",
          "data": {
            "text/plain": [
              "      CRIM    ZN  attributeINDUS  CHAS    NOX     RM    AGE     DIS  RAD  \\\n",
              "0  0.00632  18.0            2.31     0  0.538    NaN   65.2  4.0900    1   \n",
              "1  0.02731   0.0            7.07     0    NaN  6.421   78.9  4.9671    2   \n",
              "2  0.02729   0.0            7.07     0  0.469  7.185   61.1  4.9671    2   \n",
              "3      NaN   0.0            2.18     0  0.458  6.998   45.8  6.0622    3   \n",
              "4  0.06905   0.0            2.18     0  0.458  7.147   54.2  6.0622    3   \n",
              "5  0.02985   0.0            2.18     0  0.458  6.430   58.7  6.0622    3   \n",
              "6  0.08829  12.5            7.87     0  0.524  6.012   66.6  5.5605    5   \n",
              "7  0.14455  12.5            7.87     0  0.524  6.172   96.1  5.9505    5   \n",
              "8  0.21124  12.5            7.87     0  0.524  5.631  100.0  6.0821    5   \n",
              "9  0.17004  12.5            7.87     0  0.524  6.004   85.9  6.5921    5   \n",
              "\n",
              "     TAX  PTRATIO       B  LSTAT  PRICE  \n",
              "0  296.0     15.3  396.90   4.98   24.0  \n",
              "1  242.0     17.8  396.90   9.14   21.6  \n",
              "2  242.0     17.8  392.83   4.03   34.7  \n",
              "3  222.0     18.7  394.63   2.94   33.4  \n",
              "4  222.0     18.7  396.90   5.33    NaN  \n",
              "5  222.0     18.7  394.12   5.21   28.7  \n",
              "6  311.0     15.2  395.60  12.43   22.9  \n",
              "7  311.0     15.2  396.90  19.15   27.1  \n",
              "8  311.0     15.2  386.63    NaN   16.5  \n",
              "9    NaN     15.2  386.71  17.10   18.9  "
            ],
            "text/html": [
              "\n",
              "  <div id=\"df-c85bb0c8-c043-4216-8183-368893a64479\">\n",
              "    <div class=\"colab-df-container\">\n",
              "      <div>\n",
              "<style scoped>\n",
              "    .dataframe tbody tr th:only-of-type {\n",
              "        vertical-align: middle;\n",
              "    }\n",
              "\n",
              "    .dataframe tbody tr th {\n",
              "        vertical-align: top;\n",
              "    }\n",
              "\n",
              "    .dataframe thead th {\n",
              "        text-align: right;\n",
              "    }\n",
              "</style>\n",
              "<table border=\"1\" class=\"dataframe\">\n",
              "  <thead>\n",
              "    <tr style=\"text-align: right;\">\n",
              "      <th></th>\n",
              "      <th>CRIM</th>\n",
              "      <th>ZN</th>\n",
              "      <th>attributeINDUS</th>\n",
              "      <th>CHAS</th>\n",
              "      <th>NOX</th>\n",
              "      <th>RM</th>\n",
              "      <th>AGE</th>\n",
              "      <th>DIS</th>\n",
              "      <th>RAD</th>\n",
              "      <th>TAX</th>\n",
              "      <th>PTRATIO</th>\n",
              "      <th>B</th>\n",
              "      <th>LSTAT</th>\n",
              "      <th>PRICE</th>\n",
              "    </tr>\n",
              "  </thead>\n",
              "  <tbody>\n",
              "    <tr>\n",
              "      <th>0</th>\n",
              "      <td>0.00632</td>\n",
              "      <td>18.0</td>\n",
              "      <td>2.31</td>\n",
              "      <td>0</td>\n",
              "      <td>0.538</td>\n",
              "      <td>NaN</td>\n",
              "      <td>65.2</td>\n",
              "      <td>4.0900</td>\n",
              "      <td>1</td>\n",
              "      <td>296.0</td>\n",
              "      <td>15.3</td>\n",
              "      <td>396.90</td>\n",
              "      <td>4.98</td>\n",
              "      <td>24.0</td>\n",
              "    </tr>\n",
              "    <tr>\n",
              "      <th>1</th>\n",
              "      <td>0.02731</td>\n",
              "      <td>0.0</td>\n",
              "      <td>7.07</td>\n",
              "      <td>0</td>\n",
              "      <td>NaN</td>\n",
              "      <td>6.421</td>\n",
              "      <td>78.9</td>\n",
              "      <td>4.9671</td>\n",
              "      <td>2</td>\n",
              "      <td>242.0</td>\n",
              "      <td>17.8</td>\n",
              "      <td>396.90</td>\n",
              "      <td>9.14</td>\n",
              "      <td>21.6</td>\n",
              "    </tr>\n",
              "    <tr>\n",
              "      <th>2</th>\n",
              "      <td>0.02729</td>\n",
              "      <td>0.0</td>\n",
              "      <td>7.07</td>\n",
              "      <td>0</td>\n",
              "      <td>0.469</td>\n",
              "      <td>7.185</td>\n",
              "      <td>61.1</td>\n",
              "      <td>4.9671</td>\n",
              "      <td>2</td>\n",
              "      <td>242.0</td>\n",
              "      <td>17.8</td>\n",
              "      <td>392.83</td>\n",
              "      <td>4.03</td>\n",
              "      <td>34.7</td>\n",
              "    </tr>\n",
              "    <tr>\n",
              "      <th>3</th>\n",
              "      <td>NaN</td>\n",
              "      <td>0.0</td>\n",
              "      <td>2.18</td>\n",
              "      <td>0</td>\n",
              "      <td>0.458</td>\n",
              "      <td>6.998</td>\n",
              "      <td>45.8</td>\n",
              "      <td>6.0622</td>\n",
              "      <td>3</td>\n",
              "      <td>222.0</td>\n",
              "      <td>18.7</td>\n",
              "      <td>394.63</td>\n",
              "      <td>2.94</td>\n",
              "      <td>33.4</td>\n",
              "    </tr>\n",
              "    <tr>\n",
              "      <th>4</th>\n",
              "      <td>0.06905</td>\n",
              "      <td>0.0</td>\n",
              "      <td>2.18</td>\n",
              "      <td>0</td>\n",
              "      <td>0.458</td>\n",
              "      <td>7.147</td>\n",
              "      <td>54.2</td>\n",
              "      <td>6.0622</td>\n",
              "      <td>3</td>\n",
              "      <td>222.0</td>\n",
              "      <td>18.7</td>\n",
              "      <td>396.90</td>\n",
              "      <td>5.33</td>\n",
              "      <td>NaN</td>\n",
              "    </tr>\n",
              "    <tr>\n",
              "      <th>5</th>\n",
              "      <td>0.02985</td>\n",
              "      <td>0.0</td>\n",
              "      <td>2.18</td>\n",
              "      <td>0</td>\n",
              "      <td>0.458</td>\n",
              "      <td>6.430</td>\n",
              "      <td>58.7</td>\n",
              "      <td>6.0622</td>\n",
              "      <td>3</td>\n",
              "      <td>222.0</td>\n",
              "      <td>18.7</td>\n",
              "      <td>394.12</td>\n",
              "      <td>5.21</td>\n",
              "      <td>28.7</td>\n",
              "    </tr>\n",
              "    <tr>\n",
              "      <th>6</th>\n",
              "      <td>0.08829</td>\n",
              "      <td>12.5</td>\n",
              "      <td>7.87</td>\n",
              "      <td>0</td>\n",
              "      <td>0.524</td>\n",
              "      <td>6.012</td>\n",
              "      <td>66.6</td>\n",
              "      <td>5.5605</td>\n",
              "      <td>5</td>\n",
              "      <td>311.0</td>\n",
              "      <td>15.2</td>\n",
              "      <td>395.60</td>\n",
              "      <td>12.43</td>\n",
              "      <td>22.9</td>\n",
              "    </tr>\n",
              "    <tr>\n",
              "      <th>7</th>\n",
              "      <td>0.14455</td>\n",
              "      <td>12.5</td>\n",
              "      <td>7.87</td>\n",
              "      <td>0</td>\n",
              "      <td>0.524</td>\n",
              "      <td>6.172</td>\n",
              "      <td>96.1</td>\n",
              "      <td>5.9505</td>\n",
              "      <td>5</td>\n",
              "      <td>311.0</td>\n",
              "      <td>15.2</td>\n",
              "      <td>396.90</td>\n",
              "      <td>19.15</td>\n",
              "      <td>27.1</td>\n",
              "    </tr>\n",
              "    <tr>\n",
              "      <th>8</th>\n",
              "      <td>0.21124</td>\n",
              "      <td>12.5</td>\n",
              "      <td>7.87</td>\n",
              "      <td>0</td>\n",
              "      <td>0.524</td>\n",
              "      <td>5.631</td>\n",
              "      <td>100.0</td>\n",
              "      <td>6.0821</td>\n",
              "      <td>5</td>\n",
              "      <td>311.0</td>\n",
              "      <td>15.2</td>\n",
              "      <td>386.63</td>\n",
              "      <td>NaN</td>\n",
              "      <td>16.5</td>\n",
              "    </tr>\n",
              "    <tr>\n",
              "      <th>9</th>\n",
              "      <td>0.17004</td>\n",
              "      <td>12.5</td>\n",
              "      <td>7.87</td>\n",
              "      <td>0</td>\n",
              "      <td>0.524</td>\n",
              "      <td>6.004</td>\n",
              "      <td>85.9</td>\n",
              "      <td>6.5921</td>\n",
              "      <td>5</td>\n",
              "      <td>NaN</td>\n",
              "      <td>15.2</td>\n",
              "      <td>386.71</td>\n",
              "      <td>17.10</td>\n",
              "      <td>18.9</td>\n",
              "    </tr>\n",
              "  </tbody>\n",
              "</table>\n",
              "</div>\n",
              "      <button class=\"colab-df-convert\" onclick=\"convertToInteractive('df-c85bb0c8-c043-4216-8183-368893a64479')\"\n",
              "              title=\"Convert this dataframe to an interactive table.\"\n",
              "              style=\"display:none;\">\n",
              "        \n",
              "  <svg xmlns=\"http://www.w3.org/2000/svg\" height=\"24px\"viewBox=\"0 0 24 24\"\n",
              "       width=\"24px\">\n",
              "    <path d=\"M0 0h24v24H0V0z\" fill=\"none\"/>\n",
              "    <path d=\"M18.56 5.44l.94 2.06.94-2.06 2.06-.94-2.06-.94-.94-2.06-.94 2.06-2.06.94zm-11 1L8.5 8.5l.94-2.06 2.06-.94-2.06-.94L8.5 2.5l-.94 2.06-2.06.94zm10 10l.94 2.06.94-2.06 2.06-.94-2.06-.94-.94-2.06-.94 2.06-2.06.94z\"/><path d=\"M17.41 7.96l-1.37-1.37c-.4-.4-.92-.59-1.43-.59-.52 0-1.04.2-1.43.59L10.3 9.45l-7.72 7.72c-.78.78-.78 2.05 0 2.83L4 21.41c.39.39.9.59 1.41.59.51 0 1.02-.2 1.41-.59l7.78-7.78 2.81-2.81c.8-.78.8-2.07 0-2.86zM5.41 20L4 18.59l7.72-7.72 1.47 1.35L5.41 20z\"/>\n",
              "  </svg>\n",
              "      </button>\n",
              "      \n",
              "  <style>\n",
              "    .colab-df-container {\n",
              "      display:flex;\n",
              "      flex-wrap:wrap;\n",
              "      gap: 12px;\n",
              "    }\n",
              "\n",
              "    .colab-df-convert {\n",
              "      background-color: #E8F0FE;\n",
              "      border: none;\n",
              "      border-radius: 50%;\n",
              "      cursor: pointer;\n",
              "      display: none;\n",
              "      fill: #1967D2;\n",
              "      height: 32px;\n",
              "      padding: 0 0 0 0;\n",
              "      width: 32px;\n",
              "    }\n",
              "\n",
              "    .colab-df-convert:hover {\n",
              "      background-color: #E2EBFA;\n",
              "      box-shadow: 0px 1px 2px rgba(60, 64, 67, 0.3), 0px 1px 3px 1px rgba(60, 64, 67, 0.15);\n",
              "      fill: #174EA6;\n",
              "    }\n",
              "\n",
              "    [theme=dark] .colab-df-convert {\n",
              "      background-color: #3B4455;\n",
              "      fill: #D2E3FC;\n",
              "    }\n",
              "\n",
              "    [theme=dark] .colab-df-convert:hover {\n",
              "      background-color: #434B5C;\n",
              "      box-shadow: 0px 1px 3px 1px rgba(0, 0, 0, 0.15);\n",
              "      filter: drop-shadow(0px 1px 2px rgba(0, 0, 0, 0.3));\n",
              "      fill: #FFFFFF;\n",
              "    }\n",
              "  </style>\n",
              "\n",
              "      <script>\n",
              "        const buttonEl =\n",
              "          document.querySelector('#df-c85bb0c8-c043-4216-8183-368893a64479 button.colab-df-convert');\n",
              "        buttonEl.style.display =\n",
              "          google.colab.kernel.accessAllowed ? 'block' : 'none';\n",
              "\n",
              "        async function convertToInteractive(key) {\n",
              "          const element = document.querySelector('#df-c85bb0c8-c043-4216-8183-368893a64479');\n",
              "          const dataTable =\n",
              "            await google.colab.kernel.invokeFunction('convertToInteractive',\n",
              "                                                     [key], {});\n",
              "          if (!dataTable) return;\n",
              "\n",
              "          const docLinkHtml = 'Like what you see? Visit the ' +\n",
              "            '<a target=\"_blank\" href=https://colab.research.google.com/notebooks/data_table.ipynb>data table notebook</a>'\n",
              "            + ' to learn more about interactive tables.';\n",
              "          element.innerHTML = '';\n",
              "          dataTable['output_type'] = 'display_data';\n",
              "          await google.colab.output.renderOutput(dataTable, element);\n",
              "          const docLink = document.createElement('div');\n",
              "          docLink.innerHTML = docLinkHtml;\n",
              "          element.appendChild(docLink);\n",
              "        }\n",
              "      </script>\n",
              "    </div>\n",
              "  </div>\n",
              "  "
            ]
          },
          "metadata": {}
        }
      ]
    },
    {
      "cell_type": "markdown",
      "source": [
        "## 결측치 처리\n",
        "* 데이터를 살펴보고 결측치(Missing Data, Null, NaN)가 많지 않은 경우에는 평균값 등으로 간단히 대체하고, 대부분이 결측치라면 해당 변수를 분석에 사용하지 않는 것이 좋다. \n",
        "* 결측치가 어느 정도 이상일때 어떻게 결측치 처리를 해야 하는지에 대해서는 정해진 기준이 없기 때문에, 분석 목적과 데이터 특성 등을 상세히 검토하여 결정해야 한다. \n",
        "\n",
        "\n",
        "제거/보간/대체 예. \n",
        "- 결측데이터가 너무 많은 경우, 해당 데이터의 행(axis =0) 또는 열(axis =1) 제거\n",
        "- 결측데이터가 일부인 경우, 가장 그럴듯한 값으로 대체\n",
        "- 종속변수에 결측이 있으면 보간하지 않고 제거\n",
        "- 결측치가 비어있지 않고 특수기호, 0  등으로 입력된 경우도 있으므로 반드시 원본 데이터를 확인하고 처리 \n"
      ],
      "metadata": {
        "id": "TbTSCuW3FZSY"
      }
    },
    {
      "cell_type": "code",
      "metadata": {
        "colab": {
          "base_uri": "https://localhost:8080/"
        },
        "id": "UBL_gGamyfRW",
        "outputId": "35855a2d-b923-44f6-b3b6-fb4207b56a25"
      },
      "source": [
        "print(df.isnull().sum())  #결측치 확인"
      ],
      "execution_count": 12,
      "outputs": [
        {
          "output_type": "stream",
          "name": "stdout",
          "text": [
            "CRIM              4\n",
            "ZN                0\n",
            "attributeINDUS    0\n",
            "CHAS              0\n",
            "NOX               2\n",
            "RM                1\n",
            "AGE               1\n",
            "DIS               1\n",
            "RAD               0\n",
            "TAX               1\n",
            "PTRATIO           0\n",
            "B                 0\n",
            "LSTAT             2\n",
            "PRICE             1\n",
            "dtype: int64\n"
          ]
        }
      ]
    },
    {
      "cell_type": "code",
      "source": [
        "# 1. 결측치 행 전체 삭제\n",
        "df_drop_row = df.dropna(axis=0)   #열삭제의 경우 axis =1  (또는 특정 개수 이상의 결측치가 있는 경우만 삭제 thresh = 갯수)\n",
        "print(\"결측행 모두 제거: \", df_drop_row.shape)    # 결측치 13행 모두 없어졌는지 확인"
      ],
      "metadata": {
        "colab": {
          "base_uri": "https://localhost:8080/"
        },
        "id": "VjtkNJUHGomc",
        "outputId": "0faa0af5-8a2d-4a20-d68c-061fabfb69b5"
      },
      "execution_count": 17,
      "outputs": [
        {
          "output_type": "stream",
          "name": "stdout",
          "text": [
            "결측행 모두 제거:  (493, 14)\n",
            "CRIM              4\n",
            "ZN                0\n",
            "attributeINDUS    0\n",
            "CHAS              0\n",
            "NOX               2\n",
            "RM                1\n",
            "AGE               1\n",
            "DIS               1\n",
            "RAD               0\n",
            "TAX               1\n",
            "PTRATIO           0\n",
            "B                 0\n",
            "LSTAT             2\n",
            "PRICE             0\n",
            "dtype: int64\n"
          ]
        }
      ]
    },
    {
      "cell_type": "code",
      "source": [
        "# 2. 종속으로 사용할 집값(PRICE)의 결측치만 행제거 \n",
        "df = df.dropna(subset = ['PRICE'], axis=0)   \n",
        "\n",
        "print(\"\\nPRICE 결측만 제거: \", df.shape)  # 결측치 1개만 제거되고, 나머지 변수들에 결측치 존재 확인\n",
        "print(df.isna().sum()) "
      ],
      "metadata": {
        "colab": {
          "base_uri": "https://localhost:8080/"
        },
        "id": "Tt3jlO32HtTH",
        "outputId": "f962519f-3e57-4be1-ece2-bad17b090cf7"
      },
      "execution_count": 15,
      "outputs": [
        {
          "output_type": "stream",
          "name": "stdout",
          "text": [
            "\n",
            "PRICE 결측만 제거:  (505, 14)\n",
            "CRIM              4\n",
            "ZN                0\n",
            "attributeINDUS    0\n",
            "CHAS              0\n",
            "NOX               2\n",
            "RM                1\n",
            "AGE               1\n",
            "DIS               1\n",
            "RAD               0\n",
            "TAX               1\n",
            "PTRATIO           0\n",
            "B                 0\n",
            "LSTAT             2\n",
            "PRICE             0\n",
            "dtype: int64\n"
          ]
        }
      ]
    },
    {
      "cell_type": "code",
      "source": [
        "#3. 보간법\n",
        "\n",
        "from sklearn.impute import SimpleImputer\n",
        "# strategy 옵션: mean (기본값), median, most_frequent, constant\n",
        "# constant 예:  SimpleImputer(strategy='constant', fill_value=1)\n",
        "\n",
        "imputer = SimpleImputer(strategy = \"mean\") # mean(평균), median(중앙값), most_frequent(최빈값)등 있음\n",
        "df_impute = pd.DataFrame(imputer.fit_transform(df)) # imputer쓰면 numpy array로 변환되므로 df로 재변환했음. sklearn에서는 그냥 사용해도됨. \n",
        "print(\"\\n평균으로 보간:\", df_impute.shape)  \n",
        "print(df_impute.isna().sum()) "
      ],
      "metadata": {
        "colab": {
          "base_uri": "https://localhost:8080/"
        },
        "id": "7WKtdCHKHuQp",
        "outputId": "cc607a03-8d8e-44e2-ead4-f8326329240f"
      },
      "execution_count": 16,
      "outputs": [
        {
          "output_type": "stream",
          "name": "stdout",
          "text": [
            "\n",
            "평균으로 보간: (505, 14)\n",
            "0     0\n",
            "1     0\n",
            "2     0\n",
            "3     0\n",
            "4     0\n",
            "5     0\n",
            "6     0\n",
            "7     0\n",
            "8     0\n",
            "9     0\n",
            "10    0\n",
            "11    0\n",
            "12    0\n",
            "13    0\n",
            "dtype: int64\n"
          ]
        }
      ]
    },
    {
      "cell_type": "code",
      "source": [
        "#4. 대체\n",
        "\n",
        "# 딕셔너리에서 데이터프레임 생성 \n",
        "sample_dict = { 'Hist': [10, 20, np.NaN, np.NaN],\n",
        "                'Finan': [5, np.NaN, np.NaN, 29],\n",
        "                'Maths': [15, 20, np.NaN, np.NaN],\n",
        "                'Geog': [21, np.NaN, 18, 18]}\n",
        "df = pd.DataFrame(sample_dict)\n",
        "print(df)\n",
        "\n",
        "# fillna()를 이용하여 결측치 대체 \n",
        "df['Finan'].fillna(0, inplace=True)\n",
        "df['Hist'].fillna('test', inplace=True)\n",
        "df['Maths']= df['Maths'].fillna(df['Maths'].mean())\n",
        "print(df)\n",
        "\n",
        "# 모든 결측치를 한번에 11로 변경\n",
        "# new_df = df.fillna(11)\n",
        "# print(new_df)"
      ],
      "metadata": {
        "colab": {
          "base_uri": "https://localhost:8080/"
        },
        "id": "bmYUpYy4JO9I",
        "outputId": "7b3e3426-f7dd-4a42-e05e-262e14798698"
      },
      "execution_count": 18,
      "outputs": [
        {
          "output_type": "stream",
          "name": "stdout",
          "text": [
            "   Hist  Finan  Maths  Geog\n",
            "0  10.0    5.0   15.0  21.0\n",
            "1  20.0    NaN   20.0   NaN\n",
            "2   NaN    NaN    NaN  18.0\n",
            "3   NaN   29.0    NaN  18.0\n",
            "   Hist  Finan  Maths  Geog\n",
            "0  10.0    5.0   15.0  21.0\n",
            "1  20.0    0.0   20.0   NaN\n",
            "2  test    0.0   17.5  18.0\n",
            "3  test   29.0   17.5  18.0\n"
          ]
        }
      ]
    },
    {
      "cell_type": "markdown",
      "metadata": {
        "id": "GZhj12h6SqHd"
      },
      "source": [
        "## 데이터 스케일 조정\n",
        "* 단위가 다른 변수들의 값 범위를 일정한 수준으로 맞추어 주는 작업이다. \n",
        "* 다차원 값들을 비교 분석하기 쉽게 만들어 주며, 모델 학습과정에서 0으로 수렴하거나 무한으로 발산해 버릴 수 있는 것을 방지하고 (unverflow, overflow), 최적화 과정에서 안정성 및 수렴 속도를 향상시킨다. \n",
        "* 대표적인 스케일 조정 방법 \n",
        "  * StandardScaler: 데이터 값을 평균 0, 분산 1로 변환 (정규 분포를 가정한 모델에서는 특히 중요 ) \n",
        "  * MinMaxScaler: 데이터 값을 0과 1 사이의 범위 값으로 변환 \n",
        "  "
      ]
    },
    {
      "cell_type": "code",
      "source": [
        "mglearn.plots.plot_scaling()"
      ],
      "metadata": {
        "colab": {
          "base_uri": "https://localhost:8080/",
          "height": 428
        },
        "id": "NsG9KSf1J2t7",
        "outputId": "49a41c39-a7b4-4cb5-c412-a3863f4e4016"
      },
      "execution_count": 20,
      "outputs": [
        {
          "output_type": "display_data",
          "data": {
            "text/plain": [
              "<Figure size 1080x576 with 5 Axes>"
            ],
            "image/png": "[encoded data removed]"
          },
          "metadata": {
            "needs_background": "light"
          }
        }
      ]
    },
    {
      "cell_type": "markdown",
      "source": [
        "### StandardScaler"
      ],
      "metadata": {
        "id": "KULenj-nJ8ht"
      }
    },
    {
      "cell_type": "code",
      "metadata": {
        "colab": {
          "base_uri": "https://localhost:8080/"
        },
        "id": "qqxe2C-WRwu0",
        "outputId": "8ef4e655-0a42-475d-cf98-e4b3c92bbc40"
      },
      "source": [
        "from sklearn.preprocessing import StandardScaler\n",
        "\n",
        "#pan\n",
        "pd.options.display.float_format = '{:.3f}'.format  #지수표현 말고, 소수로 찍히게 설정\n",
        "\n",
        "X = df_impute.iloc[:,0:-1]   #결측치 제거한 Dataframe의 독립변수\n",
        "y = df_impute.iloc[:, -1]   #결측치 제거한 Dataframe의 종속변수\n",
        "\n",
        "print(\"원본: \\n\", X.describe())\n",
        "\n",
        "# 평균 0, 표준편차 1로 변환하는 standardscaler 적용\n",
        "scaler_s = StandardScaler()\n",
        "\n",
        "# sklearn써서 numpy배열로 바뀐것 dataframe변환\n",
        "X_s = pd.DataFrame(scaler_s.fit_transform(X)) \n",
        "\n",
        "# fit( ) 과 transform( ) 따로 실행 가능   \n",
        "# scaler.fit(X)\n",
        "# X_s = scaler.transform(X)\n",
        "\n",
        "print(\"\\nStandardScaler: \\n\", X_s.describe())"
      ],
      "execution_count": 60,
      "outputs": [
        {
          "output_type": "stream",
          "name": "stdout",
          "text": [
            "원본: \n",
            "            0       1       2       3       4       5       6       7       8   \\\n",
            "count 505.000 505.000 505.000 505.000 505.000 505.000 505.000 505.000 505.000   \n",
            "mean    3.647  11.386  11.155   0.069   0.555   6.282  68.576   3.791   9.562   \n",
            "std     8.603  23.340   6.856   0.254   0.116   0.702  28.163   2.105   8.711   \n",
            "min     0.006   0.000   0.460   0.000   0.385   3.561   2.900   1.130   1.000   \n",
            "25%     0.082   0.000   5.190   0.000   0.449   5.885  45.000   2.100   4.000   \n",
            "50%     0.268   0.000   9.690   0.000   0.538   6.208  77.300   3.199   5.000   \n",
            "75%     3.678  12.500  18.100   0.000   0.624   6.619  94.100   5.118  24.000   \n",
            "max    88.976 100.000  27.740   1.000   0.871   8.780 100.000  12.127  24.000   \n",
            "\n",
            "           9       10      11      12  \n",
            "count 505.000 505.000 505.000 505.000  \n",
            "mean  408.800  18.455 356.594  12.645  \n",
            "std   168.444   2.167  91.368   7.094  \n",
            "min   187.000  12.600   0.320   1.730  \n",
            "25%   279.000  17.400 375.330   7.120  \n",
            "50%   330.000  19.100 391.430  11.410  \n",
            "75%   666.000  20.200 396.210  16.940  \n",
            "max   711.000  22.000 396.900  37.970  \n",
            "\n",
            "StandardScaler: \n",
            "            0       1       2       3       4       5       6       7       8   \\\n",
            "count 505.000 505.000 505.000 505.000 505.000 505.000 505.000 505.000 505.000   \n",
            "mean    0.000   0.000  -0.000   0.000  -0.000   0.000   0.000  -0.000   0.000   \n",
            "std     1.001   1.001   1.001   1.001   1.001   1.001   1.001   1.001   1.001   \n",
            "min    -0.424  -0.488  -1.562  -0.273  -1.470  -3.880  -2.334  -1.265  -0.984   \n",
            "25%    -0.415  -0.488  -0.871  -0.273  -0.917  -0.566  -0.838  -0.804  -0.639   \n",
            "50%    -0.393  -0.488  -0.214  -0.273  -0.148  -0.106   0.310  -0.281  -0.524   \n",
            "75%     0.004   0.048   1.014  -0.273   0.595   0.480   0.907   0.631   1.659   \n",
            "max     9.928   3.800   2.422   3.665   2.730   3.561   1.117   3.963   1.659   \n",
            "\n",
            "           9       10      11      12  \n",
            "count 505.000 505.000 505.000 505.000  \n",
            "mean    0.000  -0.000  -0.000  -0.000  \n",
            "std     1.001   1.001   1.001   1.001  \n",
            "min    -1.318  -2.705  -3.903  -1.540  \n",
            "25%    -0.771  -0.487   0.205  -0.780  \n",
            "50%    -0.468   0.298   0.382  -0.174  \n",
            "75%     1.528   0.806   0.434   0.606  \n",
            "max     1.796   1.637   0.442   3.573  \n"
          ]
        }
      ]
    },
    {
      "cell_type": "markdown",
      "source": [
        "### MinMaxScaler"
      ],
      "metadata": {
        "id": "3MZxo4EKM8Us"
      }
    },
    {
      "cell_type": "code",
      "source": [
        "from sklearn.preprocessing import MinMaxScaler\n",
        "\n",
        "# 최소 0, 최대 1로 변환하는 MinMaxScaler적용\n",
        "scaler_m = MinMaxScaler()\n",
        "X_m = pd.DataFrame(scaler_m.fit_transform(X))\n",
        "print(\"\\nMinMaxScaler: \\n\", X_m.describe())"
      ],
      "metadata": {
        "colab": {
          "base_uri": "https://localhost:8080/"
        },
        "id": "E4W5EGB9M7Xs",
        "outputId": "0a5ac978-8855-4857-9455-e5cbb442892a"
      },
      "execution_count": 29,
      "outputs": [
        {
          "output_type": "stream",
          "name": "stdout",
          "text": [
            "\n",
            "MinMaxScaler: \n",
            "            0       1       2       3       4       5       6       7       8   \\\n",
            "count 505.000 505.000 505.000 505.000 505.000 505.000 505.000 505.000 505.000   \n",
            "mean    0.041   0.114   0.392   0.069   0.350   0.521   0.676   0.242   0.372   \n",
            "std     0.097   0.233   0.251   0.254   0.238   0.135   0.290   0.191   0.379   \n",
            "min     0.000   0.000   0.000   0.000   0.000   0.000   0.000   0.000   0.000   \n",
            "25%     0.001   0.000   0.173   0.000   0.132   0.445   0.434   0.088   0.130   \n",
            "50%     0.003   0.000   0.338   0.000   0.315   0.507   0.766   0.188   0.174   \n",
            "75%     0.041   0.125   0.647   0.000   0.492   0.586   0.939   0.363   1.000   \n",
            "max     1.000   1.000   1.000   1.000   1.000   1.000   1.000   1.000   1.000   \n",
            "\n",
            "           9       10      11      12  \n",
            "count 505.000 505.000 505.000 505.000  \n",
            "mean    0.423   0.623   0.898   0.301  \n",
            "std     0.321   0.231   0.230   0.196  \n",
            "min     0.000   0.000   0.000   0.000  \n",
            "25%     0.176   0.511   0.946   0.149  \n",
            "50%     0.273   0.691   0.986   0.267  \n",
            "75%     0.914   0.809   0.998   0.420  \n",
            "max     1.000   1.000   1.000   1.000  \n"
          ]
        }
      ]
    },
    {
      "cell_type": "markdown",
      "source": [
        "### 학습/시험용 데이터에 적용시 유의사항 \n",
        "* 가능하면 전체 데이터의 스케일을 조정하고 학습/시험용 데이터로 분리한다.\n",
        "* 전체 데이터의 스케일 조정이 어렵다면 학습용 데이터에서는 fit_transform() 을 사용하고 시험용 데이터에서는  transform()만 이용\n"
      ],
      "metadata": {
        "id": "nfDMgqEBN1ey"
      }
    },
    {
      "cell_type": "code",
      "source": [
        "# 학습 데이터는 0 부터 10까지, 테스트 데이터는 0 부터 5까지 값을 가지는 데이터 세트로 생성\n",
        "# Scaler클래스의 fit(), transform()은 2차원 이상 데이터만 가능하므로 reshape(-1, 1)로 차원 변경\n",
        "train_array = np.arange(0, 11).reshape(-1, 1)\n",
        "test_array =  np.arange(0, 6).reshape(-1, 1)\n",
        "\n",
        "print(train_array)\n",
        "print(test_array)"
      ],
      "metadata": {
        "colab": {
          "base_uri": "https://localhost:8080/"
        },
        "id": "AUneUVLDN6qw",
        "outputId": "cca46a7c-2479-4a8a-e14b-0a8bda8c1dac"
      },
      "execution_count": 39,
      "outputs": [
        {
          "output_type": "stream",
          "name": "stdout",
          "text": [
            "[[ 0]\n",
            " [ 1]\n",
            " [ 2]\n",
            " [ 3]\n",
            " [ 4]\n",
            " [ 5]\n",
            " [ 6]\n",
            " [ 7]\n",
            " [ 8]\n",
            " [ 9]\n",
            " [10]]\n",
            "[[0]\n",
            " [1]\n",
            " [2]\n",
            " [3]\n",
            " [4]\n",
            " [5]]\n"
          ]
        }
      ]
    },
    {
      "cell_type": "code",
      "source": [
        "# 최솟값 0, 최댓값 1로 변환하는 MinMaxScaler객체 생성\n",
        "scaler = MinMaxScaler()\n",
        "\n",
        "# fit()하게 되면 train_array 데이터의 최솟값이 0, 최댓값이 10으로 설정\n",
        "scaler.fit(train_array)\n",
        "# 1/10 scale로 train_array 데이터 변환, 원본 10-> 1로 변환\n",
        "train_scaled = scaler.transform(train_array)\n",
        " \n",
        "print('원본 train_array 데이터:', train_array.reshape(-1))\n",
        "print('Scale된 train_array 데이터:', train_scaled.reshape(-1))"
      ],
      "metadata": {
        "colab": {
          "base_uri": "https://localhost:8080/"
        },
        "id": "Z73oATq1N8Pq",
        "outputId": "0b55a3d9-8ec7-4183-b612-f2a8fa28a426"
      },
      "execution_count": 48,
      "outputs": [
        {
          "output_type": "stream",
          "name": "stdout",
          "text": [
            "원본 train_array 데이터: [ 0  1  2  3  4  5  6  7  8  9 10]\n",
            "Scale된 train_array 데이터: [0.  0.1 0.2 0.3 0.4 0.5 0.6 0.7 0.8 0.9 1. ]\n"
          ]
        }
      ]
    },
    {
      "cell_type": "code",
      "source": [
        "# 잘못된 사례\n",
        "# 앞에서 생성한 MinMaxScaler에 test_array를 fit()하게 되면 원본 데이터의 최솟값이 0, 최댓값이 5으로 설정됨 \n",
        "scaler.fit(test_array)  \n",
        "# 1/5 scale로 test_array 데이터 변환, 원본 5->1로 변환 \n",
        "test_scaled = scaler.transform(test_array)\n",
        "\n",
        "# train_array 변환 출력\n",
        "print('\\n---잘못된 사례--')\n",
        "print('원본 test_array 데이터:', test_array.reshape(-1))\n",
        "print('Scale된 test_array 데이터:', test_scaled.reshape(-1))"
      ],
      "metadata": {
        "colab": {
          "base_uri": "https://localhost:8080/"
        },
        "id": "-wSfrlfSPhHy",
        "outputId": "5c02a7c8-af03-4543-c05d-0c476d0968b0"
      },
      "execution_count": 52,
      "outputs": [
        {
          "output_type": "stream",
          "name": "stdout",
          "text": [
            "\n",
            "---잘못된 사례--\n",
            "원본 test_array 데이터: [0 1 2 3 4 5]\n",
            "Scale된 test_array 데이터: [0.  0.2 0.4 0.6 0.8 1. ]\n"
          ]
        }
      ]
    },
    {
      "cell_type": "code",
      "source": [
        "# 옳은 사례 \n",
        "# test_array에 Scale 변환을 할 때는 반드시 fit()을 호출하지 않고 transform() 만으로 변환해야 함\n",
        "test_scaled = scaler.transform(test_array)\n",
        "print('\\n---옳은 사례--')\n",
        "print('원본 test_array 데이터:', test_array.reshape(-1))\n",
        "print('Scale된 test_array 데이터:', test_scaled.reshape(-1))"
      ],
      "metadata": {
        "colab": {
          "base_uri": "https://localhost:8080/"
        },
        "id": "J_0ajOQMPeb0",
        "outputId": "81000e65-60f6-4949-854b-471ddeecbf0f"
      },
      "execution_count": 54,
      "outputs": [
        {
          "output_type": "stream",
          "name": "stdout",
          "text": [
            "\n",
            "---옳은 사례--\n",
            "원본 test_array 데이터: [0 1 2 3 4 5]\n",
            "Scale된 test_array 데이터: [0.  0.1 0.2 0.3 0.4 0.5]\n"
          ]
        }
      ]
    },
    {
      "cell_type": "markdown",
      "source": [
        "### Scaler 선택  \n",
        "* 데이터 유형에 따라 적절한 Scaler 선택 \n",
        "* StandardScaler, MinMaxScaler, MaxAbsScaler, RobustScaler, PowerTransformer, QuantileTransformer (uniform output), QuantileTransformer (Gaussian output), Normalizer \n",
        "* https://scikit-learn.org/stable/auto_examples/preprocessing/plot_all_scaling.html?highlight=scaler\n",
        "\n",
        "![download.png](data:image/png;base64,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)"
      ],
      "metadata": {
        "id": "KoMFSPqOP5cA"
      }
    },
    {
      "cell_type": "markdown",
      "source": [
        "## 데이터 인코딩\n",
        "scikit-learn의 모델들은 문자열 값을 입력 값으로 허용하지 않기 때문에 모든 문자열 값을 수치형으로 변환(Encoding)해야 한다. 대표적인 인코딩 방법은 다음과 같다. \n",
        "\n",
        "* **레이블 인코딩(Label Encoding)**: \n",
        "    * 카테고리를 코드형 수치 값으로 변환  \n",
        "    * 순서가 있는 경우 (상/중/하, 중학교/고등학교/대학교 등 ), 원-핫 인코딩을 이용하기에는 카테고리가 너무 많은 경우 등  \n",
        "* **원-핫 인코딩(One-Hot Encoding, 더미 변수화)**:      \n",
        "   * 카테고리별로 새로운 더미 변수를 만들어 1/0으로 표시 \n",
        "   * 순서가 없는 경우 (국가명 등), 카테고리 개수가 적절한 경우  등\n",
        " "
      ],
      "metadata": {
        "id": "g36VxJvRQdM-"
      }
    },
    {
      "cell_type": "markdown",
      "source": [
        "### 레이블 인코딩(Label encoding)"
      ],
      "metadata": {
        "id": "nrNgMvvOQhCo"
      }
    },
    {
      "cell_type": "code",
      "source": [
        "from sklearn.preprocessing import LabelEncoder\n",
        "\n",
        "items=['TV','냉장고','전자렌지','컴퓨터','선풍기','선풍기','믹서','믹서']\n",
        "\n",
        "# LabelEncoder를 객체로 생성한 후 , fit( ) 과 transform( ) 으로 label 인코딩 수행. \n",
        "encoder = LabelEncoder()\n",
        "labels = encoder.fit_transform(items)\n",
        "#encoder.fit(items)\n",
        "#labels = encoder.transform(items)\n",
        "\n",
        "print(items)\n",
        "print('인코딩 클래스:',encoder.classes_)\n",
        "print('인코딩 변환값:',labels)"
      ],
      "metadata": {
        "colab": {
          "base_uri": "https://localhost:8080/"
        },
        "id": "XyBTT9bNQhYz",
        "outputId": "c8f563c4-e7c4-4887-9d88-0522a2ffe04b"
      },
      "execution_count": 59,
      "outputs": [
        {
          "output_type": "stream",
          "name": "stdout",
          "text": [
            "['TV', '냉장고', '전자렌지', '컴퓨터', '선풍기', '선풍기', '믹서', '믹서']\n",
            "인코딩 클래스: ['TV' '냉장고' '믹서' '선풍기' '전자렌지' '컴퓨터']\n",
            "인코딩 변환값: [0 1 4 5 3 3 2 2]\n"
          ]
        }
      ]
    },
    {
      "cell_type": "markdown",
      "source": [
        "### 원-핫 인코딩(One-Hot encoding)"
      ],
      "metadata": {
        "id": "9vPw1cnfQiIC"
      }
    },
    {
      "cell_type": "code",
      "source": [
        "from sklearn.preprocessing import OneHotEncoder\n",
        "\n",
        "# 먼저 숫자값으로 변환을 위해 LabelEncoder로 변환 \n",
        "encoder = LabelEncoder()\n",
        "labels = encoder.fit_transform(items)\n",
        "# 2차원 데이터로 변환 \n",
        "labels = labels.reshape(-1,1)\n",
        "\n",
        "# 원-핫 인코딩 적용\n",
        "oh_encoder = OneHotEncoder()\n",
        "oh_labels = oh_encoder.fit_transform(labels)\n",
        "print(items)\n",
        "print('원-핫 인코딩 데이터')\n",
        "print(oh_labels.toarray())\n",
        "print('원-핫 인코딩 데이터 차원')\n",
        "print(oh_labels.shape)"
      ],
      "metadata": {
        "colab": {
          "base_uri": "https://localhost:8080/"
        },
        "id": "5wHV4XStQid7",
        "outputId": "88d5bc50-c8b9-4f92-9ab2-847ff0fbb88e"
      },
      "execution_count": 61,
      "outputs": [
        {
          "output_type": "stream",
          "name": "stdout",
          "text": [
            "['TV', '냉장고', '전자렌지', '컴퓨터', '선풍기', '선풍기', '믹서', '믹서']\n",
            "원-핫 인코딩 데이터\n",
            "[[1. 0. 0. 0. 0. 0.]\n",
            " [0. 1. 0. 0. 0. 0.]\n",
            " [0. 0. 0. 0. 1. 0.]\n",
            " [0. 0. 0. 0. 0. 1.]\n",
            " [0. 0. 0. 1. 0. 0.]\n",
            " [0. 0. 0. 1. 0. 0.]\n",
            " [0. 0. 1. 0. 0. 0.]\n",
            " [0. 0. 1. 0. 0. 0.]]\n",
            "원-핫 인코딩 데이터 차원\n",
            "(8, 6)\n"
          ]
        }
      ]
    },
    {
      "cell_type": "code",
      "source": [
        "tb = pd.DataFrame({'item':['TV','냉장고','전자렌지','컴퓨터','선풍기','선풍기','믹서','믹서'] })\n",
        "pd.get_dummies(tb)"
      ],
      "metadata": {
        "colab": {
          "base_uri": "https://localhost:8080/",
          "height": 300
        },
        "id": "OHrVlXFzQqPW",
        "outputId": "f7045b5c-e55a-41d7-94c0-e50bf6405ecb"
      },
      "execution_count": 62,
      "outputs": [
        {
          "output_type": "execute_result",
          "data": {
            "text/plain": [
              "   item_TV  item_냉장고  item_믹서  item_선풍기  item_전자렌지  item_컴퓨터\n",
              "0        1         0        0         0          0         0\n",
              "1        0         1        0         0          0         0\n",
              "2        0         0        0         0          1         0\n",
              "3        0         0        0         0          0         1\n",
              "4        0         0        0         1          0         0\n",
              "5        0         0        0         1          0         0\n",
              "6        0         0        1         0          0         0\n",
              "7        0         0        1         0          0         0"
            ],
            "text/html": [
              "\n",
              "  <div id=\"df-9dddab5a-d343-477d-848d-89b177d8ca9e\">\n",
              "    <div class=\"colab-df-container\">\n",
              "      <div>\n",
              "<style scoped>\n",
              "    .dataframe tbody tr th:only-of-type {\n",
              "        vertical-align: middle;\n",
              "    }\n",
              "\n",
              "    .dataframe tbody tr th {\n",
              "        vertical-align: top;\n",
              "    }\n",
              "\n",
              "    .dataframe thead th {\n",
              "        text-align: right;\n",
              "    }\n",
              "</style>\n",
              "<table border=\"1\" class=\"dataframe\">\n",
              "  <thead>\n",
              "    <tr style=\"text-align: right;\">\n",
              "      <th></th>\n",
              "      <th>item_TV</th>\n",
              "      <th>item_냉장고</th>\n",
              "      <th>item_믹서</th>\n",
              "      <th>item_선풍기</th>\n",
              "      <th>item_전자렌지</th>\n",
              "      <th>item_컴퓨터</th>\n",
              "    </tr>\n",
              "  </thead>\n",
              "  <tbody>\n",
              "    <tr>\n",
              "      <th>0</th>\n",
              "      <td>1</td>\n",
              "      <td>0</td>\n",
              "      <td>0</td>\n",
              "      <td>0</td>\n",
              "      <td>0</td>\n",
              "      <td>0</td>\n",
              "    </tr>\n",
              "    <tr>\n",
              "      <th>1</th>\n",
              "      <td>0</td>\n",
              "      <td>1</td>\n",
              "      <td>0</td>\n",
              "      <td>0</td>\n",
              "      <td>0</td>\n",
              "      <td>0</td>\n",
              "    </tr>\n",
              "    <tr>\n",
              "      <th>2</th>\n",
              "      <td>0</td>\n",
              "      <td>0</td>\n",
              "      <td>0</td>\n",
              "      <td>0</td>\n",
              "      <td>1</td>\n",
              "      <td>0</td>\n",
              "    </tr>\n",
              "    <tr>\n",
              "      <th>3</th>\n",
              "      <td>0</td>\n",
              "      <td>0</td>\n",
              "      <td>0</td>\n",
              "      <td>0</td>\n",
              "      <td>0</td>\n",
              "      <td>1</td>\n",
              "    </tr>\n",
              "    <tr>\n",
              "      <th>4</th>\n",
              "      <td>0</td>\n",
              "      <td>0</td>\n",
              "      <td>0</td>\n",
              "      <td>1</td>\n",
              "      <td>0</td>\n",
              "      <td>0</td>\n",
              "    </tr>\n",
              "    <tr>\n",
              "      <th>5</th>\n",
              "      <td>0</td>\n",
              "      <td>0</td>\n",
              "      <td>0</td>\n",
              "      <td>1</td>\n",
              "      <td>0</td>\n",
              "      <td>0</td>\n",
              "    </tr>\n",
              "    <tr>\n",
              "      <th>6</th>\n",
              "      <td>0</td>\n",
              "      <td>0</td>\n",
              "      <td>1</td>\n",
              "      <td>0</td>\n",
              "      <td>0</td>\n",
              "      <td>0</td>\n",
              "    </tr>\n",
              "    <tr>\n",
              "      <th>7</th>\n",
              "      <td>0</td>\n",
              "      <td>0</td>\n",
              "      <td>1</td>\n",
              "      <td>0</td>\n",
              "      <td>0</td>\n",
              "      <td>0</td>\n",
              "    </tr>\n",
              "  </tbody>\n",
              "</table>\n",
              "</div>\n",
              "      <button class=\"colab-df-convert\" onclick=\"convertToInteractive('df-9dddab5a-d343-477d-848d-89b177d8ca9e')\"\n",
              "              title=\"Convert this dataframe to an interactive table.\"\n",
              "              style=\"display:none;\">\n",
              "        \n",
              "  <svg xmlns=\"http://www.w3.org/2000/svg\" height=\"24px\"viewBox=\"0 0 24 24\"\n",
              "       width=\"24px\">\n",
              "    <path d=\"M0 0h24v24H0V0z\" fill=\"none\"/>\n",
              "    <path d=\"M18.56 5.44l.94 2.06.94-2.06 2.06-.94-2.06-.94-.94-2.06-.94 2.06-2.06.94zm-11 1L8.5 8.5l.94-2.06 2.06-.94-2.06-.94L8.5 2.5l-.94 2.06-2.06.94zm10 10l.94 2.06.94-2.06 2.06-.94-2.06-.94-.94-2.06-.94 2.06-2.06.94z\"/><path d=\"M17.41 7.96l-1.37-1.37c-.4-.4-.92-.59-1.43-.59-.52 0-1.04.2-1.43.59L10.3 9.45l-7.72 7.72c-.78.78-.78 2.05 0 2.83L4 21.41c.39.39.9.59 1.41.59.51 0 1.02-.2 1.41-.59l7.78-7.78 2.81-2.81c.8-.78.8-2.07 0-2.86zM5.41 20L4 18.59l7.72-7.72 1.47 1.35L5.41 20z\"/>\n",
              "  </svg>\n",
              "      </button>\n",
              "      \n",
              "  <style>\n",
              "    .colab-df-container {\n",
              "      display:flex;\n",
              "      flex-wrap:wrap;\n",
              "      gap: 12px;\n",
              "    }\n",
              "\n",
              "    .colab-df-convert {\n",
              "      background-color: #E8F0FE;\n",
              "      border: none;\n",
              "      border-radius: 50%;\n",
              "      cursor: pointer;\n",
              "      display: none;\n",
              "      fill: #1967D2;\n",
              "      height: 32px;\n",
              "      padding: 0 0 0 0;\n",
              "      width: 32px;\n",
              "    }\n",
              "\n",
              "    .colab-df-convert:hover {\n",
              "      background-color: #E2EBFA;\n",
              "      box-shadow: 0px 1px 2px rgba(60, 64, 67, 0.3), 0px 1px 3px 1px rgba(60, 64, 67, 0.15);\n",
              "      fill: #174EA6;\n",
              "    }\n",
              "\n",
              "    [theme=dark] .colab-df-convert {\n",
              "      background-color: #3B4455;\n",
              "      fill: #D2E3FC;\n",
              "    }\n",
              "\n",
              "    [theme=dark] .colab-df-convert:hover {\n",
              "      background-color: #434B5C;\n",
              "      box-shadow: 0px 1px 3px 1px rgba(0, 0, 0, 0.15);\n",
              "      filter: drop-shadow(0px 1px 2px rgba(0, 0, 0, 0.3));\n",
              "      fill: #FFFFFF;\n",
              "    }\n",
              "  </style>\n",
              "\n",
              "      <script>\n",
              "        const buttonEl =\n",
              "          document.querySelector('#df-9dddab5a-d343-477d-848d-89b177d8ca9e button.colab-df-convert');\n",
              "        buttonEl.style.display =\n",
              "          google.colab.kernel.accessAllowed ? 'block' : 'none';\n",
              "\n",
              "        async function convertToInteractive(key) {\n",
              "          const element = document.querySelector('#df-9dddab5a-d343-477d-848d-89b177d8ca9e');\n",
              "          const dataTable =\n",
              "            await google.colab.kernel.invokeFunction('convertToInteractive',\n",
              "                                                     [key], {});\n",
              "          if (!dataTable) return;\n",
              "\n",
              "          const docLinkHtml = 'Like what you see? Visit the ' +\n",
              "            '<a target=\"_blank\" href=https://colab.research.google.com/notebooks/data_table.ipynb>data table notebook</a>'\n",
              "            + ' to learn more about interactive tables.';\n",
              "          element.innerHTML = '';\n",
              "          dataTable['output_type'] = 'display_data';\n",
              "          await google.colab.output.renderOutput(dataTable, element);\n",
              "          const docLink = document.createElement('div');\n",
              "          docLink.innerHTML = docLinkHtml;\n",
              "          element.appendChild(docLink);\n",
              "        }\n",
              "      </script>\n",
              "    </div>\n",
              "  </div>\n",
              "  "
            ]
          },
          "metadata": {},
          "execution_count": 62
        }
      ]
    },
    {
      "cell_type": "markdown",
      "source": [
        "## 불균형 데이터셋(Imbalanced datasets)\n",
        "분류 문제에 있어 클래스 비중의 차이가 많이 나는 불균형 데이터의 경우 보정이 필요하다. \n",
        "* 한 클래스가 다른 클래스에 비해 훨씬 많을 경우 모델을 만들지 않아도 어느 정도 좋은 성능을 얻을 수 있다. \n",
        "* 모델 학습시에 클래스별로 가중치를 부여할 수 있다. (class_weight)\n"
      ],
      "metadata": {
        "id": "XofKEQfpQuBP"
      }
    },
    {
      "cell_type": "code",
      "source": [
        "! pip install imblearn"
      ],
      "metadata": {
        "colab": {
          "base_uri": "https://localhost:8080/"
        },
        "id": "dSPOUI7yQ2ur",
        "outputId": "98fa2ae4-cabe-4de0-ef71-c9cc5568ecc5"
      },
      "execution_count": 58,
      "outputs": [
        {
          "output_type": "stream",
          "name": "stdout",
          "text": [
            "Requirement already satisfied: imblearn in /usr/local/lib/python3.7/dist-packages (0.0)\n",
            "Requirement already satisfied: imbalanced-learn in /usr/local/lib/python3.7/dist-packages (from imblearn) (0.8.1)\n",
            "Requirement already satisfied: numpy>=1.13.3 in /usr/local/lib/python3.7/dist-packages (from imbalanced-learn->imblearn) (1.21.6)\n",
            "Requirement already satisfied: scikit-learn>=0.24 in /usr/local/lib/python3.7/dist-packages (from imbalanced-learn->imblearn) (1.0.2)\n",
            "Requirement already satisfied: joblib>=0.11 in /usr/local/lib/python3.7/dist-packages (from imbalanced-learn->imblearn) (1.1.0)\n",
            "Requirement already satisfied: scipy>=0.19.1 in /usr/local/lib/python3.7/dist-packages (from imbalanced-learn->imblearn) (1.4.1)\n",
            "Requirement already satisfied: threadpoolctl>=2.0.0 in /usr/local/lib/python3.7/dist-packages (from scikit-learn>=0.24->imbalanced-learn->imblearn) (3.1.0)\n"
          ]
        }
      ]
    },
    {
      "cell_type": "code",
      "source": [
        "# 데이터셋 설정 (Universal Bank에서 대출 캠페인에 반응한 사람)\n",
        "# Universal Bank에서 대출 캠페인에 반응한 사람 (종속: Personal Loan, index 7)\n",
        "\n",
        "df_bank = pd.read_csv(\"/content/drive/MyDrive/Colab Notebooks/BigMining/UniversalBank.csv\")\n",
        "display(df_bank.info())\n",
        "print(df_bank['PersonalLoan'].value_counts())\n",
        "\n",
        "y = df_bank['PersonalLoan']\n",
        "X = df_bank.drop('PersonalLoan', axis =1)\n",
        "display(X.columns)"
      ],
      "metadata": {
        "colab": {
          "base_uri": "https://localhost:8080/",
          "height": 468
        },
        "id": "HcMfHVCTQ5N8",
        "outputId": "b25adaf5-f789-4290-d36b-964e0c3da74d"
      },
      "execution_count": 66,
      "outputs": [
        {
          "output_type": "stream",
          "name": "stdout",
          "text": [
            "<class 'pandas.core.frame.DataFrame'>\n",
            "RangeIndex: 5000 entries, 0 to 4999\n",
            "Data columns (total 12 columns):\n",
            " #   Column             Non-Null Count  Dtype  \n",
            "---  ------             --------------  -----  \n",
            " 0   Age                5000 non-null   int64  \n",
            " 1   Experience         5000 non-null   int64  \n",
            " 2   Income             5000 non-null   int64  \n",
            " 3   Family             5000 non-null   int64  \n",
            " 4   CCAvg              5000 non-null   float64\n",
            " 5   Education          5000 non-null   int64  \n",
            " 6   Mortgage           5000 non-null   int64  \n",
            " 7   PersonalLoan       5000 non-null   int64  \n",
            " 8   SecuritiesAccount  5000 non-null   int64  \n",
            " 9   CDAccount          5000 non-null   int64  \n",
            " 10  Online             5000 non-null   int64  \n",
            " 11  CreditCard         5000 non-null   int64  \n",
            "dtypes: float64(1), int64(11)\n",
            "memory usage: 468.9 KB\n"
          ]
        },
        {
          "output_type": "display_data",
          "data": {
            "text/plain": [
              "None"
            ]
          },
          "metadata": {}
        },
        {
          "output_type": "stream",
          "name": "stdout",
          "text": [
            "0    4520\n",
            "1     480\n",
            "Name: PersonalLoan, dtype: int64\n"
          ]
        },
        {
          "output_type": "display_data",
          "data": {
            "text/plain": [
              "Index(['Age', 'Experience', 'Income', 'Family', 'CCAvg', 'Education',\n",
              "       'Mortgage', 'SecuritiesAccount', 'CDAccount', 'Online', 'CreditCard'],\n",
              "      dtype='object')"
            ]
          },
          "metadata": {}
        }
      ]
    },
    {
      "cell_type": "code",
      "source": [
        "from imblearn.under_sampling import RandomUnderSampler\n",
        "from imblearn.over_sampling import SMOTE # oversampling에서 많이 사용되는 알고리즘\n",
        "\n",
        "Under= RandomUnderSampler(random_state=0)\n",
        "X_under, y_under = Under.fit_resample(X, y)\n",
        "print(y_under.value_counts(()))\n",
        "\n",
        "Over = SMOTE(random_state=0)\n",
        "X_over, y_over = Over.fit_resample(X, y)\n",
        "print(y_over.value_counts(()))\n"
      ],
      "metadata": {
        "colab": {
          "base_uri": "https://localhost:8080/"
        },
        "id": "RZNEeiuWQ-oH",
        "outputId": "1fa099e2-0e87-43b1-89e8-18aaa4d085b1"
      },
      "execution_count": 67,
      "outputs": [
        {
          "output_type": "stream",
          "name": "stdout",
          "text": [
            "0    480\n",
            "1    480\n",
            "Name: PersonalLoan, dtype: int64\n",
            "0    4520\n",
            "1    4520\n",
            "Name: PersonalLoan, dtype: int64\n"
          ]
        }
      ]
    },
    {
      "cell_type": "markdown",
      "source": [
        "### 모델에서 처리  \n",
        "- 모델 생성시 class_weight = \"balanced\" 또는 {\"클래스1\":0.8, \"클래스2\":0.2} 등으로 지정 가능"
      ],
      "metadata": {
        "id": "dNUSspEjRFq6"
      }
    },
    {
      "cell_type": "code",
      "source": [
        "from sklearn.ensemble import RandomForestClassifier\n",
        "\n",
        "print(y.value_counts())\n",
        "\n",
        "# 가중치\n",
        "weights = {0: 0.8, 1: 0.2}\n",
        "\n",
        "# 가중치를 부여한 랜덤 포레스트 분류기 만들기 (기본적으로 class_weight =None)\n",
        "forest = RandomForestClassifier(class_weight=weights, random_state=0)\n",
        "forest.fit(X, y)"
      ],
      "metadata": {
        "colab": {
          "base_uri": "https://localhost:8080/"
        },
        "id": "J_0zobp8Qw3_",
        "outputId": "24e81aa3-b2a9-4fa2-e6c2-da26634780fa"
      },
      "execution_count": 76,
      "outputs": [
        {
          "output_type": "stream",
          "name": "stdout",
          "text": [
            "0    4520\n",
            "1     480\n",
            "Name: PersonalLoan, dtype: int64\n"
          ]
        },
        {
          "output_type": "execute_result",
          "data": {
            "text/plain": [
              "RandomForestClassifier(class_weight={0: 0.8, 1: 0.2}, random_state=0)"
            ]
          },
          "metadata": {},
          "execution_count": 76
        }
      ]
    },
    {
      "cell_type": "code",
      "source": [
        "# 균형잡힌 클래스 가중치로 랜덤 포레스트 모델을 학습\n",
        "forest = RandomForestClassifier(class_weight=\"balanced\",random_state=0)\n",
        "forest.fit(X, y)"
      ],
      "metadata": {
        "colab": {
          "base_uri": "https://localhost:8080/"
        },
        "id": "_DyBr9UdQy9h",
        "outputId": "9c9d6abe-3ddb-4350-9718-68f4afa21bbb"
      },
      "execution_count": 75,
      "outputs": [
        {
          "output_type": "execute_result",
          "data": {
            "text/plain": [
              "RandomForestClassifier(class_weight='balanced', random_state=0)"
            ]
          },
          "metadata": {},
          "execution_count": 75
        }
      ]
    },
    {
      "cell_type": "markdown",
      "metadata": {
        "id": "mGp9SQY_6kv_"
      },
      "source": [
        "# 회귀분석 (Regression Analysis) "
      ]
    },
    {
      "cell_type": "code",
      "source": [
        "import mglearn\n",
        "\n",
        "mglearn.plots.plot_linear_regression_wave()"
      ],
      "metadata": {
        "colab": {
          "base_uri": "https://localhost:8080/",
          "height": 464
        },
        "id": "Y4ssZW5TZ1LM",
        "outputId": "e68726e3-2d56-40be-e4e5-2b5462d6a07c"
      },
      "execution_count": 99,
      "outputs": [
        {
          "output_type": "stream",
          "name": "stdout",
          "text": [
            "w[0]: 0.393906  b: -0.031804\n"
          ]
        },
        {
          "output_type": "display_data",
          "data": {
            "text/plain": [
              "<Figure size 576x576 with 1 Axes>"
            ],
            "image/png": "[encoded data removed]"
          },
          "metadata": {
            "needs_background": "light"
          }
        }
      ]
    },
    {
      "cell_type": "markdown",
      "source": [
        "## statsmodels 이용"
      ],
      "metadata": {
        "id": "hCXVfQoXRRa6"
      }
    },
    {
      "cell_type": "code",
      "metadata": {
        "id": "TQldfiYItPhZ",
        "colab": {
          "base_uri": "https://localhost:8080/"
        },
        "outputId": "5332cba6-7c24-462a-cb3c-6ccdb75b84c6"
      },
      "source": [
        "import statsmodels.api as sm\n",
        "\n",
        "X = sm.add_constant(X)  # OLS 분석을 위해 상수항을 만들어 주어야 함 \n",
        "reg = sm.OLS(y, X)    ## OLS:선형회귀, Logit: 로지스틱회귀"
      ],
      "execution_count": 77,
      "outputs": [
        {
          "output_type": "stream",
          "name": "stderr",
          "text": [
            "/usr/local/lib/python3.7/dist-packages/statsmodels/tools/_testing.py:19: FutureWarning: pandas.util.testing is deprecated. Use the functions in the public API at pandas.testing instead.\n",
            "  import pandas.util.testing as tm\n",
            "/usr/local/lib/python3.7/dist-packages/statsmodels/tsa/tsatools.py:117: FutureWarning: In a future version of pandas all arguments of concat except for the argument 'objs' will be keyword-only\n",
            "  x = pd.concat(x[::order], 1)\n"
          ]
        }
      ]
    },
    {
      "cell_type": "code",
      "metadata": {
        "colab": {
          "base_uri": "https://localhost:8080/"
        },
        "id": "nS-p9-aOuGMO",
        "outputId": "2782b57d-6409-48c5-ff96-cfcb92312ed8"
      },
      "source": [
        "reg_fit = reg.fit()\n",
        "print(reg_fit.summary())"
      ],
      "execution_count": 78,
      "outputs": [
        {
          "output_type": "stream",
          "name": "stdout",
          "text": [
            "                            OLS Regression Results                            \n",
            "==============================================================================\n",
            "Dep. Variable:           PersonalLoan   R-squared:                       0.386\n",
            "Model:                            OLS   Adj. R-squared:                  0.385\n",
            "Method:                 Least Squares   F-statistic:                     285.3\n",
            "Date:                Thu, 28 Apr 2022   Prob (F-statistic):               0.00\n",
            "Time:                        04:05:55   Log-Likelihood:                 236.48\n",
            "No. Observations:                5000   AIC:                            -449.0\n",
            "Df Residuals:                    4988   BIC:                            -370.8\n",
            "Df Model:                          11                                         \n",
            "Covariance Type:            nonrobust                                         \n",
            "=====================================================================================\n",
            "                        coef    std err          t      P>|t|      [0.025      0.975]\n",
            "-------------------------------------------------------------------------------------\n",
            "const                -0.2324      0.070     -3.340      0.001      -0.369      -0.096\n",
            "Age                  -0.0057      0.003     -2.066      0.039      -0.011      -0.000\n",
            "Experience            0.0062      0.003      2.246      0.025       0.001       0.012\n",
            "Income                0.0030   9.68e-05     31.008      0.000       0.003       0.003\n",
            "Family                0.0333      0.003     11.512      0.000       0.028       0.039\n",
            "CCAvg                 0.0120      0.002      4.869      0.000       0.007       0.017\n",
            "Education             0.0796      0.004     19.366      0.000       0.072       0.088\n",
            "Mortgage           6.483e-05   3.29e-05      1.968      0.049    2.41e-07       0.000\n",
            "SecuritiesAccount    -0.0604      0.011     -5.299      0.000      -0.083      -0.038\n",
            "CDAccount             0.3295      0.016     20.829      0.000       0.298       0.360\n",
            "Online               -0.0264      0.007     -3.892      0.000      -0.040      -0.013\n",
            "CreditCard           -0.0452      0.008     -5.987      0.000      -0.060      -0.030\n",
            "==============================================================================\n",
            "Omnibus:                     1305.700   Durbin-Watson:                   1.955\n",
            "Prob(Omnibus):                  0.000   Jarque-Bera (JB):             3397.784\n",
            "Skew:                           1.406   Prob(JB):                         0.00\n",
            "Kurtosis:                       5.899   Cond. No.                     2.84e+03\n",
            "==============================================================================\n",
            "\n",
            "Warnings:\n",
            "[1] Standard Errors assume that the covariance matrix of the errors is correctly specified.\n",
            "[2] The condition number is large, 2.84e+03. This might indicate that there are\n",
            "strong multicollinearity or other numerical problems.\n"
          ]
        }
      ]
    },
    {
      "cell_type": "markdown",
      "metadata": {
        "id": "9m0ZIm_d7k6i"
      },
      "source": [
        "## sklearn 이용"
      ]
    },
    {
      "cell_type": "markdown",
      "metadata": {
        "id": "Pc-HfFgm61KR"
      },
      "source": [
        "### 데이터 전처리\n",
        "* 학습 / 테스트데이터 분할\n",
        "* 독립변수 표준화 수행"
      ]
    },
    {
      "cell_type": "code",
      "metadata": {
        "id": "qGWFdCydSx4O",
        "colab": {
          "base_uri": "https://localhost:8080/",
          "height": 503
        },
        "outputId": "3460603e-404d-4b34-8872-5031f183cd97"
      },
      "source": [
        "df_Boston = pd.read_csv(\"/content/drive/MyDrive/Colab Notebooks/BigMining/BostonHousing.csv\")\n",
        "\n",
        "display(df_Boston.head(3))\n",
        "df_Boston.describe()  #변수 scale확인\n",
        "print(df_Boston.isnull().sum())  #결측치 확인"
      ],
      "execution_count": 89,
      "outputs": [
        {
          "output_type": "display_data",
          "data": {
            "text/plain": [
              "   CRIM     ZN  INDUS  CHAS   NOX    RM    AGE   DIS  RAD  TAX  PTRATIO  \\\n",
              "0 0.006 18.000  2.310     0 0.538 6.575 65.200 4.090    1  296   15.300   \n",
              "1 0.027  0.000  7.070     0 0.469 6.421 78.900 4.967    2  242   17.800   \n",
              "2 0.027  0.000  7.070     0 0.469 7.185 61.100 4.967    2  242   17.800   \n",
              "\n",
              "        B  LSTAT   MEDV  'CAT. MEDV'  \n",
              "0 396.900  4.980 24.000            0  \n",
              "1 396.900  9.140 21.600            0  \n",
              "2 392.830  4.030 34.700            1  "
            ],
            "text/html": [
              "\n",
              "  <div id=\"df-acef7138-e8f1-4416-aa15-c4db4b61418b\">\n",
              "    <div class=\"colab-df-container\">\n",
              "      <div>\n",
              "<style scoped>\n",
              "    .dataframe tbody tr th:only-of-type {\n",
              "        vertical-align: middle;\n",
              "    }\n",
              "\n",
              "    .dataframe tbody tr th {\n",
              "        vertical-align: top;\n",
              "    }\n",
              "\n",
              "    .dataframe thead th {\n",
              "        text-align: right;\n",
              "    }\n",
              "</style>\n",
              "<table border=\"1\" class=\"dataframe\">\n",
              "  <thead>\n",
              "    <tr style=\"text-align: right;\">\n",
              "      <th></th>\n",
              "      <th>CRIM</th>\n",
              "      <th>ZN</th>\n",
              "      <th>INDUS</th>\n",
              "      <th>CHAS</th>\n",
              "      <th>NOX</th>\n",
              "      <th>RM</th>\n",
              "      <th>AGE</th>\n",
              "      <th>DIS</th>\n",
              "      <th>RAD</th>\n",
              "      <th>TAX</th>\n",
              "      <th>PTRATIO</th>\n",
              "      <th>B</th>\n",
              "      <th>LSTAT</th>\n",
              "      <th>MEDV</th>\n",
              "      <th>'CAT. MEDV'</th>\n",
              "    </tr>\n",
              "  </thead>\n",
              "  <tbody>\n",
              "    <tr>\n",
              "      <th>0</th>\n",
              "      <td>0.006</td>\n",
              "      <td>18.000</td>\n",
              "      <td>2.310</td>\n",
              "      <td>0</td>\n",
              "      <td>0.538</td>\n",
              "      <td>6.575</td>\n",
              "      <td>65.200</td>\n",
              "      <td>4.090</td>\n",
              "      <td>1</td>\n",
              "      <td>296</td>\n",
              "      <td>15.300</td>\n",
              "      <td>396.900</td>\n",
              "      <td>4.980</td>\n",
              "      <td>24.000</td>\n",
              "      <td>0</td>\n",
              "    </tr>\n",
              "    <tr>\n",
              "      <th>1</th>\n",
              "      <td>0.027</td>\n",
              "      <td>0.000</td>\n",
              "      <td>7.070</td>\n",
              "      <td>0</td>\n",
              "      <td>0.469</td>\n",
              "      <td>6.421</td>\n",
              "      <td>78.900</td>\n",
              "      <td>4.967</td>\n",
              "      <td>2</td>\n",
              "      <td>242</td>\n",
              "      <td>17.800</td>\n",
              "      <td>396.900</td>\n",
              "      <td>9.140</td>\n",
              "      <td>21.600</td>\n",
              "      <td>0</td>\n",
              "    </tr>\n",
              "    <tr>\n",
              "      <th>2</th>\n",
              "      <td>0.027</td>\n",
              "      <td>0.000</td>\n",
              "      <td>7.070</td>\n",
              "      <td>0</td>\n",
              "      <td>0.469</td>\n",
              "      <td>7.185</td>\n",
              "      <td>61.100</td>\n",
              "      <td>4.967</td>\n",
              "      <td>2</td>\n",
              "      <td>242</td>\n",
              "      <td>17.800</td>\n",
              "      <td>392.830</td>\n",
              "      <td>4.030</td>\n",
              "      <td>34.700</td>\n",
              "      <td>1</td>\n",
              "    </tr>\n",
              "  </tbody>\n",
              "</table>\n",
              "</div>\n",
              "      <button class=\"colab-df-convert\" onclick=\"convertToInteractive('df-acef7138-e8f1-4416-aa15-c4db4b61418b')\"\n",
              "              title=\"Convert this dataframe to an interactive table.\"\n",
              "              style=\"display:none;\">\n",
              "        \n",
              "  <svg xmlns=\"http://www.w3.org/2000/svg\" height=\"24px\"viewBox=\"0 0 24 24\"\n",
              "       width=\"24px\">\n",
              "    <path d=\"M0 0h24v24H0V0z\" fill=\"none\"/>\n",
              "    <path d=\"M18.56 5.44l.94 2.06.94-2.06 2.06-.94-2.06-.94-.94-2.06-.94 2.06-2.06.94zm-11 1L8.5 8.5l.94-2.06 2.06-.94-2.06-.94L8.5 2.5l-.94 2.06-2.06.94zm10 10l.94 2.06.94-2.06 2.06-.94-2.06-.94-.94-2.06-.94 2.06-2.06.94z\"/><path d=\"M17.41 7.96l-1.37-1.37c-.4-.4-.92-.59-1.43-.59-.52 0-1.04.2-1.43.59L10.3 9.45l-7.72 7.72c-.78.78-.78 2.05 0 2.83L4 21.41c.39.39.9.59 1.41.59.51 0 1.02-.2 1.41-.59l7.78-7.78 2.81-2.81c.8-.78.8-2.07 0-2.86zM5.41 20L4 18.59l7.72-7.72 1.47 1.35L5.41 20z\"/>\n",
              "  </svg>\n",
              "      </button>\n",
              "      \n",
              "  <style>\n",
              "    .colab-df-container {\n",
              "      display:flex;\n",
              "      flex-wrap:wrap;\n",
              "      gap: 12px;\n",
              "    }\n",
              "\n",
              "    .colab-df-convert {\n",
              "      background-color: #E8F0FE;\n",
              "      border: none;\n",
              "      border-radius: 50%;\n",
              "      cursor: pointer;\n",
              "      display: none;\n",
              "      fill: #1967D2;\n",
              "      height: 32px;\n",
              "      padding: 0 0 0 0;\n",
              "      width: 32px;\n",
              "    }\n",
              "\n",
              "    .colab-df-convert:hover {\n",
              "      background-color: #E2EBFA;\n",
              "      box-shadow: 0px 1px 2px rgba(60, 64, 67, 0.3), 0px 1px 3px 1px rgba(60, 64, 67, 0.15);\n",
              "      fill: #174EA6;\n",
              "    }\n",
              "\n",
              "    [theme=dark] .colab-df-convert {\n",
              "      background-color: #3B4455;\n",
              "      fill: #D2E3FC;\n",
              "    }\n",
              "\n",
              "    [theme=dark] .colab-df-convert:hover {\n",
              "      background-color: #434B5C;\n",
              "      box-shadow: 0px 1px 3px 1px rgba(0, 0, 0, 0.15);\n",
              "      filter: drop-shadow(0px 1px 2px rgba(0, 0, 0, 0.3));\n",
              "      fill: #FFFFFF;\n",
              "    }\n",
              "  </style>\n",
              "\n",
              "      <script>\n",
              "        const buttonEl =\n",
              "          document.querySelector('#df-acef7138-e8f1-4416-aa15-c4db4b61418b button.colab-df-convert');\n",
              "        buttonEl.style.display =\n",
              "          google.colab.kernel.accessAllowed ? 'block' : 'none';\n",
              "\n",
              "        async function convertToInteractive(key) {\n",
              "          const element = document.querySelector('#df-acef7138-e8f1-4416-aa15-c4db4b61418b');\n",
              "          const dataTable =\n",
              "            await google.colab.kernel.invokeFunction('convertToInteractive',\n",
              "                                                     [key], {});\n",
              "          if (!dataTable) return;\n",
              "\n",
              "          const docLinkHtml = 'Like what you see? Visit the ' +\n",
              "            '<a target=\"_blank\" href=https://colab.research.google.com/notebooks/data_table.ipynb>data table notebook</a>'\n",
              "            + ' to learn more about interactive tables.';\n",
              "          element.innerHTML = '';\n",
              "          dataTable['output_type'] = 'display_data';\n",
              "          await google.colab.output.renderOutput(dataTable, element);\n",
              "          const docLink = document.createElement('div');\n",
              "          docLink.innerHTML = docLinkHtml;\n",
              "          element.appendChild(docLink);\n",
              "        }\n",
              "      </script>\n",
              "    </div>\n",
              "  </div>\n",
              "  "
            ]
          },
          "metadata": {}
        },
        {
          "output_type": "stream",
          "name": "stdout",
          "text": [
            "CRIM           0\n",
            "ZN             0\n",
            "INDUS          0\n",
            "CHAS           0\n",
            "NOX            0\n",
            "RM             0\n",
            "AGE            0\n",
            "DIS            0\n",
            "RAD            0\n",
            "TAX            0\n",
            "PTRATIO        0\n",
            "B              0\n",
            "LSTAT          0\n",
            "MEDV           0\n",
            "'CAT. MEDV'    0\n",
            "dtype: int64\n"
          ]
        }
      ]
    },
    {
      "cell_type": "code",
      "source": [
        "#Cat.medv는 medv가 30,000 (단위 1,000$)이므로 제거\n",
        "#종속변수 집값 (medv), 나머지 독립변수\n",
        "\n",
        "y = df_Boston[\"MEDV\"]\n",
        "X = df_Boston.iloc[:,0:-2]\n",
        "display(X.head())"
      ],
      "metadata": {
        "colab": {
          "base_uri": "https://localhost:8080/",
          "height": 206
        },
        "id": "zMUI6yhiYwzr",
        "outputId": "189d217f-62ee-4e06-f984-ac482c76c1c7"
      },
      "execution_count": 90,
      "outputs": [
        {
          "output_type": "display_data",
          "data": {
            "text/plain": [
              "   CRIM     ZN  INDUS  CHAS   NOX    RM    AGE   DIS  RAD  TAX  PTRATIO  \\\n",
              "0 0.006 18.000  2.310     0 0.538 6.575 65.200 4.090    1  296   15.300   \n",
              "1 0.027  0.000  7.070     0 0.469 6.421 78.900 4.967    2  242   17.800   \n",
              "2 0.027  0.000  7.070     0 0.469 7.185 61.100 4.967    2  242   17.800   \n",
              "3 0.032  0.000  2.180     0 0.458 6.998 45.800 6.062    3  222   18.700   \n",
              "4 0.069  0.000  2.180     0 0.458 7.147 54.200 6.062    3  222   18.700   \n",
              "\n",
              "        B  LSTAT  \n",
              "0 396.900  4.980  \n",
              "1 396.900  9.140  \n",
              "2 392.830  4.030  \n",
              "3 394.630  2.940  \n",
              "4 396.900  5.330  "
            ],
            "text/html": [
              "\n",
              "  <div id=\"df-cd5868fa-8551-4653-a66c-7a5150b39899\">\n",
              "    <div class=\"colab-df-container\">\n",
              "      <div>\n",
              "<style scoped>\n",
              "    .dataframe tbody tr th:only-of-type {\n",
              "        vertical-align: middle;\n",
              "    }\n",
              "\n",
              "    .dataframe tbody tr th {\n",
              "        vertical-align: top;\n",
              "    }\n",
              "\n",
              "    .dataframe thead th {\n",
              "        text-align: right;\n",
              "    }\n",
              "</style>\n",
              "<table border=\"1\" class=\"dataframe\">\n",
              "  <thead>\n",
              "    <tr style=\"text-align: right;\">\n",
              "      <th></th>\n",
              "      <th>CRIM</th>\n",
              "      <th>ZN</th>\n",
              "      <th>INDUS</th>\n",
              "      <th>CHAS</th>\n",
              "      <th>NOX</th>\n",
              "      <th>RM</th>\n",
              "      <th>AGE</th>\n",
              "      <th>DIS</th>\n",
              "      <th>RAD</th>\n",
              "      <th>TAX</th>\n",
              "      <th>PTRATIO</th>\n",
              "      <th>B</th>\n",
              "      <th>LSTAT</th>\n",
              "    </tr>\n",
              "  </thead>\n",
              "  <tbody>\n",
              "    <tr>\n",
              "      <th>0</th>\n",
              "      <td>0.006</td>\n",
              "      <td>18.000</td>\n",
              "      <td>2.310</td>\n",
              "      <td>0</td>\n",
              "      <td>0.538</td>\n",
              "      <td>6.575</td>\n",
              "      <td>65.200</td>\n",
              "      <td>4.090</td>\n",
              "      <td>1</td>\n",
              "      <td>296</td>\n",
              "      <td>15.300</td>\n",
              "      <td>396.900</td>\n",
              "      <td>4.980</td>\n",
              "    </tr>\n",
              "    <tr>\n",
              "      <th>1</th>\n",
              "      <td>0.027</td>\n",
              "      <td>0.000</td>\n",
              "      <td>7.070</td>\n",
              "      <td>0</td>\n",
              "      <td>0.469</td>\n",
              "      <td>6.421</td>\n",
              "      <td>78.900</td>\n",
              "      <td>4.967</td>\n",
              "      <td>2</td>\n",
              "      <td>242</td>\n",
              "      <td>17.800</td>\n",
              "      <td>396.900</td>\n",
              "      <td>9.140</td>\n",
              "    </tr>\n",
              "    <tr>\n",
              "      <th>2</th>\n",
              "      <td>0.027</td>\n",
              "      <td>0.000</td>\n",
              "      <td>7.070</td>\n",
              "      <td>0</td>\n",
              "      <td>0.469</td>\n",
              "      <td>7.185</td>\n",
              "      <td>61.100</td>\n",
              "      <td>4.967</td>\n",
              "      <td>2</td>\n",
              "      <td>242</td>\n",
              "      <td>17.800</td>\n",
              "      <td>392.830</td>\n",
              "      <td>4.030</td>\n",
              "    </tr>\n",
              "    <tr>\n",
              "      <th>3</th>\n",
              "      <td>0.032</td>\n",
              "      <td>0.000</td>\n",
              "      <td>2.180</td>\n",
              "      <td>0</td>\n",
              "      <td>0.458</td>\n",
              "      <td>6.998</td>\n",
              "      <td>45.800</td>\n",
              "      <td>6.062</td>\n",
              "      <td>3</td>\n",
              "      <td>222</td>\n",
              "      <td>18.700</td>\n",
              "      <td>394.630</td>\n",
              "      <td>2.940</td>\n",
              "    </tr>\n",
              "    <tr>\n",
              "      <th>4</th>\n",
              "      <td>0.069</td>\n",
              "      <td>0.000</td>\n",
              "      <td>2.180</td>\n",
              "      <td>0</td>\n",
              "      <td>0.458</td>\n",
              "      <td>7.147</td>\n",
              "      <td>54.200</td>\n",
              "      <td>6.062</td>\n",
              "      <td>3</td>\n",
              "      <td>222</td>\n",
              "      <td>18.700</td>\n",
              "      <td>396.900</td>\n",
              "      <td>5.330</td>\n",
              "    </tr>\n",
              "  </tbody>\n",
              "</table>\n",
              "</div>\n",
              "      <button class=\"colab-df-convert\" onclick=\"convertToInteractive('df-cd5868fa-8551-4653-a66c-7a5150b39899')\"\n",
              "              title=\"Convert this dataframe to an interactive table.\"\n",
              "              style=\"display:none;\">\n",
              "        \n",
              "  <svg xmlns=\"http://www.w3.org/2000/svg\" height=\"24px\"viewBox=\"0 0 24 24\"\n",
              "       width=\"24px\">\n",
              "    <path d=\"M0 0h24v24H0V0z\" fill=\"none\"/>\n",
              "    <path d=\"M18.56 5.44l.94 2.06.94-2.06 2.06-.94-2.06-.94-.94-2.06-.94 2.06-2.06.94zm-11 1L8.5 8.5l.94-2.06 2.06-.94-2.06-.94L8.5 2.5l-.94 2.06-2.06.94zm10 10l.94 2.06.94-2.06 2.06-.94-2.06-.94-.94-2.06-.94 2.06-2.06.94z\"/><path d=\"M17.41 7.96l-1.37-1.37c-.4-.4-.92-.59-1.43-.59-.52 0-1.04.2-1.43.59L10.3 9.45l-7.72 7.72c-.78.78-.78 2.05 0 2.83L4 21.41c.39.39.9.59 1.41.59.51 0 1.02-.2 1.41-.59l7.78-7.78 2.81-2.81c.8-.78.8-2.07 0-2.86zM5.41 20L4 18.59l7.72-7.72 1.47 1.35L5.41 20z\"/>\n",
              "  </svg>\n",
              "      </button>\n",
              "      \n",
              "  <style>\n",
              "    .colab-df-container {\n",
              "      display:flex;\n",
              "      flex-wrap:wrap;\n",
              "      gap: 12px;\n",
              "    }\n",
              "\n",
              "    .colab-df-convert {\n",
              "      background-color: #E8F0FE;\n",
              "      border: none;\n",
              "      border-radius: 50%;\n",
              "      cursor: pointer;\n",
              "      display: none;\n",
              "      fill: #1967D2;\n",
              "      height: 32px;\n",
              "      padding: 0 0 0 0;\n",
              "      width: 32px;\n",
              "    }\n",
              "\n",
              "    .colab-df-convert:hover {\n",
              "      background-color: #E2EBFA;\n",
              "      box-shadow: 0px 1px 2px rgba(60, 64, 67, 0.3), 0px 1px 3px 1px rgba(60, 64, 67, 0.15);\n",
              "      fill: #174EA6;\n",
              "    }\n",
              "\n",
              "    [theme=dark] .colab-df-convert {\n",
              "      background-color: #3B4455;\n",
              "      fill: #D2E3FC;\n",
              "    }\n",
              "\n",
              "    [theme=dark] .colab-df-convert:hover {\n",
              "      background-color: #434B5C;\n",
              "      box-shadow: 0px 1px 3px 1px rgba(0, 0, 0, 0.15);\n",
              "      filter: drop-shadow(0px 1px 2px rgba(0, 0, 0, 0.3));\n",
              "      fill: #FFFFFF;\n",
              "    }\n",
              "  </style>\n",
              "\n",
              "      <script>\n",
              "        const buttonEl =\n",
              "          document.querySelector('#df-cd5868fa-8551-4653-a66c-7a5150b39899 button.colab-df-convert');\n",
              "        buttonEl.style.display =\n",
              "          google.colab.kernel.accessAllowed ? 'block' : 'none';\n",
              "\n",
              "        async function convertToInteractive(key) {\n",
              "          const element = document.querySelector('#df-cd5868fa-8551-4653-a66c-7a5150b39899');\n",
              "          const dataTable =\n",
              "            await google.colab.kernel.invokeFunction('convertToInteractive',\n",
              "                                                     [key], {});\n",
              "          if (!dataTable) return;\n",
              "\n",
              "          const docLinkHtml = 'Like what you see? Visit the ' +\n",
              "            '<a target=\"_blank\" href=https://colab.research.google.com/notebooks/data_table.ipynb>data table notebook</a>'\n",
              "            + ' to learn more about interactive tables.';\n",
              "          element.innerHTML = '';\n",
              "          dataTable['output_type'] = 'display_data';\n",
              "          await google.colab.output.renderOutput(dataTable, element);\n",
              "          const docLink = document.createElement('div');\n",
              "          docLink.innerHTML = docLinkHtml;\n",
              "          element.appendChild(docLink);\n",
              "        }\n",
              "      </script>\n",
              "    </div>\n",
              "  </div>\n",
              "  "
            ]
          },
          "metadata": {}
        }
      ]
    },
    {
      "cell_type": "code",
      "source": [
        "# 학습 / 테스트데이터 분할\n",
        "from sklearn.model_selection import train_test_split\n",
        "\n",
        "X_train, X_test, y_train, y_test = train_test_split(X, y, test_size = 0.2, random_state = 42)"
      ],
      "metadata": {
        "id": "r-ROW4KuXOp1"
      },
      "execution_count": 91,
      "outputs": []
    },
    {
      "cell_type": "code",
      "metadata": {
        "colab": {
          "base_uri": "https://localhost:8080/"
        },
        "id": "luPwHAosS0xx",
        "outputId": "28478ccf-3611-4a00-f74b-a3843b4a4a19"
      },
      "source": [
        "# 독립변수 표준화 \n",
        "from sklearn.preprocessing import StandardScaler\n",
        "\n",
        "s_scaler = StandardScaler()\n",
        "s_scaler.fit_transform(X_train)\n",
        "s_scaler.transform(X_test)"
      ],
      "execution_count": 98,
      "outputs": [
        {
          "output_type": "execute_result",
          "data": {
            "text/plain": [
              "array([[-0.39680933, -0.50032012, -1.00711147, ..., -0.77195078,\n",
              "         0.42887165, -0.48121032],\n",
              "       [-0.40079621,  1.2294987 , -0.66439105, ..., -0.32270256,\n",
              "         0.44418004, -1.25709448],\n",
              "       [-0.39523443, -0.50032012,  2.43316256, ...,  0.80041799,\n",
              "         0.36993437,  0.79033849],\n",
              "       ...,\n",
              "       [ 1.1779666 , -0.50032012,  1.03323679, ...,  0.84534281,\n",
              "        -3.5124912 ,  1.23390203],\n",
              "       [-0.40131065, -0.50032012, -0.94321444, ...,  0.08162084,\n",
              "         0.43422959,  0.05669848],\n",
              "       [-0.39643252, -0.50032012,  0.26792466, ...,  0.17147048,\n",
              "         0.29470458, -0.49529171]])"
            ]
          },
          "metadata": {},
          "execution_count": 98
        }
      ]
    },
    {
      "cell_type": "code",
      "metadata": {
        "id": "AelpuMzKS3CR"
      },
      "source": [
        "from sklearn.linear_model import LinearRegression\n",
        "\n",
        "lr_model = LinearRegression()\n",
        "lr_model.fit(X_train, y_train)\n",
        "y_predict = lr_model.predict(X_test)"
      ],
      "execution_count": 93,
      "outputs": []
    },
    {
      "cell_type": "code",
      "metadata": {
        "colab": {
          "base_uri": "https://localhost:8080/"
        },
        "id": "6LHsqLuU7s_Z",
        "outputId": "3ce0fa81-7e22-40cc-9581-954e6b91b041"
      },
      "source": [
        "train_performance = lr_model.score(X_train, y_train)\n",
        "test_performance = lr_model.score(X_test, y_test)\n",
        "print(\"집값 예측결과: \\n\", y_predict[0:10])\n",
        "print(\"훈련 성능: {}   테스트 성능: {}\".format(train_performance, test_performance))\n",
        "print(X_train.columns)\n",
        "\n",
        "np.set_printoptions(suppress=True, precision =2) #넘파이 결과가 지수형태로 나와서 보기 안좋아서 지수 제한\n",
        "print(\"회귀식: {}  절편: {}\".format(lr_model.coef_, lr_model.intercept_))\n",
        "\n",
        "#독립변수가 종속변수의 변동을 66.9% 설명\n",
        "#그러나, 머신러닝에서는 MAE, RMSE를 더 중요한 성능으로 고려함"
      ],
      "execution_count": 126,
      "outputs": [
        {
          "output_type": "stream",
          "name": "stdout",
          "text": [
            "집값 예측결과: \n",
            " [27.021 34.882 14.398 21.033 16.339 16.733 16.756 14.673 22.429 19.078]\n",
            "훈련 성능: 0.7508856358979672   테스트 성능: 0.668759493535633\n",
            "Index(['CRIM', 'ZN', 'INDUS', 'CHAS', 'NOX', 'RM', 'AGE', 'DIS', 'RAD', 'TAX',\n",
            "       'PTRATIO', 'B', 'LSTAT'],\n",
            "      dtype='object')\n",
            "회귀식: [ -0.11   0.03   0.04   2.78 -17.2    4.44  -0.01  -1.45   0.26  -0.01\n",
            "  -0.92   0.01  -0.51]  절편: 30.246750993923865\n"
          ]
        }
      ]
    },
    {
      "cell_type": "code",
      "metadata": {
        "colab": {
          "base_uri": "https://localhost:8080/"
        },
        "id": "UmLl4ZfS50Ex",
        "outputId": "5cd3cef4-6ca2-417b-9bbb-af76383be6e9"
      },
      "source": [
        "from sklearn.metrics import mean_absolute_error\n",
        "from sklearn.metrics import mean_squared_error\n",
        "\n",
        "#mean_absolute_error(실제, 예측)\n",
        "print(\"MAE:\", mean_absolute_error(y_test, y_predict ))\n",
        "print(\"RMSE:\", mean_squared_error(y_test, y_predict))\n",
        "\n",
        "#MAE기준으로 해석하면, 회귀식이 평균적으로 예측한 집값은 실제값과 약 $3,189 정도 오차가 있음. "
      ],
      "execution_count": 117,
      "outputs": [
        {
          "output_type": "stream",
          "name": "stdout",
          "text": [
            "MAE: 3.1890919658878323\n",
            "RMSE: 24.291119474973442\n"
          ]
        }
      ]
    },
    {
      "cell_type": "markdown",
      "metadata": {
        "id": "RaucUv_TVPKP"
      },
      "source": [
        "### Feature Engineering\n",
        "* 변수를 제곱, 삼제곱, 곱 등을 통해서 다양한 조합으로 구성\n",
        "* => 변수의 수가 늘어나 다양한 곡선을 적합시킬 수 있으나 과대적합문제 나타날 수 있음\n",
        "\n"
      ]
    },
    {
      "cell_type": "code",
      "metadata": {
        "colab": {
          "base_uri": "https://localhost:8080/"
        },
        "id": "19LNYQtEUqjp",
        "outputId": "9a47cc66-a7c1-41b5-9243-3a504cfbfcdf"
      },
      "source": [
        "from sklearn.preprocessing import PolynomialFeatures\n",
        "\n",
        "poly =PolynomialFeatures(degree = 2, include_bias = False)  #2제곱까지, include_bias = False 절편은 포함 안함. 회귀식에서 자동으로 포함하니 불필요\n",
        "poly.fit(X_train)\n",
        "train_poly = poly.transform(X_train)\n",
        "test_poly = poly.transform(X_test)\n",
        "\n",
        "print(train_poly.shape)\n",
        "print(test_poly.shape)\n",
        "poly.get_feature_names()"
      ],
      "execution_count": 120,
      "outputs": [
        {
          "output_type": "stream",
          "name": "stdout",
          "text": [
            "(404, 104)\n",
            "(102, 104)\n"
          ]
        },
        {
          "output_type": "stream",
          "name": "stderr",
          "text": [
            "/usr/local/lib/python3.7/dist-packages/sklearn/utils/deprecation.py:87: FutureWarning: Function get_feature_names is deprecated; get_feature_names is deprecated in 1.0 and will be removed in 1.2. Please use get_feature_names_out instead.\n",
            "  warnings.warn(msg, category=FutureWarning)\n"
          ]
        },
        {
          "output_type": "execute_result",
          "data": {
            "text/plain": [
              "['x0',\n",
              " 'x1',\n",
              " 'x2',\n",
              " 'x3',\n",
              " 'x4',\n",
              " 'x5',\n",
              " 'x6',\n",
              " 'x7',\n",
              " 'x8',\n",
              " 'x9',\n",
              " 'x10',\n",
              " 'x11',\n",
              " 'x12',\n",
              " 'x0^2',\n",
              " 'x0 x1',\n",
              " 'x0 x2',\n",
              " 'x0 x3',\n",
              " 'x0 x4',\n",
              " 'x0 x5',\n",
              " 'x0 x6',\n",
              " 'x0 x7',\n",
              " 'x0 x8',\n",
              " 'x0 x9',\n",
              " 'x0 x10',\n",
              " 'x0 x11',\n",
              " 'x0 x12',\n",
              " 'x1^2',\n",
              " 'x1 x2',\n",
              " 'x1 x3',\n",
              " 'x1 x4',\n",
              " 'x1 x5',\n",
              " 'x1 x6',\n",
              " 'x1 x7',\n",
              " 'x1 x8',\n",
              " 'x1 x9',\n",
              " 'x1 x10',\n",
              " 'x1 x11',\n",
              " 'x1 x12',\n",
              " 'x2^2',\n",
              " 'x2 x3',\n",
              " 'x2 x4',\n",
              " 'x2 x5',\n",
              " 'x2 x6',\n",
              " 'x2 x7',\n",
              " 'x2 x8',\n",
              " 'x2 x9',\n",
              " 'x2 x10',\n",
              " 'x2 x11',\n",
              " 'x2 x12',\n",
              " 'x3^2',\n",
              " 'x3 x4',\n",
              " 'x3 x5',\n",
              " 'x3 x6',\n",
              " 'x3 x7',\n",
              " 'x3 x8',\n",
              " 'x3 x9',\n",
              " 'x3 x10',\n",
              " 'x3 x11',\n",
              " 'x3 x12',\n",
              " 'x4^2',\n",
              " 'x4 x5',\n",
              " 'x4 x6',\n",
              " 'x4 x7',\n",
              " 'x4 x8',\n",
              " 'x4 x9',\n",
              " 'x4 x10',\n",
              " 'x4 x11',\n",
              " 'x4 x12',\n",
              " 'x5^2',\n",
              " 'x5 x6',\n",
              " 'x5 x7',\n",
              " 'x5 x8',\n",
              " 'x5 x9',\n",
              " 'x5 x10',\n",
              " 'x5 x11',\n",
              " 'x5 x12',\n",
              " 'x6^2',\n",
              " 'x6 x7',\n",
              " 'x6 x8',\n",
              " 'x6 x9',\n",
              " 'x6 x10',\n",
              " 'x6 x11',\n",
              " 'x6 x12',\n",
              " 'x7^2',\n",
              " 'x7 x8',\n",
              " 'x7 x9',\n",
              " 'x7 x10',\n",
              " 'x7 x11',\n",
              " 'x7 x12',\n",
              " 'x8^2',\n",
              " 'x8 x9',\n",
              " 'x8 x10',\n",
              " 'x8 x11',\n",
              " 'x8 x12',\n",
              " 'x9^2',\n",
              " 'x9 x10',\n",
              " 'x9 x11',\n",
              " 'x9 x12',\n",
              " 'x10^2',\n",
              " 'x10 x11',\n",
              " 'x10 x12',\n",
              " 'x11^2',\n",
              " 'x11 x12',\n",
              " 'x12^2']"
            ]
          },
          "metadata": {},
          "execution_count": 120
        }
      ]
    },
    {
      "cell_type": "code",
      "metadata": {
        "colab": {
          "base_uri": "https://localhost:8080/"
        },
        "id": "Opj7RryiWb2I",
        "outputId": "52343de8-e6c0-46c1-8538-59ec006b9f8c"
      },
      "source": [
        "lr_model2 = LinearRegression()\n",
        "lr_model2.fit(train_poly, y_train)\n",
        "y_predict = lr_model2.predict(test_poly)\n",
        "train_performance2 = lr_model2.score(train_poly, y_train)\n",
        "test_performance2 = lr_model2.score(test_poly, y_test)\n",
        "print(\"훈련 성능: {}   테스트 성능: {}\".format(train_performance2, test_performance2))\n",
        "print(\"MAE:\", mean_absolute_error(y_test, y_predict ))\n",
        "print(\"RMSE:\", mean_squared_error(y_test, y_predict))\n",
        "\n",
        "#R2가 향상되었으며, 오차율이 줄어듦\n",
        "#실제 집값과 예측 집값이 평균 $2,574 정도 차이남\n",
        "#그러나, degree가 늘어날수록 과적합 문제가 발생됨. 94%의 R2 는 대단히 높은 수치임"
      ],
      "execution_count": 125,
      "outputs": [
        {
          "output_type": "stream",
          "name": "stdout",
          "text": [
            "훈련 성능: 0.9409317027113501   테스트 성능: 0.8055829448308779\n",
            "MAE: 2.5748356262325123\n",
            "RMSE: 14.257338166440945\n"
          ]
        }
      ]
    },
    {
      "cell_type": "code",
      "metadata": {
        "colab": {
          "base_uri": "https://localhost:8080/"
        },
        "id": "lilC6loWX3gQ",
        "outputId": "8f8e127c-de45-4fbd-d2eb-91b899db3ecb"
      },
      "source": [
        "# 구체적인 모형의 도출\n",
        "import numpy as np\n",
        "np.set_printoptions(suppress=True, precision =2) #넘파이 결과가 지수형태로 나와서 보기 안좋아서 지수 제한\n",
        "\n",
        "print(\"회귀계수: {}  절편:{}\".format(lr_model2.coef_, lr_model2.intercept_))"
      ],
      "execution_count": 127,
      "outputs": [
        {
          "output_type": "stream",
          "name": "stdout",
          "text": [
            "회귀계수: [ -7.25   0.66  -4.72  36.77 285.82  17.88   0.66  -4.06   2.63   0.\n",
            "   7.65   0.14  -0.19   0.     0.08   0.56   2.58  -2.03   0.19  -0.\n",
            "  -0.07   0.31  -0.04   0.65  -0.     0.03  -0.    -0.    -0.04  -1.37\n",
            "  -0.     0.    -0.02  -0.02   0.    -0.     0.    -0.01   0.05  -0.03\n",
            "  -0.22   0.34   0.     0.15  -0.03   0.    -0.02   0.    -0.02  36.77\n",
            " -36.67  -5.27  -0.03  -0.91   0.14  -0.01  -0.84   0.01  -0.27 -98.82\n",
            "  -8.83  -0.01  14.82  -2.1    0.29 -14.5   -0.02   1.01   1.17  -0.07\n",
            "  -0.35  -0.19  -0.01  -0.54  -0.01  -0.01  -0.     0.     0.02  -0.\n",
            "   0.    -0.    -0.01   0.5    0.01  -0.    -0.27  -0.     0.04  -0.12\n",
            "   0.01  -0.16   0.    -0.03  -0.     0.01  -0.    -0.     0.02   0.\n",
            "   0.01  -0.    -0.     0.02]  절편:-218.09134651265748\n"
          ]
        }
      ]
    },
    {
      "cell_type": "markdown",
      "metadata": {
        "id": "xQ498W3l8QNd"
      },
      "source": [
        "### Ridge & Lasso 회귀분석 "
      ]
    },
    {
      "cell_type": "code",
      "metadata": {
        "colab": {
          "base_uri": "https://localhost:8080/"
        },
        "id": "IgxLzxD0YvV2",
        "outputId": "201cd4d9-e194-467f-84e2-0dea54243339"
      },
      "source": [
        "from sklearn.linear_model import Ridge  #Lasso는 Ridge를 Lasso로만 변경\n",
        "\n",
        "Ridge = Ridge(alpha = 0.3)\n",
        "Ridge.fit(train_poly, y_train)\n",
        "y_predict = Ridge.predict(test_poly)\n",
        "train_performance3 = Ridge.score(train_poly, y_train)\n",
        "test_performance3 = Ridge.score(test_poly, y_test)\n",
        "print(\"훈련 성능: {}   테스트 성능: {}\".format(train_performance3, test_performance3))\n",
        "print(\"MAE:\", mean_absolute_error(y_test, y_predict ))\n",
        "print(\"RMSE:\", mean_squared_error(y_test, y_predict))\n",
        "\n",
        "print(\"회귀계수: {}  절편:{}\".format(Ridge.coef_, Ridge.intercept_))\n",
        "\n",
        "#학습 데이터에 대한 성능이 약간 줄어 과적합 조금 완화됨 \n",
        "#반면, 테스트 데이터에 대한 성능은 다소 높아짐\n",
        "#MAE도 줄어, 회귀모형의 예측 가격은 실제 집 가격과 약 $2,484 차이가 남 "
      ],
      "execution_count": 130,
      "outputs": [
        {
          "output_type": "stream",
          "name": "stdout",
          "text": [
            "훈련 성능: 0.9363815887828271   테스트 성능: 0.8154873730152803\n",
            "MAE: 2.4849277479356258\n",
            "RMSE: 13.53100897763899\n",
            "회귀계수: [-3.    0.14 -2.43  2.8   0.27  5.42  0.79 -2.03  2.53 -0.   -1.43  0.17\n",
            " -0.71  0.    0.03  0.4   3.07 -1.86  0.2  -0.   -0.06  0.25 -0.03  0.36\n",
            " -0.    0.03  0.   -0.   -0.03 -0.29 -0.01  0.   -0.02 -0.01  0.    0.\n",
            "  0.   -0.01  0.03 -0.35  0.97  0.18  0.    0.06  0.    0.   -0.06  0.\n",
            " -0.02  2.8  -3.03 -4.54  0.06  0.64 -0.77  0.01  1.02  0.03 -0.58 -0.19\n",
            "  1.1  -0.29  7.13 -1.21  0.05 -2.   -0.02  1.27  1.28 -0.07 -0.13 -0.33\n",
            " -0.01 -0.32 -0.01 -0.    0.    0.    0.01 -0.   -0.   -0.   -0.01  0.39\n",
            "  0.   -0.   -0.14 -0.01  0.04 -0.13  0.01 -0.09  0.   -0.03 -0.    0.01\n",
            " -0.   -0.    0.04  0.    0.02 -0.   -0.    0.02]  절편:-41.22801081450184\n"
          ]
        }
      ]
    },
    {
      "cell_type": "markdown",
      "source": [
        "## 로지스틱 회귀분석"
      ],
      "metadata": {
        "id": "dcwBRzeSgg6-"
      }
    },
    {
      "cell_type": "code",
      "source": [
        "# 데이터 셋 설정 (Universal Bank에서 대출 캠페인에 반응한 사람)\n",
        "# Universal Bank에서 대출 캠페인에 반응한 사람 (종속: Personal Loan, index 7)\n",
        "\n",
        "df_bank = pd.read_csv(\"/content/drive/MyDrive/Colab Notebooks/BigMining/UniversalBank.csv\")\n",
        "display(df_bank.head(3))\n",
        "display(df_bank.describe())\n",
        "print(df_bank.info())"
      ],
      "metadata": {
        "colab": {
          "base_uri": "https://localhost:8080/",
          "height": 838
        },
        "id": "VFQIN1DtgpBK",
        "outputId": "145e8a0e-0970-4977-b32f-093758d51c3d"
      },
      "execution_count": 132,
      "outputs": [
        {
          "output_type": "display_data",
          "data": {
            "text/plain": [
              "   Age  Experience  Income  Family  CCAvg  Education  Mortgage  PersonalLoan  \\\n",
              "0   25           1      49       4  1.600          1         0             0   \n",
              "1   45          19      34       3  1.500          1         0             0   \n",
              "2   39          15      11       1  1.000          1         0             0   \n",
              "\n",
              "   SecuritiesAccount  CDAccount  Online  CreditCard  \n",
              "0                  1          0       0           0  \n",
              "1                  1          0       0           0  \n",
              "2                  0          0       0           0  "
            ],
            "text/html": [
              "\n",
              "  <div id=\"df-d60e1c03-fc21-4f96-9cdd-3c92423640bd\">\n",
              "    <div class=\"colab-df-container\">\n",
              "      <div>\n",
              "<style scoped>\n",
              "    .dataframe tbody tr th:only-of-type {\n",
              "        vertical-align: middle;\n",
              "    }\n",
              "\n",
              "    .dataframe tbody tr th {\n",
              "        vertical-align: top;\n",
              "    }\n",
              "\n",
              "    .dataframe thead th {\n",
              "        text-align: right;\n",
              "    }\n",
              "</style>\n",
              "<table border=\"1\" class=\"dataframe\">\n",
              "  <thead>\n",
              "    <tr style=\"text-align: right;\">\n",
              "      <th></th>\n",
              "      <th>Age</th>\n",
              "      <th>Experience</th>\n",
              "      <th>Income</th>\n",
              "      <th>Family</th>\n",
              "      <th>CCAvg</th>\n",
              "      <th>Education</th>\n",
              "      <th>Mortgage</th>\n",
              "      <th>PersonalLoan</th>\n",
              "      <th>SecuritiesAccount</th>\n",
              "      <th>CDAccount</th>\n",
              "      <th>Online</th>\n",
              "      <th>CreditCard</th>\n",
              "    </tr>\n",
              "  </thead>\n",
              "  <tbody>\n",
              "    <tr>\n",
              "      <th>0</th>\n",
              "      <td>25</td>\n",
              "      <td>1</td>\n",
              "      <td>49</td>\n",
              "      <td>4</td>\n",
              "      <td>1.600</td>\n",
              "      <td>1</td>\n",
              "      <td>0</td>\n",
              "      <td>0</td>\n",
              "      <td>1</td>\n",
              "      <td>0</td>\n",
              "      <td>0</td>\n",
              "      <td>0</td>\n",
              "    </tr>\n",
              "    <tr>\n",
              "      <th>1</th>\n",
              "      <td>45</td>\n",
              "      <td>19</td>\n",
              "      <td>34</td>\n",
              "      <td>3</td>\n",
              "      <td>1.500</td>\n",
              "      <td>1</td>\n",
              "      <td>0</td>\n",
              "      <td>0</td>\n",
              "      <td>1</td>\n",
              "      <td>0</td>\n",
              "      <td>0</td>\n",
              "      <td>0</td>\n",
              "    </tr>\n",
              "    <tr>\n",
              "      <th>2</th>\n",
              "      <td>39</td>\n",
              "      <td>15</td>\n",
              "      <td>11</td>\n",
              "      <td>1</td>\n",
              "      <td>1.000</td>\n",
              "      <td>1</td>\n",
              "      <td>0</td>\n",
              "      <td>0</td>\n",
              "      <td>0</td>\n",
              "      <td>0</td>\n",
              "      <td>0</td>\n",
              "      <td>0</td>\n",
              "    </tr>\n",
              "  </tbody>\n",
              "</table>\n",
              "</div>\n",
              "      <button class=\"colab-df-convert\" onclick=\"convertToInteractive('df-d60e1c03-fc21-4f96-9cdd-3c92423640bd')\"\n",
              "              title=\"Convert this dataframe to an interactive table.\"\n",
              "              style=\"display:none;\">\n",
              "        \n",
              "  <svg xmlns=\"http://www.w3.org/2000/svg\" height=\"24px\"viewBox=\"0 0 24 24\"\n",
              "       width=\"24px\">\n",
              "    <path d=\"M0 0h24v24H0V0z\" fill=\"none\"/>\n",
              "    <path d=\"M18.56 5.44l.94 2.06.94-2.06 2.06-.94-2.06-.94-.94-2.06-.94 2.06-2.06.94zm-11 1L8.5 8.5l.94-2.06 2.06-.94-2.06-.94L8.5 2.5l-.94 2.06-2.06.94zm10 10l.94 2.06.94-2.06 2.06-.94-2.06-.94-.94-2.06-.94 2.06-2.06.94z\"/><path d=\"M17.41 7.96l-1.37-1.37c-.4-.4-.92-.59-1.43-.59-.52 0-1.04.2-1.43.59L10.3 9.45l-7.72 7.72c-.78.78-.78 2.05 0 2.83L4 21.41c.39.39.9.59 1.41.59.51 0 1.02-.2 1.41-.59l7.78-7.78 2.81-2.81c.8-.78.8-2.07 0-2.86zM5.41 20L4 18.59l7.72-7.72 1.47 1.35L5.41 20z\"/>\n",
              "  </svg>\n",
              "      </button>\n",
              "      \n",
              "  <style>\n",
              "    .colab-df-container {\n",
              "      display:flex;\n",
              "      flex-wrap:wrap;\n",
              "      gap: 12px;\n",
              "    }\n",
              "\n",
              "    .colab-df-convert {\n",
              "      background-color: #E8F0FE;\n",
              "      border: none;\n",
              "      border-radius: 50%;\n",
              "      cursor: pointer;\n",
              "      display: none;\n",
              "      fill: #1967D2;\n",
              "      height: 32px;\n",
              "      padding: 0 0 0 0;\n",
              "      width: 32px;\n",
              "    }\n",
              "\n",
              "    .colab-df-convert:hover {\n",
              "      background-color: #E2EBFA;\n",
              "      box-shadow: 0px 1px 2px rgba(60, 64, 67, 0.3), 0px 1px 3px 1px rgba(60, 64, 67, 0.15);\n",
              "      fill: #174EA6;\n",
              "    }\n",
              "\n",
              "    [theme=dark] .colab-df-convert {\n",
              "      background-color: #3B4455;\n",
              "      fill: #D2E3FC;\n",
              "    }\n",
              "\n",
              "    [theme=dark] .colab-df-convert:hover {\n",
              "      background-color: #434B5C;\n",
              "      box-shadow: 0px 1px 3px 1px rgba(0, 0, 0, 0.15);\n",
              "      filter: drop-shadow(0px 1px 2px rgba(0, 0, 0, 0.3));\n",
              "      fill: #FFFFFF;\n",
              "    }\n",
              "  </style>\n",
              "\n",
              "      <script>\n",
              "        const buttonEl =\n",
              "          document.querySelector('#df-d60e1c03-fc21-4f96-9cdd-3c92423640bd button.colab-df-convert');\n",
              "        buttonEl.style.display =\n",
              "          google.colab.kernel.accessAllowed ? 'block' : 'none';\n",
              "\n",
              "        async function convertToInteractive(key) {\n",
              "          const element = document.querySelector('#df-d60e1c03-fc21-4f96-9cdd-3c92423640bd');\n",
              "          const dataTable =\n",
              "            await google.colab.kernel.invokeFunction('convertToInteractive',\n",
              "                                                     [key], {});\n",
              "          if (!dataTable) return;\n",
              "\n",
              "          const docLinkHtml = 'Like what you see? Visit the ' +\n",
              "            '<a target=\"_blank\" href=https://colab.research.google.com/notebooks/data_table.ipynb>data table notebook</a>'\n",
              "            + ' to learn more about interactive tables.';\n",
              "          element.innerHTML = '';\n",
              "          dataTable['output_type'] = 'display_data';\n",
              "          await google.colab.output.renderOutput(dataTable, element);\n",
              "          const docLink = document.createElement('div');\n",
              "          docLink.innerHTML = docLinkHtml;\n",
              "          element.appendChild(docLink);\n",
              "        }\n",
              "      </script>\n",
              "    </div>\n",
              "  </div>\n",
              "  "
            ]
          },
          "metadata": {}
        },
        {
          "output_type": "display_data",
          "data": {
            "text/plain": [
              "           Age  Experience   Income   Family    CCAvg  Education  Mortgage  \\\n",
              "count 5000.000    5000.000 5000.000 5000.000 5000.000   5000.000  5000.000   \n",
              "mean    45.338      20.105   73.774    2.396    1.938      1.881    56.499   \n",
              "std     11.463      11.468   46.034    1.148    1.748      0.840   101.714   \n",
              "min     23.000      -3.000    8.000    1.000    0.000      1.000     0.000   \n",
              "25%     35.000      10.000   39.000    1.000    0.700      1.000     0.000   \n",
              "50%     45.000      20.000   64.000    2.000    1.500      2.000     0.000   \n",
              "75%     55.000      30.000   98.000    3.000    2.500      3.000   101.000   \n",
              "max     67.000      43.000  224.000    4.000   10.000      3.000   635.000   \n",
              "\n",
              "       PersonalLoan  SecuritiesAccount  CDAccount   Online  CreditCard  \n",
              "count      5000.000           5000.000   5000.000 5000.000    5000.000  \n",
              "mean          0.096              0.104      0.060    0.597       0.294  \n",
              "std           0.295              0.306      0.238    0.491       0.456  \n",
              "min           0.000              0.000      0.000    0.000       0.000  \n",
              "25%           0.000              0.000      0.000    0.000       0.000  \n",
              "50%           0.000              0.000      0.000    1.000       0.000  \n",
              "75%           0.000              0.000      0.000    1.000       1.000  \n",
              "max           1.000              1.000      1.000    1.000       1.000  "
            ],
            "text/html": [
              "\n",
              "  <div id=\"df-6a253d59-384b-46a7-89c9-519e225bf5bb\">\n",
              "    <div class=\"colab-df-container\">\n",
              "      <div>\n",
              "<style scoped>\n",
              "    .dataframe tbody tr th:only-of-type {\n",
              "        vertical-align: middle;\n",
              "    }\n",
              "\n",
              "    .dataframe tbody tr th {\n",
              "        vertical-align: top;\n",
              "    }\n",
              "\n",
              "    .dataframe thead th {\n",
              "        text-align: right;\n",
              "    }\n",
              "</style>\n",
              "<table border=\"1\" class=\"dataframe\">\n",
              "  <thead>\n",
              "    <tr style=\"text-align: right;\">\n",
              "      <th></th>\n",
              "      <th>Age</th>\n",
              "      <th>Experience</th>\n",
              "      <th>Income</th>\n",
              "      <th>Family</th>\n",
              "      <th>CCAvg</th>\n",
              "      <th>Education</th>\n",
              "      <th>Mortgage</th>\n",
              "      <th>PersonalLoan</th>\n",
              "      <th>SecuritiesAccount</th>\n",
              "      <th>CDAccount</th>\n",
              "      <th>Online</th>\n",
              "      <th>CreditCard</th>\n",
              "    </tr>\n",
              "  </thead>\n",
              "  <tbody>\n",
              "    <tr>\n",
              "      <th>count</th>\n",
              "      <td>5000.000</td>\n",
              "      <td>5000.000</td>\n",
              "      <td>5000.000</td>\n",
              "      <td>5000.000</td>\n",
              "      <td>5000.000</td>\n",
              "      <td>5000.000</td>\n",
              "      <td>5000.000</td>\n",
              "      <td>5000.000</td>\n",
              "      <td>5000.000</td>\n",
              "      <td>5000.000</td>\n",
              "      <td>5000.000</td>\n",
              "      <td>5000.000</td>\n",
              "    </tr>\n",
              "    <tr>\n",
              "      <th>mean</th>\n",
              "      <td>45.338</td>\n",
              "      <td>20.105</td>\n",
              "      <td>73.774</td>\n",
              "      <td>2.396</td>\n",
              "      <td>1.938</td>\n",
              "      <td>1.881</td>\n",
              "      <td>56.499</td>\n",
              "      <td>0.096</td>\n",
              "      <td>0.104</td>\n",
              "      <td>0.060</td>\n",
              "      <td>0.597</td>\n",
              "      <td>0.294</td>\n",
              "    </tr>\n",
              "    <tr>\n",
              "      <th>std</th>\n",
              "      <td>11.463</td>\n",
              "      <td>11.468</td>\n",
              "      <td>46.034</td>\n",
              "      <td>1.148</td>\n",
              "      <td>1.748</td>\n",
              "      <td>0.840</td>\n",
              "      <td>101.714</td>\n",
              "      <td>0.295</td>\n",
              "      <td>0.306</td>\n",
              "      <td>0.238</td>\n",
              "      <td>0.491</td>\n",
              "      <td>0.456</td>\n",
              "    </tr>\n",
              "    <tr>\n",
              "      <th>min</th>\n",
              "      <td>23.000</td>\n",
              "      <td>-3.000</td>\n",
              "      <td>8.000</td>\n",
              "      <td>1.000</td>\n",
              "      <td>0.000</td>\n",
              "      <td>1.000</td>\n",
              "      <td>0.000</td>\n",
              "      <td>0.000</td>\n",
              "      <td>0.000</td>\n",
              "      <td>0.000</td>\n",
              "      <td>0.000</td>\n",
              "      <td>0.000</td>\n",
              "    </tr>\n",
              "    <tr>\n",
              "      <th>25%</th>\n",
              "      <td>35.000</td>\n",
              "      <td>10.000</td>\n",
              "      <td>39.000</td>\n",
              "      <td>1.000</td>\n",
              "      <td>0.700</td>\n",
              "      <td>1.000</td>\n",
              "      <td>0.000</td>\n",
              "      <td>0.000</td>\n",
              "      <td>0.000</td>\n",
              "      <td>0.000</td>\n",
              "      <td>0.000</td>\n",
              "      <td>0.000</td>\n",
              "    </tr>\n",
              "    <tr>\n",
              "      <th>50%</th>\n",
              "      <td>45.000</td>\n",
              "      <td>20.000</td>\n",
              "      <td>64.000</td>\n",
              "      <td>2.000</td>\n",
              "      <td>1.500</td>\n",
              "      <td>2.000</td>\n",
              "      <td>0.000</td>\n",
              "      <td>0.000</td>\n",
              "      <td>0.000</td>\n",
              "      <td>0.000</td>\n",
              "      <td>1.000</td>\n",
              "      <td>0.000</td>\n",
              "    </tr>\n",
              "    <tr>\n",
              "      <th>75%</th>\n",
              "      <td>55.000</td>\n",
              "      <td>30.000</td>\n",
              "      <td>98.000</td>\n",
              "      <td>3.000</td>\n",
              "      <td>2.500</td>\n",
              "      <td>3.000</td>\n",
              "      <td>101.000</td>\n",
              "      <td>0.000</td>\n",
              "      <td>0.000</td>\n",
              "      <td>0.000</td>\n",
              "      <td>1.000</td>\n",
              "      <td>1.000</td>\n",
              "    </tr>\n",
              "    <tr>\n",
              "      <th>max</th>\n",
              "      <td>67.000</td>\n",
              "      <td>43.000</td>\n",
              "      <td>224.000</td>\n",
              "      <td>4.000</td>\n",
              "      <td>10.000</td>\n",
              "      <td>3.000</td>\n",
              "      <td>635.000</td>\n",
              "      <td>1.000</td>\n",
              "      <td>1.000</td>\n",
              "      <td>1.000</td>\n",
              "      <td>1.000</td>\n",
              "      <td>1.000</td>\n",
              "    </tr>\n",
              "  </tbody>\n",
              "</table>\n",
              "</div>\n",
              "      <button class=\"colab-df-convert\" onclick=\"convertToInteractive('df-6a253d59-384b-46a7-89c9-519e225bf5bb')\"\n",
              "              title=\"Convert this dataframe to an interactive table.\"\n",
              "              style=\"display:none;\">\n",
              "        \n",
              "  <svg xmlns=\"http://www.w3.org/2000/svg\" height=\"24px\"viewBox=\"0 0 24 24\"\n",
              "       width=\"24px\">\n",
              "    <path d=\"M0 0h24v24H0V0z\" fill=\"none\"/>\n",
              "    <path d=\"M18.56 5.44l.94 2.06.94-2.06 2.06-.94-2.06-.94-.94-2.06-.94 2.06-2.06.94zm-11 1L8.5 8.5l.94-2.06 2.06-.94-2.06-.94L8.5 2.5l-.94 2.06-2.06.94zm10 10l.94 2.06.94-2.06 2.06-.94-2.06-.94-.94-2.06-.94 2.06-2.06.94z\"/><path d=\"M17.41 7.96l-1.37-1.37c-.4-.4-.92-.59-1.43-.59-.52 0-1.04.2-1.43.59L10.3 9.45l-7.72 7.72c-.78.78-.78 2.05 0 2.83L4 21.41c.39.39.9.59 1.41.59.51 0 1.02-.2 1.41-.59l7.78-7.78 2.81-2.81c.8-.78.8-2.07 0-2.86zM5.41 20L4 18.59l7.72-7.72 1.47 1.35L5.41 20z\"/>\n",
              "  </svg>\n",
              "      </button>\n",
              "      \n",
              "  <style>\n",
              "    .colab-df-container {\n",
              "      display:flex;\n",
              "      flex-wrap:wrap;\n",
              "      gap: 12px;\n",
              "    }\n",
              "\n",
              "    .colab-df-convert {\n",
              "      background-color: #E8F0FE;\n",
              "      border: none;\n",
              "      border-radius: 50%;\n",
              "      cursor: pointer;\n",
              "      display: none;\n",
              "      fill: #1967D2;\n",
              "      height: 32px;\n",
              "      padding: 0 0 0 0;\n",
              "      width: 32px;\n",
              "    }\n",
              "\n",
              "    .colab-df-convert:hover {\n",
              "      background-color: #E2EBFA;\n",
              "      box-shadow: 0px 1px 2px rgba(60, 64, 67, 0.3), 0px 1px 3px 1px rgba(60, 64, 67, 0.15);\n",
              "      fill: #174EA6;\n",
              "    }\n",
              "\n",
              "    [theme=dark] .colab-df-convert {\n",
              "      background-color: #3B4455;\n",
              "      fill: #D2E3FC;\n",
              "    }\n",
              "\n",
              "    [theme=dark] .colab-df-convert:hover {\n",
              "      background-color: #434B5C;\n",
              "      box-shadow: 0px 1px 3px 1px rgba(0, 0, 0, 0.15);\n",
              "      filter: drop-shadow(0px 1px 2px rgba(0, 0, 0, 0.3));\n",
              "      fill: #FFFFFF;\n",
              "    }\n",
              "  </style>\n",
              "\n",
              "      <script>\n",
              "        const buttonEl =\n",
              "          document.querySelector('#df-6a253d59-384b-46a7-89c9-519e225bf5bb button.colab-df-convert');\n",
              "        buttonEl.style.display =\n",
              "          google.colab.kernel.accessAllowed ? 'block' : 'none';\n",
              "\n",
              "        async function convertToInteractive(key) {\n",
              "          const element = document.querySelector('#df-6a253d59-384b-46a7-89c9-519e225bf5bb');\n",
              "          const dataTable =\n",
              "            await google.colab.kernel.invokeFunction('convertToInteractive',\n",
              "                                                     [key], {});\n",
              "          if (!dataTable) return;\n",
              "\n",
              "          const docLinkHtml = 'Like what you see? Visit the ' +\n",
              "            '<a target=\"_blank\" href=https://colab.research.google.com/notebooks/data_table.ipynb>data table notebook</a>'\n",
              "            + ' to learn more about interactive tables.';\n",
              "          element.innerHTML = '';\n",
              "          dataTable['output_type'] = 'display_data';\n",
              "          await google.colab.output.renderOutput(dataTable, element);\n",
              "          const docLink = document.createElement('div');\n",
              "          docLink.innerHTML = docLinkHtml;\n",
              "          element.appendChild(docLink);\n",
              "        }\n",
              "      </script>\n",
              "    </div>\n",
              "  </div>\n",
              "  "
            ]
          },
          "metadata": {}
        },
        {
          "output_type": "stream",
          "name": "stdout",
          "text": [
            "<class 'pandas.core.frame.DataFrame'>\n",
            "RangeIndex: 5000 entries, 0 to 4999\n",
            "Data columns (total 12 columns):\n",
            " #   Column             Non-Null Count  Dtype  \n",
            "---  ------             --------------  -----  \n",
            " 0   Age                5000 non-null   int64  \n",
            " 1   Experience         5000 non-null   int64  \n",
            " 2   Income             5000 non-null   int64  \n",
            " 3   Family             5000 non-null   int64  \n",
            " 4   CCAvg              5000 non-null   float64\n",
            " 5   Education          5000 non-null   int64  \n",
            " 6   Mortgage           5000 non-null   int64  \n",
            " 7   PersonalLoan       5000 non-null   int64  \n",
            " 8   SecuritiesAccount  5000 non-null   int64  \n",
            " 9   CDAccount          5000 non-null   int64  \n",
            " 10  Online             5000 non-null   int64  \n",
            " 11  CreditCard         5000 non-null   int64  \n",
            "dtypes: float64(1), int64(11)\n",
            "memory usage: 468.9 KB\n",
            "None\n"
          ]
        }
      ]
    },
    {
      "cell_type": "code",
      "source": [
        "df_bank[\"PersonalLoan\"].value_counts()"
      ],
      "metadata": {
        "colab": {
          "base_uri": "https://localhost:8080/"
        },
        "id": "xueSzv31g3bU",
        "outputId": "b833da63-f8f9-4dd5-d1a3-b1b133ad5f44"
      },
      "execution_count": 133,
      "outputs": [
        {
          "output_type": "execute_result",
          "data": {
            "text/plain": [
              "0    4520\n",
              "1     480\n",
              "Name: PersonalLoan, dtype: int64"
            ]
          },
          "metadata": {},
          "execution_count": 133
        }
      ]
    },
    {
      "cell_type": "code",
      "source": [
        "y = df_bank[\"PersonalLoan\"].astype(bool)\n",
        "X = df_bank.drop(\"PersonalLoan\", axis = 1)\n",
        "print(X.columns)"
      ],
      "metadata": {
        "colab": {
          "base_uri": "https://localhost:8080/"
        },
        "id": "EprT9wLCg6LL",
        "outputId": "ece349cc-de30-4928-af10-5ebb159d7367"
      },
      "execution_count": 134,
      "outputs": [
        {
          "output_type": "stream",
          "name": "stdout",
          "text": [
            "Index(['Age', 'Experience', 'Income', 'Family', 'CCAvg', 'Education',\n",
            "       'Mortgage', 'SecuritiesAccount', 'CDAccount', 'Online', 'CreditCard'],\n",
            "      dtype='object')\n"
          ]
        }
      ]
    },
    {
      "cell_type": "code",
      "source": [
        "# 학습데이터 / 테스트 데이터 분할\n",
        "from sklearn.model_selection import train_test_split\n",
        "from sklearn.preprocessing import StandardScaler\n",
        "import numpy as np\n",
        "\n",
        "X_train, X_test, y_train, y_test = train_test_split(X, y, test_size = 0.2, random_state =42)\n",
        "\n",
        "# X표준화\n",
        "scaler = StandardScaler()\n",
        "sX_train = scaler.fit_transform(X_train) \n",
        "sX_test = scaler.transform(X_test)\n",
        "np.set_printoptions(suppress=True, precision =2) #넘파이 결과가 지수형태로 나와서 보기 안좋아서 지수 제한\n",
        "\n",
        "print(\"평균:\", np.mean(sX_train, axis =0))\n",
        "print(\"표준편차:\", np.std(sX_train, axis =0))"
      ],
      "metadata": {
        "colab": {
          "base_uri": "https://localhost:8080/"
        },
        "id": "R9qXF4wXg-nF",
        "outputId": "527c7b43-6de7-4310-b3ec-e291c833d4fb"
      },
      "execution_count": 135,
      "outputs": [
        {
          "output_type": "stream",
          "name": "stdout",
          "text": [
            "평균: [-0.  0.  0.  0.  0.  0. -0. -0.  0.  0.  0.]\n",
            "표준편차: [1. 1. 1. 1. 1. 1. 1. 1. 1. 1. 1.]\n"
          ]
        }
      ]
    },
    {
      "cell_type": "markdown",
      "source": [
        "### 불균형 데이터임을 고려안한 경우"
      ],
      "metadata": {
        "id": "5yD50N7XhH0c"
      }
    },
    {
      "cell_type": "code",
      "source": [
        "from sklearn.linear_model import LogisticRegression\n",
        "from sklearn.metrics import classification_report\n",
        "\n",
        "LR = LogisticRegression()  # 버전 2. (class_weight= \"balanced\" )\n",
        "LR.fit(sX_train, y_train)\n",
        "prediction = LR.predict(sX_test)\n",
        "#print(\"예측결과:\\n\", prediction)\n",
        "\n",
        "train_accuracy = LR.score(sX_train, y_train)\n",
        "test_accuracy = LR.score(sX_test, y_test)\n",
        "print(\"훈련성능: {}   테스트성능: {}\".format(train_accuracy, test_accuracy))\n",
        "np.unique(prediction, return_counts = True)\n"
      ],
      "metadata": {
        "colab": {
          "base_uri": "https://localhost:8080/"
        },
        "id": "5iIwVkVShF4w",
        "outputId": "bbb59ae5-1ae8-4b74-d3bd-887a85d8ac63"
      },
      "execution_count": 136,
      "outputs": [
        {
          "output_type": "stream",
          "name": "stdout",
          "text": [
            "훈련성능: 0.9515   테스트성능: 0.955\n"
          ]
        },
        {
          "output_type": "execute_result",
          "data": {
            "text/plain": [
              "(array([False,  True]), array([916,  84]))"
            ]
          },
          "metadata": {},
          "execution_count": 136
        }
      ]
    },
    {
      "cell_type": "code",
      "source": [
        "from sklearn.metrics import confusion_matrix\n",
        "from sklearn.metrics import classification_report\n",
        "\n",
        "conf_mat = confusion_matrix(y_true=y_test, y_pred=prediction)  #  labels=[False, True]\n",
        "print(\"Confusion matrix:\\n\", conf_mat)\n",
        "print(classification_report(y_test, prediction, target_names=[\"F\", \"T\"]))"
      ],
      "metadata": {
        "colab": {
          "base_uri": "https://localhost:8080/"
        },
        "id": "CEZ7SGwUhL8T",
        "outputId": "4e565743-d507-4a30-8ab6-1e4af2b84844"
      },
      "execution_count": 137,
      "outputs": [
        {
          "output_type": "stream",
          "name": "stdout",
          "text": [
            "Confusion matrix:\n",
            " [[883  12]\n",
            " [ 33  72]]\n",
            "              precision    recall  f1-score   support\n",
            "\n",
            "           F       0.96      0.99      0.98       895\n",
            "           T       0.86      0.69      0.76       105\n",
            "\n",
            "    accuracy                           0.95      1000\n",
            "   macro avg       0.91      0.84      0.87      1000\n",
            "weighted avg       0.95      0.95      0.95      1000\n",
            "\n"
          ]
        }
      ]
    },
    {
      "cell_type": "markdown",
      "source": [
        "### 불균형 데이터를 고려하여 class_weight = \"balanced\"로 설정"
      ],
      "metadata": {
        "id": "gDN_PspbhPav"
      }
    },
    {
      "cell_type": "code",
      "source": [
        "from sklearn.linear_model import LogisticRegression\n",
        "\n",
        "LR = LogisticRegression(class_weight= \"balanced\" )  #class_weight = \"balanced\"   ,  class_weight = {False: 0.2, True:0.8}\n",
        "LR.fit(sX_train, y_train)\n",
        "prediction = LR.predict(sX_test)\n",
        "#print(\"예측결과:\\n\", prediction)\n",
        "\n",
        "train_accuracy = LR.score(sX_train, y_train)\n",
        "test_accuracy = LR.score(sX_test, y_test)\n",
        "print(\"훈련성능: {}   테스트성능: {}\".format(train_accuracy, test_accuracy))\n",
        "np.unique(prediction, return_counts = True)"
      ],
      "metadata": {
        "colab": {
          "base_uri": "https://localhost:8080/"
        },
        "id": "y73ra6zLhPGX",
        "outputId": "00a834f4-52ec-4a7d-95d3-3fda7090b730"
      },
      "execution_count": 138,
      "outputs": [
        {
          "output_type": "stream",
          "name": "stdout",
          "text": [
            "훈련성능: 0.8885   테스트성능: 0.892\n"
          ]
        },
        {
          "output_type": "execute_result",
          "data": {
            "text/plain": [
              "(array([False,  True]), array([803, 197]))"
            ]
          },
          "metadata": {},
          "execution_count": 138
        }
      ]
    },
    {
      "cell_type": "code",
      "source": [
        "from sklearn.metrics import confusion_matrix\n",
        "from sklearn.metrics import classification_report\n",
        "\n",
        "conf_mat = confusion_matrix(y_true=y_test, y_pred=prediction) # labels=[False, True]\n",
        "\n",
        "print(\"Confusion matrix:\\n\", conf_mat)\n",
        "print(classification_report(y_test, prediction, target_names=[\"F\", \"T\"]))"
      ],
      "metadata": {
        "colab": {
          "base_uri": "https://localhost:8080/"
        },
        "id": "lilhfqFDhb2t",
        "outputId": "baadd45d-2b10-4aff-85c6-ddc6f8e500a9"
      },
      "execution_count": 143,
      "outputs": [
        {
          "output_type": "stream",
          "name": "stdout",
          "text": [
            "Confusion matrix:\n",
            " [[795 100]\n",
            " [  8  97]]\n",
            "              precision    recall  f1-score   support\n",
            "\n",
            "           F       0.99      0.89      0.94       895\n",
            "           T       0.49      0.92      0.64       105\n",
            "\n",
            "    accuracy                           0.89      1000\n",
            "   macro avg       0.74      0.91      0.79      1000\n",
            "weighted avg       0.94      0.89      0.91      1000\n",
            "\n"
          ]
        }
      ]
    }
  ]
}