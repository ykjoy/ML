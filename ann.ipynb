{
  "nbformat": 4,
  "nbformat_minor": 0,
  "metadata": {
    "colab": {
      "provenance": [],
      "toc_visible": true,
      "include_colab_link": true
    },
    "kernelspec": {
      "name": "python3",
      "display_name": "Python 3"
    },
    "language_info": {
      "name": "python"
    }
  },
  "cells": [
    {
      "cell_type": "markdown",
      "metadata": {
        "id": "view-in-github",
        "colab_type": "text"
      },
      "source": [
        "<a href=\"https://colab.research.google.com/github/ykjoy/mining/blob/main/ann.ipynb\" target=\"_parent\"><img src=\"https://colab.research.google.com/assets/colab-badge.svg\" alt=\"Open In Colab\"/></a>"
      ]
    },
    {
      "cell_type": "markdown",
      "source": [
        "#Artifical Neural Network"
      ],
      "metadata": {
        "id": "Rx4zuEHHAtIY"
      }
    },
    {
      "cell_type": "code",
      "metadata": {
        "colab": {
          "base_uri": "https://localhost:8080/"
        },
        "id": "6QG_ASC5ThTY",
        "outputId": "f87c4ace-a338-4d85-d2ba-da6b70af8377"
      },
      "source": [
        "from tensorflow import keras\n",
        "\n",
        "# 10개의 패션 상품 이미지 (28*28 크기의 회색조 이미지) 데이터: 학습용 6만개, 시험용 1만개 \n",
        "(train_input, train_target), (test_input, test_target) = keras.datasets.fashion_mnist.load_data()"
      ],
      "execution_count": 2,
      "outputs": [
        {
          "output_type": "stream",
          "name": "stdout",
          "text": [
            "Downloading data from https://storage.googleapis.com/tensorflow/tf-keras-datasets/train-labels-idx1-ubyte.gz\n",
            "29515/29515 [==============================] - 0s 0us/step\n",
            "Downloading data from https://storage.googleapis.com/tensorflow/tf-keras-datasets/train-images-idx3-ubyte.gz\n",
            "26421880/26421880 [==============================] - 0s 0us/step\n",
            "Downloading data from https://storage.googleapis.com/tensorflow/tf-keras-datasets/t10k-labels-idx1-ubyte.gz\n",
            "5148/5148 [==============================] - 0s 0us/step\n",
            "Downloading data from https://storage.googleapis.com/tensorflow/tf-keras-datasets/t10k-images-idx3-ubyte.gz\n",
            "4422102/4422102 [==============================] - 0s 0us/step\n"
          ]
        }
      ]
    },
    {
      "cell_type": "code",
      "metadata": {
        "colab": {
          "base_uri": "https://localhost:8080/"
        },
        "id": "rLnOWTmDdk7a",
        "outputId": "10af21d6-b9bc-4b72-97ea-844a34d95c7a"
      },
      "source": [
        "print(train_input.shape, train_target.shape)"
      ],
      "execution_count": 3,
      "outputs": [
        {
          "output_type": "stream",
          "name": "stdout",
          "text": [
            "(60000, 28, 28) (60000,)\n"
          ]
        }
      ]
    },
    {
      "cell_type": "code",
      "metadata": {
        "colab": {
          "base_uri": "https://localhost:8080/"
        },
        "id": "pIUJFmeOfRJ0",
        "outputId": "9b32da6f-4afe-4222-fc80-2a91c3b6da7d"
      },
      "source": [
        "print(test_input.shape, test_target.shape)"
      ],
      "execution_count": 4,
      "outputs": [
        {
          "output_type": "stream",
          "name": "stdout",
          "text": [
            "(10000, 28, 28) (10000,)\n"
          ]
        }
      ]
    },
    {
      "cell_type": "markdown",
      "metadata": {
        "id": "Ect7F_LJh3qP"
      },
      "source": [
        "## 학습데이터 10개의 그림 출력하기"
      ]
    },
    {
      "cell_type": "code",
      "metadata": {
        "colab": {
          "base_uri": "https://localhost:8080/",
          "height": 78
        },
        "id": "b0rUYr8qh8Yh",
        "outputId": "eecfc093-7d42-4a2b-b091-8268ed226f64"
      },
      "source": [
        "import matplotlib.pyplot as plt\n",
        "fig, axs = plt.subplots(1,10, figsize = (10,10))\n",
        "for i in range(10):\n",
        "  axs[i].imshow(train_input[i], cmap = 'gray_r')\n",
        "  axs[i].axis('off')\n",
        "plt.show()\n"
      ],
      "execution_count": 5,
      "outputs": [
        {
          "output_type": "display_data",
          "data": {
            "text/plain": [
              "<Figure size 720x720 with 10 Axes>"
            ],
            "image/png": "[encoded data removed]"
          },
          "metadata": {
            "needs_background": "light"
          }
        }
      ]
    },
    {
      "cell_type": "code",
      "metadata": {
        "colab": {
          "base_uri": "https://localhost:8080/"
        },
        "id": "pH150Sl_jQzP",
        "outputId": "99c7f02e-58c8-4a80-e477-bb992e51d58e"
      },
      "source": [
        "print([train_target[i] for i in range(10)])"
      ],
      "execution_count": 6,
      "outputs": [
        {
          "output_type": "stream",
          "name": "stdout",
          "text": [
            "[9, 0, 0, 3, 0, 2, 7, 2, 5, 5]\n"
          ]
        }
      ]
    },
    {
      "cell_type": "markdown",
      "source": [
        "## 학습용 데이터 target 값 확인"
      ],
      "metadata": {
        "id": "Y1cG9JckBfeX"
      }
    },
    {
      "cell_type": "code",
      "metadata": {
        "colab": {
          "base_uri": "https://localhost:8080/"
        },
        "id": "IrW6AGm3-r3q",
        "outputId": "9768ea11-9b55-4975-ed85-ae6b6be5e45c"
      },
      "source": [
        "class_names = ['티셔츠', '바지', '풀오버', '드레스', '코드', '샌달', '셔츠', '스니커즈', '가방', '부츠']\n",
        "\n",
        "for i in range(10):\n",
        "    print(class_names[train_target[i]], end = \",\")"
      ],
      "execution_count": 8,
      "outputs": [
        {
          "output_type": "stream",
          "name": "stdout",
          "text": [
            "부츠,티셔츠,티셔츠,드레스,티셔츠,풀오버,스니커즈,풀오버,샌달,샌달,"
          ]
        }
      ]
    },
    {
      "cell_type": "code",
      "metadata": {
        "colab": {
          "base_uri": "https://localhost:8080/"
        },
        "id": "Z8Kfdm-KkCPi",
        "outputId": "aff7ac12-3365-4ae5-c02d-18e0db573cd4"
      },
      "source": [
        "import numpy as np\n",
        "print(np.unique(train_target, return_counts=True))"
      ],
      "execution_count": 10,
      "outputs": [
        {
          "output_type": "stream",
          "name": "stdout",
          "text": [
            "(array([0, 1, 2, 3, 4, 5, 6, 7, 8, 9], dtype=uint8), array([6000, 6000, 6000, 6000, 6000, 6000, 6000, 6000, 6000, 6000]))\n"
          ]
        }
      ]
    },
    {
      "cell_type": "markdown",
      "source": [
        "## 데이터 정제"
      ],
      "metadata": {
        "id": "1EcexS3QBxgE"
      }
    },
    {
      "cell_type": "code",
      "metadata": {
        "id": "KxeYaA67kbeh"
      },
      "source": [
        "train_scaled = train_input/255.0   # 학습데이터 입력값을 0~1사이로 변환\n",
        "train_scaled = train_scaled.reshape(-1,28*28)   # 2차원을 1차원으로 펼쳐서 입력값으로 사용\n",
        "test_scaled = test_input/255.0\n",
        "test_scaled = test_scaled.reshape(-1,28*28)"
      ],
      "execution_count": 11,
      "outputs": []
    },
    {
      "cell_type": "markdown",
      "source": [
        "##신경망 구성"
      ],
      "metadata": {
        "id": "6Of_Bp4WB3Me"
      }
    },
    {
      "cell_type": "code",
      "metadata": {
        "id": "e3_MrEIplUia"
      },
      "source": [
        "# 1. 입력과 출력층만 갖는 신경망 구조 생성 (분류 10개 클래스)\n",
        "dense = keras.layers.Dense(10, activation = 'softmax', input_shape=(784,))\n",
        "model = keras.Sequential([dense])  # 생성된 dense층 추가\n",
        "model.compile(loss = 'sparse_categorical_crossentropy', metrics = 'accuracy')"
      ],
      "execution_count": 12,
      "outputs": []
    },
    {
      "cell_type": "code",
      "metadata": {
        "colab": {
          "base_uri": "https://localhost:8080/"
        },
        "id": "fOQyG1VHo1kv",
        "outputId": "f2038714-ca89-4c10-f8fd-02686ebf5ad2"
      },
      "source": [
        "#2. 위에서 구성된 신경망을 데이터를 사용해서 훈련\n",
        "model.fit(train_scaled, train_target, epochs = 5)"
      ],
      "execution_count": 13,
      "outputs": [
        {
          "output_type": "stream",
          "name": "stdout",
          "text": [
            "Epoch 1/5\n",
            "1875/1875 [==============================] - 3s 1ms/step - loss: 0.5863 - accuracy: 0.8019\n",
            "Epoch 2/5\n",
            "1875/1875 [==============================] - 2s 1ms/step - loss: 0.4722 - accuracy: 0.8419\n",
            "Epoch 3/5\n",
            "1875/1875 [==============================] - 2s 1ms/step - loss: 0.4519 - accuracy: 0.8494\n",
            "Epoch 4/5\n",
            "1875/1875 [==============================] - 2s 1ms/step - loss: 0.4417 - accuracy: 0.8525\n",
            "Epoch 5/5\n",
            "1875/1875 [==============================] - 2s 1ms/step - loss: 0.4352 - accuracy: 0.8551\n"
          ]
        },
        {
          "output_type": "execute_result",
          "data": {
            "text/plain": [
              "<keras.callbacks.History at 0x7fd79b23ceb0>"
            ]
          },
          "metadata": {},
          "execution_count": 13
        }
      ]
    },
    {
      "cell_type": "code",
      "metadata": {
        "id": "OITH6HjCqchl",
        "colab": {
          "base_uri": "https://localhost:8080/"
        },
        "outputId": "a409f761-da97-433e-f322-aad443a0d9f7"
      },
      "source": [
        "# 3. 성능 평가하기\n",
        "model.evaluate(test_scaled, test_target)"
      ],
      "execution_count": 14,
      "outputs": [
        {
          "output_type": "stream",
          "name": "stdout",
          "text": [
            "313/313 [==============================] - 0s 884us/step - loss: 0.4845 - accuracy: 0.8379\n"
          ]
        },
        {
          "output_type": "execute_result",
          "data": {
            "text/plain": [
              "[0.484544038772583, 0.8378999829292297]"
            ]
          },
          "metadata": {},
          "execution_count": 14
        }
      ]
    },
    {
      "cell_type": "code",
      "metadata": {
        "id": "ODOZlTLi1rRw",
        "colab": {
          "base_uri": "https://localhost:8080/"
        },
        "outputId": "f386c557-0e68-40f1-d168-a5eda87766cc"
      },
      "source": [
        "# 세부 예측결과 확인\n",
        "pred_detail = model.predict(test_scaled)  # 세부값 예측. 각 클래스별 확률로 출력됨. 슬라이싱 해서 일부만 하면 빠름[0:1]\n"
      ],
      "execution_count": 15,
      "outputs": [
        {
          "output_type": "stream",
          "name": "stdout",
          "text": [
            "313/313 [==============================] - 0s 711us/step\n"
          ]
        }
      ]
    },
    {
      "cell_type": "code",
      "metadata": {
        "colab": {
          "base_uri": "https://localhost:8080/"
        },
        "id": "srkVYqP72WWv",
        "outputId": "2a3bc504-3c8f-4eeb-a4a3-207497bc6d7a"
      },
      "source": [
        "pred_index = np.argmax(pred_detail[0])  #가장 큰 인덱스 반환\n",
        "print(class_names[pred_index])   # 첫번째 테스트데이터 예측결과 출력 "
      ],
      "execution_count": 16,
      "outputs": [
        {
          "output_type": "stream",
          "name": "stdout",
          "text": [
            "부츠\n"
          ]
        }
      ]
    },
    {
      "cell_type": "code",
      "metadata": {
        "colab": {
          "base_uri": "https://localhost:8080/"
        },
        "id": "WptrEYMl2Zbm",
        "outputId": "e47caad1-7673-45ce-db24-8ca7665b02b9"
      },
      "source": [
        "print(class_names[test_target[0]])"
      ],
      "execution_count": 17,
      "outputs": [
        {
          "output_type": "stream",
          "name": "stdout",
          "text": [
            "부츠\n"
          ]
        }
      ]
    },
    {
      "cell_type": "markdown",
      "metadata": {
        "id": "xOiST-qetI-h"
      },
      "source": [
        "# (Advanced) Deep Neaural Network\n"
      ]
    },
    {
      "cell_type": "code",
      "metadata": {
        "colab": {
          "base_uri": "https://localhost:8080/"
        },
        "id": "IRpdc4HLWho8",
        "outputId": "ec26a063-e560-4589-c7a0-3a0598865f63"
      },
      "source": [
        "from tensorflow import keras\n",
        "\n",
        "(train_input, train_target),(test_input, test_target) = keras.datasets.fashion_mnist.load_data()\n",
        "\n",
        "# 1. 데이터 입력 준비\n",
        "train_scaled = train_input/255.0\n",
        "test_scaled = test_input/255.0\n",
        "train_scaled = train_scaled.reshape(-1, 28*28)\n",
        "test_scaled = test_scaled.reshape(-1, 28*28)\n",
        "\n",
        "# 2. 신경망 구성\n",
        "dense1 = keras.layers.Dense(100, activation = 'relu', input_shape = (784,))\n",
        "dense2 = keras.layers.Dense(10, activation = 'softmax')\n",
        "model = keras.Sequential([dense1, dense2])\n",
        "model.compile(loss = 'sparse_categorical_crossentropy', metrics = 'accuracy')\n",
        "\n",
        "# 3. 신경망 학습\n",
        "model.fit(train_scaled, train_target, epochs = 5)\n",
        "\n",
        "#4. 성능평가\n",
        "model.evaluate(test_scaled, test_target)"
      ],
      "execution_count": 18,
      "outputs": [
        {
          "output_type": "stream",
          "name": "stdout",
          "text": [
            "Epoch 1/5\n",
            "1875/1875 [==============================] - 4s 2ms/step - loss: 0.5097 - accuracy: 0.8196\n",
            "Epoch 2/5\n",
            "1875/1875 [==============================] - 3s 2ms/step - loss: 0.3820 - accuracy: 0.8634\n",
            "Epoch 3/5\n",
            "1875/1875 [==============================] - 3s 2ms/step - loss: 0.3508 - accuracy: 0.8758\n",
            "Epoch 4/5\n",
            "1875/1875 [==============================] - 3s 2ms/step - loss: 0.3319 - accuracy: 0.8818\n",
            "Epoch 5/5\n",
            "1875/1875 [==============================] - 3s 2ms/step - loss: 0.3209 - accuracy: 0.8873\n",
            "313/313 [==============================] - 0s 1ms/step - loss: 0.3911 - accuracy: 0.8676\n"
          ]
        },
        {
          "output_type": "execute_result",
          "data": {
            "text/plain": [
              "[0.39113670587539673, 0.8676000237464905]"
            ]
          },
          "metadata": {},
          "execution_count": 18
        }
      ]
    },
    {
      "cell_type": "markdown",
      "metadata": {
        "id": "uMDCei65Ly7-"
      },
      "source": [
        "## 과대적합 방지"
      ]
    },
    {
      "cell_type": "code",
      "metadata": {
        "colab": {
          "base_uri": "https://localhost:8080/"
        },
        "id": "jtnCgeZCL2WL",
        "outputId": "2df6bc53-9d66-4a8b-87c8-7f321e0a9851"
      },
      "source": [
        "'''from tensorflow import keras\n",
        "\n",
        "(train_input, train_target),(test_input, test_target) = keras.datasets.fashion_mnist.load_data()\n",
        "\n",
        "# 1. 데이터 입력 준비\n",
        "train_scaled = train_input/255.0\n",
        "test_scaled = test_input/255.0\n",
        "train_scaled = train_scaled.reshape(-1, 28*28)\n",
        "test_scaled = test_scaled.reshape(-1, 28*28)\n",
        "\n",
        "# 2. 신경망 구성\n",
        "dense1 = keras.layers.Dense(100, activation = 'relu', input_shape = (784,))\n",
        "dense2 = keras.layers.Dense(10, activation = 'softmax')\n",
        "model = keras.Sequential([dense1, dense2])\n",
        "model.compile(loss = 'sparse_categorical_crossentropy', metrics = 'accuracy')\n",
        "'''\n",
        "######## 과대적합 방지 - 콜백 ##############\n",
        "checkpoint_cb = keras.callbacks.ModelCheckpoint('best-model.h5')\n",
        "early_stopping_cb = keras.callbacks.EarlyStopping(patience = 2, restore_best_weights = True)\n",
        "######################################\n",
        "# 3. 신경망 학습\n",
        "model.fit(train_scaled, train_target, epochs = 30, validation_data = (test_scaled,test_target), callbacks = [checkpoint_cb,early_stopping_cb])\n",
        "\n",
        "print(\"조기종료: %f\"   %(early_stopping_cb.stopped_epoch))\n",
        "#4. 성능평가\n",
        "model.evaluate(test_scaled, test_target)"
      ],
      "execution_count": 19,
      "outputs": [
        {
          "output_type": "stream",
          "name": "stdout",
          "text": [
            "Epoch 1/30\n",
            "1875/1875 [==============================] - 4s 2ms/step - loss: 0.3108 - accuracy: 0.8902 - val_loss: 0.4164 - val_accuracy: 0.8687\n",
            "Epoch 2/30\n",
            "1875/1875 [==============================] - 4s 2ms/step - loss: 0.3018 - accuracy: 0.8941 - val_loss: 0.3819 - val_accuracy: 0.8754\n",
            "Epoch 3/30\n",
            "1875/1875 [==============================] - 4s 2ms/step - loss: 0.2960 - accuracy: 0.8973 - val_loss: 0.4178 - val_accuracy: 0.8657\n",
            "Epoch 4/30\n",
            "1875/1875 [==============================] - 5s 3ms/step - loss: 0.2892 - accuracy: 0.8997 - val_loss: 0.3877 - val_accuracy: 0.8792\n",
            "조기종료: 3.000000\n",
            "313/313 [==============================] - 0s 1ms/step - loss: 0.3819 - accuracy: 0.8754\n"
          ]
        },
        {
          "output_type": "execute_result",
          "data": {
            "text/plain": [
              "[0.3819120526313782, 0.8754000067710876]"
            ]
          },
          "metadata": {},
          "execution_count": 19
        }
      ]
    },
    {
      "cell_type": "markdown",
      "metadata": {
        "id": "WbyEioaMwgOe"
      },
      "source": [
        "## Convolutional Neural Networks(CNN, 합성곱 신경망)"
      ]
    },
    {
      "cell_type": "code",
      "metadata": {
        "colab": {
          "base_uri": "https://localhost:8080/"
        },
        "id": "zgL9yxkWwfMN",
        "outputId": "3648d730-012a-470f-f325-45692a6049c3"
      },
      "source": [
        "from tensorflow import keras\n",
        "# 1. 데이터 입력 준비(패션 Minst)\n",
        "(train_input, train_target),(test_input, test_target) = keras.datasets.fashion_mnist.load_data()\n",
        "train_scaled = train_input/255.0\n",
        "test_scaled = test_input/255.0\n",
        "train_scaled = train_scaled.reshape(-1, 28,28,1)  #-1은 데이터 수, 뒤의 (28,28,1)이 각 그림의 크기임\n",
        "test_scaled = test_scaled.reshape(-1, 28,28, 1)\n",
        "\n",
        "# 2. 신경망 구성\n",
        "convol = keras.layers.Conv2D(32, kernel_size = 3, activation = 'relu', padding='same', input_shape = (28,28,1)) #2차원 모양을 그대로 유지, 흑백이라 1\n",
        "pooling = keras.layers.MaxPooling2D(2)\n",
        "flatten = keras.layers.Flatten()\n",
        "dense = keras.layers.Dense(10, activation = 'softmax')  # 출력층 -   밀집층으로 이전과 동일\n",
        "model = keras.Sequential([convol, pooling, flatten,dense]) #CNN 또는 dense층을 상황에 따라서 추가하면 됨.\n",
        "model.compile(loss = 'sparse_categorical_crossentropy', metrics = 'accuracy')\n",
        "\n",
        "model.summary()   #신경망 구성 확인\n",
        "##########이후 완전 동일##################/\n",
        "#과대적합 방지 - 콜백\n",
        "checkpoint_cb = keras.callbacks.ModelCheckpoint('best-model.h5')\n",
        "early_stopping_cb = keras.callbacks.EarlyStopping(patience = 2, restore_best_weights = True)\n",
        "######################################\n",
        "# 3. 신경망 학습\n",
        "model.fit(train_scaled, train_target, epochs = 30, validation_data = (test_scaled,test_target), callbacks = [checkpoint_cb,early_stopping_cb])\n",
        "\n",
        "#4. 성능평가\n",
        "model.evaluate(test_scaled, test_target)\n"
      ],
      "execution_count": 20,
      "outputs": [
        {
          "output_type": "stream",
          "name": "stdout",
          "text": [
            "Model: \"sequential_2\"\n",
            "_________________________________________________________________\n",
            " Layer (type)                Output Shape              Param #   \n",
            "=================================================================\n",
            " conv2d (Conv2D)             (None, 28, 28, 32)        320       \n",
            "                                                                 \n",
            " max_pooling2d (MaxPooling2D  (None, 14, 14, 32)       0         \n",
            " )                                                               \n",
            "                                                                 \n",
            " flatten (Flatten)           (None, 6272)              0         \n",
            "                                                                 \n",
            " dense_3 (Dense)             (None, 10)                62730     \n",
            "                                                                 \n",
            "=================================================================\n",
            "Total params: 63,050\n",
            "Trainable params: 63,050\n",
            "Non-trainable params: 0\n",
            "_________________________________________________________________\n",
            "Epoch 1/30\n",
            "1875/1875 [==============================] - 23s 12ms/step - loss: 0.4305 - accuracy: 0.8495 - val_loss: 0.3449 - val_accuracy: 0.8817\n",
            "Epoch 2/30\n",
            "1875/1875 [==============================] - 23s 12ms/step - loss: 0.3119 - accuracy: 0.8917 - val_loss: 0.3383 - val_accuracy: 0.8852\n",
            "Epoch 3/30\n",
            "1875/1875 [==============================] - 23s 12ms/step - loss: 0.2848 - accuracy: 0.9014 - val_loss: 0.3289 - val_accuracy: 0.8848\n",
            "Epoch 4/30\n",
            "1875/1875 [==============================] - 23s 12ms/step - loss: 0.2686 - accuracy: 0.9070 - val_loss: 0.2981 - val_accuracy: 0.8956\n",
            "Epoch 5/30\n",
            "1875/1875 [==============================] - 22s 12ms/step - loss: 0.2560 - accuracy: 0.9120 - val_loss: 0.2923 - val_accuracy: 0.9009\n",
            "Epoch 6/30\n",
            "1875/1875 [==============================] - 24s 13ms/step - loss: 0.2480 - accuracy: 0.9156 - val_loss: 0.3061 - val_accuracy: 0.8967\n",
            "Epoch 7/30\n",
            "1875/1875 [==============================] - 23s 12ms/step - loss: 0.2399 - accuracy: 0.9182 - val_loss: 0.2874 - val_accuracy: 0.8998\n",
            "Epoch 8/30\n",
            "1875/1875 [==============================] - 22s 12ms/step - loss: 0.2341 - accuracy: 0.9205 - val_loss: 0.2810 - val_accuracy: 0.9036\n",
            "Epoch 9/30\n",
            "1875/1875 [==============================] - 23s 12ms/step - loss: 0.2287 - accuracy: 0.9220 - val_loss: 0.2869 - val_accuracy: 0.9031\n",
            "Epoch 10/30\n",
            "1875/1875 [==============================] - 23s 12ms/step - loss: 0.2239 - accuracy: 0.9227 - val_loss: 0.2808 - val_accuracy: 0.9068\n",
            "Epoch 11/30\n",
            "1875/1875 [==============================] - 23s 12ms/step - loss: 0.2208 - accuracy: 0.9252 - val_loss: 0.2971 - val_accuracy: 0.9007\n",
            "Epoch 12/30\n",
            "1875/1875 [==============================] - 23s 12ms/step - loss: 0.2183 - accuracy: 0.9261 - val_loss: 0.2794 - val_accuracy: 0.9060\n",
            "Epoch 13/30\n",
            "1875/1875 [==============================] - 24s 13ms/step - loss: 0.2139 - accuracy: 0.9281 - val_loss: 0.2926 - val_accuracy: 0.9040\n",
            "Epoch 14/30\n",
            "1875/1875 [==============================] - 24s 13ms/step - loss: 0.2113 - accuracy: 0.9276 - val_loss: 0.2937 - val_accuracy: 0.9050\n",
            "313/313 [==============================] - 2s 5ms/step - loss: 0.2794 - accuracy: 0.9060\n"
          ]
        },
        {
          "output_type": "execute_result",
          "data": {
            "text/plain": [
              "[0.2794153690338135, 0.906000018119812]"
            ]
          },
          "metadata": {},
          "execution_count": 20
        }
      ]
    }
  ]
}